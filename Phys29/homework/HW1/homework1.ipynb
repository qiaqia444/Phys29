{
 "cells": [
  {
   "cell_type": "markdown",
   "metadata": {},
   "source": [
    "# Qia Wang HW1"
   ]
  },
  {
   "cell_type": "markdown",
   "metadata": {},
   "source": [
    "<h1 style=\"font-size: 32px; text-align: center;\">Introduction to Computer Programming for the Physical Sciences</h1>\n",
    "<h2 style=\"font-size: 24px; text-align: center;\">Joseph F. Hennawi</h2>\n",
    "<h3 style=\"font-size: 24px; text-align: center;\">Winter 2024</h2>"
   ]
  },
  {
   "cell_type": "markdown",
   "metadata": {},
   "source": [
    "<ul style=\"list-style: none;\">\n",
    "  <li style=\"margin-bottom: 10px; font-size: 20px;\"><span style=\"display: inline-block; width: 10px; height: 10px; border: 2px solid black; margin-right: 10px;\"></span>Open a new Jupyter notebook</li>\n",
    "  <li style=\"margin-bottom: 10px; font-size: 20px;\"><span style=\"display: inline-block; width: 10px; height: 10px; border: 2px solid black; margin-right: 10px;\"></span>Name your notebook with your name and Homework 1</li>\n",
    "  <li style=\"margin-bottom: 10px; font-size: 20px;\"><span style=\"display: inline-block; width: 10px; height: 10px; border: 2px solid black; margin-right: 10px;\"></span>Open a Markdown cell at the top and write your name and Homework 1</li>\n",
    "  <li style=\"margin-bottom: 10px; font-size: 20px;\"><span style=\"display: inline-block; width: 10px; height: 10px; border: 2px solid black; margin-right: 10px;\"></span>Open a Markdown cell before each problem and write e.g. Problem 1, Problem 2(a), etc.</li>\n",
    "  <li style=\"margin-bottom: 10px; font-size: 20px;\"><span style=\"display: inline-block; width: 10px; height: 10px; border: 2px solid black; margin-right: 10px;\"></span>Please abide by the <b><a href=\"https://github.com/enigma-igm/Phys29/blob/main/using_AI_tools.md\">Policy and Guidelines on Using AI Tools</a></b></li>\n",
    "  <li style=\"margin-bottom: 10px; font-size: 20px;\"><span style=\"display: inline-block; width: 10px; height: 10px; border: 2px solid black; margin-right: 10px;\"></span>Once you finish the problems: 1) Restart the Python kernel and clear all cell outputs. 2) Rerun the notebook from start to finish so that all answers/outputs show up. 3) Save your notebook as a single .pdf file and upload it to Gradescope on Canvas by the deadline. <b>No late homeworks will be accepted except for illness accompanied by a doctor's note.</b></li>\n",
    "</ul>"
   ]
  },
  {
   "cell_type": "markdown",
   "metadata": {},
   "source": []
  },
  {
   "cell_type": "markdown",
   "metadata": {},
   "source": [
    "# Homework 1"
   ]
  },
  {
   "cell_type": "markdown",
   "metadata": {},
   "source": [
    "## Problem 1\n",
    "Write a program that takes a sentence and prints out a count of the number of words and the number of characters in the sentence. Note that words can be separated by white spaces but also punctuation (commas, semicolon, etc.), so your program should deal with that. For example ```hello world``` and ```hello, world``` and ```hello,world``` all consists of two words. Soon we will learn how to make such a program into a function. For now, test your code on this sentence: \n",
    "\n",
    "\"When half way through the journey of our life I found that I was in a gloomy wood, because the path which led aright was lost. And ah, how hard it is to say just what this wild and rough and stubborn woodland was, the very thought of which renews my fear!\""
   ]
  },
  {
   "cell_type": "code",
   "execution_count": 1,
   "metadata": {},
   "outputs": [
    {
     "name": "stdout",
     "output_type": "stream",
     "text": [
      "52\n",
      "255\n"
     ]
    }
   ],
   "source": [
    "# a function that takes a sentence as an argument and returns the number of words in the sentence\n",
    "def number_of_words(sentence): \n",
    "    return len(sentence.split()) # split() splits the sentence into a list of words and len() returns the length of the list\n",
    "print(number_of_words(\"When half way through the journey of our life I found that I was in a gloomy wood, because the path which led aright was lost. And ah, how hard it is to say just what this wild and rough and stubborn woodland was, the very thought of which renews my fear!\"))\n",
    "\n",
    "# a function that takes a sentence as an argument and returns the number of characters in the sentence\n",
    "def number_of_characters(sentence):\n",
    "    return len(sentence) # len() returns the length of the sentence\n",
    "print(number_of_characters(\"When half way through the journey of our life I found that I was in a gloomy wood, because the path which led aright was lost. And ah, how hard it is to say just what this wild and rough and stubborn woodland was, the very thought of which renews my fear!\"))"
   ]
  },
  {
   "cell_type": "markdown",
   "metadata": {},
   "source": [
    "## Problem 2 \n",
    "Write a program that prints to the screen the set of integers between 100 and 400 (inclusive) for which all of the *digits* are even. "
   ]
  },
  {
   "cell_type": "code",
   "execution_count": 2,
   "metadata": {},
   "outputs": [
    {
     "name": "stdout",
     "output_type": "stream",
     "text": [
      "[200, 202, 204, 206, 208, 220, 222, 224, 226, 228, 240, 242, 244, 246, 248, 260, 262, 264, 266, 268, 280, 282, 284, 286, 288, 400]\n"
     ]
    }
   ],
   "source": [
    "# a function use two integers as input and returns a list of all even digits in the range between the two integers\n",
    "def even_digits(start, end): \n",
    "    result = [] # create an empty list\n",
    "    for i in range(start, end + 1): # iterate through the range of integers\n",
    "        digits = [int(digit) for digit in str(i)] # convert the i to a string and then to a list of integer digits\n",
    "        if all(digit % 2 == 0 for digit in digits): # check if all the digits are even\n",
    "            result.append(i) # if all the digits are even then append the integer to the result list\n",
    "    return result\n",
    "\n",
    "print(even_digits(100, 400)) # prints to the screen thee set of integers between 100 and 400 (inclusive) for which all of the digits are even"
   ]
  },
  {
   "cell_type": "markdown",
   "metadata": {},
   "source": [
    "## Problem 3\n",
    "Write a program that calculates the prime number factors of any number, with their relative powers. For example if the number was 4567956 it should return \n",
    "\n",
    "2 to the power of 2  \n",
    "3 to the power of 1  \n",
    "191 to the power 1  \n",
    "1993 to the power 1  \n",
    "\n",
    "Check your program by running it on test cases for which you know the answer (e.g. prime numbers). Calculate the prime factors for the number 9572121. If you want to further test your code you can run it on sample numbers using a website like [https://www.calculatorsoup.com/calculators/math/prime-factors.php](https://www.calculatorsoup.com/calculators/math/prime-factors.php)."
   ]
  },
  {
   "cell_type": "code",
   "execution_count": 3,
   "metadata": {},
   "outputs": [
    {
     "name": "stdout",
     "output_type": "stream",
     "text": [
      "2 to the power of 2\n",
      "3 to the power of 1\n",
      "191 to the power of 1\n",
      "1993 to the power of 1\n"
     ]
    }
   ],
   "source": [
    "# method 1\n",
    "# a function that takes a number and return a dictinary of prime factors and their powers (those power > 1)\n",
    "def prime_factors_with_powers(n):\n",
    "    factors = {} # create an empty dictionary\n",
    "    divisor = 2 # 2 is the first prime number so start with it\n",
    "    while n > 1: # keep looping until n is 1\n",
    "        count = 0 # initialize the count to 0\n",
    "        while n % divisor == 0: # keep looping while n is divisible by divisor (the smallest prime number)\n",
    "            n //= divisor # divide n by divisor and assign the result to n\n",
    "            count += 1 # increment the count for that prime number by 1\n",
    "        if count > 0: # if the count is greater than 0 then add the prime number and its power to the factory (dictionary)\n",
    "            factors[divisor] = count\n",
    "        divisor += 1 # increment the divisor by 1 to the while loop for n to be divisible by the next prime number\n",
    "    return factors\n",
    "\n",
    "# a function that takes a dictionary of prime factors and their powers and display them to the screen as required by the question\n",
    "def display_factors_with_powers(factors):\n",
    "    for prime, power in factors.items(): # a for loop to iterate through the dictionary and print it out\n",
    "        print(f\"{prime} to the power of {power}\")\n",
    "\n",
    "n = eval(input(\"Enter a integer: \")) # prompt the user to enter a integer. Here I used 4567956 as an example\n",
    "display_factors_with_powers(prime_factors_with_powers(n)) # call the two functions with the integer inputed as an argument"
   ]
  },
  {
   "cell_type": "code",
   "execution_count": 4,
   "metadata": {},
   "outputs": [
    {
     "name": "stdout",
     "output_type": "stream",
     "text": [
      "2 to the power of 2\n",
      "3 to the power of 1\n",
      "191 to the power of 1\n",
      "1993 to the power of 1\n"
     ]
    }
   ],
   "source": [
    "# method 2\n",
    "# Problem solved with the assistance of chatGPT and Google.\n",
    "# I looked up for a way to generate prime numbers -- Sieve of Eratosthenes\n",
    "# The general idea is I itereated all the prime numbers within the range of the inputed number and checked if the number is divisible by the prime number\n",
    "\n",
    "# a function that takes a number and return a list of prime numbers by using Sieve of Eratosthenes within the range of the number\n",
    "def prime_factors_with_power(n): \n",
    "    all = [True] * n # create a list of booleans that contain \"n\" number of Trues\n",
    "    all[0:2] = [False, False]  # first two slot of all are False for 0 and 1 are not prime numbers\n",
    "    for current in range(2, int(n ** 0.5) + 1): # iterate through the range of prime numbers by using Sieve of Eratosthenes\n",
    "        if all[current]:  # if current is prime for it is True in all\n",
    "            for multiple in range(current ** 2, n, current):  # mark multiples of current as not prime (False)\n",
    "                all[multiple] = False\n",
    "    primes = [num for num in range(n) if all[num]] # create a list of prime numbers that is True in all\n",
    "    factors = {} # create an empty dictionary\n",
    "    for prime in primes:\n",
    "        factors[prime] = 0 # initialize the power of each prime number to 0\n",
    "        while n % prime == 0: # while n is divisible by prime number keep looping and increment the power of the prime number by 1\n",
    "            factors[prime] += 1\n",
    "            n //= prime # divide n by prime and assign the result to n\n",
    "    for prime in primes: # iterate through the list of prime numbers and delete the prime number in dictionary if its power is 0\n",
    "        if factors[prime] == 0:\n",
    "            del factors[prime]\n",
    "    return factors\n",
    "\n",
    "# a function that takes a dictionary of prime factors and their powers and display them to the screen as required by the question\n",
    "def display_factors_with_powers(factors):\n",
    "    for prime, power in factors.items(): # a for loop to iterate through the dictionary and print it out\n",
    "        print(f\"{prime} to the power of {power}\")\n",
    "\n",
    "n = eval(input(\"Enter a integer: \")) # prompt the user to enter a integer. Here I used 4567956 as an example\n",
    "display_factors_with_powers(prime_factors_with_power(n)) # call the two functions with the integer inputed as an argument"
   ]
  }
 ],
 "metadata": {
  "kernelspec": {
   "display_name": "Python 3 (ipykernel)",
   "language": "python",
   "name": "python3"
  },
  "language_info": {
   "codemirror_mode": {
    "name": "ipython",
    "version": 3
   },
   "file_extension": ".py",
   "mimetype": "text/x-python",
   "name": "python",
   "nbconvert_exporter": "python",
   "pygments_lexer": "ipython3",
   "version": "3.9.13"
  }
 },
 "nbformat": 4,
 "nbformat_minor": 4
}
