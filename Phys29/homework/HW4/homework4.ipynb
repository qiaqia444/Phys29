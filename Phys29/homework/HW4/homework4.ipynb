{
 "cells": [
  {
   "cell_type": "markdown",
   "metadata": {},
   "source": [
    "# Qia Wang HW4"
   ]
  },
  {
   "cell_type": "markdown",
   "metadata": {},
   "source": [
    "<h1 style=\"font-size: 32px; text-align: center;\">Introduction to Computer Programming for the Physical Sciences</h1>\n",
    "<h2 style=\"font-size: 24px; text-align: center;\">Joseph F. Hennawi</h2>\n",
    "<h3 style=\"font-size: 24px; text-align: center;\">Winter 2024</h2>"
   ]
  },
  {
   "cell_type": "markdown",
   "metadata": {},
   "source": [
    "<ul style=\"list-style: none;\">\n",
    "  <li style=\"margin-bottom: 10px; font-size: 20px;\"><span style=\"display: inline-block; width: 10px; height: 10px; border: 2px solid black; margin-right: 10px;\"></span>Open a new Jupyter notebook</li>\n",
    "  <li style=\"margin-bottom: 10px; font-size: 20px;\"><span style=\"display: inline-block; width: 10px; height: 10px; border: 2px solid black; margin-right: 10px;\"></span>Name your notebook with your name and Homework 1</li>\n",
    "  <li style=\"margin-bottom: 10px; font-size: 20px;\"><span style=\"display: inline-block; width: 10px; height: 10px; border: 2px solid black; margin-right: 10px;\"></span>Open a Markdown cell at the top and write your name and Homework 1</li>\n",
    "  <li style=\"margin-bottom: 10px; font-size: 20px;\"><span style=\"display: inline-block; width: 10px; height: 10px; border: 2px solid black; margin-right: 10px;\"></span>Open a Markdown cell before each problem and write e.g. Problem 1, Problem 2(a), etc.</li>\n",
    "  <li style=\"margin-bottom: 10px; font-size: 20px;\"><span style=\"display: inline-block; width: 10px; height: 10px; border: 2px solid black; margin-right: 10px;\"></span>Please abide by the <b><a href=\"https://github.com/enigma-igm/Phys29/blob/main/using_AI_tools.md\">Policy and Guidelines on Using AI Tools</a></b></li>\n",
    "  <li style=\"margin-bottom: 10px; font-size: 20px;\"><span style=\"display: inline-block; width: 10px; height: 10px; border: 2px solid black; margin-right: 10px;\"></span>Once you finish the problems: 1) Restart the Python kernel and clear all cell outputs. 2) Rerun the notebook from start to finish so that all answers/outputs show up. 3) Save your notebook as a single .pdf file and upload it to Gradescope on Canvas by the deadline. <b>No late homeworks will be accepted except for illness accompanied by a doctor's note.</b></li>\n",
    "  <li style=\"margin-bottom: 10px; font-size: 20px;\"><span style=\"display: inline-block; width: 10px; height: 10px; border: 2px solid black; margin-right: 10px;\"></span> For parts of problems that require analytical solutions you can perform your calculations using a pencil and paper. Then  photograph your work and convert the photograph to a .pdf file using an online tool. Homework assignments can only be submitted as a single .pdf file, so you will also need to figure out how to concatenate your photo .pdf file and your notebook .pdf file into a single .pdf file that you can submit. Online websites can do this for you. Alternatively, you can code up the analytical solution to your problems in a notebook Markdown cell using the LaTeX mathematical rendering language. This is harder but a chatbot can help you learn it. </li>\n",
    "</ul>"
   ]
  },
  {
   "cell_type": "markdown",
   "metadata": {},
   "source": [
    "# Homework 4"
   ]
  },
  {
   "cell_type": "markdown",
   "metadata": {},
   "source": [
    "## Problem 1: Benford's Law\n",
    "Benford's law refers to the observation that in many real-life datasets, the frequency of the first digits of each number is not uniform. \n",
    "If the digits were distributed uniformly, they would each occur as the first digit with equal probability, i.e. 1/9 per digit, or 11.1% of the time. \n",
    "Instead, there tend to be many more numbers with the  first significant (decimal) digit of 1 as compared to 9. This applies best to datsets where \n",
    "the numbers span several orders of magnitude.  Familiarize yourself with Benford's law by reading the Wikipedia page [here](https://en.wikipedia.org/wiki/Benford%27s_law). \n",
    "Incidentally, Benford’s law is used in forensic accounting to detect fraud, see [here](https://www.acfeinsights.com/acfe-insights/what-is-benfords-law). \n",
    "\n",
    "Download the file [census_data.csv](https://github.com/enigma-igm/Phys29/blob/main/Phys29/homework/HW4/data/census_data.csv) at this link: https://github.com/enigma-igm/Phys29/blob/main/Phys29/homework/HW4/data/census_data.csv This is a comma-separated values or **csv** file containing data from the United States Census Bureau. It lists the number of inhabitants for every town in the USA. As we discussed in the Week4 [lecture](https://github.com/enigma-igm/Phys29/tree/main/Phys29/lectures/Week4) on Reading and Writing Files, a CSV file is like a simple spreadsheet, where cells in each row are separated by a specific delimiter (in this case, a comma). As is indicated in the first header line of the CSV, the census data has three columns: State,Town,Population. \n",
    "\n",
    "**Note that Problem 2 will require you to reuse some of the code that you develop for this problem. Make sure that you write general functions for this problem that you can then use for both problems.**\n",
    "\n",
    "**a)** Write a Python program to *brute force* read the census data file, i.e., only using native Python file handling and string parsing commands. Store the data that you read in in lists **You are not allowed to import any Python packages into your notebook for executing this part of the problem.**\n",
    "\n",
    "**b)** Now read the census data file using the `pandas` package. \n",
    "\n",
    "**c)** Write code to verify that the contents of the dataset read in via step **a)** and step **b)** are exactly the same for all elements of the dataset (i.e. the State, Town, and Population columns are the same for all rows).\n",
    "\n",
    "**d)** Extract the most significant digit from the Population column data for each town. For example for `California,Santa Barbara city,86353`, the most significant digit of the Population is 8. Store the most significant digits for each town in a `numpy` array.  This array should have integer type and shape `shape=(ntown,)` where `ntown` is the number of towns in the dataset. \n",
    "\n",
    "**e)** Construct a numpy array of shape `(9,)` that contains the integer number of times that each of the most significant digits 1-9 appears in the dataset. For this part of the problem, you \n",
    "are allowed to loop over the numbers (1,2,...9), **but no other loops are allowed!!, i.e. you cannot loop over the towns in the dataset** Hint: Use `numpy` Boolean indexing. \n",
    "\n",
    "**f)** Write a program to plot a histogram of the **number of times** that each significant digit appears. The $x$-axis should be the digits (1,2,...9), and the $y$-axis should be the number of times that each digit appears. Plot the expectation for the case where the distribution across the digits is uniform, i.e. 11.1% per digit, as a horizontal line on the same plot. I realize we have not covered plotting yet in the lectures, but you can use Google or AI to assist you. \n",
    "\n",
    "**g)** Using your results from **e)** and **f)** print to the screen the **percentage** of the time that each of the most significant digits 1-9 appears in the dataset. \n",
    "\n",
    "**h)** Do the populations in this dataset obey Benford's law? Explain your reasoning. \n",
    "\n",
    "**i)** Make a histogram of the town Populations using the following code:\n",
    "```python \n",
    "from matplotlib import pyplot as plt\n",
    "log10_bins = np.logspace(np.log10(np.min(populations)), np.log10(np.max(populations)), 100)\n",
    "plt.hist(populations, bins=log10_bins)\n",
    "plt.xscale('log')\n",
    "plt.yscale('log')\n",
    "plt.xlabel('Population')\n",
    "plt.ylabel('Number of Towns')\n",
    "plt.show()\n",
    "```\n",
    "Note that we have chosen to our histogram bins to be linearly spaced in the $\\log_{10}$ of the population and made our histogram plot with a log scale on the $x$-axis to better illustrate the full dynamic range of the populations. We similarly chose a log scale on the $y$-axis to illustrate the large range of the number of cities in each histogram bin.  \n",
    "\n",
    "Based on the *distribution* of populations illustrated by the histogram, comment on why or why not you would expect the population data to obey Benford's law. \n"
   ]
  },
  {
   "cell_type": "code",
   "execution_count": 435,
   "metadata": {},
   "outputs": [],
   "source": [
    "# a)\n",
    "with open('data/census_data.csv', 'r') as file: # Open the file\n",
    "    lines = file.readlines()\n",
    "\n",
    "data_a = [] # Initialize lists to store the data\n",
    "for line in lines[1:]:  # Skip the header line\n",
    "    items = line.strip().split(',') # Strip the newline character and split the line on commas\n",
    "    data_a.append(items)"
   ]
  },
  {
   "cell_type": "code",
   "execution_count": 436,
   "metadata": {},
   "outputs": [],
   "source": [
    "# b)\n",
    "import pandas as pd\n",
    "data = pd.read_csv('data/census_data.csv') # Read the data into a DataFrame\n",
    "data_b = data.values.tolist() # Convert the DataFrame to a list of lists"
   ]
  },
  {
   "cell_type": "code",
   "execution_count": 437,
   "metadata": {},
   "outputs": [
    {
     "name": "stdout",
     "output_type": "stream",
     "text": [
      "False\n"
     ]
    }
   ],
   "source": [
    "# c)\n",
    "print(data_a == data_b)"
   ]
  },
  {
   "cell_type": "code",
   "execution_count": 438,
   "metadata": {},
   "outputs": [],
   "source": [
    "# d)\n",
    "import numpy as np\n",
    "# Extract the Population column from the DataFrame\n",
    "population = data['Population']\n",
    "\n",
    "# Extract the most significant digit from each population\n",
    "most_significant_digits = np.array([int(str(pop)[0]) for pop in population])"
   ]
  },
  {
   "cell_type": "code",
   "execution_count": 439,
   "metadata": {},
   "outputs": [
    {
     "name": "stdout",
     "output_type": "stream",
     "text": [
      "[5738, 3540, 2342, 1847, 1559, 1370, 1166, 1043, 904]\n"
     ]
    }
   ],
   "source": [
    "# e)\n",
    "def digit_counts(inputdata): # Define a function to count the number of occurrences of each digit\n",
    "    return [len(inputdata[inputdata == i]) for i in range(1, 10)] # Count the number of times each digit appears\n",
    "print(digit_counts(most_significant_digits))\n",
    "digit_count = digit_counts(most_significant_digits)\n"
   ]
  },
  {
   "cell_type": "code",
   "execution_count": 440,
   "metadata": {},
   "outputs": [
    {
     "data": {
      "image/png": "[encoded data removed]",
      "text/plain": [
       "<Figure size 640x480 with 1 Axes>"
      ]
     },
     "metadata": {},
     "output_type": "display_data"
    }
   ],
   "source": [
    "# f)\n",
    "import matplotlib.pyplot as plt\n",
    "\n",
    "plt.bar(range(1, 10), digit_count)\n",
    "plt.axhline(y = len(population) / 9, color='r', linestyle='--') # Plot the expectation for a uniform distribution\n",
    "plt.xlabel('Most Significant Digit')\n",
    "plt.ylabel('Count')\n",
    "plt.title('Histogram of Most Significant Digits')\n",
    "plt.show()"
   ]
  },
  {
   "cell_type": "code",
   "execution_count": 441,
   "metadata": {},
   "outputs": [
    {
     "name": "stdout",
     "output_type": "stream",
     "text": [
      "Digit 1 appears 29.41% of the time\n",
      "Digit 2 appears 18.15% of the time\n",
      "Digit 3 appears 12.00% of the time\n",
      "Digit 4 appears 9.47% of the time\n",
      "Digit 5 appears 7.99% of the time\n",
      "Digit 6 appears 7.02% of the time\n",
      "Digit 7 appears 5.98% of the time\n",
      "Digit 8 appears 5.35% of the time\n",
      "Digit 9 appears 4.63% of the time\n"
     ]
    }
   ],
   "source": [
    "# g)\n",
    "def digit_percentages(data, data2): # Define a function to calculate the percentage of occurrences of each digit\n",
    "    percentage = [item / len(data) * 100  for item in data2]\n",
    "    for i in range(0, 9):\n",
    "        print(f'Digit {i+1} appears {percentage[i]:.2f}% of the time')\n",
    "digit_percentages(population,digit_count)"
   ]
  },
  {
   "cell_type": "code",
   "execution_count": 442,
   "metadata": {},
   "outputs": [],
   "source": [
    "# h)\n",
    "# it obeys Benford's law, which states that the first digit of a number is not uniformly distributed, but 1 is the most common digit and 9 is the least common digit"
   ]
  },
  {
   "cell_type": "code",
   "execution_count": 443,
   "metadata": {},
   "outputs": [
    {
     "data": {
      "image/png": "[encoded data removed]",
      "text/plain": [
       "<Figure size 640x480 with 1 Axes>"
      ]
     },
     "metadata": {},
     "output_type": "display_data"
    }
   ],
   "source": [
    "# i)\n",
    "# plot the histogram of the population\n",
    "log10_bins = np.logspace(np.log10(np.min(population)), np.log10(np.max(population)), 100)\n",
    "plt.hist(population, bins = log10_bins)\n",
    "plt.xscale('log')\n",
    "plt.yscale('log')\n",
    "plt.xlabel('Population')\n",
    "plt.ylabel('Number of Towns')\n",
    "plt.show()\n",
    "# the plot is right skewed, which means that it obeys benford's law"
   ]
  },
  {
   "cell_type": "markdown",
   "metadata": {},
   "source": [
    "## Problem 2: Munich Temperatures \n",
    "\n",
    "Download the file [munich_temperatures.txt](https://github.com/enigma-igm/Phys29/blob/main/Phys29/homework/HW4/data/munich_temperatures.txt) at this link: https://github.com/enigma-igm/Phys29/blob/main/Phys29/homework/HW4/data/munich_temperatures.txt This is a text file containing the temperature (averaged over a 24 hour day) in Munich, Germany for each day between 1995-2013. The dates are represented by a floating point number where the integer part is the year and the decimal part is the fraction of the year. In other words,  1995.75 would be three quarters into the year 1995, or 10/01/1995.  The average temperatures are in degrees Celsius. \n",
    "\n",
    "**a)** Write a Python program to read this file using the `pandas` package. Assign the date and temperature columns of the `pandas` `DataFrame` to two arrays of shape `(ndays,)` where `ndays` is the number of days in the dataset.\n",
    "\n",
    "**b)** The temperature data contains bad values. Analyze the temperatures and figure out how to identify which values are the bad ones (remember these are temperatures in degrees Celsius not Fahrenheit!). Use `numpy` boolean indexing to create two new date and temperature `numpy` arrays that contain only the good data.\n",
    "\n",
    "**c)** Using the good data from part **b)**, compute the average (i.e. use `numpy.mean`) temperature over the entire time period covered by the dataset and print the value to the screen. **You are not allowed to perform any loops in this part of the problem.**\n",
    "\n",
    "**d)** Compute the minimum, maximum and average temperature as a function of the year for each year 1995, 1996, ..., 2012 (ignore 2013 since it is incompletely covered). **You are allowed to loop over the years** (i.e. `range(1995,2013)`), **but no other loops are allowed**. Print the minimum, maximum, and average temperature for each year to the screen.\n",
    "\n",
    "**e)** Convert the good temperatures in the Munich temperatures dataset onto the *absolute temperature* scale in degrees Kelvin (**no loops allowed!**).  \n",
    "\n",
    "**f)** Repeat Problem1(e) but for the good temperatures in the Munich temperature dataset **in degrees Kelvin** using the functions that you wrote for Problem 1.  **Do not repeat code, i.e. use the general functions that you wrote in Problem 1 to solve this part and the rest of the parts of this Problem below.**\n",
    "\n",
    "**g)** Repeat Problem1(f) but for the good temperatures in degrees Kelvin using the functions that you wrote for Problem 1.\n",
    "\n",
    "**h)** Repeat Problem1(g) but for the good temperatures in degrees Kelvin using the functions that you wrote for Problem 1.\n",
    "\n",
    "**i)** Do the daily temperatures in Munich in degrees Kelvin obey Benford's law? Explain your reasoning.  \n",
    "\n",
    "**j)** Make a histogram of good temperatures in degrees Kelvin as in Problem1(i). Think about the best choices for the histogram bins (i.e. logarthmic or linear)\n",
    "and the scale of the $x$-axis (i.e. linear or logarithmic) given the dynamic range of this data.  \n",
    "\n",
    "Based on the *distribution* of temperatures, comment on why or why not you would expect the temperature data to obey Benford's law. "
   ]
  },
  {
   "cell_type": "code",
   "execution_count": 444,
   "metadata": {},
   "outputs": [
    {
     "name": "stdout",
     "output_type": "stream",
     "text": [
      "       date (yr)\n",
      "0     1995.00274\n",
      "1     1995.00548\n",
      "2     1995.00821\n",
      "3     1995.01095\n",
      "4     1995.01369\n",
      "...          ...\n",
      "6674  2013.27379\n",
      "6675  2013.27652\n",
      "6676  2013.27926\n",
      "6677  2013.28200\n",
      "6678  2013.28474\n",
      "\n",
      "[6679 rows x 1 columns]       Temp (Deg C)\n",
      "0         0.944444\n",
      "1        -1.611110\n",
      "2        -3.555560\n",
      "3        -9.833330\n",
      "4       -10.222200\n",
      "...            ...\n",
      "6674      7.333330\n",
      "6675     10.000000\n",
      "6676     10.555600\n",
      "6677      8.944440\n",
      "6678     11.166700\n",
      "\n",
      "[6679 rows x 1 columns]\n"
     ]
    }
   ],
   "source": [
    "# a)\n",
    "import pandas as pd\n",
    "data = pd.read_csv('data/munich_temperatures.txt', skiprows = 3, delimiter=\" \", header = None)\n",
    "data.columns = ['date (yr)', 'Temp (Deg C)']\n",
    "date = pd.DataFrame(data['date (yr)'])\n",
    "temperature = pd.DataFrame(data['Temp (Deg C)'])\n",
    "print(date, temperature)\n"
   ]
  },
  {
   "cell_type": "code",
   "execution_count": 445,
   "metadata": {},
   "outputs": [
    {
     "name": "stdout",
     "output_type": "stream",
     "text": [
      "       date (yr)\n",
      "0     1995.00274\n",
      "1     1995.00548\n",
      "2     1995.00821\n",
      "3     1995.01095\n",
      "4     1995.01369\n",
      "...          ...\n",
      "6674  2013.27379\n",
      "6675  2013.27652\n",
      "6676  2013.27926\n",
      "6677  2013.28200\n",
      "6678  2013.28474\n",
      "\n",
      "[6618 rows x 1 columns]       Temp (Deg C)\n",
      "0         0.944444\n",
      "1        -1.611110\n",
      "2        -3.555560\n",
      "3        -9.833330\n",
      "4       -10.222200\n",
      "...            ...\n",
      "6674      7.333330\n",
      "6675     10.000000\n",
      "6676     10.555600\n",
      "6677      8.944440\n",
      "6678     11.166700\n",
      "\n",
      "[6618 rows x 1 columns]\n"
     ]
    }
   ],
   "source": [
    "# b)\n",
    "upperboundry = float(temperature.quantile(0.75)) + 1.5 * (float(temperature.quantile(0.75)) - float(temperature.quantile(0.25)))\n",
    "lowerboundry = float(temperature.quantile(0.25)) - 1.5 * (float(temperature.quantile(0.75)) - float(temperature.quantile(0.25)))\n",
    "good_temperature = temperature[(temperature['Temp (Deg C)'] > lowerboundry) & (temperature['Temp (Deg C)'] < upperboundry)]\n",
    "good_date = date.loc[good_temperature.index]\n",
    "print(good_date, good_temperature)"
   ]
  },
  {
   "cell_type": "code",
   "execution_count": 446,
   "metadata": {},
   "outputs": [
    {
     "name": "stdout",
     "output_type": "stream",
     "text": [
      "Temp (Deg C)    8.937107\n",
      "dtype: float64\n"
     ]
    },
    {
     "name": "stderr",
     "output_type": "stream",
     "text": [
      "/Users/qiawang/opt/anaconda3/lib/python3.9/site-packages/numpy/core/fromnumeric.py:3438: FutureWarning: In a future version, DataFrame.mean(axis=None) will return a scalar mean over the entire DataFrame. To retain the old behavior, use 'frame.mean(axis=0)' or just 'frame.mean()'\n",
      "  return mean(axis=axis, dtype=dtype, out=out, **kwargs)\n"
     ]
    }
   ],
   "source": [
    "# c)\n",
    "average_temperature = np.mean(good_temperature)\n",
    "print(average_temperature)"
   ]
  },
  {
   "cell_type": "code",
   "execution_count": 464,
   "metadata": {},
   "outputs": [
    {
     "name": "stdout",
     "output_type": "stream",
     "text": [
      "Year: 1995, Min temperature: Temp (Deg C)   -13.2778\n",
      "dtype: float64, Max temperature: Temp (Deg C)    25.9444\n",
      "dtype: float64, Average temperature: Temp (Deg C)    8.7656\n",
      "dtype: float64\n",
      "Year: 1996, Min temperature: Temp (Deg C)   -15.5\n",
      "dtype: float64, Max temperature: Temp (Deg C)    23.8333\n",
      "dtype: float64, Average temperature: Temp (Deg C)    7.229834\n",
      "dtype: float64\n",
      "Year: 1997, Min temperature: Temp (Deg C)   -12.8889\n",
      "dtype: float64, Max temperature: Temp (Deg C)    21.5556\n",
      "dtype: float64, Average temperature: Temp (Deg C)    8.548422\n",
      "dtype: float64\n",
      "Year: 1998, Min temperature: Temp (Deg C)   -12.2222\n",
      "dtype: float64, Max temperature: Temp (Deg C)    25.5\n",
      "dtype: float64, Average temperature: Temp (Deg C)    9.245702\n",
      "dtype: float64\n",
      "Year: 1999, Min temperature: Temp (Deg C)   -9.83333\n",
      "dtype: float64, Max temperature: Temp (Deg C)    25.3333\n",
      "dtype: float64, Average temperature: Temp (Deg C)    9.110652\n",
      "dtype: float64\n",
      "Year: 2000, Min temperature: Temp (Deg C)   -14.6667\n",
      "dtype: float64, Max temperature: Temp (Deg C)    24.7778\n",
      "dtype: float64, Average temperature: Temp (Deg C)    9.838367\n",
      "dtype: float64\n",
      "Year: 2001, Min temperature: Temp (Deg C)   -12.1667\n",
      "dtype: float64, Max temperature: Temp (Deg C)    24.5556\n",
      "dtype: float64, Average temperature: Temp (Deg C)    9.007133\n",
      "dtype: float64\n",
      "Year: 2002, Min temperature: Temp (Deg C)   -11.1111\n",
      "dtype: float64, Max temperature: Temp (Deg C)    25.1111\n",
      "dtype: float64, Average temperature: Temp (Deg C)    9.881714\n",
      "dtype: float64\n",
      "Year: 2003, Min temperature: Temp (Deg C)   -14.3333\n",
      "dtype: float64, Max temperature: Temp (Deg C)    27.6667\n",
      "dtype: float64, Average temperature: Temp (Deg C)    9.398326\n",
      "dtype: float64\n",
      "Year: 2004, Min temperature: Temp (Deg C)   -10.7778\n",
      "dtype: float64, Max temperature: Temp (Deg C)    23.0\n",
      "dtype: float64, Average temperature: Temp (Deg C)    8.877016\n",
      "dtype: float64\n",
      "Year: 2005, Min temperature: Temp (Deg C)   -14.1111\n",
      "dtype: float64, Max temperature: Temp (Deg C)    25.1111\n",
      "dtype: float64, Average temperature: Temp (Deg C)    8.224755\n",
      "dtype: float64\n",
      "Year: 2006, Min temperature: Temp (Deg C)   -11.2778\n",
      "dtype: float64, Max temperature: Temp (Deg C)    25.9444\n",
      "dtype: float64, Average temperature: Temp (Deg C)    9.163765\n",
      "dtype: float64\n",
      "Year: 2007, Min temperature: Temp (Deg C)   -8.83333\n",
      "dtype: float64, Max temperature: Temp (Deg C)    26.2778\n",
      "dtype: float64, Average temperature: Temp (Deg C)    9.768647\n",
      "dtype: float64\n",
      "Year: 2008, Min temperature: Temp (Deg C)   -5.11111\n",
      "dtype: float64, Max temperature: Temp (Deg C)    24.0556\n",
      "dtype: float64, Average temperature: Temp (Deg C)    9.660867\n",
      "dtype: float64\n",
      "Year: 2009, Min temperature: Temp (Deg C)   -10.7778\n",
      "dtype: float64, Max temperature: Temp (Deg C)    23.2778\n",
      "dtype: float64, Average temperature: Temp (Deg C)    9.372297\n",
      "dtype: float64\n",
      "Year: 2010, Min temperature: Temp (Deg C)   -9.33333\n",
      "dtype: float64, Max temperature: Temp (Deg C)    25.7222\n",
      "dtype: float64, Average temperature: Temp (Deg C)    8.321308\n",
      "dtype: float64\n",
      "Year: 2011, Min temperature: Temp (Deg C)   -9.27778\n",
      "dtype: float64, Max temperature: Temp (Deg C)    25.5\n",
      "dtype: float64, Average temperature: Temp (Deg C)    9.691631\n",
      "dtype: float64\n",
      "Year: 2012, Min temperature: Temp (Deg C)   -15.4444\n",
      "dtype: float64, Max temperature: Temp (Deg C)    24.7222\n",
      "dtype: float64, Average temperature: Temp (Deg C)    9.225267\n",
      "dtype: float64\n"
     ]
    },
    {
     "name": "stderr",
     "output_type": "stream",
     "text": [
      "/Users/qiawang/opt/anaconda3/lib/python3.9/site-packages/numpy/core/fromnumeric.py:84: FutureWarning: In a future version, DataFrame.min(axis=None) will return a scalar min over the entire DataFrame. To retain the old behavior, use 'frame.min(axis=0)' or just 'frame.min()'\n",
      "  return reduction(axis=axis, out=out, **passkwargs)\n",
      "/Users/qiawang/opt/anaconda3/lib/python3.9/site-packages/numpy/core/fromnumeric.py:84: FutureWarning: In a future version, DataFrame.max(axis=None) will return a scalar max over the entire DataFrame. To retain the old behavior, use 'frame.max(axis=0)' or just 'frame.max()'\n",
      "  return reduction(axis=axis, out=out, **passkwargs)\n"
     ]
    }
   ],
   "source": [
    "# d)\n",
    "# Loop over the years\n",
    "for i in range(1995, 2013):\n",
    "    # Use boolean indexing to select the temperatures for the current year\n",
    "    date_year = good_date[np.isclose(good_date[\"date (yr)\"] // 1, i)]\n",
    "    temperature_year = good_temperature.loc[date_year.index]\n",
    "\n",
    "    # Compute the minimum, maximum, and average temperature\n",
    "    min_temperature = np.min(temperature_year)\n",
    "    max_temperature = np.max(temperature_year)\n",
    "    avg_temperature = np.mean(temperature_year)\n",
    "\n",
    "    # Print the results\n",
    "    print(f'Year: {i}, Min temperature: {min_temperature}, Max temperature: {max_temperature}, Average temperature: {avg_temperature}')"
   ]
  },
  {
   "cell_type": "code",
   "execution_count": 448,
   "metadata": {},
   "outputs": [
    {
     "name": "stdout",
     "output_type": "stream",
     "text": [
      "      Temp (Deg C)\n",
      "0       274.094444\n",
      "1       271.538890\n",
      "2       269.594440\n",
      "3       263.316670\n",
      "4       262.927800\n",
      "...            ...\n",
      "6674    280.483330\n",
      "6675    283.150000\n",
      "6676    283.705600\n",
      "6677    282.094440\n",
      "6678    284.316700\n",
      "\n",
      "[6618 rows x 1 columns]\n"
     ]
    }
   ],
   "source": [
    "# e)\n",
    "# absolute temperature is the temperature in kelvin\n",
    "good_temperature_kelvin = good_temperature + 273.15\n",
    "print(good_temperature_kelvin)"
   ]
  },
  {
   "cell_type": "code",
   "execution_count": 449,
   "metadata": {},
   "outputs": [],
   "source": [
    "# f)\n",
    "most_significant_digits_temperature = np.array([int(str(tem)[0]) for tem in good_temperature_kelvin['Temp (Deg C)']])\n",
    "digit_counts(most_significant_digits_temperature)\n",
    "digit_counts_temperature = digit_counts(most_significant_digits_temperature)"
   ]
  },
  {
   "cell_type": "code",
   "execution_count": 465,
   "metadata": {},
   "outputs": [
    {
     "data": {
      "text/plain": [
       "<BarContainer object of 9 artists>"
      ]
     },
     "execution_count": 465,
     "metadata": {},
     "output_type": "execute_result"
    },
    {
     "data": {
      "image/png": "[encoded data removed]",
      "text/plain": [
       "<Figure size 640x480 with 1 Axes>"
      ]
     },
     "metadata": {},
     "output_type": "display_data"
    }
   ],
   "source": [
    "# g)\n",
    "plt.ylabel('number of occurences')\n",
    "plt.xlabel('Temperature (C)')\n",
    "plt.bar(range(1, 10), digit_counts_temperature)"
   ]
  },
  {
   "cell_type": "code",
   "execution_count": 451,
   "metadata": {},
   "outputs": [
    {
     "name": "stdout",
     "output_type": "stream",
     "text": [
      "Digit 1 appears 0.00% of the time\n",
      "Digit 2 appears 99.97% of the time\n",
      "Digit 3 appears 0.03% of the time\n",
      "Digit 4 appears 0.00% of the time\n",
      "Digit 5 appears 0.00% of the time\n",
      "Digit 6 appears 0.00% of the time\n",
      "Digit 7 appears 0.00% of the time\n",
      "Digit 8 appears 0.00% of the time\n",
      "Digit 9 appears 0.00% of the time\n"
     ]
    }
   ],
   "source": [
    "# h)\n",
    "digit_percentages(good_temperature_kelvin['Temp (Deg C)'],digit_counts_temperature)"
   ]
  },
  {
   "cell_type": "code",
   "execution_count": 452,
   "metadata": {},
   "outputs": [],
   "source": [
    "# i)\n",
    "# No, it does not obey Benford's law, because the temperature is not uniformly distributed"
   ]
  },
  {
   "cell_type": "code",
   "execution_count": 471,
   "metadata": {},
   "outputs": [
    {
     "data": {
      "text/plain": [
       "Text(0, 0.5, 'number of temperature')"
      ]
     },
     "execution_count": 471,
     "metadata": {},
     "output_type": "execute_result"
    },
    {
     "data": {
      "image/png": "[encoded data removed]",
      "text/plain": [
       "<Figure size 640x480 with 1 Axes>"
      ]
     },
     "metadata": {},
     "output_type": "display_data"
    }
   ],
   "source": [
    "# j)\n",
    "temperature = good_temperature_kelvin['Temp (Deg C)']\n",
    "bins = np.logspace(np.log10(np.min(temperature)), np.log10(np.max(temperature)), 100)\n",
    "plt.hist(temperature, bins)\n",
    "plt.xscale('log')\n",
    "plt.yscale('log')\n",
    "plt.xlabel('temperature')\n",
    "plt.ylabel('number of temperature')\n",
    "\n",
    "# the temperature is not obeying Benford's law, because the temperature is not uniformly distributed"
   ]
  },
  {
   "cell_type": "code",
   "execution_count": 470,
   "metadata": {},
   "outputs": [
    {
     "data": {
      "text/plain": [
       "Text(0, 0.5, 'number of temperature')"
      ]
     },
     "execution_count": 470,
     "metadata": {},
     "output_type": "execute_result"
    },
    {
     "data": {
      "image/png": "[encoded data removed]",
      "text/plain": [
       "<Figure size 640x480 with 1 Axes>"
      ]
     },
     "metadata": {},
     "output_type": "display_data"
    }
   ],
   "source": [
    "temperature = good_temperature_kelvin['Temp (Deg C)']\n",
    "bins = np.logspace(np.log10(np.min(temperature)), np.log10(np.max(temperature)), 100)\n",
    "plt.hist(temperature, bins)\n",
    "plt.xlabel('temperature')\n",
    "plt.ylabel('number of temperature')\n",
    "# the temperature is not obeying Benford's law, because the temperature is not uniformly distributed\n",
    "# linear scale is better for this data for better visualization"
   ]
  },
  {
   "cell_type": "markdown",
   "metadata": {},
   "source": [
    "## Problem 3: Array Slicing"
   ]
  },
  {
   "cell_type": "markdown",
   "metadata": {},
   "source": [
    "Download the data [slicing.txt](https://github.com/enigma-igm/Phys29/blob/main/Phys29/homework/HW4/data/slicing.txt) at this link: https://github.com/enigma-igm/Phys29/blob/main/Phys29/homework/HW4/data/slicing.txt. This is a text file containing a 2D numpy array of `shape=(6,6,)`. Read the data file into a `numpy` array using `np.loadtxt`. See the Week4 [lecture](https://github.com/enigma-igm/Phys29/tree/main/Phys29/lectures/Week4) for an example of how to use `np.loadtxt`. \n",
    "\n",
    "The colors in the image below indicate different sub-arrays that can be extracted from the main array. For \n",
    "each of the colors (sub-arrays), obtain the new numpy sub-array with a single `numpy` command using the slice/stride syntax. \n",
    "Print the shape of the sub-arrays and the contents of the sub-arrays to the screen to verify that your results are correct. \n",
    "\n",
    "<img src=\"figures/slicing.png\" alt=\"Phys29 GitHub.\" width=\"400\">\n",
    "\n"
   ]
  },
  {
   "cell_type": "code",
   "execution_count": 454,
   "metadata": {},
   "outputs": [
    {
     "name": "stdout",
     "output_type": "stream",
     "text": [
      "[[ 0.  1.  2.  3.  4.  5.]\n",
      " [10. 11. 12. 13. 14. 15.]\n",
      " [20. 21. 22. 23. 24. 25.]\n",
      " [30. 31. 32. 33. 34. 35.]\n",
      " [40. 41. 42. 43. 44. 45.]\n",
      " [50. 51. 52. 53. 54. 55.]]\n",
      "[[20. 22. 24.]\n",
      " [40. 42. 44.]]\n",
      "[ 2. 12. 22. 32. 42. 52.]\n",
      "[[44. 45.]\n",
      " [54. 55.]]\n",
      "[3. 4.]\n"
     ]
    }
   ],
   "source": [
    "import numpy as np\n",
    "data = np.loadtxt(\"data/slicing.txt\")\n",
    "print(data)\n",
    "\n",
    "green = data[2:5:2,0:6:2]\n",
    "red = data[0:, 2]\n",
    "blue = data[4:, 4:6]\n",
    "orange = data[0, 3:5]\n",
    "\n",
    "print(green)\n",
    "print(red)\n",
    "print(blue)\n",
    "print(orange)"
   ]
  },
  {
   "cell_type": "markdown",
   "metadata": {},
   "source": [
    "## Problem 4: Coordinate Manipulation with Numpy\n",
    "\n",
    "We can repesent the Cartesian coordinates $\\mathbf{r}_i = (x_i,y_i,z_i)$ for four particles in 3D as a numpy arrays `positions`"
   ]
  },
  {
   "cell_type": "code",
   "execution_count": 455,
   "metadata": {},
   "outputs": [],
   "source": [
    "import numpy as np \n",
    "positions = np.array([[0.0, 0.0, 0.0],\n",
    "                      [1.5, 1.5, 0.0],\n",
    "                      [10.5,0.0, -2.3],\n",
    "                      [0.0, 1.3, 1.3]])\n",
    "s = np.array([-3.6,-1.0,-1.3])"
   ]
  },
  {
   "cell_type": "markdown",
   "metadata": {},
   "source": [
    "Above we also defined `s`, which is a translation vector, $\\mathbf{s}$, in 3D space. Both the coordinates and the translate vector are in units of meters. **Note: In what follows we use the zero-based indexing convention to refer to the particles, i.e. the zeroth particle is the one with coordinates** `[0.0, 0.0, 0.0]` and there is no fourth particle. "
   ]
  },
  {
   "cell_type": "markdown",
   "metadata": {},
   "source": [
    "**a)** What is the shape of the array `positions` and what is its dimension. Print both to the screen. \n",
    "\n",
    "**b)** What is the shape of the array `s` and what is its dimension. Print both to the screen.\n",
    "\n",
    "**c)** How do you access the coordinates of the third particle in `positions`? Print its coordinates to the screen.\n",
    "\n",
    "**d)** Assign the third particles $z$ coordinate to a variable named `p3_z` and print it to the screen. What type of Python object is `p3_z`? What are the shape and dimension of `p3_z`? Print these to the screen as well. \n",
    "\n",
    "**e)**  How do you access the $x$ coordinates of all the particles in `positions`? Assign them to a variable named `positions_x` and print values, shape, and dimensions of `positions_x` to the screen. \n",
    "\n",
    "**f)** Write python function to perform a translation of the coordinates in `positions` by the translation vector `s` consistent with the docstring below: \n",
    "```python\n",
    "\n",
    "def translate(pos, s):\n",
    "    \"\"\"\n",
    "    Translate the coordinates in pos by the translation vector s. \n",
    "    \n",
    "    Parameters\n",
    "    ----------\n",
    "    pos : numpy.ndarray\n",
    "        A numpy array of shape (n,3) where n is the number of particles and the 3 columns \n",
    "        are the x,y,z coordinates of the particles in m. \n",
    "    s : numpy.ndarray\n",
    "        A numpy array of shape (3,) that represents the translation vector in m. \n",
    "        \n",
    "    Returns\n",
    "    -------\n",
    "    translated_pos: numpy.ndarray\n",
    "        A numpy array of shape (n,3) where n is the number of particles and the 3 columns are \n",
    "        the x,y,z coordinates of the particles in m after the translation. \n",
    "    \"\"\"\n",
    "```\n",
    "\n",
    "**g)** Test your function from part **f)** by translating the coordinates in `positions` by the translation vector `s` and print the translated coordinates to the screen. Also test your code on the new set of coordinates and translation vector: \n",
    "```python\n",
    "position_2 = np.array([[1.5, -1.5, 3], [-1.5, 1.5, -3]])\n",
    "s2 = np.array([-1.5, 1.5, 3])\n",
    "```\n",
    "and print the results to the screen. "
   ]
  },
  {
   "cell_type": "code",
   "execution_count": 456,
   "metadata": {},
   "outputs": [
    {
     "name": "stdout",
     "output_type": "stream",
     "text": [
      "shape of the array position: (4, 3)\n",
      "dimension of the array position: 2\n",
      "shape of the array s: (3,)\n",
      "dimension of the array s: 1\n",
      "coordinates of the third particle: [10.5  0.  -2.3]\n",
      "z coordinate of the third particle: -2.3\n",
      "shape of the array p3z: ()\n",
      "dimension of the array p3z: 0\n",
      "type of object p3z: <class 'numpy.float64'>\n",
      "x coordinates of all particles: [ 0.   1.5 10.5  0. ]\n",
      "shape of the array posiitons_x: (4,)\n",
      "dimension of the array posiitons_x: 1\n",
      "[[-3.6 -1.  -1.3]\n",
      " [-2.1  0.5 -1.3]\n",
      " [ 6.9 -1.  -3.6]\n",
      " [-3.6  0.3  0. ]]\n",
      "[[ 0.  0.  6.]\n",
      " [-3.  3.  0.]]\n"
     ]
    }
   ],
   "source": [
    "# a)\n",
    "print(\"shape of the array position:\", positions.shape) # shape of the position\n",
    "print(\"dimension of the array position:\", positions.ndim) # dimension of the position\n",
    "\n",
    "# b)\n",
    "print(\"shape of the array s:\", s.shape) # shape of the s\n",
    "print(\"dimension of the array s:\", s.ndim) # dimension of the s\n",
    "\n",
    "# c)\n",
    "print(\"coordinates of the third particle:\", positions[2]) # coordinates of the third particle\n",
    "\n",
    "# d)\n",
    "p3z = positions[2, 2]\n",
    "print(\"z coordinate of the third particle:\", p3z) # z coordinate of the third particle\n",
    "print(\"shape of the array p3z:\", p3z.shape) # shape of the p3z\n",
    "print(\"dimension of the array p3z:\", p3z.ndim) # dimension of the p3z\n",
    "print(\"type of object p3z:\", type(p3z)) # type of object p3z\n",
    "\n",
    "# e)\n",
    "posiitons_x = positions[0:, 0]\n",
    "print(\"x coordinates of all particles:\", posiitons_x) # x coordinates of all particles \n",
    "print(\"shape of the array posiitons_x:\", posiitons_x.shape) # shape of the posiitons_x\n",
    "print(\"dimension of the array posiitons_x:\", posiitons_x.ndim) # dimension of the posiitons_x\n",
    "\n",
    "#f)\n",
    "def translate(pos, s):\n",
    "    translated_pos = pos + s # translate the position\n",
    "    return translated_pos\n",
    "\n",
    "#g)\n",
    "print(translate(positions, s))\n",
    "position_2 = np.array([[1.5, -1.5, 3], [-1.5, 1.5, -3]])\n",
    "s2 = np.array([-1.5, 1.5, 3])\n",
    "print(translate(position_2, s2))"
   ]
  },
  {
   "cell_type": "markdown",
   "metadata": {},
   "source": [
    "## Problem 5: The Riemann Zeta Function, Numpy Edition\n",
    "\n",
    "In the Week3 lecture on loops, we showed how one can evaluate the Riemann Zeta function defined as \n",
    "$$\n",
    "\\zeta(s) = \\sum_{n=1}^{\\infty} \\frac{1}{n^s}. \n",
    "$$\n",
    "\n",
    "**a)**  We stated that it can be proved mathematically that\n",
    "$$\n",
    "\\zeta(2) = \\frac{\\pi^2}{6}\n",
    "$$\n",
    "or equivalently\n",
    "$$ \n",
    "\\pi = \\sqrt{6 \\zeta(2)} = \\sqrt{6 \\sum_{n=1}^{\\infty} \\frac{1}{n^2}}.\n",
    "$$\n",
    "Use the `numpy` `arange`, `sum` and `sqrt()` functions to estimate $\\pi$ from the Riemann Zeta function and print your result to the screen. Use the first 1000 terms in the sum. Compute the relative error of your estimate of $\\pi$ with respect to the true value of $\\pi$ (which you can access via `np.pi`) and print to the screen. \n",
    "\n",
    "**b)**  Write a function to evaluate the Riemann Zeta function using `numpy` for any value of $s$ consistent with the docstring below. **Note that your solution should only use numpy functions. No Python loops allowed anywhere!!** \n",
    "```python\n",
    "def zeta(s, nterms=1000):\n",
    "    \"\"\"\n",
    "    Evaluate the Riemann Zeta function for any value of s using the first nterms terms in the sum. \n",
    "    \n",
    "    Parameters\n",
    "    ----------\n",
    "    s : np.ndarray \n",
    "        The values of s for which to evaluate the Riemann Zeta function. shape = (ns,)\n",
    "    nterms : int, optional\n",
    "        The number of terms to use in the sum. Default is 1000. \n",
    "        \n",
    "    Returns\n",
    "    -------\n",
    "    zeta_s: np.ndarray\n",
    "        The value of the Riemann Zeta function for the input values of s using the first nterms terms in the sum. The shape\n",
    "        of zeta_s is the same as s, i.e. shape = (ns,).\n",
    "    \"\"\"\n",
    "```\n",
    "Test your function on the array `s=np.arange(1,11)`, i.e. `zofs = zeta(s)` and print the result (`print(zofs)`) and the shape of the result\n",
    "(`print(zofs.shape)`) to the screen."
   ]
  },
  {
   "cell_type": "code",
   "execution_count": 457,
   "metadata": {},
   "outputs": [
    {
     "name": "stdout",
     "output_type": "stream",
     "text": [
      "0.00030385778458868486\n",
      "[7.48547086 1.64393457 1.2020564  1.08232323 1.03692776 1.01734306\n",
      " 1.00834928        inf        inf        inf]\n",
      "(10,)\n"
     ]
    },
    {
     "name": "stderr",
     "output_type": "stream",
     "text": [
      "/var/folders/sj/5j1ch75533d7g5jxl3jnnff40000gn/T/ipykernel_5737/4051181612.py:8: RuntimeWarning: divide by zero encountered in true_divide\n",
      "  terms = 1 / np.arange(1, nterms+1) ** s[:, None]\n"
     ]
    }
   ],
   "source": [
    "# a)\n",
    "estimated_pi = np.sqrt(6 * np.sum(1 / np.arange(1, 1001) ** 2)) # calculate pi by using zeta funciton with first 1000 terms\n",
    "relative_error = np.abs(estimated_pi - np.pi) / np.pi\n",
    "print(relative_error)\n",
    "\n",
    "# b)\n",
    "def zeta(s, nterms = 1000):\n",
    "    terms = 1 / np.arange(1, nterms+1) ** s[:, None]\n",
    "    zeta_s = np.sum(terms, axis=1)\n",
    "    return zeta_s\n",
    "s = np.arange(1,11)\n",
    "zofs = zeta(s)\n",
    "print(zofs)\n",
    "print(zofs.shape)"
   ]
  }
 ],
 "metadata": {
  "kernelspec": {
   "display_name": "Python 3 (ipykernel)",
   "language": "python",
   "name": "python3"
  },
  "language_info": {
   "codemirror_mode": {
    "name": "ipython",
    "version": 3
   },
   "file_extension": ".py",
   "mimetype": "text/x-python",
   "name": "python",
   "nbconvert_exporter": "python",
   "pygments_lexer": "ipython3",
   "version": "3.9.13"
  }
 },
 "nbformat": 4,
 "nbformat_minor": 4
}
