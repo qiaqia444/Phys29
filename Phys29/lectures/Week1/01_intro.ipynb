{
 "cells": [
  {
   "cell_type": "markdown",
   "id": "26eed9f37f3b075d",
   "metadata": {
    "collapsed": false,
    "jupyter": {
     "outputs_hidden": false
    }
   },
   "source": [
    "# Why Do Physicists Need to be able to Program?"
   ]
  },
  {
   "cell_type": "markdown",
   "id": "f2323b0058ce5c0c",
   "metadata": {
    "collapsed": false,
    "jupyter": {
     "outputs_hidden": false
    }
   },
   "source": [
    "This course will introduce you to the use of a computer to do numerical analyses. You’ll almost certainly need to do some computing in the future, whether in physics class, in lab, in some other class, or in a job. My goal for this class is that you are comfortable solving equations, doing basic computations, making plots, and fitting data on a computer. Examples of things we need to be able to program for in Physics are: "
   ]
  },
  {
   "cell_type": "markdown",
   "id": "90a0d00b-3a60-4595-9e9a-3c568b2807b1",
   "metadata": {},
   "source": [
    "<ul>\n",
    "  <li style=\"font-size:26px;\">Data Analysis</li>\n",
    "    <ul>\n",
    "        <li style=\"font-size:20px;color:blue\">Manipulate and process data</li>\n",
    "        <li style=\"font-size:20px;color:blue\">Fit data or perform statistical analysis on it</li>\n",
    "        <li style=\"font-size:20px;color:blue\">Plot or visualize data</li>\n",
    "    </ul>\n",
    "  <li style=\"font-size:26px;\">Numerical Solutions</li>\n",
    "      <ul>\n",
    "        <li style=\"font-size:20px;color:blue\">Solve equations</li>\n",
    "        <li style=\"font-size:20px;color:blue\">integrate, differentiate, or solve (partial) differential equations</li>\n",
    "      </ul>\n",
    "  <li style=\"font-size:26px;\">Numerical Simulations</li>\n",
    "      <ul>\n",
    "        <li style=\"font-size:20px;color:blue\">Evolve a physical system forward in time by solving partial differential equations in a finite domain</li>\n",
    "      </ul>\n",
    "  <li style=\"font-size:26px;\">Data acquisition</li>\n",
    "  <li style=\"font-size:26px;\">Equipment control</li>\n",
    "</ul>"
   ]
  },
  {
   "cell_type": "markdown",
   "id": "76ea05de-1224-443b-a38d-c5b812ec5102",
   "metadata": {},
   "source": [
    "# Examples of Programs\n",
    "They are written in pseudo-English with a text editor "
   ]
  },
  {
   "cell_type": "markdown",
   "id": "9eddf7f1-2479-44c8-bf98-66e77bdcdfc1",
   "metadata": {},
   "source": [
    "<img src=\"figures/code_examples.png\" alt=\"code examples\" width=\"1200\">"
   ]
  },
  {
   "cell_type": "markdown",
   "id": "6d54a290-3439-4fc4-9814-01064fd9660b",
   "metadata": {},
   "source": [
    "# Interpreted versus Compiled Programming Languages"
   ]
  },
  {
   "cell_type": "markdown",
   "id": "5c17169b-dad5-4dbb-846c-e691a80e0398",
   "metadata": {},
   "source": [
    "<ul>\n",
    "  <li style=\"font-size:26px;\">Interpreted Languages: run a program (text file) by \"invoking it\" from a text file or the command line (or through a GUI)</li>\n",
    "    <ul>\n",
    "        <li style=\"font-size:20px;color:blue\">Text input is \"read\" by an interpreter which (effectively) turns it into machine executable code on the fly</li>\n",
    "        <li style=\"font-size:20px;color:red\">Examples: Python, bash (i.e. the shell), perl, tcl, PHP, Ruby, JavaScript, IDL</li>\n",
    "    </ul>\n",
    "  <li style=\"font-size:26px;\">Compiled languages</li>\n",
    "    <ul>\n",
    "        <li style=\"font-size:20px;color:blue\">Text input is converted into machine code with a <b>compiler</b>, compiled blocks are strung together with a <b>linker</b>, resulting in an <b>executable</b> (machine code). Then you run the executable</li>\n",
    "        <li style=\"font-size:20px;color:red\">Examples: C, C++, Fortran, Cobol, Java</li>\n",
    "    </ul>\n",
    "</ul>"
   ]
  },
  {
   "cell_type": "code",
   "execution_count": null,
   "id": "63d4b9f7-4abc-4ec5-a0e6-d0f5e5cc6bb7",
   "metadata": {},
   "outputs": [],
   "source": []
  }
 ],
 "metadata": {
  "kernelspec": {
   "display_name": "Python 3 (ipykernel)",
   "language": "python",
   "name": "python3"
  },
  "language_info": {
   "codemirror_mode": {
    "name": "ipython",
    "version": 3
   },
   "file_extension": ".py",
   "mimetype": "text/x-python",
   "name": "python",
   "nbconvert_exporter": "python",
   "pygments_lexer": "ipython3",
   "version": "3.11.5"
  }
 },
 "nbformat": 4,
 "nbformat_minor": 5
}
