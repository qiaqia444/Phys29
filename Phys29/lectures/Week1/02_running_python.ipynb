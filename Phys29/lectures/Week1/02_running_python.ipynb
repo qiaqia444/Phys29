{
 "cells": [
  {
   "cell_type": "markdown",
   "source": [
    "### Four ways to run Python code \n",
    "\n",
    "There are different ways to run Python code, they all have different usages. In this section, we will quickly introduce the three different ways to get you started. \n",
    "\n",
    "**Using Python shell or IPython shell** \n",
    "\n",
    "The easiest way to run Python code is through the Python shell or IPython shell (which stands for Interactive Python). The IPython shell is richer than Python shell, and provides features such as Tab autocompletion, color-highlighted error messages, basic UNIX shell integration, easy access to documentaiton, and access to object attributes, and much more. As such, there is no real reason to run the standard python shell.  Since we just installed IPython as part of our installation, let us try to run a simple example that prints \"hello world\" to the screen with it. To launch the Ipython shell, launch the terminal application and type \n",
    "\n",
    "```ipython``` \n",
    "\n",
    "and press `Enter`, which launches the IPython shell.  Then we can run any Python command by typing it into the shell, by pressing `Enter`, we immediately see the results from the command. For example, we can print out \"Hello World\" by typing `print(\"Hello World\")`:\n",
    "\n",
    "\n",
    "<img src=\"figures/ipython.png\" alt=\"IPython\" width=\"1200\">"
   ],
   "metadata": {
    "collapsed": false
   },
   "id": "9d5c293cd8a15191"
  },
  {
   "cell_type": "markdown",
   "source": [],
   "metadata": {
    "collapsed": false
   },
   "id": "40e284cbbc13af34"
  },
  {
   "cell_type": "markdown",
   "source": [
    "\n",
    "In the above command, the *print()* is a function in Python, and \"Hello World\" is a string data type that we will introduce later in the course. \n",
    "\n",
    "**Run Python script/file from command line**\n",
    "\n",
    "The second way to run Python code is to put all the commands into a file and save it as a file with extension `.py` (the extension of the file could be anything, but by convention, it is usually `.py`). For example, using your favorite text editor, put the command in a file called *hello_world.py*. Then just run it from terminal:\n",
    "\n",
    "<img src=\"figures/from_terminal.png\" alt=\"IPython\" width=\"1200\">\n",
    "\n",
    "\n",
    "**Running Jupyter Notebooks Locally**\n",
    "\n",
    "The third way to run Python is through a **Jupyter notebook**. This is a very powerful web-browser-based Python environment. Note that there are actual two such options now:\n",
    "\n",
    "* Jupyter notebook (which is the original one)\n",
    "* Jupyter lab (which is the newer one, and is more powerful)\n",
    "\n",
    "I recommend using Jupyter lab since it is more powerful and will be the future of Jupyter notebooks. During class, I suggest that you get into the habit of working through the notebooks that I am discussing in real time. When you excecute the notebooks, they are modified and autosaved, and if you have installed the course Phys29 GitHub repository, this will generate conflicts in the future if you try to update the repository. For that reason, I suggest creating a separate directory where you can work through the notebooks on your own. \n",
    "\n",
    "In a terminal shell type:\n",
    "\n",
    "```mkdir Phys29_rundir```\n",
    "    \n",
    "Then change into that directory via:\n",
    "    \n",
    "```cd Phys29_rundir```\n",
    "    \n",
    "Copy over the contentts from the github repo for the week in question:\n",
    "    \n",
    "```cp -R /Users/joe/python/Phys29/Phys29/lectures/Week1 .```\n",
    " \n",
    "The -R flag is for recursive, meaning copy over the entire directory tree (including the figures), and the . at the end means copy to the current directory. \n",
    "\n",
    "<img src=\"figures/rundir.png\" alt=\"IPython\" width=\"1200\">\n",
    "\n",
    "Then launch Jupyter lab from the terminal via:\n",
    "\n",
    "```jupyter lab```\n",
    "   \n",
    "<img src=\"figures/rundir.png\" alt=\"IPython\" width=\"1200\">\n",
    "\n",
    "This will launch a web browser with the Jupyter lab interface. \n",
    "\n",
    "<img src=\"figures/jupyterlab_interface.png\" alt=\"IPython\" width=\"1200\">\n",
    "\n",
    "Jupyterlab will open with the \"Launcher\" tab open. On the left you can see the directory structure for the directory that we just created. There are three main options in the \"Launcher\", \"Notebook\", \"Console\", and \"Other\".  The \"Notebook\" option will open a new Jupyter notebook in a new tab.  The \"Console\" option will open a new IPython shell in a new tab.  Under \"Other\", the \"Terminal\" option will open a new terminal window in a new tab which you could use in lieu of the native Mac (or Windows) terminal application.  \n",
    "\n",
    "If we click on \"Notebook\", we can create a new Untitled notebook.   We can now type any python command into the cell and press `shift + enter` to run the cell. For example, we can print out \"Hello World\" by typing `print(\"Hello World\")` and then `shift + enter`:\n",
    "\n",
    "<img src=\"figures/hello_world_notebook.png\" alt=\"IPython\" width=\"1200\">\n",
    "\n"
   ],
   "metadata": {
    "collapsed": false
   },
   "id": "35f29df0cea1fc1e"
  },
  {
   "cell_type": "markdown",
   "source": [
    "**Running Jupyter Notebooks remotely via Google Colab**\n",
    "\n",
    "Whereas in the previous example we ran the Jupyter lab environment locally on our own machine, we can also run it remotely on a server. This can be useful for multiple reasons. For example, in the context of this course, if you prefer not to install python on your local machine you can do all of your development in the cloud. Another would be if you need to run a computationally intensive task on a server with more resources than your local machine.  \n",
    "\n",
    "If you want to access the GitHub course materials via Google Colab you can do so by navigating to  [Google Colab](https://www.colab.research.google.com). You will need to log in with your Google gmail account.  To navigate to the course GitHub materials to follow along with the notebooks, click on the GitHub tab on the left and enter the Phys29 course GitHub repository URL https://github.com/enigma-igm/Phys29/ and choose a Jupyter (.ipynb extensions) notebook there to load into Colab.  Alternatively, you can navigate directly via [this](https://colab.research.google.com/github/enigma-igm/Phys29) URL https://colab.research.google.com/github/enigma-igm/Phys29\n",
    "\n",
    "<img src=\"figures/colab_github.png\" alt=\"IPython\" width=\"1200\">\n",
    "\n",
    "To instead create a new notebook click on the blue \"+ New Notebook\" tab upon navigating to Google Colab. This will create a new untitled notebook there. Similar to above,  we can now type any python command into the cell and press `shift + enter` to run the cell. For example, we can print out \"Hello World\" by typing `print(\"Hello World\")`:\n",
    "\n",
    "<img src=\"figures/colab_hello_world.png\" alt=\"IPython\" width=\"1200\">\n"
   ],
   "metadata": {
    "collapsed": false
   },
   "id": "975039a83a010079"
  },
  {
   "cell_type": "markdown",
   "source": [],
   "metadata": {
    "collapsed": false
   },
   "id": "5efee154d99a65b0"
  },
  {
   "cell_type": "markdown",
   "source": [
    "**Running Python via an Integrated Development Environment (IDE)**\n",
    "\n",
    "Integrated Development Environments (IDEs) are software applications that provide various  development utitlities to computer programmers such as text editors with syntax highlighting, terminal shells, Jupyter Notebooks, documentation and debugging tools, helpful interfactes to Git and GitHub, and now AI assistance (i.e. GitHub co-pilot, chat-bots). There are many different IDEs available for Python, including Jupyter Notebook, Jupyter Lab, and Google Colab that were already discussed.  A list of popular python IDEs are: \n",
    "\n",
    "* [PyCharm](https://www.jetbrains.com/pycharm/)\n",
    "* [Spyder](https://www.spyder-ide.org/)\n",
    "* [Visual Studio Code](https://code.visualstudio.com/)\n",
    "* [Atom](https://atom.io/)\n",
    "* [Sublime Text](https://www.sublimetext.com/)\n",
    "* [Google Colab](https://colab.research.google.com/)\n",
    "* [Jupyter Lab](https://jupyterlab.readthedocs.io/en/stable/)\n",
    "\n",
    "The main reason to use an IDE is to simplify interacting with Git and to get access to the AI code assistance add-ons. For example, PyCharm is free for students and interaces with GitHub co-pilot and a AI assistant chat-bot (although the latter are paid features). Similarly, options are available in Google Colab (again AI for a fee), and other IDEs. Typically you can run notebooks via a Jupyeter instance integrated into the IDE, and you also have access to a terminal shell where you can run IPython or run python scripts directly from the command line, as discussed above. "
   ],
   "metadata": {
    "collapsed": false
   },
   "id": "1cddfd24e8523622"
  },
  {
   "cell_type": "code",
   "execution_count": null,
   "outputs": [],
   "source": [],
   "metadata": {
    "collapsed": false,
    "ExecuteTime": {
     "end_time": "2023-12-27T17:42:55.249823Z",
     "start_time": "2023-12-27T17:42:55.248168Z"
    }
   },
   "id": "277b24600dd7642b"
  }
 ],
 "metadata": {
  "kernelspec": {
   "display_name": "Python 3",
   "language": "python",
   "name": "python3"
  },
  "language_info": {
   "codemirror_mode": {
    "name": "ipython",
    "version": 2
   },
   "file_extension": ".py",
   "mimetype": "text/x-python",
   "name": "python",
   "nbconvert_exporter": "python",
   "pygments_lexer": "ipython2",
   "version": "2.7.6"
  }
 },
 "nbformat": 4,
 "nbformat_minor": 5
}
