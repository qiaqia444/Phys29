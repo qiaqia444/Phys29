{
 "cells": [
  {
   "cell_type": "markdown",
   "metadata": {},
   "source": [
    "# Scalar Types in Core-Python"
   ]
  },
  {
   "cell_type": "markdown",
   "metadata": {},
   "source": [
    "Programming languages like Python have specific data types that reflect how information is stored in the computer memory.  We concentrate here on numbers, especially Integrers and Floats, and also Boolens (True of False). "
   ]
  },
  {
   "cell_type": "markdown",
   "metadata": {},
   "source": [
    "## Integer Type"
   ]
  },
  {
   "cell_type": "markdown",
   "metadata": {},
   "source": [
    "### Basic Integer operations"
   ]
  },
  {
   "cell_type": "code",
   "execution_count": 1,
   "metadata": {},
   "outputs": [
    {
     "name": "stdout",
     "output_type": "stream",
     "text": [
      "5 2\n"
     ]
    }
   ],
   "source": [
    "a = 5  # assigninig the integer value 5 to variable 'a'\n",
    "b = 2\n",
    "print(a,b)"
   ]
  },
  {
   "cell_type": "markdown",
   "metadata": {},
   "source": [
    "Note that above we added comments to our code cell using the # symbol"
   ]
  },
  {
   "cell_type": "markdown",
   "metadata": {},
   "source": [
    "We can verify that these variables have integer data types by using the type function native to python"
   ]
  },
  {
   "cell_type": "code",
   "execution_count": 2,
   "metadata": {},
   "outputs": [
    {
     "data": {
      "text/plain": [
       "int"
      ]
     },
     "execution_count": 2,
     "metadata": {},
     "output_type": "execute_result"
    }
   ],
   "source": [
    "type(a)"
   ]
  },
  {
   "cell_type": "markdown",
   "metadata": {},
   "source": [
    "The following operations are obvious, aren't they?"
   ]
  },
  {
   "cell_type": "code",
   "execution_count": 3,
   "metadata": {},
   "outputs": [
    {
     "name": "stdout",
     "output_type": "stream",
     "text": [
      "7 3\n",
      "10\n",
      "25\n",
      "2378064745833997089035291835260712838458865431811172691488433289557139138657603628438861986726706923349682264965985710377075584782188694692388947882175715519096675757218693363993962520205904428245134267078693818602685930613787403444349673750635551316739530524895408978060031103182470773666038096585996224572366020922922741813375977008950609768424189481012172621072842651947024496743122176907089835987862122732310713816419679412824662104973781214735145677660749637079556213075837285722443038754778346881579015918943327195917881149439724094933128669446556416470532227687870386234974128583815190410217053872782485805428030123508280668459404061483915456124322080471245927500999765814304079369997836412119328766896770025073773637881461886393763198491381533166250356427920171543091065325015639817188395887395256998812451647205410389780658706958486877635305492456193832833394713360657435410066143050999138740329543502360903770744096738684337640671289462134454882877648883255729913744107619012671861540790714616640142624237929502766607140809669974506851763768063425875275792176508417261388844451273907518292936167111873286406275996081702481440887180422148294186164804163727713622662064716750392223252809575011026769974375523428799048872277941771728393521054839358319000181760249272723266242288942313186347035691433675133873317412409327135279314709559425076477433653254749619019831030795005501074269414988195919783534048589478873525634740143523829122817094751801274630303237222595708990590193994111374446614605382522132568053594610847273612657388555713216334204672470663007665466715951810404851446568103499257336412444463214449080832087296272600344870025851740132664243647186578851593551620523607417121001554285508245430496057007049478498181585348797855244132931992745912758199610781955730830560516178514164952817821071919197567870992288020665195023661001515168378481710873875232163887727509509086330564846326035891739366440810242232213743571670477729583475445091682997961349353634876688026277882950389096803442365492207174237496871420450997430227805186939896202471224382610491433099418545319560788624138403215040331708488263608451676972326800356714308555498095226374153223101686278937792813415780922706806303797654418142235006817233403525647497473371778484863802932310418444344560353374733419050611562830811765300848267418452268679220537093842973746126123986374933330607916978275783183610388712087361311315748364653324096283458152449231322996047913194195832549480727793317312706785533968600359880607973194236959396729795223245499403820157924683203407395944305532033087698517288491650885240862709258607956082980298004826899041294620848740333907253498110062290510121396015239485301266435599317851076894072478145278501826556007768455292719741488428310590847439296376789570374925331618683765731335843069154983624067488401239819441815430296645234153782267807671398030272479146287370541629019685405335748389126630430926059059036906069296872669436019885693160711597880523526030134456898669975068245290874963831722995970995451081662157617127903626186488905656878054826729492009211872512534814759637626405059205624852253655207036316651611494277375865705672241082338163676392495155470566925198235296663206326710342063852710396626619293216407145026558498827339422165369492762658846770102887942817462425770073619226946360657630279347727268032466169801524152631703192139702865560804089767395772056135473398364693796901352162227561900879910394429237734787345643578488606299974853763517352495981449816581975846237812141745340372684095373341038116275144934949511817187625491372194658399549166227996588417645504894302258122316235692118804043605061213114386427823769378053950032466368595266921297666875709788692009375642443963768427691482346475403709300830163548363360947813655835665838589490137826494044193115229290924617089331150054931640625\n"
     ]
    }
   ],
   "source": [
    "print(a + b, a - b) # Integer addition and subtraction\n",
    "print(a * b)        # Integer multiplication\n",
    "print(a**b)         # 5 to the power of 2\n",
    "print(5**5460)      # 'arbitrarily accurate' integer arithmetic! "
   ]
  },
  {
   "cell_type": "markdown",
   "metadata": {},
   "source": [
    "What about the following. Is it what you would expect?"
   ]
  },
  {
   "cell_type": "code",
   "execution_count": 4,
   "metadata": {},
   "outputs": [
    {
     "name": "stdout",
     "output_type": "stream",
     "text": [
      "2.5\n"
     ]
    }
   ],
   "source": [
    "x = a / b        # x is a new variable which is a/b, i.e. division\n",
    "print(x)"
   ]
  },
  {
   "cell_type": "markdown",
   "metadata": {},
   "source": [
    "Note that the type of x has changed though, it is no longer an integer but rather it has been promoted to a float, which is short for a floating point number. "
   ]
  },
  {
   "cell_type": "code",
   "execution_count": 5,
   "metadata": {},
   "outputs": [
    {
     "data": {
      "text/plain": [
       "float"
      ]
     },
     "execution_count": 5,
     "metadata": {},
     "output_type": "execute_result"
    }
   ],
   "source": [
    "type(x)"
   ]
  },
  {
   "cell_type": "markdown",
   "metadata": {},
   "source": [
    "### Simultaneous assignment of values to different variables"
   ]
  },
  {
   "cell_type": "code",
   "execution_count": 6,
   "metadata": {},
   "outputs": [
    {
     "name": "stdout",
     "output_type": "stream",
     "text": [
      "6 7 8 9 5 1 2\n"
     ]
    }
   ],
   "source": [
    "# In contrast to many other languages, Python allows to simultaneously\n",
    "# assign values to severtal valriables:\n",
    "\n",
    "x = 5        # usual assignment\n",
    "y, z = 1, 2  # simultaneous assignemnt to two variables\n",
    "a, b, c, d = 6, 7, 8, 9 # works with arbitrarily many!\n",
    "\n",
    "print(a, b, c, d, x, y, z)"
   ]
  },
  {
   "cell_type": "markdown",
   "metadata": {},
   "source": [
    "# Float Type"
   ]
  },
  {
   "cell_type": "code",
   "execution_count": 7,
   "metadata": {},
   "outputs": [
    {
     "name": "stdout",
     "output_type": "stream",
     "text": [
      "3.24159 3.04159 12.0 31.415899999999997\n",
      "3.1\n"
     ]
    }
   ],
   "source": [
    "pi = 3.14159 # For full precision use numpy.pi\n",
    "d = .1       # equal to 0.1\n",
    "e = 1.2e2    # read: 1.2 times 10 to the power of 2\n",
    "\n",
    "print(pi + d, pi - d, d * e, pi / d)\n",
    "print(d + 3)  # in mixed calculations, integer values are 'promoted' to float"
   ]
  },
  {
   "cell_type": "markdown",
   "metadata": {},
   "source": [
    "# Boolean Type\n",
    "Python has an *explicit* boolean type which can only take the values ```True``` and ```False```. It is used to test conditions in loops and conditional ```if``` statements and store information that can only be True or False. We could of course just use ```1``` to represent ```True``` and ```0``` to represent ```False```, however this would require more computer memory to store the information. "
   ]
  },
  {
   "cell_type": "code",
   "execution_count": 8,
   "metadata": {},
   "outputs": [
    {
     "data": {
      "text/plain": [
       "bool"
      ]
     },
     "execution_count": 8,
     "metadata": {},
     "output_type": "execute_result"
    }
   ],
   "source": [
    "f = False\n",
    "t = True\n",
    "type(f)"
   ]
  },
  {
   "cell_type": "code",
   "execution_count": 9,
   "metadata": {},
   "outputs": [
    {
     "name": "stdout",
     "output_type": "stream",
     "text": [
      "True\n",
      "False\n"
     ]
    }
   ],
   "source": [
    "print(f or t)   # logical 'or' operator\n",
    "print(f and t)  # logical 'and' operator"
   ]
  },
  {
   "cell_type": "code",
   "execution_count": 10,
   "metadata": {},
   "outputs": [
    {
     "name": "stdout",
     "output_type": "stream",
     "text": [
      "True\n",
      "False\n",
      "True\n"
     ]
    }
   ],
   "source": [
    "a = 1\n",
    "print(a == 1)   # test for equality\n",
    "print(a == 2)\n",
    "print(a < 5)"
   ]
  },
  {
   "cell_type": "code",
   "execution_count": 11,
   "metadata": {},
   "outputs": [
    {
     "name": "stdout",
     "output_type": "stream",
     "text": [
      "False\n"
     ]
    },
    {
     "data": {
      "text/plain": [
       "bool"
      ]
     },
     "execution_count": 11,
     "metadata": {},
     "output_type": "execute_result"
    }
   ],
   "source": [
    "y = a >= 5\n",
    "print(y)\n",
    "type(y)"
   ]
  },
  {
   "cell_type": "markdown",
   "metadata": {},
   "source": [
    "If we assign a boolean statement to a new variable ```y```, y has boolean type, in another words the output of the boolean statement is boolean. "
   ]
  },
  {
   "cell_type": "markdown",
   "metadata": {},
   "source": [
    "**Never ever compare float numbers to test for equality!!**"
   ]
  },
  {
   "cell_type": "code",
   "execution_count": 12,
   "metadata": {},
   "outputs": [
    {
     "name": "stdout",
     "output_type": "stream",
     "text": [
      "True\n",
      "True\n",
      "False\n"
     ]
    }
   ],
   "source": [
    "d = 1.0\n",
    "print(d == 1.0)\n",
    "print((d - 0.6) == 0.4)\n",
    "print((d - 6 * 0.1) == 0.4)"
   ]
  },
  {
   "cell_type": "markdown",
   "metadata": {},
   "source": [
    "If you need to compare floats, the Python `numpy`-module has a function for it:"
   ]
  },
  {
   "cell_type": "code",
   "execution_count": 13,
   "metadata": {},
   "outputs": [
    {
     "name": "stdout",
     "output_type": "stream",
     "text": [
      "True\n",
      "True\n",
      "True\n"
     ]
    }
   ],
   "source": [
    "import numpy as np\n",
    "\n",
    "d = 1.0\n",
    "print(np.isclose(d, 1.0))\n",
    "print(np.isclose((d - 0.6), 0.4))\n",
    "print(np.isclose((d - 6 * 0.1), 0.4))"
   ]
  },
  {
   "cell_type": "markdown",
   "metadata": {},
   "source": [
    "# Order of Operations"
   ]
  },
  {
   "cell_type": "markdown",
   "metadata": {},
   "source": [
    "An **order of operations** is a standard order of precedence that different operations have in relationship to one another. Python utilizes the same order of operations that you learned in grade school. Powers are executed before multiplication and division, which are executed before addition and subtraction. Parentheses, (), can also be used in Python to supersede the standard order of operations. For example consider:\n",
    "\\begin{equation}\n",
    "\\frac{3\\times 4}{2^2 + 4/2}\n",
    "\\end{equation}"
   ]
  },
  {
   "cell_type": "code",
   "execution_count": 14,
   "metadata": {},
   "outputs": [
    {
     "name": "stdout",
     "output_type": "stream",
     "text": [
      "2.0\n"
     ]
    }
   ],
   "source": [
    "x = (3*4)/(2**2 + 4/2)\n",
    "print(x)"
   ]
  },
  {
   "cell_type": "markdown",
   "metadata": {},
   "source": [
    "- Operator precedence rules are summarised [here in Sec. 6.16](https://docs.python.org/3/reference/expressions.html).\n",
    "- They are generally valid, not only for integer operations, i.e. they apply to floats as well and outputs of functions!\n",
    "- **Advice**: Use parentheses to avoid any confusion and ambiguity! You should know the rules nevertheless to be able to read other peoples programs!"
   ]
  },
  {
   "cell_type": "markdown",
   "metadata": {},
   "source": [
    "## A Note on Scientific Notation"
   ]
  },
  {
   "cell_type": "markdown",
   "metadata": {},
   "source": [
    "We write numbers in scientific notation as, e.g., \n",
    "\\begin{equation}\n",
    "    c = 3 \\times 10^8~{\\rm m~s^{-1}}\n",
    "\\end{equation}\n",
    "(in SI units).  You may well need the value of $c$ for your calculation.  You could write\n",
    "\n",
    "```c = 3*10**8```\n",
    "\n",
    "However, you should not do this.  Instead, please write\n",
    "\n",
    "{\\tt c = 3e8}\n",
    "\n",
    "These are interpreted very differently by the computer.  The first one takes the integer 10, raises it to the 8$^{\\rm th}$ power, and then multiplies this by 3 and assigns the value to {\\tt c}.  The second one assigns the value of $3 \\times 10^8$ directly to the variable {\\tt c}.  The second way is faster, easier to read, and less vulnerable to bugs, as you will see or have seen in your first section.   For a quick look at one reason why you should write scientific notation as, e.g., ```3e8```, try the following:\n"
   ]
  },
  {
   "cell_type": "markdown",
   "metadata": {},
   "source": [
    "However, you should not do this.  Instead, please write\n",
    "\n",
    "```c = 3e8```\n",
    "\n",
    "These are interpreted very differently by the computer.  The first one takes the integer 10, raises it to the 8$^{\\rm th}$ power, and then multiplies this by 3 and assigns the value to ```c```.  The second one assigns the value of $3 \\times 10^8$ directly to the variable ```c```.  The second way is faster, easier to read, and less vulnerable to bugs, as you will see or have seen in your first section.  \n",
    "For a quick look at one reason why you should write scientific notation as, e.g., ```3e8```, try the following:\n"
   ]
  },
  {
   "cell_type": "code",
   "execution_count": 15,
   "metadata": {},
   "outputs": [
    {
     "name": "stdout",
     "output_type": "stream",
     "text": [
      "300000000\n"
     ]
    },
    {
     "data": {
      "text/plain": [
       "int"
      ]
     },
     "execution_count": 15,
     "metadata": {},
     "output_type": "execute_result"
    }
   ],
   "source": [
    "c = 3*10**8\n",
    "print(c)\n",
    "type(c)"
   ]
  },
  {
   "cell_type": "code",
   "execution_count": 16,
   "metadata": {},
   "outputs": [
    {
     "name": "stdout",
     "output_type": "stream",
     "text": [
      "300000000.0\n"
     ]
    },
    {
     "data": {
      "text/plain": [
       "float"
      ]
     },
     "execution_count": 16,
     "metadata": {},
     "output_type": "execute_result"
    }
   ],
   "source": [
    "c = 3e8\n",
    "print(c)\n",
    "type(c)"
   ]
  },
  {
   "cell_type": "markdown",
   "metadata": {},
   "source": [
    "For a quick look at one reason why you should write scientific notation as, e.g., ```3e8```, try the following:"
   ]
  },
  {
   "cell_type": "code",
   "execution_count": 17,
   "metadata": {},
   "outputs": [
    {
     "name": "stdout",
     "output_type": "stream",
     "text": [
      "1.1111111111111111e-17\n",
      "3.333333333333333e+63\n"
     ]
    }
   ],
   "source": [
    "print(1/3e8**2)\n",
    "print(1/3*10**8**2)"
   ]
  },
  {
   "cell_type": "markdown",
   "metadata": {},
   "source": [
    "Besides the issue above with the order of operations, there is a largest number and a smallest number (i.e. closest to zero) that a computer can represent because of details of how it stores numbers in memory.  Any number larger than about  $10^{308}$ or ```1e308``` will be stored as infinity (and will generate a warning called overflow), while a number closer to zero than $10^{-308}$ or ```1e-308``` will be stored as zero (and generate an underflow warning).  If you get one of these warnings, it's because some part of your program gave a result that was beyond one of these numbers. "
   ]
  },
  {
   "cell_type": "code",
   "execution_count": null,
   "metadata": {},
   "outputs": [],
   "source": []
  }
 ],
 "metadata": {
  "kernelspec": {
   "display_name": "Python 3 (ipykernel)",
   "language": "python",
   "name": "python3"
  },
  "language_info": {
   "codemirror_mode": {
    "name": "ipython",
    "version": 3
   },
   "file_extension": ".py",
   "mimetype": "text/x-python",
   "name": "python",
   "nbconvert_exporter": "python",
   "pygments_lexer": "ipython3",
   "version": "3.11.5"
  }
 },
 "nbformat": 4,
 "nbformat_minor": 4
}
