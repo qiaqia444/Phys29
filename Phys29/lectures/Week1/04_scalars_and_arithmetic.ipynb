{
 "cells": [
  {
   "cell_type": "markdown",
   "metadata": {},
   "source": [
    "# Scalar Types in Core-Python"
   ]
  },
  {
   "cell_type": "markdown",
   "metadata": {},
   "source": [
    "Python has all data types that you already know from other programming languages. We concentrate here on numbers, especially Integrers and Floats.\n",
    "\n",
    "**Notes:**\n",
    "- In Python, variables do **not** need to be declared before using them!\n",
    "- Variables do not have any type but the *objects* they point to do!"
   ]
  },
  {
   "cell_type": "markdown",
   "metadata": {},
   "source": [
    "## Integer Type"
   ]
  },
  {
   "cell_type": "markdown",
   "metadata": {},
   "source": [
    "### Basic Integer operations"
   ]
  },
  {
   "cell_type": "code",
   "execution_count": null,
   "metadata": {},
   "outputs": [],
   "source": [
    "a = 5  # assigninig the integer value 5 to variable 'a'\n",
    "b = 2"
   ]
  },
  {
   "cell_type": "markdown",
   "metadata": {},
   "source": [
    "The following operations are obvious, aren't they?"
   ]
  },
  {
   "cell_type": "code",
   "execution_count": null,
   "metadata": {},
   "outputs": [],
   "source": [
    "print(a + b, a - b) # Integer addition and subtraction\n",
    "print(a * b)        # Integer multiplication\n",
    "print(a**b)         # 5 to the power of 2\n",
    "print(5**5460)      # 'arbitrarily accurate' integer arithmetic! "
   ]
  },
  {
   "cell_type": "markdown",
   "metadata": {},
   "source": [
    "What about the following. Is it what you would expect?"
   ]
  },
  {
   "cell_type": "code",
   "execution_count": null,
   "metadata": {},
   "outputs": [],
   "source": [
    "print(a / b)        # division"
   ]
  },
  {
   "cell_type": "markdown",
   "metadata": {},
   "source": [
    "The following cell shows operations with *integer division*. The operators `//` (integer division) and `%` (modulo) are b"
   ]
  },
  {
   "cell_type": "code",
   "execution_count": null,
   "metadata": {},
   "outputs": [],
   "source": [
    "a = 5\n",
    "b = 2\n",
    "print(a // b)   # Integer division\n",
    "print(a % b)    # modulo operation"
   ]
  },
  {
   "cell_type": "markdown",
   "metadata": {},
   "source": [
    "The operators `//` (integer division) and `%` (modulo) are defined as follows:\n",
    "$$\n",
    "a // b = \\left \\lfloor{\\frac ab}\\right \\rfloor\n",
    "$$ and\n",
    "$$\n",
    "a = (a // b) \\cdot b + a \\% b \\Rightarrow a \\% b = a - (a // b) \\cdot b.\n",
    "$$"
   ]
  },
  {
   "cell_type": "markdown",
   "metadata": {},
   "source": [
    "### Operator precedence"
   ]
  },
  {
   "cell_type": "code",
   "execution_count": null,
   "metadata": {},
   "outputs": [],
   "source": [
    "# 'operator precedence' rules!\n",
    "a = 20\n",
    "b = 10\n",
    "c = 2\n",
    "\n",
    "print(a // b // c) # does this evaluate to (a // b) // c or\n",
    "                   # a // (b // c)?\n",
    "print(a + b * c, (a + b) * c)\n",
    "print(a + b % c)\n",
    "print(3**2**3)      # (3**2)**3 = 729; 3**(2**3) = 6561"
   ]
  },
  {
   "cell_type": "markdown",
   "metadata": {},
   "source": [
    "- Operator precedence rules are summarised [here in Sec. 6.16](https://docs.python.org/3/reference/expressions.html).\n",
    "- They are generally valid, not only for integer operations!\n",
    "- **Advice**: Use parentheses to avoid any confusion and ambiguity! You should know the rules nevertheless to be able to read other peoples programs!"
   ]
  },
  {
   "cell_type": "markdown",
   "metadata": {},
   "source": [
    "### Simultaneous assignment of values to different variables"
   ]
  },
  {
   "cell_type": "code",
   "execution_count": null,
   "metadata": {},
   "outputs": [],
   "source": [
    "# In contrast to many other languages, Python allows to simultaneously\n",
    "# assign values to severtal valriables:\n",
    "\n",
    "x = 5        # usual assignment\n",
    "y, z = 1, 2  # simultaneous assignemnt to two variables\n",
    "a, b, c, d = 6, 7, 8, 9 # works with arbitrarily many!\n",
    "\n",
    "print(a, b, c, d, x, y, z)"
   ]
  },
  {
   "cell_type": "markdown",
   "metadata": {},
   "source": [
    "## Float Type"
   ]
  },
  {
   "cell_type": "code",
   "execution_count": null,
   "metadata": {},
   "outputs": [],
   "source": [
    "import numpy  # 'library or module' of mathematical functions\n",
    "              # and data structures.\n",
    "\n",
    "c = 3.14159 # seen already? \n",
    "d = .1      # equal to 0.1\n",
    "e = 1.2e2   # read: 1.2 times 10 to the power of 2\n",
    "\n",
    "print(c + d, c - d, d * e, c / d)\n",
    "print(numpy.cos(c))  # The cosine function is defined within the numpy module\n",
    "\n",
    "print(d + 3)  # in mixed calculations, integer values are 'promoted' to float"
   ]
  },
  {
   "cell_type": "markdown",
   "metadata": {},
   "source": [
    "- By default Python uses *Double Precision* floating point numbers.\n",
    "- The example ```print(c / d)``` reminds us that most floating-point numbers do not have an **exact** representation in a computer (numerics!). See also [Floating Point Arithmetic: Issues and Limitations](https://docs.python.org/3.5/tutorial/floatingpoint.html) and read especially [What every computer scientist should know about Floating-Point Arithmetic](http://www.validlab.com/goldberg/paper.pdf) if you have not yet done so!"
   ]
  },
  {
   "cell_type": "markdown",
   "metadata": {},
   "source": [
    "# Boolean Type\n",
    "Python has an *explicit* boolean type which can only take the values ```True``` and ```False```. It is used to test conditions in loops and ```if``` statements."
   ]
  },
  {
   "cell_type": "code",
   "execution_count": null,
   "metadata": {},
   "outputs": [],
   "source": [
    "f = False\n",
    "t = True\n",
    "a = 1\n",
    "\n",
    "print(f or t)   # logical 'or'\n",
    "print(f and t)  # logical 'and'\n",
    "print(a == 1)   # test for equality\n",
    "print(a == 2)\n",
    "print(a < 5, a >= 5)"
   ]
  },
  {
   "cell_type": "markdown",
   "metadata": {},
   "source": [
    "### Numerics again!\n",
    "**Never ever compare to float numbers for equality!!**"
   ]
  },
  {
   "cell_type": "code",
   "execution_count": null,
   "metadata": {},
   "outputs": [],
   "source": [
    "d = 1.0\n",
    "print(d == 1.0)\n",
    "print((d - 0.6) == 0.4)\n",
    "print((d - 6 * 0.1) == 0.4)"
   ]
  },
  {
   "cell_type": "markdown",
   "metadata": {},
   "source": [
    "If you need to compare floats, the Python `numpy`-module has a function for it:"
   ]
  },
  {
   "cell_type": "code",
   "execution_count": null,
   "metadata": {},
   "outputs": [],
   "source": [
    "import numpy as np\n",
    "\n",
    "d = 1.0\n",
    "print(np.isclose(d, 1.0))\n",
    "print(np.isclose((d - 0.6), 0.4))\n",
    "print(np.isclose((d - 6 * 0.1), 0.4))"
   ]
  },
  {
   "cell_type": "markdown",
   "metadata": {},
   "source": [
    "### Object type can be queried within a program"
   ]
  },
  {
   "cell_type": "markdown",
   "metadata": {},
   "source": [
    "As variables do not have a type in `Python`, it is often useful to query within a program what object a variable points to."
   ]
  },
  {
   "cell_type": "code",
   "execution_count": null,
   "metadata": {},
   "outputs": [],
   "source": [
    "a = 5\n",
    "b = 2.0\n",
    "print(type(a), type(b))\n",
    "                 # The type of the object a variable points to\n",
    "                 # can explicitely be queried!\n",
    "print(type(5))    "
   ]
  }
 ],
 "metadata": {
  "kernelspec": {
   "display_name": "Python 3 (ipykernel)",
   "language": "python",
   "name": "python3"
  },
  "language_info": {
   "codemirror_mode": {
    "name": "ipython",
    "version": 3
   },
   "file_extension": ".py",
   "mimetype": "text/x-python",
   "name": "python",
   "nbconvert_exporter": "python",
   "pygments_lexer": "ipython3",
   "version": "3.7.13"
  }
 },
 "nbformat": 4,
 "nbformat_minor": 4
}
