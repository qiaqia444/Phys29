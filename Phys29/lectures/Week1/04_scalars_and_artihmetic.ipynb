{
 "cells": [
  {
   "cell_type": "markdown",
   "metadata": {},
   "source": [
    "# Basic Control Structures in Python\n",
    "- Loops allow us to repeatedly execute parts of a program (most of the time with a variable parameter)\n",
    "- Conditional program execution allow us to execute parts of a program depending on some condition"
   ]
  },
  {
   "cell_type": "markdown",
   "metadata": {},
   "source": [
    "## The while-loop\n",
    "The basic syntax of the ```while```-loop in Python is:\n",
    "\n",
    "```\n",
    "while condition:\n",
    "    # execute commands until condition\n",
    "    # evaluates to False\n",
    "```"
   ]
  },
  {
   "cell_type": "code",
   "execution_count": null,
   "metadata": {},
   "outputs": [],
   "source": [
    "# print the squares of the numbers 1 to 10\n",
    "i = 1\n",
    "\n",
    "while (i <= 10):\n",
    "    print(i**2)\n",
    "    i = i + 1\n",
    "    \n",
    "print(\"The loop has finished\")    "
   ]
  },
  {
   "cell_type": "markdown",
   "metadata": {},
   "source": [
    "## Notes:\n",
    "- ```condition``` must be a boolean expression! The loop is executed while the condition evaluates to True. Usually, the condition contains one or more variables that are modified within the loop!\n",
    "- Note the colon at the end of the condition!\n",
    "- Python has **no** special characters indicating the start and the end of\n",
    "the ```while```-loop execution block. The block is merely indicated by identation!\n",
    "**This is the case for all Python control structures! Blocks are always indicated\n",
    "by code-identation**. All lines belonging to a block must be idented **by the same\n",
    "amount of spaces**. The usual ident is four spaces **(never use tabs)**."
   ]
  },
  {
   "cell_type": "markdown",
   "metadata": {},
   "source": [
    "## The if-statement\n",
    "The basic syntax of the ```ìf```-statement is:\n",
    "\n",
    "```\n",
    "if condition:\n",
    "    # execute commands if condition is True\n",
    "else:\n",
    "    # execute commands if condition is False\n",
    "```\n",
    "The ```else```-part of the construct is optional!\n",
    "\n",
    "**The same notes as for the ```while```-loop apply!**"
   ]
  },
  {
   "cell_type": "code",
   "execution_count": null,
   "metadata": {},
   "outputs": [],
   "source": [
    "x = 15\n",
    "\n",
    "if (x > 10) and (x < 20):\n",
    "    print(\"x is between 10 and 20!\")\n",
    "    \n",
    "if (x % 2 == 0):\n",
    "    print(\"x is even!\")\n",
    "else:\n",
    "    print(\"x is odd!\")\n",
    "    "
   ]
  }
 ],
 "metadata": {
  "kernelspec": {
   "display_name": "Python 3",
   "language": "python",
   "name": "python3"
  },
  "language_info": {
   "codemirror_mode": {
    "name": "ipython",
    "version": 3
   },
   "file_extension": ".py",
   "mimetype": "text/x-python",
   "name": "python",
   "nbconvert_exporter": "python",
   "pygments_lexer": "ipython3",
   "version": "3.7.7"
  }
 },
 "nbformat": 4,
 "nbformat_minor": 4
}
