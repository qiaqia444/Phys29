{
 "cells": [
  {
   "cell_type": "markdown",
   "id": "26eed9f37f3b075d",
   "metadata": {
    "collapsed": false,
    "jupyter": {
     "outputs_hidden": false
    }
   },
   "source": [
    "# How to Use AI Tools in this Course"
   ]
  },
  {
   "cell_type": "markdown",
   "id": "f442fe25",
   "metadata": {},
   "source": [
    "AI "
   ]
  },
  {
   "cell_type": "markdown",
   "id": "90a0d00b-3a60-4595-9e9a-3c568b2807b1",
   "metadata": {},
   "source": [
    "<ul>\n",
    "  <li style=\"font-size:26px;\">Data Analysis</li>\n",
    "    <ul>\n",
    "        <li style=\"font-size:20px;color:blue\">Manipulate and process data</li>\n",
    "        <li style=\"font-size:20px;color:blue\">Fit data or perform statistical analysis on it</li>\n",
    "        <li style=\"font-size:20px;color:blue\">Plot or visualize data</li>\n",
    "    </ul>\n",
    "  <li style=\"font-size:26px;\">Numerical Solutions</li>\n",
    "      <ul>\n",
    "        <li style=\"font-size:20px;color:blue\">Solve equations</li>\n",
    "        <li style=\"font-size:20px;color:blue\">integrate, differentiate, or solve (partial) differential equations</li>\n",
    "      </ul>\n",
    "  <li style=\"font-size:26px;\">Numerical Simulations</li>\n",
    "      <ul>\n",
    "        <li style=\"font-size:20px;color:blue\">Evolve a physical system forward in time by solving partial differential equations in a finite domain</li>\n",
    "      </ul>\n",
    "  <li style=\"font-size:26px;\">Data acquisition</li>\n",
    "  <li style=\"font-size:26px;\">Equipment control</li>\n",
    "</ul>"
   ]
  },
  {
   "cell_type": "markdown",
   "id": "76ea05de-1224-443b-a38d-c5b812ec5102",
   "metadata": {},
   "source": [
    "# Examples of Programs\n",
    "They are written in pseudo-English with a text editor "
   ]
  },
  {
   "cell_type": "markdown",
   "id": "9eddf7f1-2479-44c8-bf98-66e77bdcdfc1",
   "metadata": {},
   "source": [
    "<img src=\"figures/code_examples.png\" alt=\"code examples\" width=\"1200\">"
   ]
  },
  {
   "cell_type": "markdown",
   "id": "6d54a290-3439-4fc4-9814-01064fd9660b",
   "metadata": {},
   "source": [
    "# Interpreted versus Compiled Programming Languages"
   ]
  },
  {
   "cell_type": "markdown",
   "id": "5c17169b-dad5-4dbb-846c-e691a80e0398",
   "metadata": {},
   "source": [
    "<ul>\n",
    "  <li style=\"font-size:26px;\">Interpreted Languages: run a program (text file) by \"invoking it\" from a text file or the command line (or through a GUI)</li>\n",
    "    <ul>\n",
    "        <li style=\"font-size:20px;color:blue\">Text input is \"read\" by an interpreter which (effectively) turns it into machine executable code on the fly</li>\n",
    "        <li style=\"font-size:20px;color:red\">Examples: Python, bash (i.e. the shell), perl, tcl, PHP, Ruby, JavaScript, IDL</li>\n",
    "    </ul>\n",
    "  <li style=\"font-size:26px;\">Compiled languages</li>\n",
    "    <ul>\n",
    "        <li style=\"font-size:20px;color:blue\">Text input is converted into machine code with a <b>compiler</b>, compiled blocks are strung together with a <b>linker</b>, resulting in an <b>executable</b> (machine code). Then you run the executable</li>\n",
    "        <li style=\"font-size:20px;color:red\">Examples: C, C++, Fortran, Cobol, Java</li>\n",
    "    </ul>\n",
    "</ul>\n",
    "<img src=\"figures/compiled_code.png\" alt=\"compiled code\" width=\"1000\">"
   ]
  },
  {
   "cell_type": "markdown",
   "id": "ba03368b-f6ab-4a4a-96ac-42bc6cc7f516",
   "metadata": {},
   "source": [
    "# Python"
   ]
  },
  {
   "cell_type": "markdown",
   "id": "948c466a-e34f-487e-9032-9fe434928a24",
   "metadata": {},
   "source": [
    "<ul>\n",
    "  <li style=\"font-size:26px;\">Python is (effectively) an interpreted language</li>\n",
    "  <li style=\"font-size:26px;\">As a result, a python program is in general <b>much slower</b> than a compiled C or C++ program</li>\n",
    "  <li style=\"font-size:26px;\">Than why use it?</li>\n",
    "    <ul>\n",
    "        <li style=\"font-size:22px;color:blue\">For many usage cases convenience trumps speed.</li>\n",
    "        <li style=\"font-size:22px;color:blue\">There are \"packages\" that are effectively pre-compiled C or C++ code that run specific functions just as fast \"under the hood\"</li>\n",
    "        <li style=\"font-size:22px;color:blue\">It has a nice modern interface</li>\n",
    "        <li style=\"font-size:22px;color:blue\">It is very popular</li>\n",
    "        <ul>\n",
    "            <li style=\"font-size:22px;color:green\">You can find many examples and help on the internet, or by asking your friendly neighborhood AI chat-bot</li>\n",
    "        </ul>\n",
    "        <li style=\"font-size:22px;color:blue\">There are many existing Python code packages that provide libraries of powerful code</li>\n",
    "      </ul>\n",
    "</ul>"
   ]
  },
  {
   "cell_type": "code",
   "execution_count": null,
   "id": "4934ae2f-5b77-4a8d-8c06-3db6c24f764c",
   "metadata": {},
   "outputs": [],
   "source": []
  }
 ],
 "metadata": {
  "kernelspec": {
   "display_name": "Python 3 (ipykernel)",
   "language": "python",
   "name": "python3"
  },
  "language_info": {
   "codemirror_mode": {
    "name": "ipython",
    "version": 3
   },
   "file_extension": ".py",
   "mimetype": "text/x-python",
   "name": "python",
   "nbconvert_exporter": "python",
   "pygments_lexer": "ipython3",
   "version": "3.11.5"
  }
 },
 "nbformat": 4,
 "nbformat_minor": 5
}
