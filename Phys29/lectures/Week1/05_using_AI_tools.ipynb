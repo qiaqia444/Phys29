{
 "cells": [
  {
   "cell_type": "markdown",
   "id": "26eed9f37f3b075d",
   "metadata": {
    "collapsed": false,
    "jupyter": {
     "outputs_hidden": false
    }
   },
   "source": [
    "# Example of How to use AI Tools in this Course\n",
    "Over the past year, AI code generation and explanation tools have become more widespread with the release of products like GitHub Copilot (free for students?) and ChatGPT (currently free for the public). These AI tools are powered by so called Large Language Models (LLMs), which are enormous 'neural networks' trained on Terabytes of textual data or code scraped from the public internet. Their architecture enables them to 'learn' patterns from data and generate text and/or code that a human might plausibly write. Since code is a highly structured form of psuedo-English, these AI tools are very good at generating code for simple (and not so simple) tasks that are syntactically and (and also often) semantically correct."
   ]
  },
  {
   "cell_type": "markdown",
   "id": "64ddad70",
   "metadata": {},
   "source": [
    "## Example AI Problem: Simple numerical Integration with ChatGPT\n",
    "In this example, we will use the AI tool ChatGPT to generate code for a simple numerical integration problem. The problem is to compute the definite integral of the function $f(x)=sin(x)$ from $x=0$ to $x=2\\pi$\n",
    "\\begin{equation}\n",
    "{\\rm answer} = \\int_0^{2\\pi} sin(x) dx\n",
    "\\end{equation}\n",
    "\n",
    "To solve this problem we will navigate to [ChatGPT](https://chat.openai.com). Note this is the free version of ChatGPT available to the public, which is ChatGPT-3.5. We prompt it with the following question: \n",
    "\n",
    "<span style=\"color:blue; font-family: 'Courier New'; font-size:20px;\">Can you please generate code to numerically integrate the function sin(x) from zero to 2*pi?</span>"
   ]
  },
  {
   "cell_type": "code",
   "execution_count": 1,
   "id": "cf36a64b",
   "metadata": {},
   "outputs": [
    {
     "name": "stdout",
     "output_type": "stream",
     "text": [
      "Numerical integration result: 2.414967449254008e-16\n"
     ]
    }
   ],
   "source": [
    "import numpy as np\n",
    "\n",
    "def func(x):\n",
    "    return np.sin(x)\n",
    "\n",
    "def trapezoidal_rule(func, a, b, n):\n",
    "    h = (b - a) / n\n",
    "    integral = (func(a) + func(b)) / 2.0\n",
    "\n",
    "    for i in range(1, n):\n",
    "        integral += func(a + i * h)\n",
    "\n",
    "    integral *= h\n",
    "    return integral\n",
    "\n",
    "# Integration bounds\n",
    "a = 0.0\n",
    "b = 2 * np.pi\n",
    "\n",
    "# Number of intervals\n",
    "n = 1000  # You can adjust the number of intervals for more accuracy\n",
    "\n",
    "result = trapezoidal_rule(func, a, b, n)\n",
    "print(f\"Numerical integration result: {result}\")"
   ]
  },
  {
   "cell_type": "markdown",
   "id": "a0703162",
   "metadata": {},
   "source": [
    "Note that code that is suggested by ChatGPT might be different if we slightly modify the prompt. For example, if we instead ask:\n",
    "\n",
    "<span style=\"color:blue; font-family: 'Courier New'; font-size:20px;\">Can you please generate code to numerically integrate the function sin(x) from zero to 2*pi</span>  <span style=\"color:red; font-family: 'Courier New'; font-size:20px;\">in Python?</span>"
   ]
  },
  {
   "cell_type": "code",
   "execution_count": 2,
   "id": "880d6753",
   "metadata": {},
   "outputs": [
    {
     "name": "stdout",
     "output_type": "stream",
     "text": [
      "Numerical integration result: 2.0329956258200796e-16\n",
      "Error estimate: 4.3998892617845996e-14\n"
     ]
    }
   ],
   "source": [
    "from scipy.integrate import quad\n",
    "import numpy as np\n",
    "\n",
    "# Define the function to be integrated\n",
    "def integrand(x):\n",
    "    return np.sin(x)\n",
    "\n",
    "# Set the integration limits\n",
    "lower_limit = 0\n",
    "upper_limit = 2 * np.pi\n",
    "\n",
    "# Perform the numerical integration\n",
    "result, error = quad(integrand, lower_limit, upper_limit)\n",
    "\n",
    "# Print the result\n",
    "print(\"Numerical integration result:\", result)\n",
    "print(\"Error estimate:\", error)"
   ]
  },
  {
   "cell_type": "markdown",
   "id": "40e8d97b",
   "metadata": {},
   "source": [
    "\n",
    "It also turns out that you can get different results by simply typing in the **same** query at different times. This is our first important lesson about AI tools: they are not **deterministic**. They are stochastic, meaning that they can give different results for the same input. Furthermore, subtle differences in how you write your query can also result in not so subtle differences in the retrurned results. as this example shows.  This actually has to do with the generation of pseudo-random numbers in the AI model, which is a topic we will come to later in the course. "
   ]
  },
  {
   "cell_type": "markdown",
   "id": "9200b8b4",
   "metadata": {},
   "source": [
    "Why is the value of this integral not exactly equal to zero? You will explore this in the homework. Perhaps the chatbot knows the answer (or perhaps not?). "
   ]
  },
  {
   "cell_type": "markdown",
   "id": "d8f9adac",
   "metadata": {},
   "source": [
    "## Example AI Problem: Chicken McNuggets \n",
    "\n",
    "<img src=\"figures/nuggets.png\" alt=\"Chicken McNuggets\" width=\"400\">\n",
    "\n",
    "McDonalds sells its Chicken McNuggets in packages of 6, 9 and 20 pieces. A customer would like to buy a number of $N$ nuggets. Write a function that determines whether this is possible, and that returns all possible combinations of package sizes that would result in $N$ nuggets. The input to the function should be the number of nuggets $N$. The function should return two outputs: a boolean (True or False) variable that is ```True``` if the number $N$ can be purchased within the package constraints, and ```False``` otherwise, and all the possible combinations of package sizes that would result in $N$ nuggets. The program should also print the results to the screen. If the number $N$ cannot be purchased within the package size constraints, the program should print a message to the screen that says \"Sorry, that number of $N$ nuggets cannot be purchased.\" Otherwise, the program should print a message to the screen that says \"You can purchase $N$ nuggets with the following combinations of packages:\" followed by the list of possible combinations of packages. "
   ]
  },
  {
   "cell_type": "markdown",
   "id": "19c3cfa8",
   "metadata": {},
   "source": [
    "As per the AI tools guidelines for this course [here](https://github.com/enigma-igm/Phys29/blob/main/using_AI_tools.md) we add the following requirements to the chatGPT query **\"Please do not put any comments of any kind in the code or provide any explanations. I want to understand, comment, and document this code myself.\"**"
   ]
  },
  {
   "cell_type": "markdown",
   "id": "665a7e55",
   "metadata": {},
   "source": [
    "The first time I ran this query, I got the following code from ChatGPT:"
   ]
  },
  {
   "cell_type": "code",
   "execution_count": 3,
   "id": "02d851ff",
   "metadata": {},
   "outputs": [
    {
     "name": "stdout",
     "output_type": "stream",
     "text": [
      "You can purchase 42 nuggets with the following combinations of packages:\n",
      "  1x6 + 4x9 + 0x20\n",
      "  4x6 + 2x9 + 0x20\n",
      "  7x6 + 0x9 + 0x20\n"
     ]
    }
   ],
   "source": [
    "from itertools import product\n",
    "\n",
    "def find_nugget_combinations(N):\n",
    "    package_sizes = [6, 9, 20]\n",
    "    combinations = []\n",
    "\n",
    "    for combo in product(range((N // min(package_sizes)) + 1), repeat=len(package_sizes)):\n",
    "        total_nuggets = sum(c * p for c, p in zip(combo, package_sizes))\n",
    "        if total_nuggets == N:\n",
    "            combinations.append(combo)\n",
    "\n",
    "    if combinations:\n",
    "        print(f\"You can purchase {N} nuggets with the following combinations of packages:\")\n",
    "        for combo in combinations:\n",
    "            print(f\"  {combo[0]}x6 + {combo[1]}x9 + {combo[2]}x20\")\n",
    "        return True, combinations\n",
    "    else:\n",
    "        print(f\"Sorry, that number of {N} nuggets cannot be purchased.\")\n",
    "        return False, []\n",
    "\n",
    "# Example usage:\n",
    "N = 42\n",
    "result, combinations = find_nugget_combinations(N)\n"
   ]
  },
  {
   "cell_type": "markdown",
   "id": "dbe50d89",
   "metadata": {},
   "source": [
    "While correct, it is using a rather complicated construct, ```itertools.product```, to generate the nested for loop that is needed to generate all possible combinations of packages. This is actually confusing even for me (was not familiar with this function) and makes the solution harder to understand and read than a simple nested loop. Since I would prefer to use a simpler construct, I asked ChatGPT to try again using nested loops. \"Can you solve it with a nested loop instead of with the itertools.product construct\". This yelded the following code from ChatGPT:"
   ]
  },
  {
   "cell_type": "code",
   "execution_count": 4,
   "id": "434f3814",
   "metadata": {},
   "outputs": [
    {
     "name": "stdout",
     "output_type": "stream",
     "text": [
      "You can purchase 42 nuggets with the following combinations of packages:\n",
      "  1x6 + 4x9 + 0x20\n",
      "  4x6 + 2x9 + 0x20\n",
      "  7x6 + 0x9 + 0x20\n"
     ]
    }
   ],
   "source": [
    "def find_nugget_combinations(N):\n",
    "    package_sizes = [6, 9, 20]\n",
    "    combinations = []\n",
    "\n",
    "    min_quantity = N // min(package_sizes) + 1\n",
    "\n",
    "    for qty6 in range(min_quantity):\n",
    "        for qty9 in range(min_quantity):\n",
    "            for qty20 in range(min_quantity):\n",
    "                total_nuggets = qty6 * 6 + qty9 * 9 + qty20 * 20\n",
    "                if total_nuggets == N:\n",
    "                    combinations.append((qty6, qty9, qty20))\n",
    "\n",
    "    if combinations:\n",
    "        print(f\"You can purchase {N} nuggets with the following combinations of packages:\")\n",
    "        for combo in combinations:\n",
    "            print(f\"  {combo[0]}x6 + {combo[1]}x9 + {combo[2]}x20\")\n",
    "        return True, combinations\n",
    "    else:\n",
    "        print(f\"Sorry, that number of {N} nuggets cannot be purchased.\")\n",
    "        return False, []\n",
    "\n",
    "# Example usage:\n",
    "N = 42\n",
    "result, combinations = find_nugget_combinations(N)"
   ]
  },
  {
   "cell_type": "markdown",
   "id": "d9df3ca8",
   "metadata": {},
   "source": [
    "# My solution\n",
    "Below is my solution to the problem. Note that I have added the inline comments to the code to explain what it is doing. "
   ]
  },
  {
   "cell_type": "code",
   "execution_count": 5,
   "id": "b4f19dde",
   "metadata": {},
   "outputs": [
    {
     "name": "stdout",
     "output_type": "stream",
     "text": [
      "You can purchase 42 nuggets with the following combinations of packages:\n",
      "  1x6 + 4x9 + 0x20\n",
      "  4x6 + 2x9 + 0x20\n",
      "  7x6 + 0x9 + 0x20\n"
     ]
    }
   ],
   "source": [
    "def my_find_nugget_combinations(N):\n",
    "    \"\"\"\n",
    "    Function to determine if a given number of nuggests can be purchased and if so return the different possible combinations of packages.\n",
    "\n",
    "    Parameters\n",
    "    ----------\n",
    "    N : int\n",
    "        Number of nuggets to purchase.\n",
    "\n",
    "    Returns\n",
    "    -------\n",
    "    result : bool\n",
    "        True if the number of nuggets can be purchased, False otherwise.\n",
    "    combinations : list of tuples\n",
    "        List of tuples containing the different combinations of packages that can be purchased to obtain the desired number of nuggets. The \n",
    "        tuples have length 3 and contain the number of packages of each size in the order (qty6, qty9, qty20).\n",
    "    \"\"\"\n",
    "    package_sizes = [6, 9, 20] # McDonald's package sizes\n",
    "    combinations = [] # Python list to store the different combinations of packages\n",
    "\n",
    "    # These are the maximum number of packages of each size that determine the range of the for loops below. In other words, if these max values of packages were exceeded, \n",
    "    # the total number of nuggets would be greater than N.\n",
    "    max_6  = N // package_sizes[0] + 1  \n",
    "    max_9  = N // package_sizes[1] + 1\n",
    "    max_20 = N // package_sizes[2] + 1\n",
    "    #  The // operator is floor division, which returns the largest integer that is less than or equal to the result. \n",
    "    # The +1 is added becuase the range function uses zero based indexing, i.e. range(5) iterates over [0, 1, 2, 3, 4]\n",
    "\n",
    "    # Brute force approach to find all combinations of packages that add up to N. Perfor a nested loop over all possible combinations of packages that would not exceed N. \n",
    "    # qty6, qty9, and qty20 are the number of packages of each size.\n",
    "    for qty6 in range(max_6):\n",
    "        for qty9 in range(max_9):\n",
    "            for qty20 in range(max_20):\n",
    "                total_nuggets = qty6 * 6 + qty9 * 9 + qty20 * 20\n",
    "                if total_nuggets == N:\n",
    "                    # If this combination yields N nuggets, append it as valid result. \n",
    "                    combinations.append((qty6, qty9, qty20))\n",
    "\n",
    "    # Conditional statement to determine output to the screen. \n",
    "    if combinations:\n",
    "        # If combinations is an empty list (see initialization above to []) it evaluates to False, otherwise it evaluates to True.\n",
    "        print(f\"You can purchase {N} nuggets with the following combinations of packages:\")\n",
    "        for combo in combinations:\n",
    "            print(f\"  {combo[0]}x6 + {combo[1]}x9 + {combo[2]}x20\")\n",
    "        return True, combinations\n",
    "    else:\n",
    "        print(f\"Sorry, that number of {N} nuggets cannot be purchased.\")\n",
    "        return False, []\n",
    "\n",
    "# Example usage:\n",
    "N = 42\n",
    "result, combinations = my_find_nugget_combinations(N)\n",
    "# Problem solved with the assistance of ChatGPT-3.5"
   ]
  },
  {
   "cell_type": "markdown",
   "id": "8a1fd773",
   "metadata": {},
   "source": [
    "Note that besides adding the comments and documentation, my solution differs from ChatGPTs. It was unnecessarily executing each loop over ```min_quantity = N // min(package_sizes) + 1```, which was neither necessary nor efficient.  Actually, I got different behavior when I ran the query on different occassions, again highlighting the stochastic nature of AI tools.  I also changed the names of the variables to make their meaning more clear. Our code seems to work, but it would be good to test it with a more complicated example. "
   ]
  },
  {
   "cell_type": "code",
   "execution_count": 6,
   "id": "6627f91a",
   "metadata": {},
   "outputs": [
    {
     "name": "stdout",
     "output_type": "stream",
     "text": [
      "You can purchase 60 nuggets with the following combinations of packages:\n",
      "  0x6 + 0x9 + 3x20\n",
      "  1x6 + 6x9 + 0x20\n",
      "  4x6 + 4x9 + 0x20\n",
      "  7x6 + 2x9 + 0x20\n",
      "  10x6 + 0x9 + 0x20\n"
     ]
    }
   ],
   "source": [
    "# Subject the code to more tests\n",
    "N = 60\n",
    "result_60, combinations_60 = my_find_nugget_combinations(N)"
   ]
  },
  {
   "cell_type": "code",
   "execution_count": 7,
   "id": "c5b5775e",
   "metadata": {},
   "outputs": [
    {
     "name": "stdout",
     "output_type": "stream",
     "text": [
      "Sorry, that number of 7 nuggets cannot be purchased.\n"
     ]
    }
   ],
   "source": [
    "N = 7\n",
    "result_7, combinations_7 = my_find_nugget_combinations(N)"
   ]
  },
  {
   "cell_type": "code",
   "execution_count": null,
   "id": "92e240a4",
   "metadata": {},
   "outputs": [],
   "source": []
  }
 ],
 "metadata": {
  "kernelspec": {
   "display_name": "Python 3 (ipykernel)",
   "language": "python",
   "name": "python3"
  },
  "language_info": {
   "codemirror_mode": {
    "name": "ipython",
    "version": 3
   },
   "file_extension": ".py",
   "mimetype": "text/x-python",
   "name": "python",
   "nbconvert_exporter": "python",
   "pygments_lexer": "ipython3",
   "version": "3.11.5"
  }
 },
 "nbformat": 4,
 "nbformat_minor": 5
}
