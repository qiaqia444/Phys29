{
 "cells": [
  {
   "cell_type": "markdown",
   "id": "26eed9f37f3b075d",
   "metadata": {
    "collapsed": false,
    "jupyter": {
     "outputs_hidden": false
    }
   },
   "source": [
    "# Example of How to use AI Tools in this Course\n",
    "Over the past year, AI code generation and explanation tools have become more widespread with the release of products like GitHub Copilot (free for students?) and ChatGPT (currently free for the public). These AI tools are powered by so called Large Languar Models (LLMs), which are enormous 'neural networks' trained on Terabytes of textual data or code scraped from the public internet. Their architecture enables them to 'learn' patterns from data and generate text and/or code that a human might plausibly write. Since code is a highly structured form of psuedo-English, these AI tools are very good at generating code for simple (and not so simple) tasks that are syntactically and (and also often) semantically correct."
   ]
  },
  {
   "cell_type": "markdown",
   "id": "f442fe25",
   "metadata": {},
   "source": [
    "## Example AI Problem: Simple numerical Integration with ChatGPT\n",
    "In this example, we will use the AI tool ChatGPT to generate code for a simple numerical integration problem. The problem is to compute the definite integral of the function $f(x)=sin(x)$ from $x=0$ to $x=2\\pi$\n",
    "\\begin{equation}\n",
    "{\\rm answer} = \\int_0^{2\\pi} sin(x) dx\n",
    "\\end{equation}\n",
    "\n",
    "To solve this problem we will navigate to [ChatGPT](https://chat.openai.com). Note this is the free version of ChatGPT available to the public, which is ChatGPT-3.5. We prompt it with the following question: \n",
    "\n",
    "<span style=\"color:blue; font-family: 'Courier New'; font-size:20px;\">Can you please generate code to numerically integrate the function sin(x) from zero to 2*pi?</span>"
   ]
  },
  {
   "cell_type": "code",
   "execution_count": 1,
   "id": "f55b6e4c",
   "metadata": {},
   "outputs": [
    {
     "name": "stdout",
     "output_type": "stream",
     "text": [
      "Numerical integration result: 2.414967449254008e-16\n"
     ]
    }
   ],
   "source": [
    "import numpy as np\n",
    "\n",
    "def func(x):\n",
    "    return np.sin(x)\n",
    "\n",
    "def trapezoidal_rule(func, a, b, n):\n",
    "    h = (b - a) / n\n",
    "    integral = (func(a) + func(b)) / 2.0\n",
    "\n",
    "    for i in range(1, n):\n",
    "        integral += func(a + i * h)\n",
    "\n",
    "    integral *= h\n",
    "    return integral\n",
    "\n",
    "# Integration bounds\n",
    "a = 0.0\n",
    "b = 2 * np.pi\n",
    "\n",
    "# Number of intervals\n",
    "n = 1000  # You can adjust the number of intervals for more accuracy\n",
    "\n",
    "result = trapezoidal_rule(func, a, b, n)\n",
    "print(f\"Numerical integration result: {result}\")\n"
   ]
  },
  {
   "cell_type": "markdown",
   "id": "e7ad6c93",
   "metadata": {},
   "source": [
    "Note that code that is suggested by ChatGPT is different if we slightly modify the prompt. For example, if we instead ask:\n",
    "\n",
    "```Can you please generate code to numerically integrate the function sin(x) from zero to 2*pi? *in python*?```"
   ]
  },
  {
   "cell_type": "markdown",
   "id": "d9df3ca8",
   "metadata": {},
   "source": []
  }
 ],
 "metadata": {
  "kernelspec": {
   "display_name": "Python 3 (ipykernel)",
   "language": "python",
   "name": "python3"
  },
  "language_info": {
   "codemirror_mode": {
    "name": "ipython",
    "version": 3
   },
   "file_extension": ".py",
   "mimetype": "text/x-python",
   "name": "python",
   "nbconvert_exporter": "python",
   "pygments_lexer": "ipython3",
   "version": "3.11.5"
  }
 },
 "nbformat": 4,
 "nbformat_minor": 5
}
