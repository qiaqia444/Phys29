{
 "cells": [
  {
   "cell_type": "markdown",
   "source": [
    "### Three ways to run Python code \n",
    "\n",
    "There are different ways to run Python code, they all have different usages. In this section, we will quickly introduce the three different ways to get you started. \n",
    "\n",
    "**Using Python shell or Ipython shell** \n",
    "\n",
    "The easiest way to run Python code is through the Python shell or Ipython Shell (which stands for Interactive Python). The Ipython shell is richer than Python shell, such as Tab autocompletion, color-highlighted error messages, basic UNIX shell integration and so on. Since we just installed Ipython, let us try to run the \"hello world\" example with it. The way we launch either Python or Ipython shell is by typing it in a terminal (see the figure below). Then we can run Python command by typing it into the shell, by pressing `Enter`, we immediately see the results from the command. For example, we can print out \"Hello World\" by typing `print(\"Hello World\")`:\n",
    "\n",
    "![Hello_world](images/01.01.6-ipython_example.png \"Run Hello World in Ipython shell by typing the command, print is a function that we will learn later to print out anything within the parentheses.\")\n",
    "\n",
    "In the above command, the *print()* is a function in Python, and \"Hello World\" is a string data type that we will introduce them later in the book. \n",
    "\n",
    "**Run Python script/file from command line**\n",
    "\n",
    "The second way to run Python code is to put all the commands into a file and save it as a file with extension `.py` (the extension of the file could be anything, but by convention, it is usually `.py`). For example, use your favorite text editor (Showing here is the [Visual Studio Code](https://code.visualstudio.com)), put the command in a file called *hello_world.py*:\n",
    "\n",
    "![Python_file](images/01.01.7-python_file_example.png \"A Python script file example using Visual Studio Code. You type in the commands you want to execute and save the file with a proper name.\")\n",
    "\n",
    "Then just run it from terminal:\n",
    "\n",
    "![Run_python](images/01.01.8-run_python_file.png \"To run the Python script from command line, we can type python hello_world.py. This line tells Python that we will execute the commands that saved in this file.\")\n",
    "\n",
    "\n",
    "**Using Jupyter Notebook**\n",
    "\n",
    "The third way to run Python is through **Jupyter notebook**. It is a very powerful browser-based Python environment, we will talk more about it in details later in this chapter. Here we just quickly see how we could run the code from a Jupyter notebook. Run the `jupyter notebook` in the bash command line:\n",
    "\n",
    "```bash\n",
    "jupyter notebook\n",
    "```\n",
    "\n",
    "Then you will see a local web page will pop up, from the upper right button to create a new Python3 notebook:\n",
    "\n",
    "![Launching_jupyter](images/01.01.9-launching_jupyter.png \"To Launch a Jupyter notebook server, type jupyter notebook in the command line, which will open a browser page as shown here. Click new button on the top write, and choose Python3 will create a Python notebook to run Python code.\")\n",
    "\n",
    "Running code in Jupyter notebook is easy, you type your code in the cell, and press `shift + enter` to run the cell, the results will be shown below the code. \n",
    "\n",
    "![Notebook_example](images/01.01.10-run_code_jupyter.png \"Run the Hello World example within Jupyter notebook. Type the command in the code cell (the grey boxes) and press shift + enter to execute it.\")"
   ],
   "metadata": {
    "collapsed": false
   },
   "id": "35f29df0cea1fc1e"
  },
  {
   "cell_type": "code",
   "execution_count": null,
   "outputs": [],
   "source": [],
   "metadata": {
    "collapsed": false
   },
   "id": "baec8486fc29ef13"
  }
 ],
 "metadata": {
  "kernelspec": {
   "display_name": "Python 3",
   "language": "python",
   "name": "python3"
  },
  "language_info": {
   "codemirror_mode": {
    "name": "ipython",
    "version": 2
   },
   "file_extension": ".py",
   "mimetype": "text/x-python",
   "name": "python",
   "nbconvert_exporter": "python",
   "pygments_lexer": "ipython2",
   "version": "2.7.6"
  }
 },
 "nbformat": 4,
 "nbformat_minor": 5
}
