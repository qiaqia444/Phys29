{
 "cells": [
  {
   "cell_type": "markdown",
   "metadata": {},
   "source": [
    "# Scalar Types in Core-Python"
   ]
  },
  {
   "cell_type": "markdown",
   "metadata": {},
   "source": [
    "Programming languages like Python have specific data types that reflect how information is stored in the computer memory.  We concentrate here on numbers, especially Integrers and Floats, and also Boolens (True of False). The table below summarizes the built-in simple scalar data types offered by Python, some of which we will discuss. "
   ]
  },
  {
   "cell_type": "markdown",
   "metadata": {},
   "source": [
    "### Python Scalar Types\n",
    "\n",
    "| Type        | Example        | Description                                                  |\n",
    "|-------------|----------------|--------------------------------------------------------------|\n",
    "| ``int``     | ``x = 1``      | integers (i.e., whole numbers)                               |\n",
    "| ``float``   | ``x = 1.0``    | floating-point numbers (i.e., real numbers)                  |\n",
    "| ``complex`` | ``x = 1 + 2j`` | Complex numbers (i.e., numbers with real and imaginary part) |\n",
    "| ``bool``    | ``x = True``   | Boolean: True/False values                                   |\n",
    "| ``str``     | ``x = 'abc'``  | String: characters or text                                   |\n",
    "| ``NoneType``| ``x = None``   | Special object indicating nulls                              |                   "
   ]
  },
  {
   "cell_type": "markdown",
   "metadata": {},
   "source": [
    "## Integer Type"
   ]
  },
  {
   "cell_type": "markdown",
   "metadata": {},
   "source": [
    "### Basic Integer operations"
   ]
  },
  {
   "cell_type": "code",
   "execution_count": null,
   "metadata": {},
   "outputs": [],
   "source": [
    "a = 5  # assigning the integer value 5 to variable 'a'\n",
    "b = 2\n",
    "print(a,b)"
   ]
  },
  {
   "cell_type": "markdown",
   "metadata": {},
   "source": [
    "Note that above we added comments to our code cell using the # symbol"
   ]
  },
  {
   "cell_type": "markdown",
   "metadata": {},
   "source": [
    "We can verify that these variables have integer data types by using the type function native to python"
   ]
  },
  {
   "cell_type": "code",
   "execution_count": null,
   "metadata": {},
   "outputs": [],
   "source": [
    "type(a)"
   ]
  },
  {
   "cell_type": "markdown",
   "metadata": {},
   "source": [
    "The following operations are obvious, aren't they?"
   ]
  },
  {
   "cell_type": "code",
   "execution_count": null,
   "metadata": {},
   "outputs": [],
   "source": [
    "print(a + b, a - b) # Integer addition and subtraction\n",
    "print(a * b)        # Integer multiplication\n",
    "print(a**b)         # 5 to the power of 2\n",
    "print(5**5460)      # 'arbitrarily accurate' integer arithmetic! "
   ]
  },
  {
   "cell_type": "markdown",
   "metadata": {},
   "source": [
    "What about the following. Is it what you would expect?"
   ]
  },
  {
   "cell_type": "code",
   "execution_count": null,
   "metadata": {},
   "outputs": [],
   "source": [
    "x = a / b        # x is a new variable which is a/b, i.e. division\n",
    "print(x)"
   ]
  },
  {
   "cell_type": "markdown",
   "metadata": {},
   "source": [
    "Note that the type of x has changed though, it is no longer an integer but rather it has been promoted to a float, which is short for a floating point number. "
   ]
  },
  {
   "cell_type": "code",
   "execution_count": null,
   "metadata": {},
   "outputs": [],
   "source": [
    "type(x)"
   ]
  },
  {
   "cell_type": "markdown",
   "metadata": {},
   "source": [
    "### Simultaneous assignment of values to different variables"
   ]
  },
  {
   "cell_type": "code",
   "execution_count": null,
   "metadata": {},
   "outputs": [],
   "source": [
    "# In contrast to many other languages, Python allows to simultaneously\n",
    "# assign values to severtal valriables:\n",
    "\n",
    "x = 5        # usual assignment\n",
    "y, z = 1, 2  # simultaneous assignemnt to two variables\n",
    "a, b, c, d = 6, 7, 8, 9 # works with arbitrarily many!\n",
    "\n",
    "print(a, b, c, d, x, y, z)"
   ]
  },
  {
   "cell_type": "markdown",
   "metadata": {},
   "source": [
    "## Float Type"
   ]
  },
  {
   "cell_type": "code",
   "execution_count": null,
   "metadata": {},
   "outputs": [],
   "source": [
    "pi = 3.14159 # For full precision use numpy.pi\n",
    "d = .1       # equal to 0.1\n",
    "e = 1.2e2    # read: 1.2 times 10 to the power of 2\n",
    "\n",
    "print(pi + d, pi - d, d * e, pi / d)\n",
    "print(d + 3)  # in mixed calculations, integer values are 'promoted' to float"
   ]
  },
  {
   "cell_type": "markdown",
   "metadata": {},
   "source": [
    "## Boolean Type\n",
    "Python has an *explicit* boolean type which can only take the values ```True``` and ```False```. It is used to test conditions in loops and conditional ```if``` statements and store information that can only be True or False. We could of course just use ```1``` to represent ```True``` and ```0``` to represent ```False```, however this would require more computer memory to store the information. "
   ]
  },
  {
   "cell_type": "code",
   "execution_count": null,
   "metadata": {},
   "outputs": [],
   "source": [
    "f = False\n",
    "t = True\n",
    "type(f)"
   ]
  },
  {
   "cell_type": "code",
   "execution_count": null,
   "metadata": {},
   "outputs": [],
   "source": [
    "print(f or t)   # logical 'or' operator\n",
    "print(f and t)  # logical 'and' operator"
   ]
  },
  {
   "cell_type": "code",
   "execution_count": null,
   "metadata": {},
   "outputs": [],
   "source": [
    "a = 1\n",
    "print(a == 1)   # test for equality\n",
    "print(a == 2)\n",
    "print(a < 5)"
   ]
  },
  {
   "cell_type": "code",
   "execution_count": null,
   "metadata": {},
   "outputs": [],
   "source": [
    "y = a >= 5\n",
    "print(y)\n",
    "type(y)"
   ]
  },
  {
   "cell_type": "markdown",
   "metadata": {},
   "source": [
    "If we assign a boolean statement to a new variable ```y```, y has boolean type, in another words the output of the boolean statement is boolean. "
   ]
  },
  {
   "cell_type": "markdown",
   "metadata": {},
   "source": [
    "## String Type\n",
    "Strings in Python are created with single or double quotes:"
   ]
  },
  {
   "cell_type": "code",
   "execution_count": null,
   "metadata": {},
   "outputs": [],
   "source": [
    "message = \"what do you like?\"\n",
    "response = 'spam'"
   ]
  },
  {
   "cell_type": "markdown",
   "metadata": {},
   "source": [
    "Python has many extremely useful string functions and methods; here are a few of them:"
   ]
  },
  {
   "cell_type": "code",
   "execution_count": null,
   "metadata": {},
   "outputs": [],
   "source": [
    "# length of string\n",
    "len(response)"
   ]
  },
  {
   "cell_type": "code",
   "execution_count": null,
   "metadata": {},
   "outputs": [],
   "source": [
    "# Make upper-case. See also str.lower()\n",
    "response.upper()"
   ]
  },
  {
   "cell_type": "code",
   "execution_count": null,
   "metadata": {},
   "outputs": [],
   "source": [
    "# Capitalize. See also str.title()\n",
    "message.capitalize()"
   ]
  },
  {
   "cell_type": "code",
   "execution_count": null,
   "metadata": {},
   "outputs": [],
   "source": [
    "# concatenation with +\n",
    "message + response"
   ]
  },
  {
   "cell_type": "code",
   "execution_count": null,
   "metadata": {},
   "outputs": [],
   "source": [
    "# multiplication is multiple concatenation\n",
    "5 * response"
   ]
  },
  {
   "cell_type": "code",
   "execution_count": null,
   "metadata": {},
   "outputs": [],
   "source": [
    "# Access individual characters (zero-based indexing)\n",
    "message[0]"
   ]
  },
  {
   "cell_type": "markdown",
   "metadata": {},
   "source": [
    "We will explain more about indexing when we discuss Lists.  "
   ]
  },
  {
   "cell_type": "markdown",
   "metadata": {},
   "source": [
    "# Order of Operations"
   ]
  },
  {
   "cell_type": "markdown",
   "metadata": {},
   "source": [
    "An **order of operations** is a standard order of precedence that different operations have in relationship to one another. Python utilizes the same order of operations that you learned in grade school. Powers are executed before multiplication and division, which are executed before addition and subtraction. Parentheses, (), can also be used in Python to supersede the standard order of operations. For example consider:\n",
    "\\begin{equation}\n",
    "\\frac{3\\times 4}{2^2 + 4/2}\n",
    "\\end{equation}"
   ]
  },
  {
   "cell_type": "code",
   "execution_count": null,
   "metadata": {},
   "outputs": [],
   "source": [
    "x = (3*4)/(2**2 + 4/2)\n",
    "print(x)"
   ]
  },
  {
   "cell_type": "markdown",
   "metadata": {},
   "source": [
    "- Operator precedence rules are summarised [here in Sec. 6.16](https://docs.python.org/3/reference/expressions.html).\n",
    "- They are generally valid, not only for integer operations, i.e. they apply to floats as well and outputs of functions!\n",
    "- **Advice**: Use parentheses to avoid any confusion and ambiguity! You should know the rules nevertheless to be able to read other peoples programs!"
   ]
  },
  {
   "cell_type": "markdown",
   "metadata": {},
   "source": [
    "# Aside: Scientific Notation"
   ]
  },
  {
   "cell_type": "markdown",
   "metadata": {},
   "source": [
    "We write numbers in scientific notation as, e.g., \n",
    "\\begin{equation}\n",
    "    c = 3 \\times 10^8~{\\rm m~s^{-1}}\n",
    "\\end{equation}\n",
    "(in SI units).  You may well need the value of $c$ for your calculation.  You could write\n",
    "\n",
    "```c = 3*10**8```\n",
    "\n",
    "However, you should not do this.  Instead, please write\n",
    "\n",
    "```c = 3e8```\n",
    "\n",
    "These are interpreted very differently by the computer.  The first one takes the integer 10, raises it to the 8$^{\\rm th}$ power, and then multiplies this by 3 and assigns the value to {\\tt c}.  The second one assigns the value of $3 \\times 10^8$ directly to the variable {\\tt c}.  The second way is faster, easier to read, and less vulnerable to bugs, as you will see or have seen in your first section.   For a quick look at one reason why you should write scientific notation as, e.g., ```3e8```, try the following:\n"
   ]
  },
  {
   "cell_type": "markdown",
   "metadata": {},
   "source": [
    "However, you should not do this.  Instead, please write\n",
    "\n",
    "```c = 3e8```\n",
    "\n",
    "These are interpreted very differently by the computer.  The first one takes the integer 10, raises it to the 8$^{\\rm th}$ power, and then multiplies this by 3 and assigns the value to ```c```.  The second one assigns the value of $3 \\times 10^8$ directly to the variable ```c```.  The second way is faster, easier to read, and less vulnerable to bugs, as you will see or have seen in your first section.  \n",
    "For a quick look at one reason why you should write scientific notation as, e.g., ```3e8```, try the following:\n"
   ]
  },
  {
   "cell_type": "code",
   "execution_count": null,
   "metadata": {},
   "outputs": [],
   "source": [
    "c = 3*10**8\n",
    "print(c)\n",
    "type(c)"
   ]
  },
  {
   "cell_type": "code",
   "execution_count": null,
   "metadata": {},
   "outputs": [],
   "source": [
    "c = 3e8\n",
    "print(c)\n",
    "type(c)"
   ]
  },
  {
   "cell_type": "markdown",
   "metadata": {},
   "source": [
    "For a quick look at one reason why you should write scientific notation as, e.g., ```3e8```, try the following:"
   ]
  },
  {
   "cell_type": "code",
   "execution_count": null,
   "metadata": {},
   "outputs": [],
   "source": [
    "print(1/3e8**2)\n",
    "print(1/3*10**8**2)"
   ]
  },
  {
   "cell_type": "markdown",
   "metadata": {},
   "source": [
    "Besides the issue above with the order of operations, there is a largest number and a smallest number (i.e. closest to zero) that a computer can represent because of details of how it stores numbers in memory (see below). Any number larger than about  $10^{308}$ or ```1e308``` will be stored as ```inf``` (and will generate a warning called overflow), while a number closer to zero than $10^{-308}$ or ```1e-308``` will be stored as ```0.0``` (and generate an underflow warning).  If you get one of these warnings, it's because some part of your program gave a result that was beyond one of these numbers. "
   ]
  },
  {
   "cell_type": "markdown",
   "metadata": {},
   "source": [
    "You can determine the largest and smallest numbers that can be represented by executing the following code:"
   ]
  },
  {
   "cell_type": "code",
   "execution_count": null,
   "metadata": {},
   "outputs": [],
   "source": [
    "import sys\n",
    "print(sys.float_info.max,sys.float_info.min)"
   ]
  },
  {
   "cell_type": "markdown",
   "metadata": {},
   "source": [
    "There exist clever tricks to circumvent these limitations, but there is no way to get around the fact that finite storage capcity necessarily results in finite precision for numerical calclulations involve floating point numbers, as we discuss in more detail next. "
   ]
  },
  {
   "cell_type": "markdown",
   "metadata": {},
   "source": [
    "# Aside: Floating-point precision\n",
    "One thing to be aware of with floating point arithmetic is that its precision is limited, which can cause equality tests to be unstable. For example:"
   ]
  },
  {
   "cell_type": "code",
   "execution_count": null,
   "metadata": {},
   "outputs": [],
   "source": [
    "0.1 + 0.2 == 0.3"
   ]
  },
  {
   "cell_type": "markdown",
   "metadata": {},
   "source": [
    "**Never ever compare float numbers to test for equality!!**"
   ]
  },
  {
   "cell_type": "markdown",
   "metadata": {},
   "source": [
    "Why is this the case? It turns out that it is not a behavior unique to Python, but is due to the fixed-precision format of the binary floating-point storage used by most, if not all, scientific computing platforms.\n",
    "All programming languages using floating-point numbers store them in a fixed number of bits, and this leads some numbers to be represented only approximately.\n",
    "We can see this by printing the three values to high precision:"
   ]
  },
  {
   "cell_type": "code",
   "execution_count": 1,
   "metadata": {},
   "outputs": [
    {
     "name": "stdout",
     "output_type": "stream",
     "text": [
      "0.1 = 0.10000000000000001\n",
      "0.2 = 0.20000000000000001\n",
      "0.3 = 0.29999999999999999\n"
     ]
    }
   ],
   "source": [
    "print(\"0.1 = {0:.17f}\".format(0.1))\n",
    "print(\"0.2 = {0:.17f}\".format(0.2))\n",
    "print(\"0.3 = {0:.17f}\".format(0.3))"
   ]
  },
  {
   "cell_type": "markdown",
   "metadata": {},
   "source": [
    "We're accustomed to thinking of numbers in decimal (base-10) notation, so that each fraction must be expressed as a sum of powers of 10:\n",
    "$$\n",
    "1 /8 = 0.125 = 1\\cdot 10^{-1} + 2\\cdot 10^{-2} + 5\\cdot 10^{-3}\n",
    "$$\n",
    "In the familiar base-10 representation, we represent this in the familiar decimal expression: $0.125$.\n",
    "\n",
    "Computers usually store values in binary notation, so that each number is expressed as a sum of powers of 2:\n",
    "$$\n",
    "1/8 = 0\\cdot 2^{-1} + 0\\cdot 2^{-2} + 1\\cdot 2^{-3}\n",
    "$$"
   ]
  },
  {
   "cell_type": "code",
   "execution_count": null,
   "metadata": {},
   "outputs": [],
   "source": [
    "0*(1/2) + 0*(1/2**2) + 1*(1/2**3)"
   ]
  },
  {
   "cell_type": "markdown",
   "metadata": {},
   "source": [
    "Notice that the coefficient in front of each term in base-2 is either 0 or 1, which is more appropriate to how information is stored on a computer, i.e. via electronic\n",
    "binary switches that can take on two possible values, i.e. on or off. In a base-2 representation, we can write this $0.001_2$, where the subscript 2 indicates binary notation.\n",
    "The value $0.125 = 0.001_2$ happens to be one number that both binary and decimal notation can represent in a finite number of digits.\n",
    "\n",
    "In the familiar base-10 representation of numbers, you are probably familiar with numbers that can't be expressed in a finite number of digits.\n",
    "For example, dividing $1$ by $3$ gives, in standard decimal notation:\n",
    "$$\n",
    "1 / 3 = 0.333333333\\cdots\n",
    "$$\n",
    "The 3s go on forever: that is, to truly represent this quotient, the number of required digits is infinite!\n",
    "\n",
    "Similarly, there are numbers for which binary representations require an infinite number of digits.\n",
    "For example:\n",
    "$$\n",
    "1 / 10 = 0.00011001100110011\\cdots_2\n",
    "$$\n",
    "If we consider only the first few terms we get:"
   ]
  },
  {
   "cell_type": "code",
   "execution_count": 1,
   "metadata": {},
   "outputs": [
    {
     "data": {
      "text/plain": [
       "0.0999755859375"
      ]
     },
     "execution_count": 1,
     "metadata": {},
     "output_type": "execute_result"
    }
   ],
   "source": [
    "1/(2**4) + 1/(2**5) + 1/(2**8) + 1/(2**9) + 1/(2**12) + 1/(2**13)"
   ]
  },
  {
   "cell_type": "markdown",
   "metadata": {},
   "source": [
    "Thus, just as decimal notation requires an infinite number of digits to perfectly represent $1/3$, binary notation requires an infinite number of digits to represent $1/10$.\n",
    "Python internally truncates these representations at 52 bits beyond the first nonzero bit on most systems. Here a bit is a binary switch, of which we have access to 64 at most on \n",
    "a 64-bit computer system. For a \"double-precision\" floating point number, one bit is used for the sign (positive or negative), 11 bits represent the integer exponent, and 52 bits\n",
    "represent the fraction. In other words a 64-bit floating point number is represented as\n",
    "\\begin{equation}\n",
    "(-1)^{\\rm sign}\\left(1 + \\sum_{i=1}^{52} b_{52-i}2^{-i}\\right)2^{e-1023}\n",
    "\\end{equation}"
   ]
  },
  {
   "cell_type": "markdown",
   "metadata": {},
   "source": [
    "\n",
    "The bits are laid out in memory as follows:\n",
    "\n",
    "<img src=\"figures/float.png\" alt=\"floating point numbers\" width=\"800\">"
   ]
  },
  {
   "cell_type": "markdown",
   "metadata": {},
   "source": [
    "This rounding error for floating-point values is a necessary evil of working with floating-point numbers with a finite hardware representation. \n",
    "The best way to deal with it is to always keep in mind that floating-point arithmetic is approximate, and *never* rely on exact equality tests with floating-point values. If you need to compare floats, the Python `numpy`-module has a function for it:"
   ]
  },
  {
   "cell_type": "code",
   "execution_count": null,
   "metadata": {},
   "outputs": [],
   "source": [
    "import numpy as np\n",
    "np.isclose(0.1 + 0.2, 0.3)"
   ]
  },
  {
   "cell_type": "markdown",
   "metadata": {},
   "source": [
    "Finally, we can now better see why ```1e-308``` and ```1e308``` are the smallest and largest numbers that can be represented by a 64-bit floating point number. Namely, as an 11bit integer, the exponent $e$ can range from 0 to 2047 ($2^11 = 2048$), which means that $e-1023$ in the equation above can run from $-1023$ to $+1024$. Hence, the smallest possible value is $2^{-1023} =$ ```1.1e-308``` and the largest possible value of $2^{1024} =$ ```1.8e308```."
   ]
  },
  {
   "cell_type": "markdown",
   "metadata": {},
   "source": [
    "# Modules and Packages\n",
    "\n",
    "A good scientific calculator has all sorts of built-in functions like ```sin```, ```ln```, ```sqrt```.  These are also available to you in Python via\n",
    "**package** known as ```numpy```.   Modules and packages are libraries for Python code. You will use them constantly to use existing code. As a more experienced program you can write your own modules and packages to re-use your code. \n"
   ]
  },
  {
   "cell_type": "markdown",
   "metadata": {},
   "source": [
    "## Modules \n",
    "\n",
    "A modules is a file with Python code with the .py suffix. It typically contains:\n",
    "- variable assignments\n",
    "- function definitions\n",
    "- classes\n",
    "\n",
    "i.e. code that defines new functions or objects, but that dnoe not immediately execute (although nothing prevents you from putting code that can execute in such a file). \n",
    "\n",
    "The module name is the file name with the .py suffix. It can be imported into another Python program using the ```import``` statement.\n",
    "```python \n",
    "import module_name\n",
    "```\n",
    "\n",
    "where module_name.pay would be the python file for the module. "
   ]
  },
  {
   "cell_type": "code",
   "execution_count": 1,
   "metadata": {},
   "outputs": [
    {
     "name": "stdout",
     "output_type": "stream",
     "text": [
      "hbar = 1.054571818e-34\n"
     ]
    }
   ],
   "source": [
    "import constants\n",
    "two_pi = 2*constants.pi\n",
    "hbar = constants.h/two_pi\n",
    "print('hbar = {:.9e}'.format(hbar))"
   ]
  },
  {
   "cell_type": "markdown",
   "metadata": {},
   "source": [
    "Contents of a module are accessed with the “dot” operator, e.g, constants.pi.\n",
    "\n",
    "Other ways to import: "
   ]
  },
  {
   "cell_type": "code",
   "execution_count": 3,
   "metadata": {},
   "outputs": [
    {
     "name": "stdout",
     "output_type": "stream",
     "text": [
      "hbar = 1.054571818e-34\n",
      "hbar = 1.054571818e-34\n"
     ]
    }
   ],
   "source": [
    "# direct import\n",
    "from constants import h, pi\n",
    "hbar = h / (2*pi)\n",
    "print('hbar = {:.9e}'.format(hbar))\n",
    "\n",
    "# aliasing\n",
    "import constants as c\n",
    "hbar = c.h / (2*c.pi)\n",
    "print('hbar = {:.9e}'.format(hbar))"
   ]
  },
  {
   "cell_type": "markdown",
   "metadata": {},
   "source": [
    "## Packages\n"
   ]
  },
  {
   "cell_type": "markdown",
   "metadata": {},
   "source": [
    "\n",
    "In Python, Modules are simply files with the ```. py``` extension containing Python code that can be imported inside another Python Program. In simple terms, we can consider a module to be the same as a code library, which can be a file, that contains a set of functions that you want to include in your application.  Modules contain all sorts of useful things, but they need to be **imported** into your code using the command ```import```.  (You saw this above when I imported the ```sys``` module.)\n",
    "\n",
    "There are three very useful Python modules in particular which we will use in this course, and which in fact are the three most widely used in the sciences:  ```numpy```, ```scipy```, and ```matplotlib```.  We will explore some of their uses later, but for now here is an example using all three of them:"
   ]
  },
  {
   "cell_type": "code",
   "execution_count": null,
   "metadata": {},
   "outputs": [],
   "source": [
    "import numpy as np\n",
    "from scipy.special import jv   # jv is the function for the Bessel function of the first kind\n",
    "import matplotlib.pyplot as plt\n",
    "\n",
    "x = np.linspace(0, 10*np.pi, 500) # Set up a linearly spaced domain between 0 and 30 with 500 points. \n",
    "y = jv(0, x)   # Compute the Bessel function of order 0 on this domain, i.e. y = J_0(x)\n",
    "# Make the plot\n",
    "plt.plot(x, y, label=r'$J_{}(x)$'.format(0))\n",
    "plt.title('Bessel Functions of the First Kind (order 0)')\n",
    "plt.xlabel('x')\n",
    "plt.ylabel('y')\n",
    "plt.grid(True)\n",
    "plt.legend()\n",
    "plt.show()"
   ]
  },
  {
   "cell_type": "markdown",
   "metadata": {},
   "source": [
    "Note that I have imported the ```numpy``` module and called it ```np```.  This just saves me typing out the full word ```numpy``` all the time, and indeed  ```np``` is a VERY common shorthand.  ```numpy``` has a lot of useful functions, including the trig functions and\n",
    "their inverses (e.g. ```np.arcsin()```), hyperbolic trig functions (e.g. ```np.sinh()```), the exponential function ```np.exp()```, logarithms (```np.log()``` is $\\ln$, the natural logarithm to base $e$ - if you want log base ten use ```np.log10()```), and the square root function ```np.sqrt()```.  It also has a number of useful mathematical constants, i.e. I used ```np.pi``` in the example above to access the constant $\\pi$. \n",
    "\n",
    "I also imported the ```scipy``` module so that I could access the Bessel functions in the ```scipy.special``` sub-module. In other words the ```scipy``` package is actually a collection of ```.py``` files arranged in a directory hierarchy, and so you can think of ```scipy.special``` as being the path to a file in that directory structure.  Finally, I used the statement ```import matplotlib.pyplot as plt``` to import the ```pyplot``` function (abbreviated as ```plt``` as is the standard) from the ```matplotlib.pyplot``` sub-module. \n",
    "\n",
    "Finally, take note of how I provided comments in my code via the ```#```, explaining the logic behind my reasoning. \n"
   ]
  }
 ],
 "metadata": {
  "kernelspec": {
   "display_name": "Python 3 (ipykernel)",
   "language": "python",
   "name": "python3"
  },
  "language_info": {
   "codemirror_mode": {
    "name": "ipython",
    "version": 3
   },
   "file_extension": ".py",
   "mimetype": "text/x-python",
   "name": "python",
   "nbconvert_exporter": "python",
   "pygments_lexer": "ipython3",
   "version": "3.11.7"
  }
 },
 "nbformat": 4,
 "nbformat_minor": 4
}
