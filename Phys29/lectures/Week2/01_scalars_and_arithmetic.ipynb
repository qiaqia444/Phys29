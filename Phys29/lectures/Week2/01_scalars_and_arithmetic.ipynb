{
 "cells": [
  {
   "cell_type": "markdown",
   "metadata": {},
   "source": [
    "# Scalar Types in Core-Python"
   ]
  },
  {
   "cell_type": "markdown",
   "metadata": {},
   "source": [
    "Programming languages like Python have specific data types that reflect how information is stored in the computer memory.  We concentrate here on numbers, especially Integrers and Floats, and also Boolens (True of False). The table below summarizes the built-in simple scalar data types offered by Python, some of which we will discuss. "
   ]
  },
  {
   "cell_type": "markdown",
   "metadata": {},
   "source": [
    "### Python Scalar Types\n",
    "\n",
    "| Type        | Example        | Description                                                  |\n",
    "|-------------|----------------|--------------------------------------------------------------|\n",
    "| ``int``     | ``x = 1``      | integers (i.e., whole numbers)                               |\n",
    "| ``float``   | ``x = 1.0``    | floating-point numbers (i.e., real numbers)                  |\n",
    "| ``complex`` | ``x = 1 + 2j`` | Complex numbers (i.e., numbers with real and imaginary part) |\n",
    "| ``bool``    | ``x = True``   | Boolean: True/False values                                   |\n",
    "| ``str``     | ``x = 'abc'``  | String: characters or text                                   |\n",
    "| ``NoneType``| ``x = None``   | Special object indicating nulls                              |                   "
   ]
  },
  {
   "cell_type": "markdown",
   "metadata": {},
   "source": [
    "## Integer Type"
   ]
  },
  {
   "cell_type": "markdown",
   "metadata": {},
   "source": [
    "### Basic Integer operations"
   ]
  },
  {
   "cell_type": "code",
   "execution_count": 7,
   "metadata": {},
   "outputs": [
    {
     "name": "stdout",
     "output_type": "stream",
     "text": [
      "5 2\n"
     ]
    }
   ],
   "source": [
    "a = 5  # assigning the integer value 5 to variable 'a'\n",
    "b = 2\n",
    "print(a,b)"
   ]
  },
  {
   "cell_type": "markdown",
   "metadata": {},
   "source": [
    "Note that above we added comments to our code cell using the # symbol"
   ]
  },
  {
   "cell_type": "markdown",
   "metadata": {},
   "source": [
    "We can verify that these variables have integer data types by using the type function native to python"
   ]
  },
  {
   "cell_type": "code",
   "execution_count": 8,
   "metadata": {},
   "outputs": [
    {
     "data": {
      "text/plain": [
       "int"
      ]
     },
     "execution_count": 8,
     "metadata": {},
     "output_type": "execute_result"
    }
   ],
   "source": [
    "type(a)"
   ]
  },
  {
   "cell_type": "markdown",
   "metadata": {},
   "source": [
    "The following operations are obvious, aren't they?"
   ]
  },
  {
   "cell_type": "code",
   "execution_count": 9,
   "metadata": {},
   "outputs": [
    {
     "name": "stdout",
     "output_type": "stream",
     "text": [
      "7 3\n",
      "10\n",
      "25\n",
      "2378064745833997089035291835260712838458865431811172691488433289557139138657603628438861986726706923349682264965985710377075584782188694692388947882175715519096675757218693363993962520205904428245134267078693818602685930613787403444349673750635551316739530524895408978060031103182470773666038096585996224572366020922922741813375977008950609768424189481012172621072842651947024496743122176907089835987862122732310713816419679412824662104973781214735145677660749637079556213075837285722443038754778346881579015918943327195917881149439724094933128669446556416470532227687870386234974128583815190410217053872782485805428030123508280668459404061483915456124322080471245927500999765814304079369997836412119328766896770025073773637881461886393763198491381533166250356427920171543091065325015639817188395887395256998812451647205410389780658706958486877635305492456193832833394713360657435410066143050999138740329543502360903770744096738684337640671289462134454882877648883255729913744107619012671861540790714616640142624237929502766607140809669974506851763768063425875275792176508417261388844451273907518292936167111873286406275996081702481440887180422148294186164804163727713622662064716750392223252809575011026769974375523428799048872277941771728393521054839358319000181760249272723266242288942313186347035691433675133873317412409327135279314709559425076477433653254749619019831030795005501074269414988195919783534048589478873525634740143523829122817094751801274630303237222595708990590193994111374446614605382522132568053594610847273612657388555713216334204672470663007665466715951810404851446568103499257336412444463214449080832087296272600344870025851740132664243647186578851593551620523607417121001554285508245430496057007049478498181585348797855244132931992745912758199610781955730830560516178514164952817821071919197567870992288020665195023661001515168378481710873875232163887727509509086330564846326035891739366440810242232213743571670477729583475445091682997961349353634876688026277882950389096803442365492207174237496871420450997430227805186939896202471224382610491433099418545319560788624138403215040331708488263608451676972326800356714308555498095226374153223101686278937792813415780922706806303797654418142235006817233403525647497473371778484863802932310418444344560353374733419050611562830811765300848267418452268679220537093842973746126123986374933330607916978275783183610388712087361311315748364653324096283458152449231322996047913194195832549480727793317312706785533968600359880607973194236959396729795223245499403820157924683203407395944305532033087698517288491650885240862709258607956082980298004826899041294620848740333907253498110062290510121396015239485301266435599317851076894072478145278501826556007768455292719741488428310590847439296376789570374925331618683765731335843069154983624067488401239819441815430296645234153782267807671398030272479146287370541629019685405335748389126630430926059059036906069296872669436019885693160711597880523526030134456898669975068245290874963831722995970995451081662157617127903626186488905656878054826729492009211872512534814759637626405059205624852253655207036316651611494277375865705672241082338163676392495155470566925198235296663206326710342063852710396626619293216407145026558498827339422165369492762658846770102887942817462425770073619226946360657630279347727268032466169801524152631703192139702865560804089767395772056135473398364693796901352162227561900879910394429237734787345643578488606299974853763517352495981449816581975846237812141745340372684095373341038116275144934949511817187625491372194658399549166227996588417645504894302258122316235692118804043605061213114386427823769378053950032466368595266921297666875709788692009375642443963768427691482346475403709300830163548363360947813655835665838589490137826494044193115229290924617089331150054931640625\n"
     ]
    }
   ],
   "source": [
    "print(a + b, a - b) # Integer addition and subtraction\n",
    "print(a * b)        # Integer multiplication\n",
    "print(a**b)         # 5 to the power of 2\n",
    "print(5**5460)      # 'arbitrarily accurate' integer arithmetic! "
   ]
  },
  {
   "cell_type": "markdown",
   "metadata": {},
   "source": [
    "What about the following. Is it what you would expect?"
   ]
  },
  {
   "cell_type": "code",
   "execution_count": null,
   "metadata": {},
   "outputs": [],
   "source": [
    "x = a / b        # x is a new variable which is a/b, i.e. division\n",
    "print(x)"
   ]
  },
  {
   "cell_type": "markdown",
   "metadata": {},
   "source": [
    "Note that the type of x has changed though, it is no longer an integer but rather it has been promoted to a float, which is short for a floating point number. "
   ]
  },
  {
   "cell_type": "code",
   "execution_count": null,
   "metadata": {},
   "outputs": [],
   "source": [
    "type(x)"
   ]
  },
  {
   "cell_type": "markdown",
   "metadata": {},
   "source": [
    "### Simultaneous assignment of values to different variables"
   ]
  },
  {
   "cell_type": "code",
   "execution_count": null,
   "metadata": {},
   "outputs": [],
   "source": [
    "# In contrast to many other languages, Python allows to simultaneously\n",
    "# assign values to severtal valriables:\n",
    "\n",
    "x = 5        # usual assignment\n",
    "y, z = 1, 2  # simultaneous assignemnt to two variables\n",
    "a, b, c, d = 6, 7, 8, 9 # works with arbitrarily many!\n",
    "\n",
    "print(a, b, c, d, x, y, z)"
   ]
  },
  {
   "cell_type": "markdown",
   "metadata": {},
   "source": [
    "## Float Type"
   ]
  },
  {
   "cell_type": "code",
   "execution_count": null,
   "metadata": {},
   "outputs": [],
   "source": [
    "pi = 3.14159 # For full precision use numpy.pi\n",
    "d = .1       # equal to 0.1\n",
    "e = 1.2e2    # read: 1.2 times 10 to the power of 2\n",
    "\n",
    "print(pi + d, pi - d, d * e, pi / d)\n",
    "print(d + 3)  # in mixed calculations, integer values are 'promoted' to float"
   ]
  },
  {
   "cell_type": "markdown",
   "metadata": {},
   "source": [
    "## Boolean Type\n",
    "Python has an *explicit* boolean type which can only take the values ```True``` and ```False```. It is used to test conditions in loops and conditional ```if``` statements and store information that can only be True or False. We could of course just use ```1``` to represent ```True``` and ```0``` to represent ```False```, however this would require more computer memory to store the information. "
   ]
  },
  {
   "cell_type": "code",
   "execution_count": null,
   "metadata": {},
   "outputs": [],
   "source": [
    "f = False\n",
    "t = True\n",
    "type(f)"
   ]
  },
  {
   "cell_type": "code",
   "execution_count": null,
   "metadata": {},
   "outputs": [],
   "source": [
    "print(f or t)   # logical 'or' operator\n",
    "print(f and t)  # logical 'and' operator"
   ]
  },
  {
   "cell_type": "code",
   "execution_count": null,
   "metadata": {},
   "outputs": [],
   "source": [
    "a = 1\n",
    "print(a == 1)   # test for equality\n",
    "print(a == 2)\n",
    "print(a < 5)"
   ]
  },
  {
   "cell_type": "code",
   "execution_count": null,
   "metadata": {},
   "outputs": [],
   "source": [
    "y = a >= 5\n",
    "print(y)\n",
    "type(y)"
   ]
  },
  {
   "cell_type": "markdown",
   "metadata": {},
   "source": [
    "If we assign a boolean statement to a new variable ```y```, y has boolean type, in another words the output of the boolean statement is boolean. "
   ]
  },
  {
   "cell_type": "markdown",
   "metadata": {},
   "source": [
    "## String Type\n",
    "Strings in Python are created with single or double quotes:"
   ]
  },
  {
   "cell_type": "code",
   "execution_count": null,
   "metadata": {},
   "outputs": [],
   "source": [
    "message = \"what do you like?\"\n",
    "response = 'spam'"
   ]
  },
  {
   "cell_type": "markdown",
   "metadata": {},
   "source": [
    "Python has many extremely useful string functions and methods; here are a few of them:"
   ]
  },
  {
   "cell_type": "code",
   "execution_count": null,
   "metadata": {},
   "outputs": [],
   "source": [
    "# length of string\n",
    "len(response)"
   ]
  },
  {
   "cell_type": "code",
   "execution_count": null,
   "metadata": {},
   "outputs": [],
   "source": [
    "# Make upper-case. See also str.lower()\n",
    "response.upper()"
   ]
  },
  {
   "cell_type": "code",
   "execution_count": null,
   "metadata": {},
   "outputs": [],
   "source": [
    "# Capitalize. See also str.title()\n",
    "message.capitalize()"
   ]
  },
  {
   "cell_type": "code",
   "execution_count": null,
   "metadata": {},
   "outputs": [],
   "source": [
    "# concatenation with +\n",
    "message + response"
   ]
  },
  {
   "cell_type": "code",
   "execution_count": null,
   "metadata": {},
   "outputs": [],
   "source": [
    "# multiplication is multiple concatenation\n",
    "5 * response"
   ]
  },
  {
   "cell_type": "code",
   "execution_count": null,
   "metadata": {},
   "outputs": [],
   "source": [
    "# Access individual characters (zero-based indexing)\n",
    "message[0]"
   ]
  },
  {
   "cell_type": "markdown",
   "metadata": {},
   "source": [
    "We will explain more about indexing when we discuss Lists.  "
   ]
  },
  {
   "cell_type": "markdown",
   "metadata": {},
   "source": [
    "# Order of Operations"
   ]
  },
  {
   "cell_type": "markdown",
   "metadata": {},
   "source": [
    "An **order of operations** is a standard order of precedence that different operations have in relationship to one another. Python utilizes the same order of operations that you learned in grade school. Powers are executed before multiplication and division, which are executed before addition and subtraction. Parentheses, (), can also be used in Python to supersede the standard order of operations. For example consider:\n",
    "\\begin{equation}\n",
    "\\frac{3\\times 4}{2^2 + 4/2}\n",
    "\\end{equation}"
   ]
  },
  {
   "cell_type": "code",
   "execution_count": null,
   "metadata": {},
   "outputs": [],
   "source": [
    "x = (3*4)/(2**2 + 4/2)\n",
    "print(x)"
   ]
  },
  {
   "cell_type": "markdown",
   "metadata": {},
   "source": [
    "- Operator precedence rules are summarised [here in Sec. 6.16](https://docs.python.org/3/reference/expressions.html).\n",
    "- They are generally valid, not only for integer operations, i.e. they apply to floats as well and outputs of functions!\n",
    "- **Advice**: Use parentheses to avoid any confusion and ambiguity! You should know the rules nevertheless to be able to read other peoples programs!"
   ]
  },
  {
   "cell_type": "markdown",
   "metadata": {},
   "source": [
    "# Aside: Scientific Notation"
   ]
  },
  {
   "cell_type": "markdown",
   "metadata": {},
   "source": [
    "We write numbers in scientific notation as, e.g., \n",
    "\\begin{equation}\n",
    "    c = 3 \\times 10^8~{\\rm m~s^{-1}}\n",
    "\\end{equation}\n",
    "(in SI units).  You may well need the value of $c$ for your calculation.  You could write\n",
    "\n",
    "```c = 3*10**8```\n",
    "\n",
    "However, you should not do this.  Instead, please write\n",
    "\n",
    "```c = 3e8```\n",
    "\n",
    "These are interpreted very differently by the computer.  The first one takes the integer 10, raises it to the 8$^{\\rm th}$ power, and then multiplies this by 3 and assigns the value to {\\tt c}.  The second one assigns the value of $3 \\times 10^8$ directly to the variable {\\tt c}.  The second way is faster, easier to read, and less vulnerable to bugs, as you will see or have seen in your first section.   For a quick look at one reason why you should write scientific notation as, e.g., ```3e8```, try the following:\n"
   ]
  },
  {
   "cell_type": "markdown",
   "metadata": {},
   "source": [
    "However, you should not do this.  Instead, please write\n",
    "\n",
    "```c = 3e8```\n",
    "\n",
    "These are interpreted very differently by the computer.  The first one takes the integer 10, raises it to the 8$^{\\rm th}$ power, and then multiplies this by 3 and assigns the value to ```c```.  The second one assigns the value of $3 \\times 10^8$ directly to the variable ```c```.  The second way is faster, easier to read, and less vulnerable to bugs, as you will see or have seen in your first section.  \n",
    "For a quick look at one reason why you should write scientific notation as, e.g., ```3e8```, try the following:\n"
   ]
  },
  {
   "cell_type": "code",
   "execution_count": null,
   "metadata": {},
   "outputs": [],
   "source": [
    "c = 3*10**8\n",
    "print(c)\n",
    "type(c)"
   ]
  },
  {
   "cell_type": "code",
   "execution_count": null,
   "metadata": {},
   "outputs": [],
   "source": [
    "c = 3e8\n",
    "print(c)\n",
    "type(c)"
   ]
  },
  {
   "cell_type": "markdown",
   "metadata": {},
   "source": [
    "For a quick look at one reason why you should write scientific notation as, e.g., ```3e8```, try the following:"
   ]
  },
  {
   "cell_type": "code",
   "execution_count": null,
   "metadata": {},
   "outputs": [],
   "source": [
    "print(1/3e8**2)\n",
    "print(1/3*10**8**2)"
   ]
  },
  {
   "cell_type": "markdown",
   "metadata": {},
   "source": [
    "Besides the issue above with the order of operations, there is a largest number and a smallest number (i.e. closest to zero) that a computer can represent because of details of how it stores numbers in memory (see below). Any number larger than about  $10^{308}$ or ```1e308``` will be stored as ```inf``` (and will generate a warning called overflow), while a number closer to zero than $10^{-308}$ or ```1e-308``` will be stored as ```0.0``` (and generate an underflow warning).  If you get one of these warnings, it's because some part of your program gave a result that was beyond one of these numbers. "
   ]
  },
  {
   "cell_type": "markdown",
   "metadata": {},
   "source": [
    "You can determine the largest and smallest numbers that can be represented by executing the following code:"
   ]
  },
  {
   "cell_type": "code",
   "execution_count": null,
   "metadata": {},
   "outputs": [],
   "source": [
    "import sys\n",
    "print(sys.float_info.max,sys.float_info.min)"
   ]
  },
  {
   "cell_type": "markdown",
   "metadata": {},
   "source": [
    "There exist clever tricks to circumvent these limitations, but there is no way to get around the fact that finite storage capcity necessarily results in finite precision for numerical calclulations involve floating point numbers, as we discuss in more detail next. "
   ]
  },
  {
   "cell_type": "markdown",
   "metadata": {},
   "source": [
    "# Aside: Floating-point precision\n",
    "One thing to be aware of with floating point arithmetic is that its precision is limited, which can cause equality tests to be unstable. For example:"
   ]
  },
  {
   "cell_type": "code",
   "execution_count": null,
   "metadata": {},
   "outputs": [],
   "source": [
    "0.1 + 0.2 == 0.3"
   ]
  },
  {
   "cell_type": "markdown",
   "metadata": {},
   "source": [
    "**Never ever compare float numbers to test for equality!!**"
   ]
  },
  {
   "cell_type": "markdown",
   "metadata": {},
   "source": [
    "Why is this the case? It turns out that it is not a behavior unique to Python, but is due to the fixed-precision format of the binary floating-point storage used by most, if not all, scientific computing platforms.\n",
    "All programming languages using floating-point numbers store them in a fixed number of bits, and this leads some numbers to be represented only approximately.\n",
    "We can see this by printing the three values to high precision:"
   ]
  },
  {
   "cell_type": "code",
   "execution_count": 1,
   "metadata": {},
   "outputs": [
    {
     "name": "stdout",
     "output_type": "stream",
     "text": [
      "0.1 = 0.10000000000000001\n",
      "0.2 = 0.20000000000000001\n",
      "0.3 = 0.29999999999999999\n"
     ]
    }
   ],
   "source": [
    "print(\"0.1 = {0:.17f}\".format(0.1))\n",
    "print(\"0.2 = {0:.17f}\".format(0.2))\n",
    "print(\"0.3 = {0:.17f}\".format(0.3))"
   ]
  },
  {
   "cell_type": "markdown",
   "metadata": {},
   "source": [
    "We're accustomed to thinking of numbers in decimal (base-10) notation, so that each fraction must be expressed as a sum of powers of 10:\n",
    "$$\n",
    "1 /8 = 0.125 = 1\\cdot 10^{-1} + 2\\cdot 10^{-2} + 5\\cdot 10^{-3}\n",
    "$$\n",
    "In the familiar base-10 representation, we represent this in the familiar decimal expression: $0.125$.\n",
    "\n",
    "Computers usually store values in binary notation, so that each number is expressed as a sum of powers of 2:\n",
    "$$\n",
    "1/8 = 0\\cdot 2^{-1} + 0\\cdot 2^{-2} + 1\\cdot 2^{-3}\n",
    "$$"
   ]
  },
  {
   "cell_type": "code",
   "execution_count": null,
   "metadata": {},
   "outputs": [],
   "source": [
    "0*(1/2) + 0*(1/2**2) + 1*(1/2**3)"
   ]
  },
  {
   "cell_type": "markdown",
   "metadata": {},
   "source": [
    "Notice that the coefficient in front of each term in base-2 is either 0 or 1, which is more appropriate to how information is stored on a computer, i.e. via electronic\n",
    "binary switches that can take on two possible values, i.e. on or off. In a base-2 representation, we can write this $0.001_2$, where the subscript 2 indicates binary notation.\n",
    "The value $0.125 = 0.001_2$ happens to be one number that both binary and decimal notation can represent in a finite number of digits.\n",
    "\n",
    "In the familiar base-10 representation of numbers, you are probably familiar with numbers that can't be expressed in a finite number of digits.\n",
    "For example, dividing $1$ by $3$ gives, in standard decimal notation:\n",
    "$$\n",
    "1 / 3 = 0.333333333\\cdots\n",
    "$$\n",
    "The 3s go on forever: that is, to truly represent this quotient, the number of required digits is infinite!\n",
    "\n",
    "Similarly, there are numbers for which binary representations require an infinite number of digits.\n",
    "For example:\n",
    "$$\n",
    "1 / 10 = 0.00011001100110011\\cdots_2\n",
    "$$\n",
    "If we consider only the first few terms we get:"
   ]
  },
  {
   "cell_type": "code",
   "execution_count": 1,
   "metadata": {},
   "outputs": [
    {
     "data": {
      "text/plain": [
       "0.0999755859375"
      ]
     },
     "execution_count": 1,
     "metadata": {},
     "output_type": "execute_result"
    }
   ],
   "source": [
    "1/(2**4) + 1/(2**5) + 1/(2**8) + 1/(2**9) + 1/(2**12) + 1/(2**13)"
   ]
  },
  {
   "cell_type": "markdown",
   "metadata": {},
   "source": [
    "Thus, just as decimal notation requires an infinite number of digits to perfectly represent $1/3$, binary notation requires an infinite number of digits to represent $1/10$.\n",
    "Python internally truncates these representations at 52 bits beyond the first nonzero bit on most systems. Here a bit is a binary switch, of which we have access to 64 at most on \n",
    "a 64-bit computer system. For a \"double-precision\" floating point number, one bit is used for the sign (positive or negative), 11 bits represent the integer exponent, and 52 bits\n",
    "represent the fraction. In other words a 64-bit floating point number is represented as\n",
    "\\begin{equation}\n",
    "(-1)^{\\rm sign}\\left(1 + \\sum_{i=1}^{52} b_{52-i}2^{-i}\\right)2^{e-1023}\n",
    "\\end{equation}"
   ]
  },
  {
   "cell_type": "markdown",
   "metadata": {},
   "source": [
    "\n",
    "The bits are laid out in memory as follows:\n",
    "\n",
    "<img src=\"figures/float.png\" alt=\"floating point numbers\" width=\"800\">"
   ]
  },
  {
   "cell_type": "markdown",
   "metadata": {},
   "source": [
    "This rounding error for floating-point values is a necessary evil of working with floating-point numbers with a finite hardware representation. \n",
    "The best way to deal with it is to always keep in mind that floating-point arithmetic is approximate, and *never* rely on exact equality tests with floating-point values. If you need to compare floats, the Python `numpy`-module has a function for it:"
   ]
  },
  {
   "cell_type": "code",
   "execution_count": null,
   "metadata": {},
   "outputs": [],
   "source": [
    "import numpy as np\n",
    "np.isclose(0.1 + 0.2, 0.3)"
   ]
  },
  {
   "cell_type": "markdown",
   "metadata": {},
   "source": [
    "Finally, we can now better see why ```1e-308``` and ```1e308``` are the smallest and largest numbers that can be represented by a 64-bit floating point number. Namely, as an 11bit integer, the exponent $e$ can range from 0 to 2047 ($2^11 = 2048$), which means that $e-1023$ in the equation above can run from $-1023$ to $+1024$. Hence, the smallest possible value is $2^{-1023} =$ ```1.1e-308``` and the largest possible value of $2^{1024} =$ ```1.8e308```."
   ]
  }
 ],
 "metadata": {
  "kernelspec": {
   "display_name": "Python 3 (ipykernel)",
   "language": "python",
   "name": "python3"
  },
  "language_info": {
   "codemirror_mode": {
    "name": "ipython",
    "version": 3
   },
   "file_extension": ".py",
   "mimetype": "text/x-python",
   "name": "python",
   "nbconvert_exporter": "python",
   "pygments_lexer": "ipython3",
   "version": "3.11.7"
  }
 },
 "nbformat": 4,
 "nbformat_minor": 4
}
