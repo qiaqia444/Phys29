{
 "cells": [
  {
   "cell_type": "markdown",
   "metadata": {},
   "source": [
    "# Functions\n",
    "In mathematics, a ${\\it function}$ $f:X\\rightarrow Y$ is a procedure which maps every element of the set $X$ (the function's *domain*) to a unique element\n",
    "of the set $Y$ (the function's *range*).  You all have enough experience now to know that functions are incredibly useful mathematical concepts, so much\n",
    "so that almost all programming languages used in the sciences have ways of defining them. For example, the ${\\tt numpy}$ package has a function ${\\tt np.sin}$, which maps real numbers (assumed\n",
    "to be in radians) into real numbers in the range -1.0 to 1.0: "
   ]
  },
  {
   "cell_type": "code",
   "execution_count": 1,
   "metadata": {},
   "outputs": [
    {
     "name": "stdout",
     "output_type": "stream",
     "text": [
      "0.49999999999999994\n",
      "0.49999999999999994\n"
     ]
    }
   ],
   "source": [
    "import numpy as np\n",
    "import math \n",
    "x = np.pi/6.0\n",
    "y=np.sin(x)\n",
    "print(y)\n",
    "print(math.sin(x))"
   ]
  },
  {
   "cell_type": "markdown",
   "metadata": {},
   "source": [
    "Here is some very simple Python code that defines a function ${\\tt sqr(x)}$ that returns the square of its input: "
   ]
  },
  {
   "cell_type": "code",
   "execution_count": 3,
   "metadata": {},
   "outputs": [
    {
     "name": "stdout",
     "output_type": "stream",
     "text": [
      "4\n",
      "9\n"
     ]
    }
   ],
   "source": [
    "def sqr(x):\n",
    "    \"\"\"\n",
    "    Function to square a number. \n",
    "\n",
    "    Parameters\n",
    "    ----------\n",
    "    x : float\n",
    "        Number to be squared.\n",
    "\n",
    "    Returns\n",
    "    -------\n",
    "    f: float\n",
    "        Square of the input number.\n",
    "    \"\"\"\n",
    "    return x**2\n",
    "# Test the function\n",
    "print(sqr(2))\n",
    "print(sqr(3))"
   ]
  },
  {
   "cell_type": "markdown",
   "metadata": {},
   "source": [
    "Clealry ${\\tt sqr(x)}$ is equivalent to $f(x) = x^2$.  The syntax ${\\tt def}$ defines the name of the function as ${\\tt sqr}$ and the $x$ inside of the parenthesis indicates the input variables that are passed to the function (in this case just ${\\tt x}$).  The line of code defining the function must end with a colon $({\\tt :})$. The ${\\tt return}$ command indicates what the function outputs or returns to the calling program. Note that this line is *indented*. The purpose of this indentation is to delineate the lines of code that are within the function and separate these lines from the code that precedes or follows it. The amount of indentation is up to you, but it must be at least one space and it must be the same for all subsequent lines within the function (unless you introduce another block of code within the function - more on that in a bit).  The Jupyter notebook editor automatically indents by four spaces after a ${\\tt def}$ statement in a Code cell if you type the tab key. The best way to format the indentations in python is by using the tab key which gives you four space indentations. "
   ]
  },
  {
   "cell_type": "markdown",
   "metadata": {},
   "source": [
    "Like variable names, function names can consiste of letters, numbers, and the underscore character ${\\tt \\_}$, but cannot begin with a number. Here is another more elaborate example of a function that computes the gravitational force between a massive planet $M_{\\rm planet}$ and a test mass $m$ at a distance $r$ from the planet's center:\n",
    "\\begin{equation}\n",
    "F_{\\rm grav} = -\\frac{GM_{\\rm planet}m}{r^2}\n",
    "\\end{equation}\n",
    "where $G$ is the gravitational constant and the negative sign indicates that the force is attractive.  The function is defined as follows: "
   ]
  },
  {
   "cell_type": "code",
   "execution_count": 5,
   "metadata": {},
   "outputs": [
    {
     "name": "stdout",
     "output_type": "stream",
     "text": [
      "Force on 1kg test mass at Earth's surface: -9.82 N\n",
      "Force on 1kg test mass at Earth's surface: -9.82 N\n",
      "Force on 1kg test mass at location of HST: -8.38 N\n",
      "Force on 2kg test mass at Earth's surface: -19.64 N\n",
      "Force on 2kg test mass at Jupiter's surface: -51.84 N\n"
     ]
    }
   ],
   "source": [
    "def F_grav(r,m=1.0, M_planet=5.972e24):\n",
    "    \"\"\"\n",
    "    Function to calculate the gravitational force between two objects. \n",
    "\n",
    "    Parameters\n",
    "    ----------\n",
    "    r : float\n",
    "        Distance between the two objects in m.\n",
    "    m : float, optional\n",
    "        Mass of the first object in kg. The default is 1.0 kg.\n",
    "    M_planet : float, optional\n",
    "        Mass of the second object in kg. The default is M_earth = 5.97e24 kg. \n",
    "\n",
    "    Returns\n",
    "    -------\n",
    "    F : float\n",
    "        Gravitational force between the two objects in Newtons N = kg m/s^2.\n",
    "    \"\"\"\n",
    "    G=6.67408e-11 # Newton's gravitational constant in units of m^3/(kg s^2)\n",
    "    return -G*m*M_planet/r**2\n",
    "\n",
    "# Force between a 1kg test mass and the Earth at the Earth's surface. \n",
    "r_earth=6.371e6 # Earth's radius in m\n",
    "print(\"Force on 1kg test mass at Earth's surface: {:.2f} N\".format(F_grav(r_earth)))\n",
    "r_earth=6.371e6 # Earth's radius in m\n",
    "print(\"Force on 1kg test mass at Earth's surface: {:.2f} N\".format(F_grav(r_earth, 1.0,5.972e24)))\n",
    "# Force between a 1kg test mass and the Earth at the orbital location of the Hubble Space Telscope (HST)\n",
    "r_HST = 525000 + r_earth # HST is in orbit 525km above the surface of the Earth\n",
    "print(\"Force on 1kg test mass at location of HST: {:.2f} N\".format(F_grav(r_HST)))\n",
    "# Force between a 2kg test mass and the Earth at the Earth's surface. \n",
    "print(\"Force on 2kg test mass at Earth's surface: {:.2f} N\".format(F_grav(r_earth, m=2.0)))\n",
    "# Force between a 2 kg mass and Jupiter at the surface of Jupiter\n",
    "r_jupiter = 69.911e6 # Jupiter's radius in m. Jupiter is about 11 times larger than the Earth.\n",
    "M_jupiter = 1.898e27 # Jupiter's mass in kg. Jupiter is about 318 times more massive than the Earth.\n",
    "print(\"Force on 2kg test mass at Jupiter's surface: {:.2f} N\".format(F_grav(r_jupiter,M_planet=M_jupiter,m=2.0)))\n"
   ]
  },
  {
   "cell_type": "markdown",
   "metadata": {},
   "source": [
    "Note that in the function definition line in the example above, there are two types of variables. There are required variables, which must be passed to the function when it is called, and optional variables, which have default values that are used if the user does not specify a value for them.  In this case, the only required variable is \n",
    "the distance ${\\tt r}$. For multiple required variables they must be passed in in the same order as in the function definition. The user can \n",
    "can also specify the test mass ${\\tt m}$ and the planet mass ${\\tt M\\_planet}$, if they want to. If they don't specify it, function defaults to \n",
    "using 1kg for the ${\\tt m}$ and the mass of the earth for ${\\tt M\\_ planet}$.  The default values are specified in the function definition line, but the user can override this values by specifying new values when the function is called, as was done when we wanted to compute the Gravitatonal force at the surface of Jupiter. In this example ${\\tt m}$ and ${\\tt M\\_planet}$ are what are known as a kewyord arguments. Note that the order in which the keyword arguments are passed to the function is arbitrary, since they are explicitly delineated by the keyword."
   ]
  },
  {
   "cell_type": "markdown",
   "metadata": {},
   "source": [
    "Note that if I try to write out the value of the gravitational constant ${\\tt G}$:"
   ]
  },
  {
   "cell_type": "code",
   "execution_count": 6,
   "metadata": {},
   "outputs": [
    {
     "ename": "NameError",
     "evalue": "name 'G' is not defined",
     "output_type": "error",
     "traceback": [
      "\u001b[0;31m---------------------------------------------------------------------------\u001b[0m",
      "\u001b[0;31mNameError\u001b[0m                                 Traceback (most recent call last)",
      "Cell \u001b[0;32mIn[6], line 1\u001b[0m\n\u001b[0;32m----> 1\u001b[0m \u001b[38;5;28mprint\u001b[39m(\u001b[43mG\u001b[49m)\n",
      "\u001b[0;31mNameError\u001b[0m: name 'G' is not defined"
     ]
    }
   ],
   "source": [
    "print(G)"
   ]
  },
  {
   "cell_type": "markdown",
   "metadata": {},
   "source": [
    "I get an error that it is not defined. This is because variables that are defined within a function can only be accessed from inside that function. In other words, our current notebook is a python module (a python .py file or a Jupyter notebook .ipynb file), which has what is called a **namespace**, or a collection of variable names that are defined in the module. A function in python has its own local namespace which is separate from the namespace of the module. This local namespace is created when the function is called, and deleted when the function returns. The variables defined within the function like ${\\tt G}$ are only accessible from within the function and cease to exist after the function exits.  This is what as known as as the **scope** of the variable.\n",
    "\n",
    "If we wanted to be able to access ${\\tt G}$ outside of the function, we would need to define it outside of the function in the module namespace.  For example:\n"
   ]
  },
  {
   "cell_type": "code",
   "execution_count": 7,
   "metadata": {},
   "outputs": [],
   "source": [
    "G_global = 6.67408e-11 # Newton's gravitational constant in units of m^3/(kg s^2)\n",
    "def F_grav_Gglobal(r,m=1.0, M_planet=5.972e24):\n",
    "    \"\"\"\n",
    "    Function to calculate the gravitational force between two objects. \n",
    "\n",
    "    Parameters\n",
    "    ----------\n",
    "    r : float\n",
    "        Distance between the two objects in m.\n",
    "    m : float, optional\n",
    "        Mass of the first object in kg. Default is 1.0 kg.\n",
    "    M_planet : float, optional\n",
    "        Mass of the second object in kg. The default is M_earth = 5.97e24 kg. \n",
    "\n",
    "    Returns\n",
    "    -------\n",
    "    F : float\n",
    "        Gravitational force between the two objects in Newtons N = kg m/s^2.\n",
    "    \"\"\"\n",
    "    return -G_global*m*M_planet/r**2"
   ]
  },
  {
   "cell_type": "markdown",
   "metadata": {},
   "source": [
    "In this new example above, the variable ${\\tt G\\_global}$ is defined outside of the function, making it a global variable.  Generally speaking, defining global variables everywhere is considered bad coding practice. It is better to define variables specific to a function in the local namespace of that function. \n",
    "This makes the code more modular and easier to debug.  However, there are occasions when you may want to define a variable that is used by many functions, for example for a quantity that multiple functions in your module depend on. "
   ]
  },
  {
   "cell_type": "markdown",
   "metadata": {},
   "source": [
    "In the same way that the constant ${\\tt G\\_global}$ is a global variable, anything that is defined globally in a .py file or Jupyter notebook can be accessed by any function defined in that file or notebook.  For example"
   ]
  },
  {
   "cell_type": "code",
   "execution_count": 9,
   "metadata": {},
   "outputs": [],
   "source": [
    "def F_grav_with_sqr(r, m=1.0, M_planet=5.972e24):\n",
    "    \"\"\"\n",
    "    Function to calculate the gravitational force between two objects. \n",
    "\n",
    "    Parameters\n",
    "    ----------\n",
    "    r : float\n",
    "        Distance between the two objects (meters)\n",
    "    m : float, optional\n",
    "        Mass of the first object (kg). The default is 1.0 kg.\n",
    "    M_planet : float, optional\n",
    "        Mass of the second object (kg). The default is M_earth = 5.97e24 kg. \n",
    "\n",
    "    Returns\n",
    "    -------\n",
    "    F : float\n",
    "        Gravitational force between the two objects (Newtons; N = kg m/s^2).\n",
    "    \"\"\"\n",
    "    G = 6.67408e-11 # Newton's gravitational constant in units of N m^2/kg^2 = m^3/(kg s^2)\n",
    "    return -G*m*M_planet/sqr(r)\n"
   ]
  },
  {
   "cell_type": "markdown",
   "metadata": {},
   "source": [
    "Or equivalently"
   ]
  },
  {
   "cell_type": "code",
   "execution_count": null,
   "metadata": {},
   "outputs": [],
   "source": [
    "def F_grav_with_np(r,m=1.0, M_planet=5.972e24):\n",
    "    \"\"\"\n",
    "    Function to calculate the gravitational force between two objects. \n",
    "\n",
    "    Parameters\n",
    "    ----------\n",
    "    r : float\n",
    "        Distance between the two objects in m.\n",
    "    m : float, optional\n",
    "        Mass of the first object in kg. The default is 1.0 kg.\n",
    "    M_planet : float, optional\n",
    "        Mass of the second object in kg. The default is M_earth = 5.97e24 kg. \n",
    "\n",
    "    Returns\n",
    "    -------\n",
    "    F : float\n",
    "        Gravitational force between the two objects in Newtons N = kg m/s^2.\n",
    "    \"\"\"\n",
    "    G = 6.67408e-11 # Newton's gravitational constant in units of m^3/(kg s^2)\n",
    "    return -G*m*M_planet/np.square(r)"
   ]
  },
  {
   "cell_type": "markdown",
   "metadata": {},
   "source": [
    "In the first case, we used our *globally* defined ${\\tt sqr}$ function to compute the $r^2$. In the second case, we used the ${\\tt numpy}$ module, which was globally imported into this notebooks namespace (see top of the notebook), and used the ${\\tt np.square()}$ function to compute the $r^2$.  "
   ]
  },
  {
   "cell_type": "code",
   "execution_count": null,
   "metadata": {},
   "outputs": [],
   "source": [
    "print(\"Force on Jupiter's surface: {:.2f} N\".format(F_grav_with_sqr(r_jupiter,m=1.0, M_planet=M_jupiter)))\n",
    "print(\"Force on Jupiter's surface: {:.2f} N\".format(F_grav_with_np(r_jupiter,m=1.0, M_planet=M_jupiter)))"
   ]
  },
  {
   "cell_type": "markdown",
   "metadata": {},
   "source": [
    "Finally, functions also take other functions as arguments. You will encounter many occasions where you will want to define your own functions.  For example, suppose you want to numerically calculate the\n",
    "integral \n",
    "\\begin{equation}\n",
    "y=\\int_a^b f(x)dx.\n",
    "\\end{equation}\n",
    "In this course, you will learn how to write your own code to compute integrals, and the ${\\tt scipy.integrate}$ module has a number of integration routines that you can use. A closely related problem is solving a first order ordinary differential equation,\n",
    "\\begin{equation}\n",
    "\\frac{dy}{dx}=f(x,y)\n",
    "\\end{equation}\n",
    "Again, ${\\tt scipy.integrate}$ has a number of differential equation solvers.  However, either way, you will need to allow these codes to access the function $f(x)$. "
   ]
  },
  {
   "cell_type": "markdown",
   "metadata": {},
   "source": [
    "As a concrete example, suppose we wanted to write a function that could the amount of work that is done by an arbitrary force law $F(r)$ which depends on distance $r$. The work is defined as the integral of the force over the distance moved:\n",
    "\\begin{equation}\n",
    "W = \\int_{r_{\\rm initial}}^{r_{\\rm final}} F(r) dr\n",
    "\\end{equation}\n",
    "which is accomplished by the code below. "
   ]
  },
  {
   "cell_type": "code",
   "execution_count": null,
   "metadata": {},
   "outputs": [],
   "source": [
    "from scipy.integrate import quad\n",
    "def compute_work(force_law, r_initial,r_final):\n",
    "    \"\"\"\n",
    "    Compute the work done by the gravitational force when a mass m is moved from a distance r1 to a distance r2 from the center of a planet of mass M_planet.\n",
    "\n",
    "    Parameters\n",
    "    ----------\n",
    "    force_law : function\n",
    "        Function that computes the force F(r) (Newtons). The first argument of this function is the distance r  (m)\n",
    "    r_initial : float\n",
    "        Initial distance (meters)\n",
    "    r_final : float\n",
    "        Final distance (meters)\n",
    "    Returns\n",
    "    -------\n",
    "    work : float\n",
    "        Work done by the force_law F(r) from r_initial to r_final (Joules = N m = kg m^2/s^2)\n",
    "    \"\"\"\n",
    "    \n",
    "    return quad(force_law,r_initial,r_final)[0]\n",
    "\n"
   ]
  },
  {
   "cell_type": "markdown",
   "metadata": {},
   "source": [
    "Now suppose that we want to now calculate the work done by the gravitional force when the test mass $m$ is moved from a distance $r_{\\rm earth}$ at the surface of the Earth to the distance $r_{\\rm HST}$ at the location of the orbit of the Hubble Space Telescope."
   ]
  },
  {
   "cell_type": "code",
   "execution_count": null,
   "metadata": {},
   "outputs": [],
   "source": [
    "work_gravity = compute_work(F_grav_with_np,r_earth,r_HST)\n",
    "print(\"Work done by gravity: {:.2f} J\".format(work_gravity))\n"
   ]
  },
  {
   "cell_type": "markdown",
   "metadata": {},
   "source": [
    "In the above example, the ${\\tt compute\\_work}$ function takes as its first argument the function ${\\tt force\\_law}$, which computes the the force law $F(r)$.  The second and third arguments are the initial and final distances, respectively.  The ${\\tt compute\\_work}$ function then uses the ${\\tt scipy.integrate.quad}$ function to compute the integral.  Note the ${\\tt quad}$ function is not defined in the current module namespace, but rather it is defined in the ${\\tt scipy.integrate}$ namespace.  This is why we need to import it from ${\\tt scipy.integrate}$ module before we can use it. The first argument to ${\\tt quad}$ which performs the integral is also a function, and we passed the function ${\\tt F\\_grav\\_with\\_np}$ into ${\\tt compute\\_work}$, and this function variable is then passed into ${\\tt quad} to compute the integral of the gravitational force. \n",
    "\n",
    "Thus the ${\\tt quad}$ function is another example of a function that takes another function as an argument.  The function passed to ${\\tt quad}$ must take a single argument, which is the variable of integration $r$, and then the ${\\tt quad}$ function returns the value of the integral. Actually, the ${\\tt quad}$ function returns a *tuple*, which is a collection of variables.  This tuple actally has two elements, the first element of the tuple is the value of the integral (which we returned above, hence the ${\\tt quad(force\\_law,r\\_initial,r\\_final)[0])}$ and the second element is an estimate of the error on the integral.  We will learn more about tuples, shortly but the full output of the ${\\tt quad}$ function is shown below:  "
   ]
  },
  {
   "cell_type": "code",
   "execution_count": null,
   "metadata": {},
   "outputs": [],
   "source": [
    "answer, error = quad(F_grav_with_np,r_earth,r_HST)\n",
    "print(\"Work done by gravity: {:.2f} J\".format(answer))\n",
    "print(\"Error: {:.2e} J\".format(error))"
   ]
  },
  {
   "cell_type": "markdown",
   "metadata": {},
   "source": [
    "You can verify the inputs arguments and return values of the ${\\tt quad}$ function by typing ${\\tt help(quad)}$ in a code cell.  This will bring up the documentation for the ${\\tt quad}$ function as is done below. "
   ]
  },
  {
   "cell_type": "code",
   "execution_count": null,
   "metadata": {},
   "outputs": [],
   "source": [
    "help(quad)"
   ]
  }
 ],
 "metadata": {
  "kernelspec": {
   "display_name": "Python 3 (ipykernel)",
   "language": "python",
   "name": "python3"
  },
  "language_info": {
   "codemirror_mode": {
    "name": "ipython",
    "version": 3
   },
   "file_extension": ".py",
   "mimetype": "text/x-python",
   "name": "python",
   "nbconvert_exporter": "python",
   "pygments_lexer": "ipython3",
   "version": "3.11.5"
  }
 },
 "nbformat": 4,
 "nbformat_minor": 4
}
