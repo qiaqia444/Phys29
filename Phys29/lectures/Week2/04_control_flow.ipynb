{
 "cells": [
  {
   "cell_type": "markdown",
   "metadata": {},
   "source": [
    "# Logical Expressions and Conditionals"
   ]
  },
  {
   "cell_type": "markdown",
   "metadata": {},
   "source": [
    "Programs often require that a condition be checked before deciding what to do next. This is done with an ${\\tt if}$-${\\tt else}$ construct, for example consider the function: "
   ]
  },
  {
   "cell_type": "code",
   "execution_count": 1,
   "metadata": {},
   "outputs": [
    {
     "name": "stdout",
     "output_type": "stream",
     "text": [
      "z = 1\n",
      "z = 0\n"
     ]
    }
   ],
   "source": [
    "def cond_example(x,y):\n",
    "    if x > y:   \n",
    "        z=1\n",
    "    else:\n",
    "        z=0\n",
    "    return z   \n",
    "\n",
    "print('z = {0}'.format(cond_example(2,1)))\n",
    "print('z = {0}'.format(cond_example(1,2)))"
   ]
  },
  {
   "cell_type": "markdown",
   "metadata": {},
   "source": [
    "The program above assigns different values to the variable ${\\tt z}$ depending on whether ${\\tt x}$ is greater than, or less than or equal, to ${\\tt y}$.  ${\\tt z}$\n",
    "can then be used later to impact the downstream outcome of the code.  Note the colons at the end of the ${\\tt if}$ and ${\\tt else}$ statements, and the subsequent\n",
    "indentation.  This formatting is required, and is very similar to what we used for the function ${\\tt def}$ statement.  Once the indentation ends,\n",
    "we are outside of the conditional statements and back in the main code. "
   ]
  },
  {
   "cell_type": "markdown",
   "metadata": {},
   "source": [
    "The expression ${\\tt x>y}$ uses the *comparison operator* ${\\tt >}$. Such operators evaluate to one of two *Boolean* values}:  ${\\tt True}$ or ${\\tt False}$, which\n",
    "can then be used in logical statements to govern control flow.  There are six such comparison\n",
    "operators in Python:\n",
    "\n",
    "| Operator  |  Description |\n",
    "|:---------:|:-------------|\n",
    "| ``>``     | Greater than |\n",
    "| ``>=``    | Greater than or equal to |\n",
    "| ``<``     | Less than |\n",
    "| ``<=``    | Less than or equal to |\n",
    "| ``==``    | Equal to |\n",
    "| ``!=``    | Not equal to |\n"
   ]
  },
  {
   "cell_type": "markdown",
   "metadata": {},
   "source": [
    "For example, the following statement executes to ${\\tt False}$:\n"
   ]
  },
  {
   "cell_type": "code",
   "execution_count": 2,
   "metadata": {},
   "outputs": [
    {
     "name": "stdout",
     "output_type": "stream",
     "text": [
      "False\n"
     ]
    }
   ],
   "source": [
    "print(1 >=2)"
   ]
  },
  {
   "cell_type": "markdown",
   "metadata": {},
   "source": [
    "Boolean values can themselves be operated upon with the *logical operators* ${\\tt and}$, ${\\tt or}$, and ${\\tt not}$, where ${\\tt not}$ flips the value of a Boolean, and ${\\tt and}$ and ${\\tt or}$ combine Booleans.  For example \n"
   ]
  },
  {
   "cell_type": "code",
   "execution_count": 3,
   "metadata": {},
   "outputs": [
    {
     "name": "stdout",
     "output_type": "stream",
     "text": [
      "False\n"
     ]
    }
   ],
   "source": [
    "print(1 >=2 and 4>=3)"
   ]
  },
  {
   "cell_type": "markdown",
   "metadata": {},
   "source": [
    "evaluates to ${\\tt False}$, since both logical expressions are not ${\\tt True}$. Whereas"
   ]
  },
  {
   "cell_type": "code",
   "execution_count": 4,
   "metadata": {},
   "outputs": [
    {
     "name": "stdout",
     "output_type": "stream",
     "text": [
      "True\n"
     ]
    }
   ],
   "source": [
    "print(1 >=2 or 4>=3)"
   ]
  },
  {
   "cell_type": "markdown",
   "metadata": {},
   "source": [
    "evaluates to ${\\tt True}$. Finally, "
   ]
  },
  {
   "cell_type": "code",
   "execution_count": 5,
   "metadata": {},
   "outputs": [
    {
     "name": "stdout",
     "output_type": "stream",
     "text": [
      "True\n"
     ]
    }
   ],
   "source": [
    "print(not 1 >=2)"
   ]
  },
  {
   "cell_type": "markdown",
   "metadata": {},
   "source": [
    "The function ${\\tt cond\\_example}$ above only had two possible outcomes governed by the ${\\tt if}$-${\\tt else}$ construct. But often there are more than two possibilities.  In this case, we can use the ${\\tt elif}$ statement to add additional conditions to the code.   For example, consider an implementation of the \n",
    "[Heaviside step function](http://mathworld.wolfram.com/HeavisideStepFunction.html)\n",
    "$$\n",
    "\\Theta(x) = \\begin{cases}\n",
    "  0 & x < 0 \\\\\n",
    "  \\frac{1}{2} & x = 0\\\\\n",
    "  1 & x > 0\n",
    "  \\end{cases}\n",
    "$$"
   ]
  },
  {
   "cell_type": "code",
   "execution_count": 6,
   "metadata": {},
   "outputs": [],
   "source": [
    "def heaviside(x):\n",
    "    \"\"\" Heaviside step function \n",
    "    \n",
    "    Parameters\n",
    "    ----------\n",
    "    x : float \n",
    "        Input domain value or array of values. \n",
    "    \n",
    "    Returns\n",
    "    -------\n",
    "    theta : float \n",
    "        Heaviside function evauated at x. \n",
    "    \"\"\"\n",
    "    if x < 0.0:\n",
    "        return 0.0\n",
    "    elif x == 0.0:\n",
    "        return 0.5\n",
    "    else:\n",
    "        return 1"
   ]
  },
  {
   "cell_type": "markdown",
   "metadata": {},
   "source": [
    "You can have as many ${\\tt elif}$ statements as you like, but the ${\\tt else}$ statement can only occur once, and if it does occur, it must be the last as its\n",
    "code is only executed if all the previous logical expressions evaluate to ${\\tt False}$."
   ]
  },
  {
   "cell_type": "code",
   "execution_count": 7,
   "metadata": {},
   "outputs": [
    {
     "name": "stdout",
     "output_type": "stream",
     "text": [
      "Heaviside(-1) = 0.0\n",
      "Heaviside(0)  = 0.5\n",
      "Heaviside(1)  = 1.0\n"
     ]
    }
   ],
   "source": [
    "print('Heaviside(-1) = {:0.1f}'.format(heaviside(-1)))\n",
    "print('Heaviside(0)  = {:0.1f}'.format(heaviside(0)))\n",
    "print('Heaviside(1)  = {:0.1f}'.format(heaviside(1)))"
   ]
  },
  {
   "cell_type": "markdown",
   "metadata": {},
   "source": [
    "Finally, as a last example you may know that the gravitational potential energy of a test mass $m$ at a distance $r$ from the center of a uniform density sphere of total mass $M$ and radius $R$ is given by\n",
    "$$\n",
    "U_{\\rm grav}(r)=\\begin{cases}\n",
    "-\\frac{GMm(3R^2-r^2)}{2R^3} & r\\le R\\\\\n",
    "-\\frac{GMm}{r} & r\\gt R\n",
    "\\end{cases}\n",
    "$$"
   ]
  },
  {
   "cell_type": "code",
   "execution_count": 8,
   "metadata": {},
   "outputs": [],
   "source": [
    "def U_grav(r,M,R,m): \n",
    "    \"\"\" Gravitational potential energy of a mass m at a distance r from a uniform density sphere of total mass M and radius R. \n",
    "    \n",
    "    Parameters\n",
    "    ----------\n",
    "    r : float \n",
    "        Distance from center of the sphere (m).  \n",
    "    M : float \n",
    "        Total mass of the sphere (kg).\n",
    "    R : float \n",
    "        Radius of the sphere (m)\n",
    "    m : float \n",
    "        Mass of test mass (kg).\n",
    "    \n",
    "    Returns\n",
    "    -------\n",
    "    U : float \n",
    "        Gravitational potential energy. \n",
    "    \"\"\"\n",
    "    G=6.67408e-11 # Newton's gravitational constant in units of m^3/(kg s^2)\n",
    "    if r <= R:\n",
    "        return -G*M*m*(3*R**2-r**2)/2/R**3\n",
    "    else:\n",
    "        return -G*M*m/r"
   ]
  },
  {
   "cell_type": "markdown",
   "metadata": {},
   "source": [
    "For fun, we will make a simple plot of this function using some python  techniques we will be exploring in the next few weeks:  "
   ]
  },
  {
   "cell_type": "code",
   "execution_count": 9,
   "metadata": {},
   "outputs": [
    {
     "data": {
      "image/png": "[encoded data removed]",
      "text/plain": [
       "<Figure size 640x480 with 1 Axes>"
      ]
     },
     "metadata": {},
     "output_type": "display_data"
    }
   ],
   "source": [
    "import matplotlib.pyplot as plt\n",
    "import numpy as np\n",
    "R = 6.371e6 # Radius of the Earth in m\n",
    "M = 5.972e24 # Mass of the Earth in kg \n",
    "m = 1.0 # Mass of the test mass in kg\n",
    "# Create an arry of 100 evenly spaced values of r from 0 to 3e7\n",
    "nr=100\n",
    "r = np.linspace(0.0,3.0e7,nr)\n",
    "U = np.zeros_like(r)\n",
    "for i in range(nr):\n",
    "    U[i] = U_grav(r[i],M,R,m)\n",
    "plt.plot(r,U)\n",
    "plt.axvline(R,color='k',linestyle=':', label='R')\n",
    "plt.xlabel('r (m)', fontsize=14)\n",
    "plt.ylabel('U (J)', fontsize=14)\n",
    "plt.legend()\n",
    "plt.show()\n"
   ]
  },
  {
   "cell_type": "markdown",
   "metadata": {},
   "source": [
    "Note that the gravitational potential energy is continous across the surface of the Earth at $r=R=6.371\\times 10^6~{\\rm m}$, which is indicated by the vertical dotted line.  "
   ]
  }
 ],
 "metadata": {
  "kernelspec": {
   "display_name": "Python 3 (ipykernel)",
   "language": "python",
   "name": "python3"
  },
  "language_info": {
   "codemirror_mode": {
    "name": "ipython",
    "version": 3
   },
   "file_extension": ".py",
   "mimetype": "text/x-python",
   "name": "python",
   "nbconvert_exporter": "python",
   "pygments_lexer": "ipython3",
   "version": "3.11.5"
  }
 },
 "nbformat": 4,
 "nbformat_minor": 4
}
