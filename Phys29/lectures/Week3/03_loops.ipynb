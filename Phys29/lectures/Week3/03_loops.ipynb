{
 "cells": [
  {
   "cell_type": "markdown",
   "metadata": {},
   "source": [
    "# Loops"
   ]
  },
  {
   "cell_type": "markdown",
   "metadata": {},
   "source": [
    "There are many instances where you want a piece of code to be executed many times, over and over again, but with some varialbe or variables changed.   Such tasks would be extremely tedious for a human, but are ideal for a computer!  The program structure that typically enables this is called a *loop*.  There are two types of loops in Python\n",
    "that use the commands ${\\tt for}$ and ${\\tt while}$.  Let us explore ${\\tt for}$ loops first."
   ]
  },
  {
   "cell_type": "markdown",
   "metadata": {},
   "source": [
    "## The ${\\tt for}$ loop"
   ]
  },
  {
   "cell_type": "markdown",
   "metadata": {},
   "source": [
    "The ${\\tt for}$ statement executes a code block (the \"body\" of the for-loop) once for each item in a sequence:\n",
    "```python\n",
    "\n",
    "for VARIABLE in ITERABLE:\n",
    "    # for-block \n",
    "    BODY\n",
    "    ...\n",
    "```\n",
    "\n",
    "For example:"
   ]
  },
  {
   "cell_type": "code",
   "execution_count": 187,
   "metadata": {},
   "outputs": [
    {
     "name": "stdout",
     "output_type": "stream",
     "text": [
      "lion\n",
      "tiger\n",
      "bear\n"
     ]
    }
   ],
   "source": [
    "for x in ['lion', 'tiger', 'bear']:\n",
    "    print(x)"
   ]
  },
  {
   "cell_type": "markdown",
   "metadata": {},
   "source": [
    "There are a few things to note: \n",
    "- The ${\\tt for}$ statement ends with a colon ${\\tt :}$\n",
    "- The body of the ${\\tt for}$ loop is indented. The convention is four spaces for each indentation. You can use the tab key to indent by four spaces in your IDE. \n",
    "- The VARIABLE cycles through each item in the sequence provided by the ITERABLE.  Here **iterable** is the name given to a python object that can be iterated over such as list, tuple, string, array ... or any other iterable Python object. \n",
    "- The ${\\tt in}$ syntax must be paired with the ${\\tt for}$, and designates the variable that will be iterated over. \n",
    "  \n",
    "Note that ${\\tt in}$  on its own has a different meaning in pytyhon, namely ${\\tt in}$ is a logical operator that returns a boolean variable ${\\tt True}$ or ${\\tt False}$ depending on whether the value is in the sequence or not.  \n",
    "For example: "
   ]
  },
  {
   "cell_type": "code",
   "execution_count": 188,
   "metadata": {},
   "outputs": [
    {
     "name": "stdout",
     "output_type": "stream",
     "text": [
      "False\n",
      "False\n",
      "True\n"
     ]
    }
   ],
   "source": [
    "print('elephant' in ['lion', 'tiger', 'bear'])\n",
    "print('tiger' not in ['lion', 'tiger', 'bear'])\n",
    "print('elephant' not in ['lion', 'tiger', 'bear'])"
   ]
  },
  {
   "cell_type": "markdown",
   "metadata": {},
   "source": [
    "#### Example: Convert a set of temperatures from Fahrenheit to Kelvin using a ${\\tt for}$ loop\n",
    "\n",
    "The formula to convert a temperature from degrees Fahrenheit to Kelvin is\n",
    "$$\n",
    "T_{\\rm K} = (T_{\\rm F} - 32) \\times \\frac{5}{9} + 273.15\n",
    "$$"
   ]
  },
  {
   "cell_type": "code",
   "execution_count": 189,
   "metadata": {},
   "outputs": [
    {
     "name": "stdout",
     "output_type": "stream",
     "text": [
      "Temperature of   60.1 F is  288.8 K\n",
      "Temperature of   78.3 F is  298.9 K\n",
      "Temperature of   98.8 F is  310.3 K\n",
      "Temperature of   97.1 F is  309.3 K\n",
      "Temperature of  101.3 F is  311.6 K\n",
      "Temperature of  110.0 F is  316.5 K\n"
     ]
    }
   ],
   "source": [
    "T_F = [60.1, 78.3, 98.8, 97.1, 101.3, 110.0]\n",
    "T_K = []\n",
    "for t_f in T_F:\n",
    "    t_k = (t_f - 32) * 5 / 9 + 273.15\n",
    "    T_K.append(t_k)\n",
    "    print('Temperature of {:6.1f} F is {:6.1f} K'.format(t_f, t_k))"
   ]
  },
  {
   "cell_type": "markdown",
   "metadata": {},
   "source": [
    "Note that I created an empty list called ${\\tt T\\_K}$ and then appended each converted temperature to the list to store the results. This is a common construction to store the results of a loop.  Although for floating point data as in this example, we would normally execute this computation with ${\\tt numpy}$ arrays, which are both more concise and more efficient (more on that in the next lecture). As expected the length of the list ${\\tt T\\_K}$ is the same as the length of the list ${\\tt T\\_F}$, which is the number of iterations in the loop, and the two sets of temperatures are aligned. \n"
   ]
  },
  {
   "cell_type": "code",
   "execution_count": 190,
   "metadata": {},
   "outputs": [
    {
     "name": "stdout",
     "output_type": "stream",
     "text": [
      "6\n",
      "[288.76111111111106, 298.8722222222222, 310.26111111111106, 309.31666666666666, 311.65, 316.4833333333333]\n",
      "[60.1, 78.3, 98.8, 97.1, 101.3, 110.0]\n"
     ]
    }
   ],
   "source": [
    "print(len(T_K))\n",
    "print(T_K)\n",
    "print(T_F)"
   ]
  },
  {
   "cell_type": "markdown",
   "metadata": {},
   "source": [
    "In scientific applications it is very common to write ${\\tt for}$ loops with the Python ${\\tt range}$ function, \n",
    "which returns an iterable sequence of integers, the usage is\n",
    "```python\n",
    "range(start, stop, step)\n",
    "```\n",
    "where all three arguments must be integers.  The function returns a sequence of integers starting at the value of ${\\tt start}$ (optional, default value is ${\\tt 0}$), increasing by the integer ${\\tt step}$ (optional, default value is ${\\tt 1}$), and ending with the integer ${\\tt stop}$ (required).  Note that the sequence does not include the value of ${\\tt stop}$, but it does start with the value of ${\\tt start}$.\n",
    "\n",
    "The most typical usage is to provide the single required argument ${\\tt stop}$, which returns a sequence of integers starting at ${\\tt 0}$ and ending with ${\\tt stop-1}$.  For example:"
   ]
  },
  {
   "cell_type": "code",
   "execution_count": 191,
   "metadata": {},
   "outputs": [
    {
     "name": "stdout",
     "output_type": "stream",
     "text": [
      "0\n",
      "1\n",
      "2\n",
      "3\n",
      "4\n"
     ]
    }
   ],
   "source": [
    "for i in range(5):\n",
    "    print(i)"
   ]
  },
  {
   "cell_type": "markdown",
   "metadata": {},
   "source": [
    "Note that we get five values from ${\\tt 0}$ to ${\\tt 4}$, but not including ${\\tt 5}$!  Recall from our discussion that lists and tuples in Python are indexed starting from zero and not one, and the same is true for ${\\tt numpy}$ arrays. This is why the ${\\tt range}$ function defaults to zero based indexing, following the same convention. For example consider this five element list of animals:    "
   ]
  },
  {
   "cell_type": "code",
   "execution_count": 192,
   "metadata": {},
   "outputs": [
    {
     "name": "stdout",
     "output_type": "stream",
     "text": [
      "0 lion\n",
      "1 tiger\n",
      "2 bear\n",
      "3 elephant\n",
      "4 giraffe\n"
     ]
    }
   ],
   "source": [
    "animals = ['lion', 'tiger', 'bear', 'elephant', 'giraffe']\n",
    "for i in range(len(animals)):\n",
    "    print(i, animals[i])"
   ]
  },
  {
   "cell_type": "markdown",
   "metadata": {},
   "source": [
    "Of course we can change the behavior of range using the optional arguments, for example supposed we wanted to skip zero:"
   ]
  },
  {
   "cell_type": "code",
   "execution_count": 193,
   "metadata": {},
   "outputs": [
    {
     "name": "stdout",
     "output_type": "stream",
     "text": [
      "1\n",
      "2\n",
      "3\n",
      "4\n",
      "5\n"
     ]
    }
   ],
   "source": [
    "for i in range(1,6):\n",
    "    print(i)\n"
   ]
  },
  {
   "cell_type": "code",
   "execution_count": 194,
   "metadata": {},
   "outputs": [
    {
     "name": "stdout",
     "output_type": "stream",
     "text": [
      "1\n",
      "3\n"
     ]
    }
   ],
   "source": [
    "for i in range(1,5,2):\n",
    "    print(i)"
   ]
  },
  {
   "cell_type": "code",
   "execution_count": 195,
   "metadata": {},
   "outputs": [
    {
     "name": "stdout",
     "output_type": "stream",
     "text": [
      "5\n",
      "4\n",
      "3\n",
      "2\n",
      "1\n"
     ]
    }
   ],
   "source": [
    "for i in range(5,0,-1):\n",
    "    print(i)"
   ]
  },
  {
   "cell_type": "markdown",
   "metadata": {},
   "source": [
    "Okay if you've understood how ${\\tt range}$ works, what do you think this code executes to?"
   ]
  },
  {
   "cell_type": "code",
   "execution_count": 196,
   "metadata": {},
   "outputs": [
    {
     "name": "stdout",
     "output_type": "stream",
     "text": [
      "False\n"
     ]
    }
   ],
   "source": [
    "print(3 in range(0, 10, 2))"
   ]
  },
  {
   "cell_type": "markdown",
   "metadata": {},
   "source": [
    "The reason it is ${\\tt False}$ is that the sequence of integers returned by ${\\tt range}$ does not include the value of ${\\tt 3}$, i.e. "
   ]
  },
  {
   "cell_type": "code",
   "execution_count": 197,
   "metadata": {},
   "outputs": [
    {
     "name": "stdout",
     "output_type": "stream",
     "text": [
      "0\n",
      "2\n",
      "4\n",
      "6\n",
      "8\n"
     ]
    }
   ],
   "source": [
    "for i in range(0,10,2):\n",
    "    print(i)"
   ]
  },
  {
   "cell_type": "markdown",
   "metadata": {},
   "source": [
    "As a practical application of loops, consider how we might numerically evaluate the Riemann zeta function, which can be defined as an infinite series:"
   ]
  },
  {
   "cell_type": "markdown",
   "metadata": {},
   "source": [
    "$$\n",
    "\\zeta(s) = \\sum_{n=1}^{\\infty} \\frac{1}{n^s}. \n",
    "$$\n",
    "This is an incredibly important function in mathematical number theory, as it is related to the distribution of prime numbers among the integers. This function also appears in various integrals that are important in statistical mechanics. Let us evauate the function for $s=2$, where it is known that $\\zeta(2) = \\pi^2/6 = 1.6449340668$.  Let's see if we can get that number using a for loop. While we cannot sum to infinity, as that would take an infinite amount of computing time, we can perform a finite sum. How about ten terms?"
   ]
  },
  {
   "cell_type": "code",
   "execution_count": 198,
   "metadata": {},
   "outputs": [
    {
     "name": "stdout",
     "output_type": "stream",
     "text": [
      "1 1.0\n",
      "2 1.25\n",
      "3 1.3611111111111112\n",
      "4 1.4236111111111112\n",
      "5 1.4636111111111112\n",
      "6 1.4913888888888889\n",
      "7 1.511797052154195\n",
      "8 1.527422052154195\n",
      "9 1.5397677311665408\n",
      "10 1.5497677311665408\n"
     ]
    }
   ],
   "source": [
    "# Compute zeta(2) = 1 + 1/2**2 + 1/3**2 + 1/4**2 + ...\n",
    "zeta_of_2_approx = 0.0\n",
    "# Note the sum is to 1 to 11, since I want the first 10 terms, i.e. endpoint is not executed. \n",
    "for n in range(1,11): \n",
    "    zeta_of_2_approx += 1.0 / n**2\n",
    "    print(n,zeta_of_2_approx)"
   ]
  },
  {
   "cell_type": "markdown",
   "metadata": {},
   "source": [
    "Where I've printed out the value of the sum up to each value of $n$ so that we can gauge how fast the infinite series is converging. Evidently it is not converging that fast, since with ten terms we are only getting the right answer to within one significant figure. Fortunately, we can ask the computer to work much harder for us. Let's try 100 terms,"
   ]
  },
  {
   "cell_type": "code",
   "execution_count": 210,
   "metadata": {},
   "outputs": [
    {
     "name": "stdout",
     "output_type": "stream",
     "text": [
      "After    100 iterations sum = 1.634983900185\n",
      "The infinite sum            = 1.644934066848\n"
     ]
    }
   ],
   "source": [
    "import numpy as np\n",
    "zeta_of_2_approx = 0.0\n",
    "for n in range(1,101):\n",
    "    zeta_of_2_approx += 1.0 / n**2\n",
    "print('After {:6d} iterations sum = {:.12f}'.format(n,zeta_of_2_approx))\n",
    "print('The infinite sum            = {:.12f}'.format(np.pi**2 / 6))"
   ]
  },
  {
   "cell_type": "markdown",
   "metadata": {},
   "source": [
    "Note that the print statement is no longer indendeted and is no longer part of the body of the ${\\tt for}$ loop. In other words, it is executed only once after the loop is finished to print out the final value. \n",
    "\n",
    "We are now getting the right answer to within two significant figures.  With 10,000 terms we get much closer:"
   ]
  },
  {
   "cell_type": "code",
   "execution_count": 200,
   "metadata": {},
   "outputs": [
    {
     "name": "stdout",
     "output_type": "stream",
     "text": [
      "After  10000 iterations     = 1.644834071848\n",
      "The infinite sum            = 1.644934066848\n"
     ]
    }
   ],
   "source": [
    "zeta_of_2_approx = 0.0\n",
    "for n in range(1,10001):\n",
    "    zeta_of_2_approx += 1.0 / n**2\n",
    "print('After {:6d} iterations     = {:.12f}'.format(n,zeta_of_2_approx))\n",
    "print('The infinite sum            = {:.12f}'.format(np.pi**2 / 6))"
   ]
  },
  {
   "cell_type": "markdown",
   "metadata": {},
   "source": [
    "which now agrees to within four significant figures."
   ]
  },
  {
   "cell_type": "markdown",
   "metadata": {},
   "source": [
    "## The ${\\tt while}$ loop"
   ]
  },
  {
   "cell_type": "markdown",
   "metadata": {},
   "source": [
    "In the preceding example it would be nice if we could demand a certain level of accuracy and have the loop continue iterating until that accuracy is achieved. It turns out this is possible using a different type of loop, the ${\\tt while}$ loop.  The ${\\tt while}$ loop executes a code block (the \"body\" of the while-loop) as long as a condition is true:\n",
    "```python\n",
    "while CONDITION:\n",
    "    # while-block \n",
    "    BODY\n",
    "    ...\n",
    "```"
   ]
  },
  {
   "cell_type": "markdown",
   "metadata": {},
   "source": [
    "There are again a few things to note: \n",
    "- Similar to the ${\\tt for}$ loops, the ${\\tt while}$ statement ends with a colon ${\\tt :}$ and the body of the ${\\tt while}$ loop is indented.\n",
    "- The ${\\tt while}$ loop continues to execute the body of the loop as long as the CONDITION is ${\\tt True}$.  The CONDITION is a boolean expression that is evaluated at the start of each iteration of the loop.  If the CONDITION is ${\\tt False}$, the loop is terminated and the program continues with the next statement (i.e. not indented) after the loop body."
   ]
  },
  {
   "cell_type": "markdown",
   "metadata": {},
   "source": [
    "Suppose we want to know where to truncate the series such that first $n$ terms of the Riemann zeta function $\\zeta(2)$ agrees with the true value to a certain level of accuracy.  We could do this with a ${\\tt while}$ loop:"
   ]
  },
  {
   "cell_type": "code",
   "execution_count": 218,
   "metadata": {},
   "outputs": [
    {
     "name": "stdout",
     "output_type": "stream",
     "text": [
      "The number of elements needed: 6080\n",
      "After   6080 iterations     = 1.644769579637\n",
      "The infinite sum            = 1.644934066848\n"
     ]
    }
   ],
   "source": [
    "relative_accuracy = 1e-4  # Agrees to within 1 part in 10,000 or 0.01%\n",
    "zeta_of_2 = np.pi**2/6.0  # The true value of zeta(2)\n",
    "n = 1                     # First value of the sum\n",
    "zeta_of_2_approx = 0.0\n",
    "while abs(zeta_of_2_approx - zeta_of_2)/zeta_of_2 > relative_accuracy:\n",
    "    zeta_of_2_approx += 1.0 / n**2\n",
    "    n += 1 # increment the counter by 1\n",
    "print(f\"The number of elements needed: {n}\")\n",
    "print('After {:6d} iterations     = {:.12f}'.format(n,zeta_of_2_approx))\n",
    "print('The infinite sum            = {:.12f}'.format(np.pi**2 / 6))"
   ]
  },
  {
   "cell_type": "markdown",
   "metadata": {},
   "source": [
    "We can explicitly check the Boolean condition of the ${\\tt while}$ loop:        "
   ]
  },
  {
   "cell_type": "code",
   "execution_count": 219,
   "metadata": {},
   "outputs": [
    {
     "name": "stdout",
     "output_type": "stream",
     "text": [
      "9.999623331993716e-05\n",
      "False\n"
     ]
    }
   ],
   "source": [
    "print(abs(zeta_of_2_approx - zeta_of_2)/zeta_of_2)\n",
    "print(abs(zeta_of_2_approx - zeta_of_2)/zeta_of_2 > relative_accuracy)"
   ]
  },
  {
   "cell_type": "markdown",
   "metadata": {},
   "source": [
    "which we confirm to be $< 10^{-4}$. The condition becoming ${\\tt False}$ is what caused the loop to terminate. "
   ]
  },
  {
   "cell_type": "markdown",
   "metadata": {},
   "source": [
    "Note a few things about the loop above: \n",
    "- I had to initialize the variables used in my condition, specifically I set ${\\tt zeta\\_of\\_2\\_approx = 0.0}$. This is because the condition is evaluated at the start of each new iteration of the loop, and if the condition is ${\\tt False}$ the loop is terminated.  If I had not initialized ${\\tt zeta\\_of\\_2\\_approx}$, I would have gotten an error message that the variable was not defined.  Note that the ${\\tt while}$ statement evaluates to ${\\tt True}$ when ${\\tt zeta\\_of\\_2\\_approx = 0.0}$, i.e. for the first iteration of the loop (before we have performed any summing), which is important since otherwise the loop would not execute at all.\n",
    "- I had to explicitly initialize the counter ${\\tt n}$ that keeps track of the number of iterations of the loop, and I had to increment this counter myself in the body of the loop. \n",
    "\n",
    "One danger of ${\\tt while}$ loops is that if the condition is never ${\\tt False}$, the loop will continue to execute forever.  So the code will never stop running, or hang, and you will have no idea why it is taking so long! This is a classic programming error known as an infinite loop. \n",
    "\n",
    "If you suspect that your code has a bug in it that is causing it to run for too long, you can always stop it in a Jupyter notebook by interrupting the Kernel. That will stop the interpreter from running your code. "
   ]
  },
  {
   "cell_type": "markdown",
   "metadata": {},
   "source": [
    "## ${\\tt break}$  and ${\\tt continue}$"
   ]
  },
  {
   "cell_type": "markdown",
   "metadata": {},
   "source": [
    "One way of avoiding infinite loops is to insert a conditional statement that will stop the loop from executing if a certain condition is met.  This can be done with the ${\\tt break}$ statement, which terminates the innermost loop that it is contained in.  For example, here is the same while loop as the one above, but it will stop if the number of iterations exceeds 100:"
   ]
  },
  {
   "cell_type": "code",
   "execution_count": 221,
   "metadata": {},
   "outputs": [
    {
     "name": "stdout",
     "output_type": "stream",
     "text": [
      "The maximum number of iterations 100 has been reached\n",
      "After    100 iterations sum = 1.634983900185\n",
      "The infinite sum            = 1.644934066848\n",
      "True\n"
     ]
    }
   ],
   "source": [
    "relative_accuracy = 1e-4  # Agrees to within 1 part in 10,000 or 0.01%\n",
    "zeta_of_2 = np.pi**2/6.0  # The true value of zeta(2)\n",
    "n = 1                     # First value of the sum\n",
    "zeta_of_2_approx = 0.0\n",
    "max_iter = 100\n",
    "while abs(zeta_of_2_approx - zeta_of_2)/zeta_of_2 > relative_accuracy:\n",
    "    zeta_of_2_approx += 1.0 / n**2\n",
    "    if n == max_iter:\n",
    "        print(f\"The maximum number of iterations {max_iter} has been reached\")\n",
    "        break\n",
    "    n += 1 # increment the counter by 1\n",
    "\n",
    "print('After {:6d} iterations sum = {:.12f}'.format(n,zeta_of_2_approx))\n",
    "print('The infinite sum            = {:.12f}'.format(np.pi**2 / 6))\n",
    "# While loop condition is still True, but the break statement is executed so we exited\n",
    "print(abs(zeta_of_2_approx - zeta_of_2)/zeta_of_2 > relative_accuracy)\n",
    "\n"
   ]
  },
  {
   "cell_type": "markdown",
   "metadata": {},
   "source": [
    "The ${\\tt break}$ statement can also be used in a ${\\tt for}$ loop.  For example, we can achieve the same result as the ${\\tt while}$ loop above using a ${\\tt for}$ loop:"
   ]
  },
  {
   "cell_type": "code",
   "execution_count": 223,
   "metadata": {},
   "outputs": [
    {
     "name": "stdout",
     "output_type": "stream",
     "text": [
      "The maximum number of iterations 100 has been reached\n",
      "After    100 iterations sum = 1.634983900185\n",
      "The infinite sum            = 1.644934066848\n",
      "False\n"
     ]
    }
   ],
   "source": [
    "zeta_of_2_approx = 0.0\n",
    "for n in range(1,max_iter+1):\n",
    "    zeta_of_2_approx += 1.0 / n**2\n",
    "    if abs(zeta_of_2_approx - zeta_of_2)/zeta_of_2 < relative_accuracy:\n",
    "        print(f\"The number of elements needed: {n}\")\n",
    "        break\n",
    "else: \n",
    "    print(f\"The maximum number of iterations {max_iter} has been reached\")\n",
    "\n",
    "print('After {:6d} iterations sum = {:.12f}'.format(n,zeta_of_2_approx))\n",
    "print('The infinite sum            = {:.12f}'.format(np.pi**2 / 6))\n",
    "# The condition for the break was never satsified, so we did not break out\n",
    "print(abs(zeta_of_2_approx - zeta_of_2)/zeta_of_2 < relative_accuracy)\n"
   ]
  },
  {
   "cell_type": "markdown",
   "metadata": {},
   "source": [
    "Note that now we have explicitly set the maximum number of iterations, so there is no danger of an infinite loop. The ${\\tt break}$ now governs the conditional that we used previously in the ${\\tt while}$ loop, and terminates the loop early if the condition is met.\n",
    "\n",
    "Finally, we also added an ${\\tt else}$ statement, which is not associated with the ${\\tt if}$ in the break statement, since it is has the same indentation level as the  ${\\tt for}$ loop. Indeed, this ${\\tt else}$ statement is \n",
    "an optional piece of syntax that can be used with both ${\\tt for}$ and ${\\tt while}$ loops.  The code block after the ${\\tt else}$ statement will *only* be executed if the loop terminates normally, i.e. without a ${\\tt break}$.  This is somewhat convoluted logic, and as such is not that common of a construct, but to provide a clearer example: "
   ]
  },
  {
   "cell_type": "code",
   "execution_count": 224,
   "metadata": {},
   "outputs": [
    {
     "name": "stdout",
     "output_type": "stream",
     "text": [
      "0\n",
      "1\n",
      "2\n",
      "else block executed since the loop completed without a break\n"
     ]
    }
   ],
   "source": [
    "for i in range(3):\n",
    "    if i == 10:\n",
    "        break\n",
    "    print(i)\n",
    "else:\n",
    "    print('else block executed since the loop completed without a break')\n"
   ]
  },
  {
   "cell_type": "markdown",
   "metadata": {},
   "source": [
    "A somewhat more useful construct is the ${\\tt continue}$ statement, which skips the rest of the statements in the body of the loop and goes directly to the next iteration at the top of the loop.  For example, suppose I want to execute a loop for all values between 0 and 4, but I want to skip the value 2.  I could do this with a ${\\tt continue}$ statement:"
   ]
  },
  {
   "cell_type": "code",
   "execution_count": 225,
   "metadata": {},
   "outputs": [
    {
     "name": "stdout",
     "output_type": "stream",
     "text": [
      "0\n",
      "1\n",
      "2\n",
      "3\n",
      "4\n",
      "[0, 1, 3, 4]\n"
     ]
    }
   ],
   "source": [
    "vals_past_continue = []\n",
    "for i in range(5):\n",
    "    print(i)\n",
    "    if i == 2: \n",
    "        continue\n",
    "    vals_past_continue.append(i)\n",
    "print(vals_past_continue)"
   ]
  },
  {
   "cell_type": "markdown",
   "metadata": {},
   "source": [
    "As you can see the loop executes all five of the expected iterations (0,1,2,3,4), but the action after the continue statement is skipped for the value 2, and hence the append that is below the continue statement is not executed for the value 2."
   ]
  },
  {
   "cell_type": "markdown",
   "metadata": {},
   "source": [
    "## Recursive Functions"
   ]
  },
  {
   "cell_type": "markdown",
   "metadata": {},
   "source": [
    "In some cases, it is useful to have a function depend on itself and be able to call itself.  This is called a recursive function. While this can provide a very elegant solution to certain problems, it can also be dangerous, since one could accidentally write a recursive function that never terminates, keeps calling itself,  and thus results in an infinite loop."
   ]
  },
  {
   "cell_type": "markdown",
   "metadata": {},
   "source": [
    "Here is a practical example: [Legendre polynomials](https://en.wikipedia.org/wiki/Legendre_polynomials) $P_\\ell(x)$ are polynomials of non-negative integer degree $\\ell$ that arise in a number of contexts in physics, particularly solutions to partial differential equations involving the Laplacian  $\\nabla^2$ operator in spherical polar coordinates. This includes wave equations, Schrodinger's equation in spherically symmetric potentials (e.g. the hydrogen atom), and Laplace's equation. \n",
    "Legendre polynomials are defined on the finite domain $-1 \\leq x \\leq 1$.\n",
    "The four lowest order Legendre polynomials are given by:\n",
    "$$\n",
    "P_0(x)=1,\n",
    "\\,\\,\\,\\,\\,\n",
    "P_1(x)=x,\n",
    "\\,\\,\\,\\,\\,\n",
    "P_2(x)=\\frac{1}{2}(3x^2-1),\n",
    "\\,\\,\\,\\,\\,\n",
    "{\\rm and}\n",
    "\\,\\,\\,\\,\\,\n",
    "P_3(x)=\\frac{1}{2}(5x^3-3x). \n",
    "$$\n",
    "Polynomials of different degree $\\ell$ turn out to be related to each through the following recursion relation:\n",
    "$$\n",
    "\\ell P_\\ell(x)=(2\\ell-1)xP_{\\ell-1}(x)-(\\ell-1)P_{\\ell-2}(x).\n",
    "$$\n",
    "Let us use this relation to write a Python function to compute $P_\\ell(x)$ for any degree $\\ell$: "
   ]
  },
  {
   "cell_type": "code",
   "execution_count": 230,
   "metadata": {},
   "outputs": [],
   "source": [
    "def P(l,x):\n",
    "    if l == 0:\n",
    "        return 1\n",
    "    elif l == 1:\n",
    "        return x\n",
    "    else:\n",
    "        return ((2*l-1)*x*P(l-1,x) - (l-1)*P(l-2,x))/l"
   ]
  },
  {
   "cell_type": "markdown",
   "metadata": {},
   "source": [
    "This function correctly evaluates $P_\\ell$, which we can explicitly check by comparing to the ${\\tt scipy.special.legendre}$ function:"
   ]
  },
  {
   "cell_type": "code",
   "execution_count": 231,
   "metadata": {},
   "outputs": [
    {
     "name": "stdout",
     "output_type": "stream",
     "text": [
      "Our P(2,0))    = -0.500000\n",
      "Our P(3,1))    =  1.000000\n",
      "Scipy's P(2,0) = -0.500000\n",
      "Scipy's P(3,1) =  1.000000\n"
     ]
    }
   ],
   "source": [
    "from scipy.special import legendre\n",
    "print(\"Our P(2,0))    = {:9.6f}\".format(P(2,0)))\n",
    "print(\"Our P(3,1))    = {:9.6f}\".format(P(3,1)))\n",
    "print(\"Scipy's P(2,0) = {:9.6f}\".format(legendre(2)(0)))\n",
    "print(\"Scipy's P(3,1) = {:9.6f}\".format(legendre(3)(1)))"
   ]
  },
  {
   "cell_type": "markdown",
   "metadata": {},
   "source": [
    "Of course, if we were to write this function we would follow good coding practice and provide a docstring, comments, and some error checking on the input parameters, which we did not do above for clarity. But below is a better version of the function. That said, in practice we would not write this function at all, since the ${\\tt scipy.special.legendre}$ module makes it available to us.  is already available to us."
   ]
  },
  {
   "cell_type": "code",
   "execution_count": 209,
   "metadata": {},
   "outputs": [],
   "source": [
    "def P(l,x): \n",
    "    \"\"\"\n",
    "    Function to compute the Legendre polynomial of order l at x\n",
    "\n",
    "    Parameters\n",
    "    ----------\n",
    "    l : int\n",
    "        The order of the polynomial\n",
    "    x : float\n",
    "        The value at which to evaluate the polynomial. Must be in the range [-1,1]\n",
    "    \n",
    "    Returns\n",
    "    -------\n",
    "    P_l : float\n",
    "        The value of the Legendre polynomial of order l at x\n",
    "    \"\"\"\n",
    "    # Check that x is in the range [-1,1]\n",
    "    if x < -1.0 or x > 1.0:\n",
    "        raise ValueError('x must be in the range [-1,1]')\n",
    "    # Check that l is a non-negative integer\n",
    "    if l < 0 or not isinstance(l,int):\n",
    "        raise ValueError('l must be a non-negative integer')\n",
    "    # Compute the polynomial. Zero and one are special cases. \n",
    "    if l == 0:\n",
    "        return 1\n",
    "    elif l == 1:\n",
    "        return x\n",
    "    else:\n",
    "        # Use the recursion relation to compute the polynomial\n",
    "        return ((2*l-1)*x*P(l-1,x) - (l-1)*P(l-2,x))/l"
   ]
  },
  {
   "cell_type": "markdown",
   "metadata": {},
   "source": []
  }
 ],
 "metadata": {
  "anaconda-cloud": {},
  "kernelspec": {
   "display_name": "Python 3 (ipykernel)",
   "language": "python",
   "name": "python3"
  },
  "language_info": {
   "codemirror_mode": {
    "name": "ipython",
    "version": 3
   },
   "file_extension": ".py",
   "mimetype": "text/x-python",
   "name": "python",
   "nbconvert_exporter": "python",
   "pygments_lexer": "ipython3",
   "version": "3.11.5"
  }
 },
 "nbformat": 4,
 "nbformat_minor": 4
}
