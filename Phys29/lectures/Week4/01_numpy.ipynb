{
 "cells": [
  {
   "cell_type": "markdown",
   "metadata": {},
   "source": [
    "# Introduction to Numpy"
   ]
  },
  {
   "cell_type": "markdown",
   "metadata": {},
   "source": [
    "Thus far we have seen that the Python programming language has the control flow structures (conditional statements, loops, etc.) that allow us to perform numerical calculations. When we discussed python data containers (lists, tuples, dictionaries) we gave examples of \n",
    "data that we might need to maniuplate in physics: \n",
    "  - vectors: $\\mathbf{r} = \\begin{pmatrix}x\\\\y\\\\z\\end{pmatrix}$\n",
    "  - matrices: $\\mathsf{A} = \\begin{pmatrix}\n",
    "       A_{11} & A_{12} & A_{13}\\\\\n",
    "       A_{21} & A_{22} & A_{23}\n",
    "       \\end{pmatrix}$\n",
    "  - tensors: $\\epsilon_{ijk}$\n",
    "  - time series of position measurements: $\\big\\{x(t_1), x(t_2), \\dots, x(t_N)\\big\\}$\n",
    "  - measurements at specific coordinates e.g., \n",
    "  - a density field, which is a scalar function of cartesian coordinate in space: $\\rho(x,y,z)$\n",
    "  - The temperature on the Earth's surface as a function of latitude/longitude: $T(\\phi, \\theta)$\n",
    "\n",
    "It is possible to represent all of these data structures using native python data containers, for example, a vector can be represented as a list of numbers, a matrix as a list of lists, with the first list representing the rows of the matrix, and the second list representing the columns. However, it turns out that this is not a very efficient way to represent these data structures in memory, and it is not the most efficient way to perform numerical calculations on these data structures.\n",
    "\n",
    "When it comes to doing numerical work, Python by itself is rather slow. Recall from the Week1 lecture that programming languages come in two flavors,  **interpreted** languages like Python and **compiled** languages like C and Fortran. The preprocessing of a program into machine code by a compiler makes compiled languages far more efficient at storing data and performing numerical calculations. The flexiblity and ease of use that come with an interpreted language like Python, whereby each line of code is interpreted in sequence then executed,  comes at the cost of pure performance.\n",
    "\n",
    "However, although Python code alone may be slow, Python can be used to write and run code that is effectively calling a compiled language under the hood. This gives us the flexibility and ease of use of Python, but, for specific applications,  the performance of a compiled language. This is the approach taken by the [Numpy](https://numpy.org/) python package, which is a code library that provides one of the foundations of the Python scientific computing ecosystem. The specific context for which the Numpy library is designed to be applied to is  fast and efficient manipulation and computation with numerical arrays."
   ]
  },
  {
   "cell_type": "markdown",
   "metadata": {},
   "source": [
    "As we have already discussed, we can import the `numpy` package and rename it to the very common shorthand `np`:"
   ]
  },
  {
   "cell_type": "code",
   "execution_count": 3,
   "metadata": {},
   "outputs": [],
   "source": [
    "import numpy as np"
   ]
  },
  {
   "cell_type": "markdown",
   "metadata": {},
   "source": [
    "The core data structure that `numpy` provides is known as the `numpy` array:"
   ]
  },
  {
   "cell_type": "code",
   "execution_count": 4,
   "metadata": {},
   "outputs": [
    {
     "name": "stdout",
     "output_type": "stream",
     "text": [
      "[1 2 3 4]\n"
     ]
    }
   ],
   "source": [
    "somenums = np.array([1, 2, 3, 4])\n",
    "print(somenums)"
   ]
  },
  {
   "cell_type": "markdown",
   "metadata": {},
   "source": [
    "A numpy array looks superfically similar to a `list`, which is a native Python data structure. Indeed, if you look closely at the line above, we are actually passing a Python `list` to the `np.array` function to create the array for this particular example of array initialization.  Lists and `numpy` arrays are however, fundamentally different, both in how they work and how they exist in memory. Unlike native Python objects, `numpy` arrays don't store references to other objects, but instead point to contiguous blocks of memory in which each element is of exactly the same data type. For instance, we just made an array of 64 bit integers:"
   ]
  },
  {
   "cell_type": "code",
   "execution_count": 129,
   "metadata": {},
   "outputs": [
    {
     "data": {
      "text/plain": [
       "dtype('int64')"
      ]
     },
     "execution_count": 129,
     "metadata": {},
     "output_type": "execute_result"
    }
   ],
   "source": [
    "somenums.dtype"
   ]
  },
  {
   "cell_type": "code",
   "execution_count": 5,
   "metadata": {},
   "outputs": [
    {
     "name": "stdout",
     "output_type": "stream",
     "text": [
      "[63.3 -5.   1. ]\n"
     ]
    }
   ],
   "source": [
    "# this will give an array of 64 bit floats\n",
    "floats = np.array([63.3, -5.0, 1])\n",
    "print(floats)"
   ]
  },
  {
   "cell_type": "code",
   "execution_count": 6,
   "metadata": {},
   "outputs": [
    {
     "data": {
      "text/plain": [
       "dtype('float64')"
      ]
     },
     "execution_count": 6,
     "metadata": {},
     "output_type": "execute_result"
    }
   ],
   "source": [
    "floats.dtype"
   ]
  },
  {
   "cell_type": "markdown",
   "metadata": {},
   "source": [
    "## Array Methods: Arrays are Objects!"
   ]
  },
  {
   "cell_type": "markdown",
   "metadata": {},
   "source": [
    "`numpy` arrays optimized for fast numerical operations. Like everything in Python these are *objects*, they include built-in methods such as:"
   ]
  },
  {
   "cell_type": "code",
   "execution_count": 7,
   "metadata": {},
   "outputs": [
    {
     "data": {
      "text/plain": [
       "10"
      ]
     },
     "execution_count": 7,
     "metadata": {},
     "output_type": "execute_result"
    }
   ],
   "source": [
    "somenums.sum()"
   ]
  },
  {
   "cell_type": "markdown",
   "metadata": {},
   "source": [
    "Which computes the sum of all the elements in the array $\\mathbf{x}$:\n",
    "$$ \n",
    "{\\tt sum} = \\sum_{i=0}^{N-1} x_i\n",
    "$$\n",
    "or "
   ]
  },
  {
   "cell_type": "code",
   "execution_count": 8,
   "metadata": {},
   "outputs": [
    {
     "data": {
      "text/plain": [
       "2.5"
      ]
     },
     "execution_count": 8,
     "metadata": {},
     "output_type": "execute_result"
    }
   ],
   "source": [
    "somenums.mean()"
   ]
  },
  {
   "cell_type": "markdown",
   "metadata": {},
   "source": [
    "which computes the average of all the elements in the array $\\mathbf{x}$:\n",
    "$$\n",
    "{\\tt mean} = \\frac{1}{N}\\sum_{i=0}^{N-1} x_i\n",
    "$$"
   ]
  },
  {
   "cell_type": "markdown",
   "metadata": {},
   "source": [
    "and a whole plethora of others. You can get a view of what methods and attributes are part of an array's method/attribute namespace with:"
   ]
  },
  {
   "cell_type": "code",
   "execution_count": 132,
   "metadata": {
    "scrolled": true
   },
   "outputs": [
    {
     "data": {
      "text/plain": [
       "['T',\n",
       " '__abs__',\n",
       " '__add__',\n",
       " '__and__',\n",
       " '__array__',\n",
       " '__array_finalize__',\n",
       " '__array_function__',\n",
       " '__array_interface__',\n",
       " '__array_prepare__',\n",
       " '__array_priority__',\n",
       " '__array_struct__',\n",
       " '__array_ufunc__',\n",
       " '__array_wrap__',\n",
       " '__bool__',\n",
       " '__class__',\n",
       " '__class_getitem__',\n",
       " '__complex__',\n",
       " '__contains__',\n",
       " '__copy__',\n",
       " '__deepcopy__',\n",
       " '__delattr__',\n",
       " '__delitem__',\n",
       " '__dir__',\n",
       " '__divmod__',\n",
       " '__dlpack__',\n",
       " '__dlpack_device__',\n",
       " '__doc__',\n",
       " '__eq__',\n",
       " '__float__',\n",
       " '__floordiv__',\n",
       " '__format__',\n",
       " '__ge__',\n",
       " '__getattribute__',\n",
       " '__getitem__',\n",
       " '__getstate__',\n",
       " '__gt__',\n",
       " '__hash__',\n",
       " '__iadd__',\n",
       " '__iand__',\n",
       " '__ifloordiv__',\n",
       " '__ilshift__',\n",
       " '__imatmul__',\n",
       " '__imod__',\n",
       " '__imul__',\n",
       " '__index__',\n",
       " '__init__',\n",
       " '__init_subclass__',\n",
       " '__int__',\n",
       " '__invert__',\n",
       " '__ior__',\n",
       " '__ipow__',\n",
       " '__irshift__',\n",
       " '__isub__',\n",
       " '__iter__',\n",
       " '__itruediv__',\n",
       " '__ixor__',\n",
       " '__le__',\n",
       " '__len__',\n",
       " '__lshift__',\n",
       " '__lt__',\n",
       " '__matmul__',\n",
       " '__mod__',\n",
       " '__mul__',\n",
       " '__ne__',\n",
       " '__neg__',\n",
       " '__new__',\n",
       " '__or__',\n",
       " '__pos__',\n",
       " '__pow__',\n",
       " '__radd__',\n",
       " '__rand__',\n",
       " '__rdivmod__',\n",
       " '__reduce__',\n",
       " '__reduce_ex__',\n",
       " '__repr__',\n",
       " '__rfloordiv__',\n",
       " '__rlshift__',\n",
       " '__rmatmul__',\n",
       " '__rmod__',\n",
       " '__rmul__',\n",
       " '__ror__',\n",
       " '__rpow__',\n",
       " '__rrshift__',\n",
       " '__rshift__',\n",
       " '__rsub__',\n",
       " '__rtruediv__',\n",
       " '__rxor__',\n",
       " '__setattr__',\n",
       " '__setitem__',\n",
       " '__setstate__',\n",
       " '__sizeof__',\n",
       " '__str__',\n",
       " '__sub__',\n",
       " '__subclasshook__',\n",
       " '__truediv__',\n",
       " '__xor__',\n",
       " 'all',\n",
       " 'any',\n",
       " 'argmax',\n",
       " 'argmin',\n",
       " 'argpartition',\n",
       " 'argsort',\n",
       " 'astype',\n",
       " 'base',\n",
       " 'byteswap',\n",
       " 'choose',\n",
       " 'clip',\n",
       " 'compress',\n",
       " 'conj',\n",
       " 'conjugate',\n",
       " 'copy',\n",
       " 'ctypes',\n",
       " 'cumprod',\n",
       " 'cumsum',\n",
       " 'data',\n",
       " 'diagonal',\n",
       " 'dot',\n",
       " 'dtype',\n",
       " 'dump',\n",
       " 'dumps',\n",
       " 'fill',\n",
       " 'flags',\n",
       " 'flat',\n",
       " 'flatten',\n",
       " 'getfield',\n",
       " 'imag',\n",
       " 'item',\n",
       " 'itemset',\n",
       " 'itemsize',\n",
       " 'max',\n",
       " 'mean',\n",
       " 'min',\n",
       " 'nbytes',\n",
       " 'ndim',\n",
       " 'newbyteorder',\n",
       " 'nonzero',\n",
       " 'partition',\n",
       " 'prod',\n",
       " 'ptp',\n",
       " 'put',\n",
       " 'ravel',\n",
       " 'real',\n",
       " 'repeat',\n",
       " 'reshape',\n",
       " 'resize',\n",
       " 'round',\n",
       " 'searchsorted',\n",
       " 'setfield',\n",
       " 'setflags',\n",
       " 'shape',\n",
       " 'size',\n",
       " 'sort',\n",
       " 'squeeze',\n",
       " 'std',\n",
       " 'strides',\n",
       " 'sum',\n",
       " 'swapaxes',\n",
       " 'take',\n",
       " 'tobytes',\n",
       " 'tofile',\n",
       " 'tolist',\n",
       " 'tostring',\n",
       " 'trace',\n",
       " 'transpose',\n",
       " 'var',\n",
       " 'view']"
      ]
     },
     "execution_count": 132,
     "metadata": {},
     "output_type": "execute_result"
    }
   ],
   "source": [
    "dir(somenums)"
   ]
  },
  {
   "cell_type": "markdown",
   "metadata": {},
   "source": [
    "or in the notebook, by typing the name of the array followed by a `.` and the ```<TAB>``` key:\n",
    "``` python \n",
    "In [1]: somenums.<TAB>\n",
    "    all()          ctypes         item()         real           swapaxes()    \n",
    "    any()          cumprod()      itemset()      repeat()       T             \n",
    "    argmax()       cumsum()       itemsize       reshape()      take()        \n",
    "    argmin()       data           max()          resize()       tobytes()     \n",
    "    argpartition() diagonal()     mean()         round()        tofile()      \n",
    "    argsort()      dot()          min()          searchsorted() tolist()      \n",
    "    astype()       dtype          nbytes         setfield()     tostring()    \n",
    "    base           dump()         ndim           setflags()     trace()       \n",
    "    byteswap()     dumps()        newbyteorder() shape          transpose()   \n",
    "    choose()       fill()         nonzero()      size           var()         \n",
    "    clip()         flags          partition()    sort()         view()        \n",
    "    compress()     flat           prod()         squeeze()                    \n",
    "    conj()         flatten()      ptp()          std()                        \n",
    "    conjugate()    getfield()     put()          strides                      \n",
    "    copy()         imag           ravel()        sum()                        \n",
    "```"
   ]
  },
  {
   "cell_type": "markdown",
   "metadata": {},
   "source": [
    "Recall that you can also get the documentation for any function or method with a question mark at the end of the name:"
   ]
  },
  {
   "cell_type": "markdown",
   "metadata": {},
   "source": [
    "``` python\n",
    "In [5]: somenums.mean?\n",
    "Docstring:\n",
    "a.mean(axis=None, dtype=None, out=None, keepdims=False, *, where=True)\n",
    "\n",
    "Returns the average of the array elements along given axis.\n",
    "\n",
    "Refer to `numpy.mean` for full documentation.\n",
    "\n",
    "See Also\n",
    "--------\n",
    "numpy.mean : equivalent function\n",
    "Type:      builtin_function_or_method\n",
    "```"
   ]
  },
  {
   "cell_type": "markdown",
   "metadata": {},
   "source": [
    "## Multidimensional Arrays, Indexing, and Slicing"
   ]
  },
  {
   "cell_type": "markdown",
   "metadata": {},
   "source": [
    "`numpy` arrays can be of any dimensionality, not just 1D. "
   ]
  },
  {
   "cell_type": "markdown",
   "metadata": {},
   "source": [
    "### ndarrays "
   ]
  },
  {
   "cell_type": "markdown",
   "metadata": {},
   "source": [
    "It's common to encounter 2-D arrays, which are often used to represent matrices. For example, we can create a 2D array by passing a list of lists (nested list) to the `np.array` function. "
   ]
  },
  {
   "cell_type": "markdown",
   "metadata": {},
   "source": [
    "Make a 2D array to represent the matrix: \n",
    "$$\n",
    "\\mathsf{A} = \\begin{pmatrix}\n",
    "                A_{11} & A_{12}\\\\\n",
    "                A_{21} & A_{22}\n",
    "             \\end{pmatrix}     = \\begin{pmatrix}\n",
    "                1 & 2\\\\\n",
    "                3 & 4\n",
    "               \\end{pmatrix}\n",
    "$$\n"
   ]
  },
  {
   "cell_type": "code",
   "execution_count": 9,
   "metadata": {},
   "outputs": [
    {
     "data": {
      "text/plain": [
       "array([[1, 2],\n",
       "       [3, 4]])"
      ]
     },
     "execution_count": 9,
     "metadata": {},
     "output_type": "execute_result"
    }
   ],
   "source": [
    "A = np.array([ [1, 2], [3, 4]])\n",
    "A"
   ]
  },
  {
   "cell_type": "code",
   "execution_count": 10,
   "metadata": {},
   "outputs": [
    {
     "data": {
      "text/plain": [
       "(2, 2)"
      ]
     },
     "execution_count": 10,
     "metadata": {},
     "output_type": "execute_result"
    }
   ],
   "source": [
    "A.shape"
   ]
  },
  {
   "cell_type": "markdown",
   "metadata": {},
   "source": [
    "Arrays are made by rows, i.e. `A[0` is the first row, `A[1]` is the second row, etc.:"
   ]
  },
  {
   "cell_type": "code",
   "execution_count": 11,
   "metadata": {},
   "outputs": [
    {
     "data": {
      "text/plain": [
       "array([1, 2])"
      ]
     },
     "execution_count": 11,
     "metadata": {},
     "output_type": "execute_result"
    }
   ],
   "source": [
    "A[0]"
   ]
  },
  {
   "cell_type": "code",
   "execution_count": 12,
   "metadata": {},
   "outputs": [
    {
     "data": {
      "text/plain": [
       "array([3, 4])"
      ]
     },
     "execution_count": 12,
     "metadata": {},
     "output_type": "execute_result"
    }
   ],
   "source": [
    "A[1]"
   ]
  },
  {
   "cell_type": "markdown",
   "metadata": {},
   "source": [
    "Indexing notation:\n",
    "- separate **axes** (dimensions) by commas\n",
    "- a `:` gives sub-arrays or elements\n",
    "\n",
    "The convention is `A[row,column]`, i.e. "
   ]
  },
  {
   "cell_type": "code",
   "execution_count": 138,
   "metadata": {},
   "outputs": [
    {
     "data": {
      "text/plain": [
       "1"
      ]
     },
     "execution_count": 138,
     "metadata": {},
     "output_type": "execute_result"
    }
   ],
   "source": [
    "A[0, 0]"
   ]
  },
  {
   "cell_type": "code",
   "execution_count": 139,
   "metadata": {},
   "outputs": [
    {
     "data": {
      "text/plain": [
       "2"
      ]
     },
     "execution_count": 139,
     "metadata": {},
     "output_type": "execute_result"
    }
   ],
   "source": [
    "A[0, 1]"
   ]
  },
  {
   "cell_type": "code",
   "execution_count": 140,
   "metadata": {},
   "outputs": [
    {
     "data": {
      "text/plain": [
       "4"
      ]
     },
     "execution_count": 140,
     "metadata": {},
     "output_type": "execute_result"
    }
   ],
   "source": [
    "A[1, 1]"
   ]
  },
  {
   "cell_type": "markdown",
   "metadata": {},
   "source": [
    "Slicing `numpy` arrays uses the same notation and conventions that we learned for lists. For instance, the first dimension is the row dimension, and the second dimension is the column dimension. To access the second column of the matrix, we can use the following syntax:"
   ]
  },
  {
   "cell_type": "code",
   "execution_count": 13,
   "metadata": {},
   "outputs": [
    {
     "data": {
      "text/plain": [
       "array([2, 4])"
      ]
     },
     "execution_count": 13,
     "metadata": {},
     "output_type": "execute_result"
    }
   ],
   "source": [
    "A[:, 1]"
   ]
  },
  {
   "cell_type": "markdown",
   "metadata": {},
   "source": [
    "Likewise the first row of the matrix is:"
   ]
  },
  {
   "cell_type": "code",
   "execution_count": 142,
   "metadata": {},
   "outputs": [
    {
     "data": {
      "text/plain": [
       "array([1, 2])"
      ]
     },
     "execution_count": 142,
     "metadata": {},
     "output_type": "execute_result"
    }
   ],
   "source": [
    "A[0, :]"
   ]
  },
  {
   "cell_type": "markdown",
   "metadata": {},
   "source": [
    "and this expression, ${\\tt A[0,:]}$ for the first row is equivalent to:"
   ]
  },
  {
   "cell_type": "code",
   "execution_count": 14,
   "metadata": {},
   "outputs": [
    {
     "data": {
      "text/plain": [
       "array([1, 2])"
      ]
     },
     "execution_count": 14,
     "metadata": {},
     "output_type": "execute_result"
    }
   ],
   "source": [
    "A[0]"
   ]
  },
  {
   "cell_type": "markdown",
   "metadata": {},
   "source": [
    "What about a 3D array?"
   ]
  },
  {
   "cell_type": "code",
   "execution_count": 16,
   "metadata": {},
   "outputs": [],
   "source": [
    "A1D = np.arange(24)  # 1D array with 24 elements, i.e. A1D = 0, 1, ..., 23\n",
    "B = A1D.reshape((2, 4, 3))  # Reshape to be 3D that is 2x4x3"
   ]
  },
  {
   "cell_type": "code",
   "execution_count": 17,
   "metadata": {},
   "outputs": [
    {
     "name": "stdout",
     "output_type": "stream",
     "text": [
      "The dimensionality is: 1\n",
      "The shape is: (24,)\n",
      "A1D = [ 0  1  2  3  4  5  6  7  8  9 10 11 12 13 14 15 16 17 18 19 20 21 22 23]\n"
     ]
    }
   ],
   "source": [
    "print('The dimensionality is:', A1D.ndim)\n",
    "print('The shape is:', A1D.shape)\n",
    "print('A1D =', A1D)"
   ]
  },
  {
   "cell_type": "markdown",
   "metadata": {},
   "source": [
    "The 3D array is packaged as 2 2D arrays of shape 4x3:"
   ]
  },
  {
   "cell_type": "code",
   "execution_count": 18,
   "metadata": {},
   "outputs": [
    {
     "name": "stdout",
     "output_type": "stream",
     "text": [
      "The dimensionality is: 3\n",
      "The shape is: (2, 4, 3)\n",
      "B = [[[ 0  1  2]\n",
      "  [ 3  4  5]\n",
      "  [ 6  7  8]\n",
      "  [ 9 10 11]]\n",
      "\n",
      " [[12 13 14]\n",
      "  [15 16 17]\n",
      "  [18 19 20]\n",
      "  [21 22 23]]]\n"
     ]
    }
   ],
   "source": [
    "print('The dimensionality is:', B.ndim)\n",
    "print('The shape is:', B.shape)\n",
    "print('B =', B)"
   ]
  },
  {
   "cell_type": "markdown",
   "metadata": {},
   "source": [
    "The *representation* of this 3D array, i.e. what we see when we print it, is a list of 2D arrays, each of which is represented by a list of the rows. So we  have a list of lists of lists. Clearly the numpy indexing is the easier way to think about and access the elements of arrays.\n",
    "\n",
    "If we want to access the second sub-array, which is itself a 2D 4x3 array, we can use the following syntax:"
   ]
  },
  {
   "cell_type": "code",
   "execution_count": 147,
   "metadata": {},
   "outputs": [
    {
     "name": "stdout",
     "output_type": "stream",
     "text": [
      "(4, 3)\n",
      "B[1] = [[12 13 14]\n",
      " [15 16 17]\n",
      " [18 19 20]\n",
      " [21 22 23]]\n"
     ]
    }
   ],
   "source": [
    "print(B[1].shape)\n",
    "print('B[1] =', B[1])"
   ]
  },
  {
   "cell_type": "markdown",
   "metadata": {},
   "source": [
    "The shape of this `ndim = 3` array is the tuple of length 3, `shape=(2,4,3)`, which is the size of the array in each of the 3 dimensions. We refer to each of these dimensions as an **axis** of the array, and the axes are numbered from 0 to `ndim-1`, so in this case the axes are numbered 0, 1, and 2. If we want to access every other element of the array along the `axis=1`, we can use the following slicing and striding syntax that we learned for lists:  "
   ]
  },
  {
   "cell_type": "code",
   "execution_count": 148,
   "metadata": {},
   "outputs": [
    {
     "data": {
      "text/plain": [
       "array([[[ 0,  1,  2],\n",
       "        [ 6,  7,  8]],\n",
       "\n",
       "       [[12, 13, 14],\n",
       "        [18, 19, 20]]])"
      ]
     },
     "execution_count": 148,
     "metadata": {},
     "output_type": "execute_result"
    }
   ],
   "source": [
    "B[:, ::2, :]"
   ]
  },
  {
   "cell_type": "markdown",
   "metadata": {},
   "source": [
    "Which is equivalent to:"
   ]
  },
  {
   "cell_type": "code",
   "execution_count": 19,
   "metadata": {},
   "outputs": [
    {
     "data": {
      "text/plain": [
       "array([[[ 0,  1,  2],\n",
       "        [ 6,  7,  8]],\n",
       "\n",
       "       [[12, 13, 14],\n",
       "        [18, 19, 20]]])"
      ]
     },
     "execution_count": 19,
     "metadata": {},
     "output_type": "execute_result"
    }
   ],
   "source": [
    "B[:, ::2] "
   ]
  },
  {
   "cell_type": "markdown",
   "metadata": {},
   "source": [
    "since omitting an axes (`axis=2`) from the slice notation results in a slice that includes all the elements along that axis. \n",
    "\n",
    "Note that the shape is now `(2,2,3)` as compared to the original shape of `(2,4,3)`: because we have selected every other element along the `axis=1`, which has the effect of reducing the size of the array along that axis by a factor of 2."
   ]
  },
  {
   "cell_type": "code",
   "execution_count": 20,
   "metadata": {},
   "outputs": [
    {
     "data": {
      "text/plain": [
       "(2, 2, 3)"
      ]
     },
     "execution_count": 20,
     "metadata": {},
     "output_type": "execute_result"
    }
   ],
   "source": [
    "B[:, ::2].shape"
   ]
  },
  {
   "cell_type": "markdown",
   "metadata": {},
   "source": [
    "### Example: A Particle Trajectory "
   ]
  },
  {
   "cell_type": "markdown",
   "metadata": {},
   "source": [
    "For illustration we will write some code to represent the position of a particle in three dimensions as a function of time with a `numpy` array.  Consider the following trajectory:\n",
    "$$\n",
    "\\mathbf{r}(t) = \\begin{pmatrix}\n",
    "                x(t)\\\\\n",
    "                y(t)\\\\\n",
    "                z(t)\n",
    "                \\end{pmatrix} =  \n",
    "                \\begin{pmatrix}\n",
    "                \\cos{t}\\\\\n",
    "                \\frac{t}{5} + \\sin{\\frac{t}{2}}\\\\\n",
    "                2t + 2\\sin{t}\n",
    "                \\end{pmatrix}~{\\rm m}, \n",
    "                $$\n",
    "Defined over the interval of time $t\\in[0,4\\pi]~{\\rm s}$. We can represent this trajectory as a 2D `numpy` array. "
   ]
  },
  {
   "cell_type": "code",
   "execution_count": 21,
   "metadata": {},
   "outputs": [],
   "source": [
    "def create_position(nframes=1000000):\n",
    "    \"\"\"Generate an array holding the  x, y, and z position of a particle as a function of time.\n",
    "    \n",
    "    Parameters\n",
    "    ----------\n",
    "    nframes: int\n",
    "        number of frames; more frames increases the time sampling (i.e. the resolution) \n",
    "        of the trajectory, but not the amount of time over which it occurs. \n",
    "        \n",
    "    Returns\n",
    "    -------\n",
    "    time : np.ndarray, shape=(nframes,)\n",
    "        An array holding the times at which the position was sampled in s\n",
    "    position : np.ndarray, shape=(nframes, 3)\n",
    "        An array containing the (x, y, z) position of the particle as a function of time in m. \n",
    "        \n",
    "    \"\"\"\n",
    "    # generate x, y, z positions\n",
    "    time = np.linspace(0, 4.0*np.pi, nframes)\n",
    "    x = np.cos(time)\n",
    "    y = time/5 + np.sin(time/2.0)\n",
    "    z = 2*time + 2* np.sin(time)\n",
    "\n",
    "    # put them all in a single array; this yields an array with shape =(3, nframes)\n",
    "    position = np.array([x, y, z])\n",
    "\n",
    "    # Return the time and the position. Transposing the position arrays returns an array with shape = (nframes, 3). \n",
    "    # This *feels* more natural for a trajectory, since each row is a point in time and each column is a spatial dimension\n",
    "    return time, position.transpose()"
   ]
  },
  {
   "cell_type": "markdown",
   "metadata": {},
   "source": [
    "Let's generate `numpy` arrays for `time` and `position` to work with:"
   ]
  },
  {
   "cell_type": "code",
   "execution_count": 22,
   "metadata": {},
   "outputs": [
    {
     "name": "stdout",
     "output_type": "stream",
     "text": [
      "(1000000,)\n",
      "(1000000, 3)\n"
     ]
    }
   ],
   "source": [
    "time, position = create_position()\n",
    "print(time.shape)\n",
    "print(position.shape)"
   ]
  },
  {
   "cell_type": "markdown",
   "metadata": {},
   "source": [
    "So time is stored in a 1D array of `shape=(nframes,)`, and the the positions are stored in a two dimensional array, with the first axis, `axis=0`, or the rows, corresponding to the time dimension, and the second axis, `axis=1`, or the columns, corresponding to the spatial dimension. The shape of the array is `(nframes,3)`, where `nframes` is the number of time snapshots. In other words, the array looks like this:\n",
    "$$\n",
    "\\begin{pmatrix}\n",
    "x(t_0) & y(t_0) & z(t_0)\\\\\n",
    "x(t_1) & y(t_1) & z(t_1)\\\\\n",
    "\\vdots & \\vdots & \\vdots\\\\\n",
    "x(t_{\\rm nframes-1}) & y(t_{\\rm nframes-1}) & z(t_{\\rm nframes-1})\n",
    "\\end{pmatrix}\n",
    "$$"
   ]
  },
  {
   "cell_type": "markdown",
   "metadata": {},
   "source": [
    "Now say we wanted to examine the position of the particle at the very first time snapshot at $t=0$. Then we would write:"
   ]
  },
  {
   "cell_type": "code",
   "execution_count": 23,
   "metadata": {},
   "outputs": [
    {
     "data": {
      "text/plain": [
       "array([1., 0., 0.])"
      ]
     },
     "execution_count": 23,
     "metadata": {},
     "output_type": "execute_result"
    }
   ],
   "source": [
    "position[0]"
   ]
  },
  {
   "cell_type": "markdown",
   "metadata": {},
   "source": [
    "to extract it. Notice that indexing starts at 0, as is the convention in Python. What about the third time snapshot?"
   ]
  },
  {
   "cell_type": "code",
   "execution_count": 24,
   "metadata": {},
   "outputs": [
    {
     "name": "stdout",
     "output_type": "stream",
     "text": [
      "time = 2.5132766361484705e-05 s\n"
     ]
    },
    {
     "data": {
      "text/plain": [
       "array([1.00000000e+00, 1.75929365e-05, 1.00531065e-04])"
      ]
     },
     "execution_count": 24,
     "metadata": {},
     "output_type": "execute_result"
    }
   ],
   "source": [
    "print('time =', time[2], 's')\n",
    "position[2]"
   ]
  },
  {
   "cell_type": "markdown",
   "metadata": {},
   "source": [
    "In zero-based terms, we would call the \"first time snapshot\" the zeroth snapshot, and so on. To avoid confusion we'll adopt this convention from now on."
   ]
  },
  {
   "cell_type": "markdown",
   "metadata": {},
   "source": [
    "What if we wanted a bunch of frames, but only the 5th through the 72nd? It should have 68 rows:"
   ]
  },
  {
   "cell_type": "code",
   "execution_count": 25,
   "metadata": {},
   "outputs": [
    {
     "data": {
      "text/plain": [
       "(68, 3)"
      ]
     },
     "execution_count": 25,
     "metadata": {},
     "output_type": "execute_result"
    }
   ],
   "source": [
    "position[5:73].shape"
   ]
  },
  {
   "cell_type": "markdown",
   "metadata": {},
   "source": [
    "Notice the **slicing** notation. Remember, this should be read as\n",
    "\n",
    "> \"Get each row in the array starting from the row at index 5 up to and not including the row at index 73.\"\n",
    "\n",
    "We could even sparsely sample the trajectory by slicing out every fifth row in the time dimension giving: "
   ]
  },
  {
   "cell_type": "code",
   "execution_count": 156,
   "metadata": {},
   "outputs": [
    {
     "data": {
      "text/plain": [
       "(14, 3)"
      ]
     },
     "execution_count": 156,
     "metadata": {},
     "output_type": "execute_result"
    }
   ],
   "source": [
    "position[5:73:5].shape"
   ]
  },
  {
   "cell_type": "markdown",
   "metadata": {},
   "source": [
    "Now what if we wanted a specific *element* of the array? Indexing works for this too:"
   ]
  },
  {
   "cell_type": "code",
   "execution_count": 27,
   "metadata": {},
   "outputs": [
    {
     "data": {
      "text/plain": [
       "0.00036945166245089196"
      ]
     },
     "execution_count": 27,
     "metadata": {},
     "output_type": "execute_result"
    }
   ],
   "source": [
    "position[42, 1]"
   ]
  },
  {
   "cell_type": "markdown",
   "metadata": {},
   "source": [
    "This is the y-position of the 42nd snapshot. "
   ]
  },
  {
   "cell_type": "markdown",
   "metadata": {},
   "source": [
    "### Example: Numpy slicing\n",
    "\n",
    "Obtain an array giving the average value of the x, y, z positions (separately) over the time period spanning from the snapshot at index 10 up to and including the snapshot at index 42 as a 1-D array, i.e. \n",
    "$$\n",
    "\\langle \\mathbf{r}(t)\\rangle \\equiv \\begin{pmatrix}\n",
    "               \\langle x(t)\\rangle\\\\\n",
    "                \\langle y(t)\\rangle\\\\\n",
    "                \\langle z(t)\\rangle\n",
    "                \\end{pmatrix}\n",
    "$$\n",
    "where e.g. \n",
    "$$\n",
    "\\langle x(t)\\rangle = \\frac{1}{N}\\sum_{i=10}^{42} x_i\n",
    "$$\n",
    "where $N$ is the number of snapshots in the range $\\{10,42\\}$."
   ]
  },
  {
   "cell_type": "markdown",
   "metadata": {},
   "source": [
    "We can do this by slicing the zeroth axis (rows), then using the `mean` method of the resulting array. To only take a mean across the rows or the time dimension (i.e. a value of the mean for each component, x,y, z, of the position), we must specify the `axis=0` keyword to the `mean` method:"
   ]
  },
  {
   "cell_type": "code",
   "execution_count": 30,
   "metadata": {},
   "outputs": [
    {
     "name": "stdout",
     "output_type": "stream",
     "text": [
      "(3,)\n"
     ]
    },
    {
     "data": {
      "text/plain": [
       "array([9.99999939e-01, 2.28708173e-04, 1.30690383e-03])"
      ]
     },
     "execution_count": 30,
     "metadata": {},
     "output_type": "execute_result"
    }
   ],
   "source": [
    "r_bar=position[10:43].mean(axis=0)\n",
    "print(r_bar.shape)\n",
    "r_bar\n"
   ]
  },
  {
   "cell_type": "markdown",
   "metadata": {},
   "source": [
    "Notice that we collapsed out the time dimension, and the resulting array has `shape=(3,)`, i.e. it is a 1D array with 3 elements."
   ]
  },
  {
   "cell_type": "markdown",
   "metadata": {},
   "source": [
    "What if we wanted the smaller of the two average positions, $\\langle y(t)\\rangle$ and $\\langle z(t)\\rangle$,  only?"
   ]
  },
  {
   "cell_type": "code",
   "execution_count": 96,
   "metadata": {},
   "outputs": [
    {
     "data": {
      "text/plain": [
       "0.00022870817287051745"
      ]
     },
     "execution_count": 96,
     "metadata": {},
     "output_type": "execute_result"
    }
   ],
   "source": [
    "r_bar_min = position[10:43, 1:].mean(axis=0).min()\n",
    "r_bar_min"
   ]
  },
  {
   "cell_type": "markdown",
   "metadata": {},
   "source": [
    "Since slicing and array method operations on arrays often yield arrays, you can chain together operations in this way. This is what qualifies as a *pythonic* way to work with these objects."
   ]
  },
  {
   "cell_type": "markdown",
   "metadata": {},
   "source": [
    "### Fancy and boolean indexing"
   ]
  },
  {
   "cell_type": "markdown",
   "metadata": {},
   "source": [
    "It's also possible to index arrays with lists of indices to select out; these can be repeated and in any order."
   ]
  },
  {
   "cell_type": "code",
   "execution_count": 31,
   "metadata": {},
   "outputs": [
    {
     "data": {
      "text/plain": [
       "array([ 0,  1,  2,  3,  4,  5,  6,  7,  8,  9, 10, 11, 12, 13, 14, 15, 16,\n",
       "       17, 18, 19, 20, 21, 22, 23])"
      ]
     },
     "execution_count": 31,
     "metadata": {},
     "output_type": "execute_result"
    }
   ],
   "source": [
    "A1D"
   ]
  },
  {
   "cell_type": "markdown",
   "metadata": {},
   "source": [
    "Fancy indexing with a *list of indices*:"
   ]
  },
  {
   "cell_type": "code",
   "execution_count": 32,
   "metadata": {},
   "outputs": [
    {
     "data": {
      "text/plain": [
       "array([ 2, 23,  2,  3])"
      ]
     },
     "execution_count": 32,
     "metadata": {},
     "output_type": "execute_result"
    }
   ],
   "source": [
    "A1D[[2, -1, 2, 3]]"
   ]
  },
  {
   "cell_type": "markdown",
   "metadata": {},
   "source": [
    "Fancy indexing with *booleans*:"
   ]
  },
  {
   "cell_type": "code",
   "execution_count": 33,
   "metadata": {},
   "outputs": [
    {
     "data": {
      "text/plain": [
       "array([False, False, False, False, False, False, False, False, False,\n",
       "       False, False,  True,  True,  True,  True,  True,  True,  True,\n",
       "        True,  True,  True,  True,  True,  True])"
      ]
     },
     "execution_count": 33,
     "metadata": {},
     "output_type": "execute_result"
    }
   ],
   "source": [
    "big_values = A1D > 10\n",
    "big_values"
   ]
  },
  {
   "cell_type": "code",
   "execution_count": 35,
   "metadata": {},
   "outputs": [
    {
     "data": {
      "text/plain": [
       "array([11, 12, 13, 14, 15, 16, 17, 18, 19, 20, 21, 22, 23])"
      ]
     },
     "execution_count": 35,
     "metadata": {},
     "output_type": "execute_result"
    }
   ],
   "source": [
    "A1D[big_values]"
   ]
  },
  {
   "cell_type": "markdown",
   "metadata": {},
   "source": [
    "**Boolean indexing is a convenient way to select parts of an array.** "
   ]
  },
  {
   "cell_type": "markdown",
   "metadata": {},
   "source": [
    "For our particle, trajectory, we can select arbitrary time steps:"
   ]
  },
  {
   "cell_type": "code",
   "execution_count": 36,
   "metadata": {},
   "outputs": [
    {
     "name": "stdout",
     "output_type": "stream",
     "text": [
      "[2.51327664e-05 5.02655327e-05 8.79646823e-05 1.25663706e+01\n",
      " 2.51327664e-05]\n"
     ]
    },
    {
     "data": {
      "text/plain": [
       "array([[1.00000000e+00, 1.75929365e-05, 1.00531065e-04],\n",
       "       [9.99999999e-01, 3.51858729e-05, 2.01062131e-04],\n",
       "       [9.99999996e-01, 6.15752776e-05, 3.51858729e-04],\n",
       "       [1.00000000e+00, 2.51327412e+00, 2.51327412e+01],\n",
       "       [1.00000000e+00, 1.75929365e-05, 1.00531065e-04]])"
      ]
     },
     "execution_count": 36,
     "metadata": {},
     "output_type": "execute_result"
    }
   ],
   "source": [
    "indices = [2, 4, 7, -1, 2]\n",
    "print(time[indices])\n",
    "position[indices]"
   ]
  },
  {
   "cell_type": "markdown",
   "metadata": {},
   "source": [
    "We can also use indexing with arrays of booleans to get back arrays with items for which `True` was the value in the boolean array used. This can be very powerful if the boolean array is the result of a conditional expression. For example, suppose that \n",
    "we want to select out the specific times at which *either* $x(t)$ or $y(t)$ are greater than 2, i.e. we want the value of $t_i$ for which\n",
    "$$\n",
    "x(t_i) > 2~{\\rm \\tt OR}~y(t_i) > 2\n",
    "$$"
   ]
  },
  {
   "cell_type": "code",
   "execution_count": 38,
   "metadata": {},
   "outputs": [
    {
     "name": "stdout",
     "output_type": "stream",
     "text": [
      "(1000000,)\n"
     ]
    },
    {
     "data": {
      "text/plain": [
       "array([False, False, False, ...,  True,  True,  True])"
      ]
     },
     "execution_count": 38,
     "metadata": {},
     "output_type": "execute_result"
    }
   ],
   "source": [
    "ind_xory_gt2 = (position[:, :2] > 2).any(axis=1)\n",
    "print(ind_xory_gt2.shape)\n",
    "ind_xory_gt2\n"
   ]
  },
  {
   "cell_type": "markdown",
   "metadata": {},
   "source": [
    "First we constructed the slice `position[:,:2]`, which is the 2D array of shape `(nframes,2)` that contains only the $x$ and $y$ positions. Then we use a comparison operator, `>`, to get a boolean array of shape `(nframes,2)` that is `True` where the condition is met, and `False` where it is not. Finally, we use the `any` method to reduce the array along the `axis=1`, i.e. to get a 1D array of shape `(nframes,)` that is `True` where either `x(t_i) > 2` or `y(t_i) > 2`. Note that\n"
   ]
  },
  {
   "cell_type": "code",
   "execution_count": 162,
   "metadata": {},
   "outputs": [
    {
     "data": {
      "text/plain": [
       "(1000000, 2)"
      ]
     },
     "execution_count": 162,
     "metadata": {},
     "output_type": "execute_result"
    }
   ],
   "source": [
    "xory_gt2 = (position[:, :2] > 2)\n",
    "xory_gt2.shape"
   ]
  },
  {
   "cell_type": "markdown",
   "metadata": {},
   "source": [
    "Is a 2D boolean array of shape ${\\tt (nframes,2)}$. If at $t_i$ $x(t_i) > 2$ then the `xory_gt2[i,0]` will be `True`, and if $y(t_i) > 2$ then `xory_gt2[i,1]` will be `True`. By using the `any` method along the `axis=1`, we perform a logical ${\\tt OR}$ operation across the x-y columns of the array for each row (time), and return a 1D array of shape `(nframes,)` that is `True` where either $x(t_i) > 2$ or $y(t_i) > 2$."
   ]
  },
  {
   "cell_type": "code",
   "execution_count": 41,
   "metadata": {},
   "outputs": [
    {
     "name": "stdout",
     "output_type": "stream",
     "text": [
      "(59325, 3)\n",
      "[[ 0.73475689  2.00000407 22.28510392]\n",
      " [ 0.73476541  2.00001244 22.28514752]\n",
      " [ 0.73477393  2.0000208  22.28519112]\n",
      " ...\n",
      " [ 1.          2.51325653 25.1326407 ]\n",
      " [ 1.          2.51326533 25.13269096]\n",
      " [ 1.          2.51327412 25.13274123]]\n"
     ]
    }
   ],
   "source": [
    "pos_xory_gt2 = position[ind_xory_gt2]\n",
    "print(position[ind_xory_gt2].shape)\n",
    "# or equivalently\n",
    "pos_xory_gt2 = position[(position[:,:2] > 2).any(axis=1),:]\n",
    "print(pos_xory_gt2)"
   ]
  },
  {
   "cell_type": "markdown",
   "metadata": {},
   "source": [
    "which results in a 2D array of shape `(ngt2,3)` that containts the particle positions at the `ngt2` time steps at which $x(t_i) > 2~{\\rm \\tt OR}~y(t_i) > 2$"
   ]
  },
  {
   "cell_type": "markdown",
   "metadata": {},
   "source": [
    "## Array arithmetic "
   ]
  },
  {
   "cell_type": "code",
   "execution_count": 42,
   "metadata": {},
   "outputs": [],
   "source": [
    "a = np.array([1, 2, 3, 4])\n",
    "b = np.array([-1, 8, 7, -3])"
   ]
  },
  {
   "cell_type": "markdown",
   "metadata": {},
   "source": [
    "**Array math operations are performed element-wise**:"
   ]
  },
  {
   "cell_type": "code",
   "execution_count": 43,
   "metadata": {},
   "outputs": [
    {
     "data": {
      "text/plain": [
       "array([ 0, 10, 10,  1])"
      ]
     },
     "execution_count": 43,
     "metadata": {},
     "output_type": "execute_result"
    }
   ],
   "source": [
    "a + b"
   ]
  },
  {
   "cell_type": "code",
   "execution_count": 44,
   "metadata": {},
   "outputs": [
    {
     "data": {
      "text/plain": [
       "array([ 2, -6, -4,  7])"
      ]
     },
     "execution_count": 44,
     "metadata": {},
     "output_type": "execute_result"
    }
   ],
   "source": [
    "a - b"
   ]
  },
  {
   "cell_type": "code",
   "execution_count": 45,
   "metadata": {},
   "outputs": [
    {
     "data": {
      "text/plain": [
       "array([ -1,  16,  21, -12])"
      ]
     },
     "execution_count": 45,
     "metadata": {},
     "output_type": "execute_result"
    }
   ],
   "source": [
    "a * b"
   ]
  },
  {
   "cell_type": "code",
   "execution_count": 46,
   "metadata": {},
   "outputs": [
    {
     "data": {
      "text/plain": [
       "array([-1.        ,  0.25      ,  0.42857143, -1.33333333])"
      ]
     },
     "execution_count": 46,
     "metadata": {},
     "output_type": "execute_result"
    }
   ],
   "source": [
    "a / b"
   ]
  },
  {
   "cell_type": "markdown",
   "metadata": {},
   "source": [
    "Note that integer division returns an array that has data type float, i.e. "
   ]
  },
  {
   "cell_type": "code",
   "execution_count": 47,
   "metadata": {},
   "outputs": [
    {
     "data": {
      "text/plain": [
       "dtype('float64')"
      ]
     },
     "execution_count": 47,
     "metadata": {},
     "output_type": "execute_result"
    }
   ],
   "source": [
    "(a/b).dtype"
   ]
  },
  {
   "cell_type": "markdown",
   "metadata": {},
   "source": [
    "Trying to raise an integer array to a negative integer power will result in an error:       "
   ]
  },
  {
   "cell_type": "code",
   "execution_count": 48,
   "metadata": {},
   "outputs": [
    {
     "ename": "ValueError",
     "evalue": "Integers to negative integer powers are not allowed.",
     "output_type": "error",
     "traceback": [
      "\u001b[0;31m---------------------------------------------------------------------------\u001b[0m",
      "\u001b[0;31mValueError\u001b[0m                                Traceback (most recent call last)",
      "Cell \u001b[0;32mIn[48], line 1\u001b[0m\n\u001b[0;32m----> 1\u001b[0m \u001b[43ma\u001b[49m\u001b[38;5;241;43m*\u001b[39;49m\u001b[38;5;241;43m*\u001b[39;49m\u001b[43mb\u001b[49m\n",
      "\u001b[0;31mValueError\u001b[0m: Integers to negative integer powers are not allowed."
     ]
    }
   ],
   "source": [
    "a**b\n"
   ]
  },
  {
   "cell_type": "markdown",
   "metadata": {},
   "source": [
    "So we need to cast one of the arrays to a float64 data type first:  "
   ]
  },
  {
   "cell_type": "code",
   "execution_count": 49,
   "metadata": {},
   "outputs": [
    {
     "name": "stdout",
     "output_type": "stream",
     "text": [
      "[1.0000e+00 2.5600e+02 2.1870e+03 1.5625e-02]\n",
      "[1.0000e+00 2.5600e+02 2.1870e+03 1.5625e-02]\n"
     ]
    }
   ],
   "source": [
    "print(np.asarray(a, dtype=np.float64) ** b)\n",
    "# But I would recommend using np.power for this\n",
    "print(np.power(np.asarray(a, dtype=np.float64), b))"
   ]
  },
  {
   "cell_type": "markdown",
   "metadata": {},
   "source": [
    "For multidimensional arrays the same applies:"
   ]
  },
  {
   "cell_type": "code",
   "execution_count": 50,
   "metadata": {},
   "outputs": [],
   "source": [
    "U = np.array([[1, 2], [3, 4]])\n",
    "V = np.array([[10, 20], [30, 40]])"
   ]
  },
  {
   "cell_type": "code",
   "execution_count": 51,
   "metadata": {},
   "outputs": [
    {
     "data": {
      "text/plain": [
       "array([[11, 22],\n",
       "       [33, 44]])"
      ]
     },
     "execution_count": 51,
     "metadata": {},
     "output_type": "execute_result"
    }
   ],
   "source": [
    "U + V"
   ]
  },
  {
   "cell_type": "code",
   "execution_count": 52,
   "metadata": {},
   "outputs": [
    {
     "data": {
      "text/plain": [
       "array([[ -9, -18],\n",
       "       [-27, -36]])"
      ]
     },
     "execution_count": 52,
     "metadata": {},
     "output_type": "execute_result"
    }
   ],
   "source": [
    "U - V"
   ]
  },
  {
   "cell_type": "code",
   "execution_count": 53,
   "metadata": {},
   "outputs": [
    {
     "data": {
      "text/plain": [
       "array([[ 10,  40],\n",
       "       [ 90, 160]])"
      ]
     },
     "execution_count": 53,
     "metadata": {},
     "output_type": "execute_result"
    }
   ],
   "source": [
    "U * V"
   ]
  },
  {
   "cell_type": "code",
   "execution_count": 54,
   "metadata": {},
   "outputs": [
    {
     "data": {
      "text/plain": [
       "array([[0.1, 0.1],\n",
       "       [0.1, 0.1]])"
      ]
     },
     "execution_count": 54,
     "metadata": {},
     "output_type": "execute_result"
    }
   ],
   "source": [
    "U / V"
   ]
  },
  {
   "cell_type": "markdown",
   "metadata": {},
   "source": [
    "### Trajectory example continued: Distance calculation "
   ]
  },
  {
   "cell_type": "markdown",
   "metadata": {},
   "source": [
    "Calculate the distance as a function of time from a reference value, e.g., the end point of the trajectory:"
   ]
  },
  {
   "cell_type": "code",
   "execution_count": 55,
   "metadata": {},
   "outputs": [
    {
     "data": {
      "text/plain": [
       "array([ 1.        ,  2.51327412, 25.13274123])"
      ]
     },
     "execution_count": 55,
     "metadata": {},
     "output_type": "execute_result"
    }
   ],
   "source": [
    "time, position = create_position()\n",
    "ref = position[-1]\n",
    "ref"
   ]
  },
  {
   "cell_type": "markdown",
   "metadata": {},
   "source": [
    "We can write the distance between the particle and the reference position as a function of time as\n",
    "$$\n",
    "d(t_i) = |\\mathbf{r}(t_i) - \\mathbf{r}_\\text{ref}| = \\sqrt{\\sum_{k=0}^2 (r_{i,k} - r_{\\text{ref},k})^2}\n",
    "$$\n",
    "\n",
    "Let's rewrite this in terms of the difference vector\n",
    "$$\n",
    "\\Delta\\mathbf{r}(t_i) = \\mathbf{r}(t_i) - \\mathbf{r}_\\text{ref}\n",
    "$$\n",
    "as\n",
    "$$\n",
    "d_i = \\sqrt{\\Delta\\mathbf{r}(t_i) \\cdot \\Delta\\mathbf{r}(t_i)} = \\sqrt{\\sum_{k=0}^2 \\Delta r_{i,k}^2}\n",
    "$$\n",
    "\n",
    "This will give us an intuition about how to write it in numpy: "
   ]
  },
  {
   "cell_type": "markdown",
   "metadata": {},
   "source": [
    "First compute _all_ the difference vectors at each time step"
   ]
  },
  {
   "cell_type": "code",
   "execution_count": 187,
   "metadata": {},
   "outputs": [],
   "source": [
    "Delta_r = position - ref"
   ]
  },
  {
   "cell_type": "code",
   "execution_count": 188,
   "metadata": {},
   "outputs": [
    {
     "data": {
      "text/plain": [
       "(1000000, 3)"
      ]
     },
     "execution_count": 188,
     "metadata": {},
     "output_type": "execute_result"
    }
   ],
   "source": [
    "Delta_r.shape"
   ]
  },
  {
   "cell_type": "markdown",
   "metadata": {},
   "source": [
    "For example at a the time steps $t_0$, $t_1$ and $t_{\\rm nframes-1}$:"
   ]
  },
  {
   "cell_type": "code",
   "execution_count": 189,
   "metadata": {},
   "outputs": [
    {
     "data": {
      "text/plain": [
       "array([[ 0.00000000e+00, -2.51327412e+00, -2.51327412e+01],\n",
       "       [-7.89569521e-11, -2.51326533e+00, -2.51326910e+01],\n",
       "       [ 0.00000000e+00,  0.00000000e+00,  0.00000000e+00]])"
      ]
     },
     "execution_count": 189,
     "metadata": {},
     "output_type": "execute_result"
    }
   ],
   "source": [
    "Delta_r[[0, 1, -1]]"
   ]
  },
  {
   "cell_type": "markdown",
   "metadata": {},
   "source": [
    "Square each element:"
   ]
  },
  {
   "cell_type": "code",
   "execution_count": 190,
   "metadata": {},
   "outputs": [
    {
     "data": {
      "text/plain": [
       "array([[0.00000000e+00, 6.31654682e+00, 6.31654682e+02],\n",
       "       [6.23420028e-21, 6.31650260e+00, 6.31652155e+02],\n",
       "       [9.97472747e-20, 6.31645839e+00, 6.31649628e+02],\n",
       "       ...,\n",
       "       [9.97472747e-20, 3.09511413e-10, 1.01064951e-08],\n",
       "       [6.23420028e-21, 7.73778533e-11, 2.52662378e-09],\n",
       "       [0.00000000e+00, 0.00000000e+00, 0.00000000e+00]])"
      ]
     },
     "execution_count": 190,
     "metadata": {},
     "output_type": "execute_result"
    }
   ],
   "source": [
    "Delta_r ** 2"
   ]
  },
  {
   "cell_type": "markdown",
   "metadata": {},
   "source": [
    "Sum *along the second axis*, i.e. the xyz components:"
   ]
  },
  {
   "cell_type": "code",
   "execution_count": 196,
   "metadata": {},
   "outputs": [
    {
     "data": {
      "text/plain": [
       "array([6.37971228e+02, 6.37968658e+02, 6.37966087e+02, ...,\n",
       "       1.04160065e-08, 2.60400163e-09, 0.00000000e+00])"
      ]
     },
     "execution_count": 196,
     "metadata": {},
     "output_type": "execute_result"
    }
   ],
   "source": [
    "distance_squared = np.sum(Delta_r ** 2, axis=1)\n",
    "distance_squared"
   ]
  },
  {
   "cell_type": "code",
   "execution_count": 197,
   "metadata": {},
   "outputs": [
    {
     "data": {
      "text/plain": [
       "(1000000,)"
      ]
     },
     "execution_count": 197,
     "metadata": {},
     "output_type": "execute_result"
    }
   ],
   "source": [
    "distance_squared.shape"
   ]
  },
  {
   "cell_type": "markdown",
   "metadata": {},
   "source": [
    "Take the square root for each individual $\\Delta\\mathbf{r}(t_i) \\cdot \\Delta\\mathbf{r}(t_i)$:"
   ]
  },
  {
   "cell_type": "code",
   "execution_count": 198,
   "metadata": {
    "scrolled": true
   },
   "outputs": [
    {
     "data": {
      "text/plain": [
       "array([2.52580923e+01, 2.52580414e+01, 2.52579906e+01, ...,\n",
       "       1.02058839e-04, 5.10294193e-05, 0.00000000e+00])"
      ]
     },
     "execution_count": 198,
     "metadata": {},
     "output_type": "execute_result"
    }
   ],
   "source": [
    "np.sqrt(distance_squared)"
   ]
  },
  {
   "cell_type": "markdown",
   "metadata": {},
   "source": [
    "The entire computation altogether in one line of code:"
   ]
  },
  {
   "cell_type": "code",
   "execution_count": 200,
   "metadata": {},
   "outputs": [
    {
     "name": "stdout",
     "output_type": "stream",
     "text": [
      "(1000000,)\n"
     ]
    },
    {
     "data": {
      "text/plain": [
       "array([2.52580923e+01, 2.52580414e+01, 2.52579906e+01, ...,\n",
       "       1.02058839e-04, 5.10294193e-05, 0.00000000e+00])"
      ]
     },
     "execution_count": 200,
     "metadata": {},
     "output_type": "execute_result"
    }
   ],
   "source": [
    "distance =np.sqrt(np.sum((position - ref)**2, axis=1))\n",
    "print(distance.shape)\n",
    "distance"
   ]
  },
  {
   "cell_type": "markdown",
   "metadata": {},
   "source": [
    "Which in code looks very similar to"
   ]
  },
  {
   "cell_type": "markdown",
   "metadata": {},
   "source": [
    "$$\n",
    "d_i = \\sqrt{\\sum_{k=0}^2 (r_{i,k} - r_{\\text{ref},k})^2}\n",
    "$$\n"
   ]
  },
  {
   "cell_type": "markdown",
   "metadata": {},
   "source": [
    "#### Note on matrices "
   ]
  },
  {
   "cell_type": "markdown",
   "metadata": {},
   "source": [
    "Note that multiplication between two arrays is **not** the same as matrix multiplcation. **Arithmetic operations on numpy arrays are performed element-wise.**"
   ]
  },
  {
   "cell_type": "code",
   "execution_count": 56,
   "metadata": {},
   "outputs": [
    {
     "data": {
      "text/plain": [
       "array([  0,  -5, -10])"
      ]
     },
     "execution_count": 56,
     "metadata": {},
     "output_type": "execute_result"
    }
   ],
   "source": [
    "v = np.array([0, -1, 10])\n",
    "w = np.array([3, 5, -1])\n",
    "v * w"
   ]
  },
  {
   "cell_type": "code",
   "execution_count": 58,
   "metadata": {},
   "outputs": [
    {
     "name": "stdout",
     "output_type": "stream",
     "text": [
      "[[1 1 0]\n",
      " [0 1 0]\n",
      " [0 0 2]]\n",
      "[[ 2.   0.   0. ]\n",
      " [-1.   1.   0. ]\n",
      " [ 0.   0.   0.5]]\n",
      "(3, 3)\n",
      "(3, 3)\n"
     ]
    }
   ],
   "source": [
    "A = np.array([[1, 1, 0], [0, 1, 0], [0, 0, 2]])\n",
    "B = np.array([[2, 0, 0], [-1, 1, 0], [0, 0, 0.5]])\n",
    "print(A)\n",
    "print(B)\n",
    "print(A.shape)\n",
    "print(B.shape)"
   ]
  },
  {
   "cell_type": "markdown",
   "metadata": {},
   "source": [
    "The multiplication is _element-wise_ :"
   ]
  },
  {
   "cell_type": "code",
   "execution_count": 59,
   "metadata": {},
   "outputs": [
    {
     "data": {
      "text/plain": [
       "array([[ 2.,  0.,  0.],\n",
       "       [-0.,  1.,  0.],\n",
       "       [ 0.,  0.,  1.]])"
      ]
     },
     "execution_count": 59,
     "metadata": {},
     "output_type": "execute_result"
    }
   ],
   "source": [
    "A * B"
   ]
  },
  {
   "cell_type": "markdown",
   "metadata": {},
   "source": [
    "But there is a method for performing matrix multiplication and dot products (inner products), i.e. \n",
    "$$\n",
    "\\mathbf{v}\\cdot\\mathbf{w} = \\sum_{i=1}^3 v_i w_i, \\quad {\\rm dot~product}\\\\\n",
    "\\mathbf{A}\\mathbf{v} = \\sum_{i=j}^3 A_{ij} v_j, \\quad {\\rm matrix~vector~product}\\\\\n",
    "[\\mathsf{A}\\mathsf{B}]_{ik} = \\sum_{j=1}^3 A_{ij} B_{jk} \\quad {\\rm matrix~multiplication}\n",
    "$$"
   ]
  },
  {
   "cell_type": "code",
   "execution_count": 207,
   "metadata": {},
   "outputs": [
    {
     "data": {
      "text/plain": [
       "-15"
      ]
     },
     "execution_count": 207,
     "metadata": {},
     "output_type": "execute_result"
    }
   ],
   "source": [
    "np.dot(v, w)"
   ]
  },
  {
   "cell_type": "markdown",
   "metadata": {},
   "source": [
    "or with `@` (matrix multiplication operator)"
   ]
  },
  {
   "cell_type": "code",
   "execution_count": 60,
   "metadata": {},
   "outputs": [
    {
     "data": {
      "text/plain": [
       "-15"
      ]
     },
     "execution_count": 60,
     "metadata": {},
     "output_type": "execute_result"
    }
   ],
   "source": [
    "v @ w"
   ]
  },
  {
   "cell_type": "markdown",
   "metadata": {},
   "source": [
    "Numpy arrays also have the `dot()` method:"
   ]
  },
  {
   "cell_type": "code",
   "execution_count": 209,
   "metadata": {},
   "outputs": [
    {
     "data": {
      "text/plain": [
       "array([-1, -1, 20])"
      ]
     },
     "execution_count": 209,
     "metadata": {},
     "output_type": "execute_result"
    }
   ],
   "source": [
    "A.dot(v)"
   ]
  },
  {
   "cell_type": "code",
   "execution_count": 210,
   "metadata": {},
   "outputs": [
    {
     "data": {
      "text/plain": [
       "array([[ 1.,  1.,  0.],\n",
       "       [-1.,  1.,  0.],\n",
       "       [ 0.,  0.,  1.]])"
      ]
     },
     "execution_count": 210,
     "metadata": {},
     "output_type": "execute_result"
    }
   ],
   "source": [
    "A.dot(B)"
   ]
  },
  {
   "cell_type": "markdown",
   "metadata": {},
   "source": [
    "Which is equivalent to: "
   ]
  },
  {
   "cell_type": "code",
   "execution_count": 211,
   "metadata": {},
   "outputs": [
    {
     "data": {
      "text/plain": [
       "array([[ 1.,  1.,  0.],\n",
       "       [-1.,  1.,  0.],\n",
       "       [ 0.,  0.,  1.]])"
      ]
     },
     "execution_count": 211,
     "metadata": {},
     "output_type": "execute_result"
    }
   ],
   "source": [
    "A @ B"
   ]
  },
  {
   "cell_type": "markdown",
   "metadata": {},
   "source": [
    "More linear algebra functions can be found in the [`numpy.linalg`](https://docs.scipy.org/doc/numpy/reference/routines.linalg.html) module:"
   ]
  },
  {
   "cell_type": "code",
   "execution_count": 212,
   "metadata": {},
   "outputs": [
    {
     "data": {
      "text/plain": [
       "['LinAlgError',\n",
       " '__all__',\n",
       " '__builtins__',\n",
       " '__cached__',\n",
       " '__doc__',\n",
       " '__file__',\n",
       " '__loader__',\n",
       " '__name__',\n",
       " '__package__',\n",
       " '__path__',\n",
       " '__spec__',\n",
       " '_umath_linalg',\n",
       " 'cholesky',\n",
       " 'cond',\n",
       " 'det',\n",
       " 'eig',\n",
       " 'eigh',\n",
       " 'eigvals',\n",
       " 'eigvalsh',\n",
       " 'inv',\n",
       " 'linalg',\n",
       " 'lstsq',\n",
       " 'matrix_power',\n",
       " 'matrix_rank',\n",
       " 'multi_dot',\n",
       " 'norm',\n",
       " 'pinv',\n",
       " 'qr',\n",
       " 'slogdet',\n",
       " 'solve',\n",
       " 'svd',\n",
       " 'tensorinv',\n",
       " 'tensorsolve',\n",
       " 'test']"
      ]
     },
     "execution_count": 212,
     "metadata": {},
     "output_type": "execute_result"
    }
   ],
   "source": [
    "dir(np.linalg)"
   ]
  },
  {
   "cell_type": "markdown",
   "metadata": {},
   "source": [
    "## Creating new arrays"
   ]
  },
  {
   "cell_type": "markdown",
   "metadata": {},
   "source": [
    "The `numpy` package provides a number of functions for creating new arrays. For example, we can create an array full of zeros with the `np.zeros` function:"
   ]
  },
  {
   "cell_type": "code",
   "execution_count": 61,
   "metadata": {},
   "outputs": [
    {
     "name": "stdout",
     "output_type": "stream",
     "text": [
      "(2, 3)\n"
     ]
    },
    {
     "data": {
      "text/plain": [
       "array([[0., 0., 0.],\n",
       "       [0., 0., 0.]])"
      ]
     },
     "execution_count": 61,
     "metadata": {},
     "output_type": "execute_result"
    }
   ],
   "source": [
    "print(np.zeros((2,3)).shape)\n",
    "np.zeros((2,3))"
   ]
  },
  {
   "cell_type": "markdown",
   "metadata": {},
   "source": [
    "where the tuple argument indicates the shape. Similarly an array of ones can be created with the `np.ones` function:"
   ]
  },
  {
   "cell_type": "code",
   "execution_count": 97,
   "metadata": {},
   "outputs": [
    {
     "data": {
      "text/plain": [
       "array([[1., 1., 1.],\n",
       "       [1., 1., 1.]])"
      ]
     },
     "execution_count": 97,
     "metadata": {},
     "output_type": "execute_result"
    }
   ],
   "source": [
    "np.ones((2,3))"
   ]
  },
  {
   "cell_type": "markdown",
   "metadata": {},
   "source": [
    "A 2D array of boolean data type filled with `True` values can be created with:"
   ]
  },
  {
   "cell_type": "code",
   "execution_count": 217,
   "metadata": {},
   "outputs": [
    {
     "data": {
      "text/plain": [
       "array([[ True,  True,  True],\n",
       "       [ True,  True,  True]])"
      ]
     },
     "execution_count": 217,
     "metadata": {},
     "output_type": "execute_result"
    }
   ],
   "source": [
    "np.ones((2,3), dtype=bool)"
   ]
  },
  {
   "cell_type": "markdown",
   "metadata": {},
   "source": [
    "The `np.arange` function creates an array of evenly spaced values within a given interval which is equivalent to the \n",
    "native python `range` function that we encountered in Week3s lecture on loops\n",
    "```python\n",
    "range(start, stop, step)\n",
    "```"
   ]
  },
  {
   "cell_type": "markdown",
   "metadata": {},
   "source": [
    "`np.arange` is the equivalent to `range`:"
   ]
  },
  {
   "cell_type": "code",
   "execution_count": 101,
   "metadata": {},
   "outputs": [
    {
     "data": {
      "text/plain": [
       "array([-6, -4, -2,  0,  2,  4])"
      ]
     },
     "execution_count": 101,
     "metadata": {},
     "output_type": "execute_result"
    }
   ],
   "source": [
    "np.arange(-6, 6, 2)"
   ]
  },
  {
   "cell_type": "markdown",
   "metadata": {},
   "source": [
    "Although it is more flexible, since it can use float steps:"
   ]
  },
  {
   "cell_type": "code",
   "execution_count": 62,
   "metadata": {},
   "outputs": [
    {
     "data": {
      "text/plain": [
       "array([0. , 0.5, 1. , 1.5, 2. , 2.5, 3. , 3.5, 4. , 4.5, 5. , 5.5, 6. ,\n",
       "       6.5, 7. , 7.5, 8. , 8.5, 9. , 9.5])"
      ]
     },
     "execution_count": 62,
     "metadata": {},
     "output_type": "execute_result"
    }
   ],
   "source": [
    "np.arange(10, step=0.5)"
   ]
  },
  {
   "cell_type": "markdown",
   "metadata": {},
   "source": [
    "Although more useful is `np.linspace(start, stop, num)` to make exactly `num` equally distant numbers between `start` and `stop` _inclusive_:"
   ]
  },
  {
   "cell_type": "code",
   "execution_count": 63,
   "metadata": {},
   "outputs": [
    {
     "data": {
      "text/plain": [
       "array([-6., -5., -4., -3., -2., -1.,  0.,  1.,  2.,  3.,  4.,  5.,  6.])"
      ]
     },
     "execution_count": 63,
     "metadata": {},
     "output_type": "execute_result"
    }
   ],
   "source": [
    "np.linspace(-6, 6, 13)"
   ]
  },
  {
   "cell_type": "markdown",
   "metadata": {},
   "source": [
    "## Thinking in arrays "
   ]
  },
  {
   "cell_type": "markdown",
   "metadata": {},
   "source": [
    "Say we wanted to displace our particle a full 5 units in each of the $x, y$, and $z$ directions. If you have experience with a language like C, you might be used to writing nested loops like this one to achieve this:"
   ]
  },
  {
   "cell_type": "code",
   "execution_count": 220,
   "metadata": {},
   "outputs": [],
   "source": [
    "time, position = create_position()"
   ]
  },
  {
   "cell_type": "markdown",
   "metadata": {},
   "source": [
    "(We use the `%%time` magic to get the time for a whole code block.)"
   ]
  },
  {
   "cell_type": "code",
   "execution_count": 228,
   "metadata": {
    "scrolled": true
   },
   "outputs": [
    {
     "name": "stdout",
     "output_type": "stream",
     "text": [
      "CPU times: user 458 ms, sys: 1.36 ms, total: 459 ms\n",
      "Wall time: 459 ms\n"
     ]
    }
   ],
   "source": [
    "%%time\n",
    "for i in range(position.shape[0]):\n",
    "    for j in range(position.shape[1]):\n",
    "        position[i, j] += 5"
   ]
  },
  {
   "cell_type": "code",
   "execution_count": 67,
   "metadata": {},
   "outputs": [
    {
     "data": {
      "text/plain": [
       "array([[ 6.        ,  5.        ,  5.        ],\n",
       "       [ 6.        ,  5.0000088 ,  5.00005027],\n",
       "       [ 6.        ,  5.00001759,  5.00010053],\n",
       "       ...,\n",
       "       [ 6.        ,  7.51325653, 30.1326407 ],\n",
       "       [ 6.        ,  7.51326533, 30.13269096],\n",
       "       [ 6.        ,  7.51327412, 30.13274123]])"
      ]
     },
     "execution_count": 67,
     "metadata": {},
     "output_type": "execute_result"
    }
   ],
   "source": [
    "position"
   ]
  },
  {
   "cell_type": "markdown",
   "metadata": {},
   "source": [
    "But one of the main points of `numpy` is performance, so we'd do better to spend as little time as possible doing calculations line by line in the Python interpreter, which is the case in the above loop. Instead we can do:"
   ]
  },
  {
   "cell_type": "code",
   "execution_count": 68,
   "metadata": {},
   "outputs": [],
   "source": [
    "time, position = create_position()"
   ]
  },
  {
   "cell_type": "code",
   "execution_count": 69,
   "metadata": {
    "scrolled": false
   },
   "outputs": [
    {
     "name": "stdout",
     "output_type": "stream",
     "text": [
      "CPU times: user 1.07 ms, sys: 453 µs, total: 1.53 ms\n",
      "Wall time: 685 µs\n"
     ]
    }
   ],
   "source": [
    "%%time\n",
    "position += 5"
   ]
  },
  {
   "cell_type": "markdown",
   "metadata": {},
   "source": [
    "Speed-up for using array operations instead of `for` loops:"
   ]
  },
  {
   "cell_type": "code",
   "execution_count": 232,
   "metadata": {},
   "outputs": [
    {
     "data": {
      "text/plain": [
       "783.69384359401"
      ]
     },
     "execution_count": 232,
     "metadata": {},
     "output_type": "execute_result"
    }
   ],
   "source": [
    "471e-3/601e-6"
   ]
  },
  {
   "cell_type": "markdown",
   "metadata": {
    "collapsed": true
   },
   "source": [
    "On my laptop the difference in speed is a factor of $\\approx 800$ (you might see speed-ups on the order of 100 to 1000). The larger the array the more pronounced the difference in speed will be, too. The general rule when using `numpy` is to try and put what you're trying to do in terms of operations on whole arrays (or slices of them). For manipulating numerical data in arrays, **always try to avoid Python loops unless absolutely necessary.**\n",
    "\n",
    "For functions like $\\sin$, $\\cos$, $\\exp$, etc. you can use the functions from the  `numpy` module to operate on arrays element-wise. This is much faster than looping over the array and applying the function to each element individually. This is referred to as a **vectorized** operation. "
   ]
  },
  {
   "cell_type": "markdown",
   "metadata": {},
   "source": [
    "\n",
    "As an example of how you can code without loops, consider the function we wrote before in Week3s lecture on basic control flow, which computes the gravitational potential energy of a test mass $m$ at a distance $r$ from the center of a uniform density sphere of total mass $M$ and radius $R$ is given by\n",
    "$$\n",
    "U_{\\rm grav}(r)=\\begin{cases}\n",
    "-\\frac{GMm(3R^2-r^2)}{2R^3} & r\\le R\\\\\n",
    "-\\frac{GMm}{r} & r\\gt R\n",
    "\\end{cases}\n",
    "$$\n",
    "\n",
    "There we computed the potential energy as a function of distance from the center of the Earth using the following code:"
   ]
  },
  {
   "cell_type": "code",
   "execution_count": 78,
   "metadata": {},
   "outputs": [],
   "source": [
    "def U_grav(r,M,R,m): \n",
    "    \"\"\" Gravitational potential energy of a mass m at a distance r from a uniform density sphere of total mass M and radius R. \n",
    "    \n",
    "    Parameters\n",
    "    ----------\n",
    "    r : float \n",
    "        Distance from center of the sphere (m).  \n",
    "    M : float \n",
    "        Total mass of the sphere (kg).\n",
    "    R : float \n",
    "        Radius of the sphere (m)\n",
    "    m : float \n",
    "        Mass of test mass (kg).\n",
    "    \n",
    "    Returns\n",
    "    -------\n",
    "    U : float \n",
    "        Gravitational potential energy (J). \n",
    "    \"\"\"\n",
    "    G=6.67408e-11 # Newton's gravitational constant in units of m^3/(kg s^2)\n",
    "    if r <= R:\n",
    "        return -G*M*m*(3*R**2-r**2)/2/R**3\n",
    "    else:\n",
    "        return -G*M*m/r"
   ]
  },
  {
   "cell_type": "markdown",
   "metadata": {},
   "source": [
    "Now with our new knowledge of numpy arrays, we can **vectorize** this code, i.e. write it without loops, as follows:"
   ]
  },
  {
   "cell_type": "code",
   "execution_count": 79,
   "metadata": {},
   "outputs": [],
   "source": [
    "def U_grav_vector(r,M,R,m): \n",
    "    \"\"\" Gravitational potential energy of a mass m at a distance r from a uniform density sphere of total mass M and radius R. \n",
    "    \n",
    "    Parameters\n",
    "    ----------\n",
    "    r : float \n",
    "        Distance from center of the sphere (m).  \n",
    "    M : float \n",
    "        Total mass of the sphere (kg).\n",
    "    R : float \n",
    "        Radius of the sphere (m)\n",
    "    m : float \n",
    "        Mass of test mass (kg).\n",
    "    \n",
    "    Returns\n",
    "    -------\n",
    "    U : float \n",
    "        Gravitational potential energy (J). \n",
    "    \"\"\"\n",
    "    G=6.67408e-11 # Newton's gravitational constant in units of m^3/(kg s^2)\n",
    "    U = np.zeros_like(r)\n",
    "    ind_le_R = r <= R\n",
    "    ind_gt_R = np.logical_not(ind_le_R)\n",
    "    U[ind_le_R] = -G*M*m*(3*R**2-np.square(r[ind_le_R]))/2/R**3\n",
    "    U[ind_gt_R] = -G*M*m/r[ind_gt_R]\n",
    "    return U"
   ]
  },
  {
   "cell_type": "markdown",
   "metadata": {},
   "source": [
    "As before we will evaluate for the Earth on a linearly spaced grid of distances from the center of the Earth to $3\\times 10^7~{\\rm m}$, and compare the performance of the two implementations:"
   ]
  },
  {
   "cell_type": "code",
   "execution_count": 80,
   "metadata": {},
   "outputs": [],
   "source": [
    "R = 6.371e6 # Radius of the Earth in m\n",
    "M = 5.972e24 # Mass of the Earth in kg \n",
    "m = 1.0 # Mass of the test mass in kg\n",
    "# Create an arry of 10^4 evenly spaced values of r from 0 to 3e7\n",
    "nr=10000\n",
    "r = np.linspace(0.0,3.0e7,nr)"
   ]
  },
  {
   "cell_type": "code",
   "execution_count": 81,
   "metadata": {},
   "outputs": [
    {
     "name": "stdout",
     "output_type": "stream",
     "text": [
      "1.56 ms ± 11.3 µs per loop (mean ± std. dev. of 7 runs, 1,000 loops each)\n"
     ]
    }
   ],
   "source": [
    "%%timeit\n",
    "# Version using a loop\n",
    "# Initialize an array of zeros for U which we will fill up\n",
    "U = np.zeros_like(r) \n",
    "# Populate U\n",
    "for i in range(nr):\n",
    "    U[i] = U_grav(r[i],M,R,m)"
   ]
  },
  {
   "cell_type": "code",
   "execution_count": 82,
   "metadata": {},
   "outputs": [
    {
     "name": "stdout",
     "output_type": "stream",
     "text": [
      "19.2 µs ± 462 ns per loop (mean ± std. dev. of 7 runs, 100,000 loops each)\n"
     ]
    }
   ],
   "source": [
    "%%timeit\n",
    "# Vectorized version with no loops\n",
    "U = U_grav_vector(r,M,R,m)"
   ]
  },
  {
   "cell_type": "markdown",
   "metadata": {},
   "source": [
    "So the speed gain is a factor of $\\approx 80$."
   ]
  }
 ],
 "metadata": {
  "anaconda-cloud": {},
  "kernelspec": {
   "display_name": "Python 3",
   "language": "python",
   "name": "python3"
  },
  "language_info": {
   "codemirror_mode": {
    "name": "ipython",
    "version": 3
   },
   "file_extension": ".py",
   "mimetype": "text/x-python",
   "name": "python",
   "nbconvert_exporter": "python",
   "pygments_lexer": "ipython3",
   "version": "3.11.5"
  }
 },
 "nbformat": 4,
 "nbformat_minor": 2
}
