{
 "cells": [
  {
   "cell_type": "markdown",
   "metadata": {},
   "source": [
    "# Reading Data from Files, Writing Data to Files"
   ]
  },
  {
   "cell_type": "markdown",
   "metadata": {},
   "source": [
    "We learned about the different data types in python (integers, floats, booleans, strings), the different types of python containers that can hold data, where that be native containers (lists, tuples, dictionaries), or numpy arrays.  We will often encounter situations where we need to read data from a file into these containers, or write data in these containers to a file. This is a very common task in scientific computing will \n",
    "be covered in this section. \n",
    "\n",
    "In Python, text is stored in strings in **text files**. We learned about the string (`str`) data type in the Week2 lecture. By text we mean sequences of alphanumeric characters that make sense to a human. In contrast, there are also so-called **binary files** used for large data outputs, or executable programs, that can only be read by a computer program.\n",
    "\n",
    "There are several different ways to read and write text files in Python. We will cover the most common ones in turn which are: \n",
    "- Reading and writing files line-by-line\n",
    "- Reading and writing files directly into arrays using the `numpy` library\n",
    "- Reading and writing files using the `pandas` library\n",
    "\n",
    "There are of course many other ways to read and write files in Python, but these are arguably the most common and useful ones. \n",
    "\n",
    "We have already talked about built-in Python types, but there are more types that we did not speak about. One of these is the file() object which can be used to read or write files."
   ]
  },
  {
   "cell_type": "markdown",
   "metadata": {},
   "source": [
    "## The Data"
   ]
  },
  {
   "cell_type": "markdown",
   "metadata": {},
   "source": [
    "The file `data/data_2MASS.txt` contains the magnitudes of some stars from the 2MASS astronomical sky survey."
   ]
  },
  {
   "cell_type": "markdown",
   "metadata": {},
   "source": [
    "``` text \n",
    "# Magnitudes of some stars from the 2MASS astronomical sky survey. \n",
    "# Coordinates are in decimal degrees in the J2000 equinox.\n",
    "#  RA          DEC          Name          Jmag   e_Jmag\n",
    "# (deg)       (deg)                       (mag)   (mag)\n",
    "010.684737 +41.269035 J00424433+4116085   9.453  0.052\n",
    "010.683469 +41.268585 J00424403+4116069   9.321  0.022\n",
    "010.685657 +41.269550 J00424455+4116103  10.773  0.069\n",
    "010.686026 +41.269226 J00424464+4116092   9.299  0.063\n",
    "010.683465 +41.269676 J00424403+4116108  11.507  0.056\n",
    "010.686015 +41.269630 J00424464+4116106   9.399  0.045\n",
    "010.685270 +41.267124 J00424446+4116016  12.070  0.035\n",
    "```"
   ]
  },
  {
   "cell_type": "markdown",
   "metadata": {},
   "source": [
    "The lines that start with `#` are comments that make up the file **header**. A header provides descriptive information or metadata (like units) about what is stored in the file and how it is arranged, but does not constitute the data itself. Then we see a table of data with 5 columns. The first two columns contain floating point numbers (floats) which are  the coordinates (right ascension and declination) of the star in decimal degrees. The third column is a string, which is name of the star.  The fourth and fifth columns also contain floats which represent the $J$-band magnitude of the star (`Jmag`), and the error on this measurement (`e_Jmag`). In Astronomy, the magnitude of a star is a logarithmic measure of its brightness (the $\\log_{10}$ of its intensity), and $J$ represents the astronomical filter that was used for the measurements. "
   ]
  },
  {
   "cell_type": "markdown",
   "metadata": {},
   "source": [
    "## Reading and Writing Files Line-by-Line"
   ]
  },
  {
   "cell_type": "markdown",
   "metadata": {},
   "source": [
    "Let's try and access the contents of the data file in Python. We start off by creating a file object:"
   ]
  },
  {
   "cell_type": "code",
   "execution_count": 1,
   "metadata": {},
   "outputs": [],
   "source": [
    "f2MASS = open('data/data_2MASS.txt', 'r')"
   ]
  },
  {
   "cell_type": "markdown",
   "metadata": {},
   "source": [
    "The open function is taking the data/data.txt file, opening it, and returning an object (which we call f) that can then be used to access the data.\n"
   ]
  },
  {
   "cell_type": "markdown",
   "metadata": {},
   "source": [
    "We have already talked about several built-in Python data types (lists, tuples, dictionaries), but there are other types that we did not discuss. One of these is the file() object which can be used to read or write files."
   ]
  },
  {
   "cell_type": "code",
   "execution_count": 1,
   "metadata": {},
   "outputs": [
    {
     "name": "stdout",
     "output_type": "stream",
     "text": [
      "RAJ: [10.684737 10.683469 10.685657 10.686026 10.683465 10.686015 10.68527 ]\n",
      "DEJ: ['+41.269035' '+41.268585' '+41.269550' '+41.269226' '+41.269676'\n",
      " '+41.269630' '+41.267124']\n",
      "2MASS: ['00424433+4116085' '00424403+4116069' '00424455+4116103'\n",
      " '00424464+4116092' '00424403+4116108' '00424464+4116106'\n",
      " '00424446+4116016']\n",
      "Jmag: [ 9.453  9.321 10.773  9.299 11.507  9.399 12.07 ]\n",
      "e_Jmag: [0.052 0.022 0.069 0.063 0.056 0.045 0.035]\n"
     ]
    }
   ],
   "source": [
    "import numpy as np\n",
    "\n",
    "# Initialize empty lists\n",
    "raj_list = []\n",
    "dej_list = []\n",
    "name_list = []\n",
    "jmag_list = []\n",
    "e_jmag_list = []\n",
    "\n",
    "# Open the file\n",
    "with open('data_2MASS.txt', 'r') as file:\n",
    "    # Read and parse the lines\n",
    "    for line in file:\n",
    "        # Skip comment lines\n",
    "        if line.startswith('#'):\n",
    "            continue\n",
    "\n",
    "        # Split the line into columns\n",
    "        columns = line.split()\n",
    "\n",
    "        # Parse the columns and append to the lists\n",
    "        raj_list.append(float(columns[0]))\n",
    "        dej_list.append(columns[1])\n",
    "        name_list.append(columns[2])\n",
    "        jmag_list.append(float(columns[3]))\n",
    "        e_jmag_list.append(float(columns[4]))\n",
    "\n",
    "# Convert the lists to arrays\n",
    "raj = np.array(raj_list)\n",
    "dej = np.array(dej_list)\n",
    "two_mass = np.array(name_list)\n",
    "jmag = np.array(jmag_list)\n",
    "e_jmag = np.array(e_jmag_list)\n",
    "\n",
    "# Print the arrays\n",
    "print('RAJ:', raj)\n",
    "print('DEJ:', dej)\n",
    "print('2MASS:', two_mass)\n",
    "print('Jmag:', jmag)\n",
    "print('e_Jmag:', e_jmag)"
   ]
  },
  {
   "cell_type": "code",
   "execution_count": 2,
   "metadata": {},
   "outputs": [
    {
     "name": "stdout",
     "output_type": "stream",
     "text": [
      "RAJ: [10.684737 10.683469 10.685657 10.686026 10.683465 10.686015 10.68527 ]\n",
      "DEJ: [b'+41.269035' b'+41.268585' b'+41.269550' b'+41.269226' b'+41.269676'\n",
      " b'+41.269630' b'+41.267124']\n",
      "2MASS: [b'00424433+4116085' b'00424403+4116069' b'00424455+4116103'\n",
      " b'00424464+4116092' b'00424403+4116108' b'00424464+4116106'\n",
      " b'00424446+4116016']\n",
      "Jmag: [ 9.453  9.321 10.773  9.299 11.507  9.399 12.07 ]\n",
      "e_Jmag: [0.052 0.022 0.069 0.063 0.056 0.045 0.035]\n"
     ]
    }
   ],
   "source": [
    "import numpy as np\n",
    "\n",
    "# Use np.loadtxt to read the data from the file\n",
    "data = np.loadtxt('data_2MASS.txt', dtype={'names': ('RAJ', 'DEJ', '2MASS', 'Jmag', 'e_Jmag'),\n",
    "                                           'formats': ('f8', 'S10', 'S20', 'f8', 'f8')})\n",
    "\n",
    "# Extract the columns\n",
    "raj = data['RAJ']\n",
    "dej = data['DEJ']\n",
    "two_mass = data['2MASS']\n",
    "jmag = data['Jmag']\n",
    "e_jmag = data['e_Jmag']\n",
    "\n",
    "# Print the arrays\n",
    "print('RAJ:', raj)\n",
    "print('DEJ:', dej)\n",
    "print('2MASS:', two_mass)\n",
    "print('Jmag:', jmag)\n",
    "print('e_Jmag:', e_jmag)"
   ]
  },
  {
   "cell_type": "code",
   "execution_count": 12,
   "metadata": {},
   "outputs": [
    {
     "name": "stdout",
     "output_type": "stream",
     "text": [
      "RAJ: [10.684737 10.683469 10.685657 10.686026 10.683465 10.686015 10.68527 ]\n",
      "DEJ: [41.269035 41.268585 41.26955  41.269226 41.269676 41.26963  41.267124]\n",
      "2MASS: ['00424433+4116085' '00424403+4116069' '00424455+4116103'\n",
      " '00424464+4116092' '00424403+4116108' '00424464+4116106'\n",
      " '00424446+4116016']\n",
      "Jmag: [ 9.453  9.321 10.773  9.299 11.507  9.399 12.07 ]\n",
      "e_Jmag: [0.052 0.022 0.069 0.063 0.056 0.045 0.035]\n"
     ]
    }
   ],
   "source": [
    "import pandas as pd\n",
    "\n",
    "# Use pd.read_csv to read the data from the file\n",
    "data = pd.read_csv('data_2MASS.txt', sep='\\s+', comment='#', \n",
    "                   names=['RAJ', 'DEJ', '2MASS', 'Jmag', 'e_Jmag'])\n",
    "\n",
    "# Extract the columns and convert to numpy arrays\n",
    "raj = data['RAJ'].values\n",
    "dej = data['DEJ'].values\n",
    "two_mass = data['2MASS'].values\n",
    "jmag = data['Jmag'].values\n",
    "e_jmag = data['e_Jmag'].values\n",
    "\n",
    "# Print the arrays\n",
    "print('RAJ:', raj)\n",
    "print('DEJ:', dej)\n",
    "print('2MASS:', two_mass)\n",
    "print('Jmag:', jmag)\n",
    "print('e_Jmag:', e_jmag)"
   ]
  },
  {
   "cell_type": "code",
   "execution_count": 11,
   "metadata": {},
   "outputs": [
    {
     "data": {
      "text/html": [
       "<div>\n",
       "<style scoped>\n",
       "    .dataframe tbody tr th:only-of-type {\n",
       "        vertical-align: middle;\n",
       "    }\n",
       "\n",
       "    .dataframe tbody tr th {\n",
       "        vertical-align: top;\n",
       "    }\n",
       "\n",
       "    .dataframe thead th {\n",
       "        text-align: right;\n",
       "    }\n",
       "</style>\n",
       "<table border=\"1\" class=\"dataframe\">\n",
       "  <thead>\n",
       "    <tr style=\"text-align: right;\">\n",
       "      <th></th>\n",
       "      <th>RA</th>\n",
       "      <th>DEC</th>\n",
       "      <th>Name</th>\n",
       "      <th>Jmag</th>\n",
       "      <th>e_Jmag</th>\n",
       "    </tr>\n",
       "  </thead>\n",
       "  <tbody>\n",
       "    <tr>\n",
       "      <th>0</th>\n",
       "      <td>10.684737</td>\n",
       "      <td>41.269035</td>\n",
       "      <td>00424433+4116085</td>\n",
       "      <td>9.453</td>\n",
       "      <td>0.052</td>\n",
       "    </tr>\n",
       "    <tr>\n",
       "      <th>1</th>\n",
       "      <td>10.683469</td>\n",
       "      <td>41.268585</td>\n",
       "      <td>00424403+4116069</td>\n",
       "      <td>9.321</td>\n",
       "      <td>0.022</td>\n",
       "    </tr>\n",
       "    <tr>\n",
       "      <th>2</th>\n",
       "      <td>10.685657</td>\n",
       "      <td>41.269550</td>\n",
       "      <td>00424455+4116103</td>\n",
       "      <td>10.773</td>\n",
       "      <td>0.069</td>\n",
       "    </tr>\n",
       "    <tr>\n",
       "      <th>3</th>\n",
       "      <td>10.686026</td>\n",
       "      <td>41.269226</td>\n",
       "      <td>00424464+4116092</td>\n",
       "      <td>9.299</td>\n",
       "      <td>0.063</td>\n",
       "    </tr>\n",
       "    <tr>\n",
       "      <th>4</th>\n",
       "      <td>10.683465</td>\n",
       "      <td>41.269676</td>\n",
       "      <td>00424403+4116108</td>\n",
       "      <td>11.507</td>\n",
       "      <td>0.056</td>\n",
       "    </tr>\n",
       "    <tr>\n",
       "      <th>5</th>\n",
       "      <td>10.686015</td>\n",
       "      <td>41.269630</td>\n",
       "      <td>00424464+4116106</td>\n",
       "      <td>9.399</td>\n",
       "      <td>0.045</td>\n",
       "    </tr>\n",
       "    <tr>\n",
       "      <th>6</th>\n",
       "      <td>10.685270</td>\n",
       "      <td>41.267124</td>\n",
       "      <td>00424446+4116016</td>\n",
       "      <td>12.070</td>\n",
       "      <td>0.035</td>\n",
       "    </tr>\n",
       "  </tbody>\n",
       "</table>\n",
       "</div>"
      ],
      "text/plain": [
       "          RA        DEC              Name    Jmag  e_Jmag\n",
       "0  10.684737  41.269035  00424433+4116085   9.453   0.052\n",
       "1  10.683469  41.268585  00424403+4116069   9.321   0.022\n",
       "2  10.685657  41.269550  00424455+4116103  10.773   0.069\n",
       "3  10.686026  41.269226  00424464+4116092   9.299   0.063\n",
       "4  10.683465  41.269676  00424403+4116108  11.507   0.056\n",
       "5  10.686015  41.269630  00424464+4116106   9.399   0.045\n",
       "6  10.685270  41.267124  00424446+4116016  12.070   0.035"
      ]
     },
     "execution_count": 11,
     "metadata": {},
     "output_type": "execute_result"
    }
   ],
   "source": [
    "# Use pd.read_csv to read the data from the file\n",
    "data = pd.read_csv('data_2MASS.csv', comment='#')\n",
    "data"
   ]
  },
  {
   "cell_type": "code",
   "execution_count": 14,
   "metadata": {},
   "outputs": [
    {
     "name": "stdout",
     "output_type": "stream",
     "text": [
      "RAJ: [10.684737 10.683469 10.685657 10.686026 10.683465 10.686015 10.68527 ]\n",
      "DEJ: [41.269035 41.268585 41.26955  41.269226 41.269676 41.26963  41.267124]\n",
      "2MASS: ['00424433+4116085' '00424403+4116069' '00424455+4116103'\n",
      " '00424464+4116092' '00424403+4116108' '00424464+4116106'\n",
      " '00424446+4116016']\n",
      "Jmag: [ 9.453  9.321 10.773  9.299 11.507  9.399 12.07 ]\n",
      "e_Jmag: [0.052 0.022 0.069 0.063 0.056 0.045 0.035]\n"
     ]
    }
   ],
   "source": [
    "# Assign the pandas columns to numpy arrays\n",
    "raj = data['RAJ'].values\n",
    "dej = data['DEJ'].values\n",
    "two_mass = data['2MASS'].values\n",
    "jmag = data['Jmag'].values\n",
    "e_jmag = data['e_Jmag'].values\n",
    "\n",
    "# Print the arrays\n",
    "print('RAJ:', raj)\n",
    "print('DEJ:', dej)\n",
    "print('2MASS:', two_mass)\n",
    "print('Jmag:', jmag)\n",
    "print('e_Jmag:', e_jmag)"
   ]
  },
  {
   "cell_type": "code",
   "execution_count": 20,
   "metadata": {},
   "outputs": [],
   "source": [
    "# Open the file in write mode\n",
    "with open('output.txt', 'w') as file:\n",
    "    # Write the header lines\n",
    "    file.write(\"# Magnitudes of some stars from the 2MASS astronomical sky survey.\\n\")\n",
    "    file.write(\"# Coordinates are in decimal degrees in the J2000 equinox.\\n\")\n",
    "    file.write(\"#  RA         DEC         Name               Jmag   e_Jmag\\n\")\n",
    "    file.write(\"# (deg)      (deg)                           (mag)   (mag)\\n\")\n",
    "\n",
    "    # Write the data line by line\n",
    "    for i in range(len(raj)):\n",
    "        line = f\"{raj[i]:10.6f} {dej[i]:+10.6f} {two_mass[i]:<20} {jmag[i]:7.3f}  {e_jmag[i]:.3f}\\n\"\n",
    "        file.write(line)\n"
   ]
  },
  {
   "cell_type": "code",
   "execution_count": 21,
   "metadata": {},
   "outputs": [],
   "source": [
    "import numpy as np\n",
    "\n",
    "# Create a structured array with your data\n",
    "data = np.zeros(len(raj), dtype={'names':('RAJ', 'DEJ', '2MASS', 'Jmag', 'e_Jmag'),\n",
    "                                 'formats':('f8', 'f8', 'U20', 'f8', 'f8')})\n",
    "\n",
    "data['RAJ'] = raj\n",
    "data['DEJ'] = dej\n",
    "data['2MASS'] = two_mass\n",
    "data['Jmag'] = jmag\n",
    "data['e_Jmag'] = e_jmag\n",
    "\n",
    "# Define the header and footer\n",
    "header = (\"# Magnitudes of some stars from the 2MASS astronomical sky survey.\\n\"\n",
    "          \"# Coordinates are in decimal degrees in the J2000 equinox.\\n\"\n",
    "          \"#  RA         DEC         Name               Jmag   e_Jmag\\n\"\n",
    "          \"# (deg)      (deg)                           (mag)   (mag)\")\n",
    "\n",
    "# Define the format for each field\n",
    "formats = \"%10.6f %+10.6f %-20s %7.3f %.3f\"\n",
    "\n",
    "# Write the data to the file\n",
    "np.savetxt('output2.txt', data, fmt=formats, header=header, comments='')"
   ]
  },
  {
   "cell_type": "code",
   "execution_count": 22,
   "metadata": {},
   "outputs": [],
   "source": [
    "import numpy as np\n",
    "\n",
    "# Stack the data into a 2D array\n",
    "data = np.column_stack((raj, dej, two_mass, jmag, e_jmag))\n",
    "\n",
    "# Define the header\n",
    "header = (\"# Magnitudes of some stars from the 2MASS astronomical sky survey.\\n\"\n",
    "          \"# Coordinates are in decimal degrees in the J2000 equinox.\\n\"\n",
    "          \"#  RA         DEC         Name               Jmag   e_Jmag\\n\"\n",
    "          \"# (deg)      (deg)                           (mag)   (mag)\")\n",
    "\n",
    "# Write the data to the file\n",
    "np.savetxt('output3.txt', data, fmt=\"%s\", header=header, comments='')"
   ]
  },
  {
   "cell_type": "code",
   "execution_count": null,
   "metadata": {},
   "outputs": [],
   "source": [
    "import pandas as pd\n",
    "\n",
    "# Create a DataFrame from your numpy arrays\n",
    "df = pd.DataFrame({\n",
    "    'RA': raj,\n",
    "    'DEC': dej,\n",
    "    'Name': two_mass,\n",
    "    'Jmag': jmag,\n",
    "    'e_Jmag': e_jmag\n",
    "})\n",
    "\n",
    "# Define the header\n",
    "header = (\"# Magnitudes of some stars from the 2MASS astronomical sky survey.\\n\"\n",
    "          \"# Coordinates are in decimal degrees in the J2000 equinox.\\n\"\n",
    "          \"# Units: RA (deg), DEC (deg), Name, Jmag (mag), e_Jmag (mag)\")\n",
    "\n",
    "# Write the DataFrame to a file\n",
    "with open('output.csv', 'w') as f:\n",
    "    f.write(header + '\\n')\n",
    "df.to_csv('output.csv', sep=',', mode='a', index=False, float_format=\"%.6f\")"
   ]
  },
  {
   "cell_type": "code",
   "execution_count": 24,
   "metadata": {},
   "outputs": [],
   "source": [
    "import pandas as pd\n",
    "\n",
    "# Create a DataFrame from your numpy arrays\n",
    "df = pd.DataFrame({\n",
    "    'RA': raj,\n",
    "    'DEC': dej,\n",
    "    'Name': two_mass,\n",
    "    'Jmag': jmag,\n",
    "    'e_Jmag': e_jmag\n",
    "})\n",
    "\n",
    "# Write the DataFrame to a file\n",
    "df.to_csv('output_noheader.csv', sep=',', index=False, float_format=\"%.6f\")"
   ]
  },
  {
   "cell_type": "code",
   "execution_count": null,
   "metadata": {},
   "outputs": [],
   "source": []
  }
 ],
 "metadata": {
  "kernelspec": {
   "display_name": "Python 3 (ipykernel)",
   "language": "python",
   "name": "python3"
  },
  "language_info": {
   "codemirror_mode": {
    "name": "ipython",
    "version": 3
   },
   "file_extension": ".py",
   "mimetype": "text/x-python",
   "name": "python",
   "nbconvert_exporter": "python",
   "pygments_lexer": "ipython3",
   "version": "3.11.5"
  }
 },
 "nbformat": 4,
 "nbformat_minor": 4
}
