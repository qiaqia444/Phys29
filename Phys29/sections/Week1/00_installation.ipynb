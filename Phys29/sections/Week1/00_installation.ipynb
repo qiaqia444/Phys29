{
 "cells": [
  {
   "cell_type": "markdown",
   "metadata": {
    "button": false,
    "new_sheet": false,
    "run_control": {
     "read_only": false
    }
   },
   "source": [
    "# Getting Started with Python "
   ]
  },
  {
   "cell_type": "markdown",
   "metadata": {
    "collapsed": false,
    "jupyter": {
     "outputs_hidden": false
    }
   },
   "source": [
    "The materials for this course will be distributed via a GitHub software repository at [Phys29](https://github.com/enigma-igm/Phys29 \"Phys29\"). Note that this repository will be constantly  updated over the course of the quarter, so you should always make sure you have the most up to date material (see below).  \n",
    "\n",
    "<img src=\"figures/github_page.png\" alt=\"Phys29 GitHub.\" width=\"1200\">\n",
    "\n",
    "\n",
    "## What is GitHub?\n",
    "\n",
    "At a high level, GitHub is a website and cloud-based service that helps developers store and manage their code, as well as track and control changes to their code. To understand exactly what GitHub is, you need to understand two related concepts:\n",
    "\n",
    "* Version control\n",
    "* Git"
   ]
  },
  {
   "cell_type": "markdown",
   "metadata": {
    "collapsed": false,
    "jupyter": {
     "outputs_hidden": false
    }
   },
   "source": [
    "### What is Verison Control?\n",
    "\n",
    "Version control helps developers track and manage changes to a software project’s code. It offers an organized method for multiple developers to collaborate on projects by keeping a record of modifications, additions, and deletions to files over time.\n",
    " As a software project grows, version control becomes essential.  \n",
    "\n",
    "For example consider a real world example that I use for my own research, which is an automated Python based software package called [PypeIt](https://github.com/pypeit/PypeIt \"PypeIt\"), to reduce and analyze astronomical data. PypeIt is an open source project that is developed by a team of around 10 astronomers and software developers. \n",
    "\n",
    "If a core developer wanted to work on one specific part of the PypeIt codebase, it wouldn’t be safe or efficient to have them directly edit the “official” stable version of source code that is used by hundreds of astronomers. Since, if they were to introduce a mistake or \"bug\" into the code, they would break the code used by hundreds of astronomers using the code base. \n",
    "\n",
    "Instead, version control software enables a developer or team of developers to safely modify code via operations called branching and merging.\n",
    "\n",
    "With branching, a developer duplicates part of the source code (called the repository). The developer can then safely make changes to that part of the code without affecting the rest of the project.\n",
    "\n",
    "Then, once the developer gets his or her part of the code working properly, he or she can merge that code back into the main source code to make it official. Typicaly this involves checking that the code still works by subjecting it to a battery of tests. \n",
    "\n",
    "All of these changes are then tracked and can be reverted if need be."
   ]
  },
  {
   "cell_type": "markdown",
   "metadata": {
    "collapsed": false,
    "jupyter": {
     "outputs_hidden": false
    }
   },
   "source": [
    "## What is Git?\n",
    "\n",
    "Git is a specific open-source version control system. Specifically, Git is distributed version control system, which means that the entire codebase and history is available on every developer’s computer, which allows for easy branching and merging. According to a StackOverflow developer survey, over 87% of software developers use Git."
   ]
  },
  {
   "cell_type": "markdown",
   "metadata": {
    "collapsed": false,
    "jupyter": {
     "outputs_hidden": false
    }
   },
   "source": [
    "## GitHub\n",
    "\n",
    "[GitHub](https:http://github.com, \"GitHuB\") is a for-profit company that offers a web-based Git repository hosting service. Essentially, it makes it a lot easier for individuals and teams to use Git for version control and collaboration. GitHub’s interface is user-friendly enough such that even novice coders can take advantage of Git. GitHub also develops and distributes (for a fee) GitHub Co-Pilot, which is an AI based coding assistant that helps you write code. Without GitHub, using Git generally requires a bit more technical savvy and use of the command line. Additionally, anyone can sign up and host a public code repository for free, which makes GitHub especially popular with open-source projects."
   ]
  },
  {
   "cell_type": "markdown",
   "metadata": {
    "collapsed": false,
    "jupyter": {
     "outputs_hidden": false
    }
   },
   "source": [
    "# Accessing the Course GitHub Repository via the web\n",
    "\n",
    "The easiest way to acess the course materials is to navigate to [Phys29](https://github.com/enigma-igm/Phys29 \"Phys29\"), enter the folder Phys29/lectures/, and click on one of the lecture Jupyter notebooks (files with .ipynb extension) to view them. These lectures are in the form of Jupyter notebooks, which are interactive documents that allow you to run Python code directly in your web browser, as we will come to shortly. "
   ]
  },
  {
   "cell_type": "markdown",
   "metadata": {
    "collapsed": false,
    "jupyter": {
     "outputs_hidden": false
    }
   },
   "source": [
    "# Accessing the Course GitHub Repository via the command line\n",
    " \n",
    "The more advanced way to access the course materials is to clone the GitHub repository. Cloning a repository is akin to downloading it, however, it also creates a connection between the local copy of the repository and the remote version hosted on GitHub. In this way, your local copy of the repository can stay up-to-date with the remote version via Git commands. \n",
    "\n",
    "To clone the course repository, you will need to install Git on your computer. The instructions I provide below are for the MacOS operating system.  If you are using Windows \n",
    "you will need to figure out how to interact with the terminal, install Git, and run python on your own. As I am not a Windows user and so cannot provide much advice, but Google is your friend. You can look into installing a Unix/Linux emulator such as [Windows Subsystem for Linux](https://docs.microsoft.com/en-us/windows/wsl/install-win10). This will give you a Linux installation inside of Windows. Choose the Ubuntu falvor of linux, as it is the most popular. Instructions akin to what is provided below for installing python are provided [here](https://pythonnumericalmethods.berkeley.edu/notebooks/Appendix01-Getting-Started-with-Python-Windows.html, \"Anaconda Python Windows Installation\").\n",
    "\n",
    "On a Mac, you will need to first install Git via the Xcode command line tools. This will provide us with our first opportunity to use the Unix command line from the Terminal.app application. The command line is a text interface for your computer. It’s a \"shell\" program that takes in commands, which it passes on to the computer’s operating system to run. From the command line, you can navigate through files and folders on your computer, just as you would with the Finder on Mac OS or Windows Explorer on Windows, as well as execute a broad range of Unix commands. For a tutorial on Unix commands, see [this tutorial](https://www.geeksforgeeks.org/linux-tutorial/ \"Unix/Linux Online Tutorial\"). From the finder window on your Mac, open the Terminal.app application which is in the  Applciations/Utitlies folder \n",
    "\n",
    "<img src=\"figures/terminal.png\" alt=\"Terminal.app\" width=\"1200\">\n",
    "\n",
    "Launch the terminal app, which will allow you to interact with the computers operating system via a \"shell\" program. To install Git as well as other useful Unix command line tools, type the following command into the terminal:\n",
    "\n",
    "```xcode-select --install```"
   ]
  },
  {
   "cell_type": "markdown",
   "metadata": {
    "collapsed": false,
    "jupyter": {
     "outputs_hidden": false
    }
   },
   "source": [
    "Once the Xcode tools have been installed you will have a working Git installation. To clone the repository, navigate to the directory where you want to store the course materials. For example, you could create a directory called \"~/Software\" where you store all of your computer codes. To create to this directory, type:\n",
    "\n",
    "```mkdir ~/Software```\n",
    "\n",
    "To navigate to the directory type:\n",
    "\n",
    "```cd ~/Software```\n",
    "\n",
    "The GitHub page for any software repository has a large green button that says \"Code\". Click on this button and copy the URL that appears in the box that pops up. \n",
    "\n",
    "<img src=\"figures/github_clone.png\" alt=\"GitHub Code Button\" width=\"1200\">\n",
    "\n",
    "To clone the repository, type the following command into the terminal:\n",
    "\n",
    "```git clone https://github.com/enigma-igm/Phys29.git```\n",
    "\n",
    "You can now type ```ls``` to see the contents of the ```~/Software``` directory, which shows a new directory called ```Phys29```. To navigate into the ```Phys29``` directory, type ```cd Phys29```. A useful git command is:\n",
    " \n",
    "```git status``` \n",
    "\n",
    "which shows the status of the repository.  If you want to update your local copy of the repository to the most recent version, type:\n",
    "\n",
    "```git pull```\n",
    "\n",
    "Which will pull the most recent version of the repository from GitHub onto your local machine.\n",
    "\n",
    "Examples of these commands are shown in the screenshot below:\n",
    "\n",
    "<img src=\"figures/clone.png\" alt=\"Cloning the Repository\" width=\"1400\">\n",
    "\n",
    "Notice that the output of the ```git pull``` command indicates that the repository is up-to-date and henc there were no changes pulled over."
   ]
  },
  {
   "cell_type": "markdown",
   "metadata": {
    "collapsed": false,
    "jupyter": {
     "outputs_hidden": false
    }
   },
   "source": [
    "## What is Pip?\n",
    "\n",
    "Pip is a package manager for Python. It allows you to install and manage additional libraries that are not part of the Python standard library. Pip is the default package manager for Python and is included by default with most Python installations inlcuding the Miniconda one we just installed.  For example, you could type\n",
    "\n",
    "```pip install numpy```\n",
    "\n",
    "To install the numpy package. Don't do this now as we will do it below. "
   ]
  },
  {
   "cell_type": "markdown",
   "metadata": {
    "collapsed": false,
    "jupyter": {
     "outputs_hidden": false
    }
   },
   "source": [
    "## What is Conda?\n",
    "\n",
    "Conda is a cross-platform package manager that can install packages for multiple languages, including Python. It was developed by Anaconda, Inc., and is included with the Anaconda distribution of Python which we will install below. \n",
    "\n",
    " For example, another way to install the numpy package is to type:\n",
    "\n",
    "```conda install numpy```\n",
    "\n",
    "But do not do this now as we will handle the installations below. \n",
    "\n",
    "Conda is in my opinion most useful for providing the Python distribution that we will use, and most importantly, for managing environments, which are isolated spaces where packages can be installed without interfering with each other. I do not recommend using conda to install python pacakges. Rather you should also use conda to create python environments, and then use pip to install software packages in these environments. "
   ]
  },
  {
   "cell_type": "markdown",
   "metadata": {
    "button": false,
    "new_sheet": false,
    "run_control": {
     "read_only": false
    }
   },
   "source": [
    "### Installing Python and Setting up the Working Environment\n",
    "\n",
    "Before we start to use Python, we need to install it on our computer. It is possible that your computer already comes with a working distribution of python, but my advice is that you always install it on your own so that you can manage your own installation. This ensures that you are not using an oudated version of python and allows you take control of install python packages to guarantee that they are up to date. \n",
    " \n",
    "There are different ways to install Python and related packages, here we recommend to use [Anaconda](https://www.anaconda.com/download/) or [Miniconda](https://conda.io/miniconda.html) to install and manage your packages. Depending on the *operating systems* (OS) you are using, i.e Windows, Mac OS X, or Linux, you need to download a specific installer for your machine. Both Anaconda and Miniconda aim to provide easy ways to manage Python work environment in scientific computing and data sciences. \n",
    "\n",
    "Here we will use Mac OS X as an example to show you the install processes. For windows users, please skip the rest of this section and read [here](Appendix01-Getting-Started-with-Python-Windows.ipynb) for detailed instructions. The main differences between Anaconda and Miniconda are:\n",
    "\n",
    "* **Anaconda** is a complete distribution framework that includes the Python interpreter, package manager as well as the commonly used packages in scientific computing. \n",
    "* **Miniconda** is a light version of Anaconda that does not include the common packages, therefore, you need to install all the different packages by yourself. But it does have the Python interpreter and package manager. \n",
    "\n",
    "The option we choose here is to use Miniconda to manage our installation of the packages. This way we can only install the ones we need. "
   ]
  },
  {
   "cell_type": "markdown",
   "metadata": {
    "button": false,
    "new_sheet": false,
    "run_control": {
     "read_only": false
    }
   },
   "source": [
    "The Miniconda install process is described below:\n",
    "\n",
    "**Step 1: Download the Miniconda installer from the [website](https://conda.io/miniconda.html)** \n",
    "\n",
    "Here you can choose a different installer based on your OS. We choose the Mac OS X distribution consistent with our operating system and Python 3.11 as an example. \n",
    "\n",
    "\n",
    "<img src=\"figures/miniconda.png\" alt=\"The Miniconda download page, choose the installer based on your Operating System.\" width=\"1200\">"
   ]
  },
  {
   "cell_type": "markdown",
   "metadata": {
    "button": false,
    "new_sheet": false,
    "run_control": {
     "read_only": false
    }
   },
   "source": [
    "**Step 2: Download and run the MacOS graphical package installer:**\n",
    "\n",
    "After you run the installer, follow the guide and you will successfully install it.\n",
    "\n",
    "\n",
    "<img src=\"figures/graphical_installer.png\" alt=\"Screen shot of running the graphical package installer.\" width=\"1200\">\n",
    "\n",
    "One thing to note is that you can change the installation location by giving it an alternative location on your machine, but the default is your home directory. I recommend the default.  \n",
    "\n",
    "\n",
    "<img src=\"figures/finder.png\" alt=\"Screen shot of the miniconda directory in the Mac Finder.\" width=\"1200\">\n",
    "\n",
    "\n",
    "After installation, you can check the installed packages by typing the following commands:\n",
    "\n",
    "\n",
    "<img src=\"figures/check_install.png\" alt=\"Quick check.\" width=\"1200\">"
   ]
  },
  {
   "cell_type": "markdown",
   "metadata": {
    "button": false,
    "new_sheet": false,
    "run_control": {
     "read_only": false
    }
   },
   "source": [
    "**Step 3: Create and activate a clean conda environment for this course**\n",
    "\n",
    "After you install conda you will have a single default environment called \"base\". I do not recommend that you install any python packages in this environment. Instead,  create a clean environment for this class, which you can call \"Phys29\"\n",
    "\n",
    "```conda create -n Phys29 python=3.11```\n",
    "\n",
    "This will create a new environment called \"Phys29\" that uses python 3.11. To activate this environment, type:\n",
    "\n",
    "```conda activate Phys29```\n",
    "\n",
    "<img src=\"figures/conda_env.png\" alt=\"Create and activate the Phys29 environment.\" width=\"1200\">"
   ]
  },
  {
   "cell_type": "markdown",
   "metadata": {
    "button": false,
    "new_sheet": false,
    "run_control": {
     "read_only": false
    }
   },
   "source": [
    "**Step 4: Install the basic packages that will be used in this course**\n",
    "\n",
    "Let us first install some packages for this course - `ipython`, `numpy`, `scipy`, `matplotlib` and `jupyter notebook`. Note that these packages will specifically be installed only in the environment that we just created. So that in order to use them we will always need to activate the ```Phys29``` environment first, each time we launch Terminal.app,  via ```conda activate Phys29```, which switches us form the ```base``` environment into that for this course. We could install all these packagages via \n",
    "\n",
    "```pip install ipython numpy scipy matplotlib jupyter notebook``` \n",
    "\n",
    "But instead we will use the setup script provided with the repository at  ```Phys29/setup.py```. To install the packages, we navigate into the ```Phys29``` directory via ```cd Phys29``` and type:\n",
    "\n",
    "```pip install -e .```\n",
    "\n",
    "<img src=\"figures/pip_install.png\" alt=\"Install the packages using the setup.py script.\" width=\"1200\">\n",
    "\n",
    "Editable installs allow you to install your project without copying any files. Instead, the files in the development directory are added to Python’s import path. This approach is well suited for development and is also known as a “development installation”.\n",
    "\n",
    "The ```-e``` flag tells pip to install the packages in \"editable\" mode.  Editable installs allow you to install a project without copying any files. Instead, the files in the development directory are added to Python’s import path. This approach is well suited for development and is also known as a “development installation”. If changes are made to the source code of the packages, these changes will be reflected in the installed version without having to reinstall. Since the materials for this class will be constantluy udpated over the course of the quarter, an editable stall is obvious choice. If you want to know what the pip install command is doing, you can open the ```Phys29/setup.py``` file in a text editor and see that it is installing the packages listed in the ```install_requires``` variable."
   ]
  },
  {
   "cell_type": "code",
   "execution_count": null,
   "metadata": {},
   "outputs": [],
   "source": []
  }
 ],
 "metadata": {
  "kernelspec": {
   "display_name": "Python 3 (ipykernel)",
   "language": "python",
   "name": "python3"
  },
  "language_info": {
   "codemirror_mode": {
    "name": "ipython",
    "version": 3
   },
   "file_extension": ".py",
   "mimetype": "text/x-python",
   "name": "python",
   "nbconvert_exporter": "python",
   "pygments_lexer": "ipython3",
   "version": "3.11.5"
  }
 },
 "nbformat": 4,
 "nbformat_minor": 4
}
