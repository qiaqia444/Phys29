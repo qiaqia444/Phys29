{
 "cells": [
  {
   "cell_type": "markdown",
   "id": "0b8d3da0-6ca1-4297-bafc-3b3b2dd62328",
   "metadata": {},
   "source": [
    "## Anaconda, Python, Jupyter Notebook Windows Installation Tutorial"
   ]
  },
  {
   "cell_type": "markdown",
   "id": "80b59cf1-3482-4def-b0af-8eb2b01295a5",
   "metadata": {},
   "source": [
    "#### Step 1: Download Anaconda\n",
    "\n",
    "Visit the official Anaconda website: https://www.anaconda.com/products/distribution\n",
    "\n",
    "On the downloads page, choose the appropriate installer for your Windows system (either 64-bit or 32-bit).\n",
    "\n",
    "<img src=\"figures/Anaconda_download.png\" width=\"800\">"
   ]
  },
  {
   "cell_type": "markdown",
   "id": "0d0f7fd4-a8c8-4aef-993c-20cb89185d33",
   "metadata": {},
   "source": [
    "#### Step2: Run the Installer\n",
    "\n",
    "Once the installer is downloaded, locate the file (usually a .exe file) and run it.\n",
    "\n",
    "<img src=\"figures/Anaconda_installer.png\" width=\"400\">\n",
    "\n",
    "Follow the recommended settings or choose your own installation location when prompted. \n",
    "\n",
    "When the installation is complete, you will see the following window. Congratulations! You have now not only installed Anaconda (\"conda\" for short), but also Python and Jupyter Notebook! (They are automatically installed with conda). Go ahead and select \"Launch Anaconda Navigator\".\n",
    "\n",
    "<img src=\"figures/Anaconda_installation_complete.png\" width=\"400\">"
   ]
  },
  {
   "cell_type": "markdown",
   "id": "2f886e6c-e9d6-4460-9c9a-23f469314fd2",
   "metadata": {},
   "source": [
    "#### Step3: Use the Anaconda Navigator to Launch Jupyter Notebook or JupyterLab\n",
    "\n",
    "Click \"Launch\" on either Jupyter Notebook or JypterLab, the latter is a more powerful and feature-rich version of Jupyter Notebook.\n",
    "\n",
    "<img src=\"figures/anaconda_navigator.png\" width=\"1200\">\n",
    "\n",
    "A page on your browser should now open with navigation of your local directories:\n",
    "\n",
    "<img src=\"figures/JupyterLab.png\" width=\"800\">"
   ]
  },
  {
   "cell_type": "markdown",
   "id": "aabe3b84-5dcf-4e14-854a-ef775e6b0888",
   "metadata": {},
   "source": [
    "#### Step 4: Using Jupyter Notebooks\n",
    "\n",
    "Once you have launched a Jupyter Notebook or JupyterLab in your browser window, you can now create notebooks (.ipynb files) and edit them! Here is an example of this tutorial being written:\n",
    "\n",
    "<img src=\"figures/Jupyter_Notebook.png\" width=\"1200\">"
   ]
  },
  {
   "cell_type": "markdown",
   "id": "4553051e-82b2-4b15-b45a-8bfd44609df5",
   "metadata": {},
   "source": [
    "#### Alternative to Step 3: Using the Command Prompt Instead of The Anaconda Navigator\n",
    "\n",
    "Instead of using the Anaconda Navigator, you can also manage Anaconda/conda, python and jupyter notebooks in the command prompt in Windows.\n",
    "\n",
    "After installing Anaconda in step 2, use the \"Win\" button on your keyboard to call up a search box, and type \"cmd\". Select \"Command Prompt\", and a terminal should open that looks like this:\n",
    "\n",
    "<img src=\"figures/cmd.png\" width=\"800\">\n",
    "\n",
    "Using this terminal you can navigate your system folders, operate on files and execute commands. \n",
    "\n",
    "Now, type \"conda --version\" and press enter. If you see an output like \"conda 23.7.4\", then congratulations, conda is successfully installed and you can now type \"jupyter lab\" or \"jupyter notebook\" into the command prompt and press enter to launch jupyter in your browser like in Step 3.\n",
    "\n",
    "However, more likely you will get this error message after entering \"conda --version\", or just \"conda\" in this screenshot:\n",
    "\n",
    "<img src=\"figures/conda_command_not_found.png\" width=\"800\">\n",
    "\n",
    "This is because even though Anaconda has just been installed, the Command Prompt doesn't know where to look for it. Windows (and any operating system) uses something called the \"environment variables\" to store some essential information, such as the paths to find installed softwares. So, you need to add the installation path of Anaconda to the \"PATH\" environment variable in Windows.\n",
    "\n",
    "I will show two ways to do this. \n",
    "\n",
    "The first method (and the easy way) did not work for me due to a character limit imposed on the \"PATH\" variable by Windows. I will still show it in case it works for you. Simply type the following two lines into the command prompt (one line at a time, press enter after each line), replacing \"C:\\Users\\YourUsername\\Anaconda3\" with the actual path on your Windows device. For example, my user name is mingh, and I installed anaconda in the default location, I would replace it with \"C:\\Users\\mingh\\Anaconda3\" etc...\n",
    "\n",
    "<img src=\"figures/set_path1.png\" width=\"500\">\n",
    "<img src=\"figures/set_path2.png\" width=\"600\">\n",
    "\n",
    "Now close the command prompt and open a new one, type \"conda\" or \"conda --version\" again. If you get the same error message, then try the second method.\n",
    "\n",
    "For the second method, use the \"Win\" button on your keyboard to call up the search box, type \"environment variables\", and you should find \"Edit the system environment variables\":\n",
    "\n",
    "<img src=\"figures/set_path_alternative.png\" width=\"600\">\n",
    "\n",
    "open it, and you should see this control panel window:\n",
    "\n",
    "<img src=\"figures/set_path_alternative_2.png\" width=\"600\">\n",
    "\n",
    "click on \"Environment Variables\", and you should see this new window:\n",
    "\n",
    "<img src=\"figures/set_path_alternative_3.png\" width=\"600\">\n",
    "\n",
    "now, first select \"Path\", then click \"Edit...\":\n",
    "\n",
    "<img src=\"figures/set_path_alternative_4.png\" width=\"600\">\n",
    "\n",
    "now click \"New\", and add the two paths shown in the screenshot above. Remember to replace the username \"mingh\" in the screenshot with your own username as well as your actual installation path for Anaconda if you didn't choose the default location!\n",
    "\n",
    "Now, you can open a new command prompt window, type and enter \"conda --version\", and \"python version\". You should see the following, with perhaps different version numbers:\n",
    "\n",
    "<img src=\"figures/working_cmd_conda.png\" width=\"400\">\n",
    "<img src=\"figures/working_cmd_python.png\" width=\"400\">\n",
    "\n",
    "You can now type \"jupyter lab\" or \"jupyter notebook\" into the command prompt and press enter to launch jupyter notebooks in your browser like in Step 3."
   ]
  },
  {
   "cell_type": "code",
   "execution_count": null,
   "id": "aad84534-7e46-4e6b-94f6-cda9e356d63b",
   "metadata": {},
   "outputs": [],
   "source": []
  }
 ],
 "metadata": {
  "kernelspec": {
   "display_name": "Python 3 (ipykernel)",
   "language": "python",
   "name": "python3"
  },
  "language_info": {
   "codemirror_mode": {
    "name": "ipython",
    "version": 3
   },
   "file_extension": ".py",
   "mimetype": "text/x-python",
   "name": "python",
   "nbconvert_exporter": "python",
   "pygments_lexer": "ipython3",
   "version": "3.11.5"
  }
 },
 "nbformat": 4,
 "nbformat_minor": 5
}
