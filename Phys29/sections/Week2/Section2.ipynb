{
 "cells": [
  {
   "cell_type": "markdown",
   "metadata": {},
   "source": [
    "<h1 style=\"font-size: 32px; text-align: center;\">Introduction to Computer Programming for the Physical Sciences</h1>\n",
    "<h2 style=\"font-size: 24px; text-align: center;\">Joseph F. Hennawi</h2>\n",
    "<h3 style=\"font-size: 24px; text-align: center;\">Winter 2024</h2>"
   ]
  },
  {
   "cell_type": "markdown",
   "metadata": {},
   "source": [
    "## Working on Section Problems\n",
    "\n",
    "<ul style=\"list-style: none;\">\n",
    "  <li style=\"margin-bottom: 10px; font-size: 20px;\"><span style=\"display: inline-block; width: 10px; height: 10px; border: 2px solid black; margin-right: 10px;\"></span>Get into groups of 2 or 3, with at least one laptop per group.</li>\n",
    "  <li style=\"margin-bottom: 10px; font-size: 20px;\"><span style=\"display: inline-block; width: 10px; height: 10px; border: 2px solid black; margin-right: 10px;\"></span>Discuss with each other and attempt each problem yourselves first without AI support for 10-15 mins.</li>\n",
    "  <li style=\"margin-bottom: 10px; font-size: 20px;\"><span style=\"display: inline-block; width: 10px; height: 10px; border: 2px solid black; margin-right: 10px;\">\n",
    "</span>Input the problem prompt into the AI chatbox, use its answer to verify your own, or to learn how it should be solved.</li>\n",
    "  <li style=\"margin-bottom: 10px; font-size: 20px;\"><span style=\"display: inline-block; width: 10px; height: 10px; border: 2px solid black; margin-right: 10px;\">\n",
    "</span>For section problems, you can omit most of the commenting and focus on learning coding. For more difficult problems, minimal comments are still recommended as a way of organizing your own thoughts.</li>\n",
    "  <li style=\"margin-bottom: 10px; font-size: 20px;\"><span style=\"display: inline-block; width: 10px; height: 10px; border: 2px solid black; margin-right: 10px;\"></span>Please abide by the <b><a href=\"https://github.com/enigma-igm/Phys29/blob/main/using_AI_tools.md\">Policy and Guidelines on Using AI Tools</a></b></li>"
   ]
  },
  {
   "cell_type": "markdown",
   "metadata": {},
   "source": [
    "# Section 1"
   ]
  },
  {
   "cell_type": "markdown",
   "metadata": {},
   "source": [
    "## Problem 1: Order of operations\n",
    "Execute the next code cell. What is the result? Note the order of operations that Python has used."
   ]
  },
  {
   "cell_type": "code",
   "execution_count": null,
   "metadata": {
    "tags": []
   },
   "outputs": [],
   "source": [
    "x=5\n",
    "y=2*x**2+3\n",
    "print(y)"
   ]
  },
  {
   "cell_type": "markdown",
   "metadata": {},
   "source": [
    "## Problem 2: Mass of the Earth\n",
    "#### Now, open up a new cell and compute the mass of the Earth using $a = GM/R^2$, with:\n",
    "\n",
    "$G = 6.673 × 10−11 \\; N m^2 kg^{−2}$\n",
    "\n",
    "$R = 6.378 × 10^6 \\; m$\n",
    "\n",
    "$a = 9.807 \\; m s^{−2}$\n",
    "\n",
    "You can probably do this very easily on a calculator. When you do it in a notebook, the most important thing is to make your work clear. Think about how you can make the calculation easy to follow. For example, you can define variables for G, R, and a, or you can explain things in a markdown cell above your code. Please discuss with your partner how you would like to write this calculation, and then do it."
   ]
  },
  {
   "cell_type": "code",
   "execution_count": 11,
   "metadata": {
    "tags": []
   },
   "outputs": [],
   "source": [
    "# your solution here"
   ]
  },
  {
   "cell_type": "markdown",
   "metadata": {},
   "source": [
    "## Problem 3: Simple Debugging"
   ]
  },
  {
   "cell_type": "markdown",
   "metadata": {},
   "source": [
    "Whenever you write code, you will make mistakes (also called bugs). The process of testing your code and finding these mistakes is called debugging. Not only do you want to learn how to debug, you want your code to be written in a way to make these bugs less likely to occur and easier to find in the first place. \n",
    "\n",
    "The following two cells are two implementations to calculate the classical Coulomb force between a proton and an electron at the Bohr radius:\n",
    "\\begin{equation}\n",
    "F_{Coulomb} = \\frac{kq_{1}q_{2}}{r^2}\n",
    "\\end{equation}\n",
    "Where \n",
    "\n",
    "$k = 8.98 \\times 10^{9} \\; Nm^2C^{-2}$ is the Coulomb constant\n",
    "\n",
    "$r = 5.29 \\times 10^{-11} m$ is the Bohr radius\n",
    "\n",
    "$q_1 = -q_2 = 1.602 \\times 10^{-19} C$ is the elementary charge that proton and electrons carry\n",
    "\n",
    "The correct answer is $-8.24 \\times 10^{-8}$ Newtons, the negative sign here indicates the force is attractive. However, the two implementations both have mistakes and produce wrong answers. Please discuss with each other how you can debug these codes and try to find the mistakes in both implementations. Which implementation made it easier for you to debug?"
   ]
  },
  {
   "cell_type": "code",
   "execution_count": 22,
   "metadata": {
    "tags": []
   },
   "outputs": [
    {
     "name": "stdout",
     "output_type": "stream",
     "text": [
      "-4.3565799470699425e-18\n"
     ]
    }
   ],
   "source": [
    "# implementation 1\n",
    "\n",
    "a = 8.98e9*1.602e-19*-1.602e-19/5.29e-11\n",
    "print(a)"
   ]
  },
  {
   "cell_type": "code",
   "execution_count": 35,
   "metadata": {
    "tags": []
   },
   "outputs": [
    {
     "name": "stdout",
     "output_type": "stream",
     "text": [
      "-4.3565799470699425e-18\n"
     ]
    }
   ],
   "source": [
    "# implementation 2\n",
    "\n",
    "# Given values and constants\n",
    "k = 8.98e9  # Coulomb's constant in N m^2/C^2\n",
    "e = 1.602e-19  # Elementary charge in C\n",
    "bohr_radius = 5.29e-11  # Bohr radius in meters\n",
    "\n",
    "# Charges\n",
    "q_proton = e\n",
    "q_electron = -e  # Opposite sign for electron\n",
    "\n",
    "# Separation between proton and electron\n",
    "r = bohr_radius\n",
    "\n",
    "# Coulomb force calculation\n",
    "coulomb_force = k * q_proton * q_electron / r\n",
    "\n",
    "print(coulomb_force)"
   ]
  },
  {
   "cell_type": "markdown",
   "metadata": {},
   "source": [
    "## Problem 4: Exercise on Docstring Formats and Code Comments"
   ]
  },
  {
   "cell_type": "markdown",
   "metadata": {},
   "source": [
    "#### Hopefully, problem 3 convinces you of one of the many benefits of well-structured code and clearly-written comments. This problems provides some further resources and exercises for commenting.\n",
    "\n",
    "#### An overview of code commenting requirements for your homeworks is given in <b><a href=\"https://github.com/enigma-igm/Phys29/blob/main/using_AI_tools.md\">Policy and Guidelines on Using AI Tools</a></b></li>. To summarize, you need: \n",
    "\n",
    "#### 1. A \"docstring\" for every function in your code. \n",
    "\n",
    "#### 2. Reasonable amount of comments throughout your code.\n",
    "\n",
    "#### A \"docstring\" is a block of comments at the beginning of every function in a piece of code that explains the purpose of the function and all of its input and return parameters. You can read more about it <b><a href=\"https://www.programiz.com/python-programming/docstrings\">here</a></b></li>. They usually follow some standard format, such as Google format, reST format, Numpydoc format etc... You can google them, pick one you like and follow it in your homeworks.\n",
    "\n",
    "#### \"Reasonable\" means sufficient comments to let someone who is reading your code for the first time to easily navigate your code and understand what each segment of your code is doing. But please also avoid excessive comments that clutters your code.\n",
    "\n",
    "#### Now, as an exercise, please add comments to the following piece of code. It is a piece of code that calculates the gravitational force between two objects given the masses of the two objects (M and m) and the distance between them (r), via the formula:\n",
    "\\begin{equation}\n",
    "F = \\frac{GMm}{r^2}\n",
    "\\end{equation}"
   ]
  },
  {
   "cell_type": "code",
   "execution_count": 27,
   "metadata": {
    "tags": []
   },
   "outputs": [
    {
     "name": "stdout",
     "output_type": "stream",
     "text": [
      "The gravitational force between the two objects is 9.77 N.\n"
     ]
    }
   ],
   "source": [
    "def calculate_gravitational_force(M, m, r):\n",
    "\n",
    "    G = 6.67e-11\n",
    "\n",
    "    F = G*M*m / r**2\n",
    "\n",
    "    return F\n",
    "\n",
    "mass_object1 = 1\n",
    "mass_object2 = 6e24\n",
    "distance_between_objects = 6.4e6\n",
    "\n",
    "gravitational_force = calculate_gravitational_force(mass_object1, mass_object2, distance_between_objects)\n",
    "print('The gravitational force between the two objects is {:.2f} N.'.format(gravitational_force))"
   ]
  },
  {
   "cell_type": "markdown",
   "metadata": {},
   "source": [
    "## Problem 5: Print and String Formatting\n",
    "\n",
    "#### Have you read a piece of AI-generated code and gotten confused at the print() statements? For example, what is \"{:.2f}\" in the problem 4? Don't worry, this problem will help you learn the formatting.\n",
    "\n",
    "#### There is an old way and a new way of formatting strings. These formatted strings are most often seen utilized by print statements, but you can use them anywhere that uses string type variables. Take problem 4 as an example, the string to be printed is \"The gravitational force between the two objects is X N.\", where X need to be replaced by the value of a variable and is not a fixed value that can be pre-determined. A bracket \"{}\" in a string represents a placeholder for a variable, which is given as input parameters in .format(). Then, inside the bracket, you can specify how you want the variable to be formatted. \":.2f\" means keeping 2 decimal places for a float number.\n",
    "\n",
    "#### Please read <b><a href=\"https://pyformat.info/\">PyFormat</a></b></li> to learn about various string formatting options and modify the code cell below to print the following:\n",
    "1. Print integer and float variables \"num_int\" and \"num_float\" without any special formatting. (Already done, you don't need to modify anything to do this.)\n",
    "2. Print the integer padded to 5 digits, in this case, that would be with 2 leading zeros: 00123\n",
    "3. Print the float with 2 decimal places\n",
    "4. Print the float with 10 decimal places (with trailing zeros)"
   ]
  },
  {
   "cell_type": "code",
   "execution_count": 32,
   "metadata": {
    "tags": []
   },
   "outputs": [
    {
     "name": "stdout",
     "output_type": "stream",
     "text": [
      "integer number is 123\n",
      "float number is 1.2345\n"
     ]
    }
   ],
   "source": [
    "num_int = 123\n",
    "num_float = 1.2345\n",
    "\n",
    "print('integer number is {}'.format(num_int))\n",
    "print('float number is {}'.format(num_float))"
   ]
  },
  {
   "cell_type": "markdown",
   "metadata": {},
   "source": [
    "## Problem 6\n",
    "\n",
    "Now we’ll do a calculation that is a little bit more of a pain to perform on a handheld\n",
    "calculator. Again, the most important thing is to make your work clear. Suppose\n",
    "you throw a ball straight up at $20 \\;m s^{−1}$. When does it pass through a height of 15 m above where it was thrown? \n",
    "\n",
    "You’ll need the equation:\n",
    "\\begin{equation}\n",
    "∆y = v_0t − \\frac{1}{2}gt^2\n",
    "\\end{equation}\n",
    "with $g ≈ 9.8 \\;m s^{−2}$. \n",
    "\n",
    "To take a square root in Python, you can use the square root function (if you know how to call it), or you\n",
    "can just raise an expression to the $\\frac{1}{2}$ power. Remember order of operations when you do this!\n",
    "\n",
    "What happens if you run your code with an initial velocity of $10 \\;m s^{−1}$ (so that the ball does not have enough energy to reach a height of 15 m)?"
   ]
  },
  {
   "cell_type": "code",
   "execution_count": null,
   "metadata": {
    "tags": []
   },
   "outputs": [],
   "source": [
    "# your solution here"
   ]
  }
 ],
 "metadata": {
  "kernelspec": {
   "display_name": "Python 3 (ipykernel)",
   "language": "python",
   "name": "python3"
  },
  "language_info": {
   "codemirror_mode": {
    "name": "ipython",
    "version": 3
   },
   "file_extension": ".py",
   "mimetype": "text/x-python",
   "name": "python",
   "nbconvert_exporter": "python",
   "pygments_lexer": "ipython3",
   "version": "3.11.5"
  }
 },
 "nbformat": 4,
 "nbformat_minor": 4
}
