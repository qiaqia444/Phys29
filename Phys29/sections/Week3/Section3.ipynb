{
 "cells": [
  {
   "cell_type": "markdown",
   "metadata": {},
   "source": [
    "<h1 style=\"font-size: 32px; text-align: center;\">Introduction to Computer Programming for the Physical Sciences</h1>\n",
    "<h2 style=\"font-size: 24px; text-align: center;\">Joseph F. Hennawi</h2>\n",
    "<h3 style=\"font-size: 24px; text-align: center;\">Winter 2024</h2>"
   ]
  },
  {
   "cell_type": "markdown",
   "metadata": {},
   "source": [
    "## Working on Section Problems\n",
    "\n",
    "<ul style=\"list-style: none;\">\n",
    "  <li style=\"margin-bottom: 10px; font-size: 20px;\"><span style=\"display: inline-block; width: 10px; height: 10px; border: 2px solid black; margin-right: 10px;\"></span>Get into groups of 2 or 3, with at least one laptop per group.</li>\n",
    "  <li style=\"margin-bottom: 10px; font-size: 20px;\"><span style=\"display: inline-block; width: 10px; height: 10px; border: 2px solid black; margin-right: 10px;\"></span>Discuss with each other and attempt each problem yourselves first without AI support for 10-15 mins.</li>\n",
    "  <li style=\"margin-bottom: 10px; font-size: 20px;\"><span style=\"display: inline-block; width: 10px; height: 10px; border: 2px solid black; margin-right: 10px;\">\n",
    "</span>Input the problem prompt into the AI chatbox, use its answer to verify your own, or to learn how it should be solved.</li>\n",
    "  <li style=\"margin-bottom: 10px; font-size: 20px;\"><span style=\"display: inline-block; width: 10px; height: 10px; border: 2px solid black; margin-right: 10px;\">\n",
    "</span>For section problems, you can omit most of the commenting and focus on learning coding. For more difficult problems, minimal comments are still recommended as a way of organizing your own thoughts.</li>\n",
    "  <li style=\"margin-bottom: 10px; font-size: 20px;\"><span style=\"display: inline-block; width: 10px; height: 10px; border: 2px solid black; margin-right: 10px;\"></span>Please abide by the <b><a href=\"https://github.com/enigma-igm/Phys29/blob/main/using_AI_tools.md\">Policy and Guidelines on Using AI Tools</a></b></li>"
   ]
  },
  {
   "cell_type": "markdown",
   "metadata": {},
   "source": [
    "# Section 1"
   ]
  },
  {
   "cell_type": "markdown",
   "metadata": {},
   "source": [
    "## Problem 1: Solving Quadratic Equation\n",
    "Write a Python function that finds the value(s) of x that solve the quadratic equation\n",
    "\\begin{equation}\n",
    "ax2 + bx + c = 0\n",
    "\\end{equation}\n",
    "for arbitrary real values of a, b, and c. Note that you can allow your function to return two values (x1 and x2, say)\n",
    "by just using the statement ```return x1, x2```\n",
    "\n",
    "Note that there are some issues that you might want to consider:\n",
    "\n",
    "• What if a = 0?\n",
    "\n",
    "• What if the roots are complex? As you may have discovered in section last week, the numpy function ```np.sqrt()```\n",
    "will give an error if you feed it a negative number. You can get round this by first converting your negative\n",
    "number (-2, say) into a complex number using the Python type command complex, e.g. ```complex(-2)```. Python\n",
    "can handle integers, floats, and complex numbers! This isn’t necessary if you express a square root as ```**0.5```,\n",
    "as Python then does the conversion for you.\n",
    "\n",
    "• What if |b| is huge compared to a and c? Then |b| and $+\\sqrt{b^2 − 4ac}$ will be quite close in value, and subtracting\n",
    "them may result in a loss of precision. In this case it is better to compute the root x1 where |b| and $+\\sqrt{b^2 − 4ac}$\n",
    "are added, and then compute the other root as c/(ax1)."
   ]
  },
  {
   "cell_type": "code",
   "execution_count": 7,
   "metadata": {
    "tags": []
   },
   "outputs": [],
   "source": [
    "# your solution here"
   ]
  },
  {
   "cell_type": "markdown",
   "metadata": {},
   "source": [
    "## Problem 2: Conditional Statements\n",
    "The infinite square well is a classic problem in quantum mechanics. In this case, a particle\n",
    "feels a potential\n",
    "\\begin{equation}\n",
    "    V(x) = \n",
    "    \\begin{cases}\n",
    "    0 & 0 < x < L \\\\\n",
    "    \\infty & {\\rm otherwise}\n",
    "    \\end{cases}\n",
    "\\end{equation}\n",
    "You will probably see this when you take quantum mechanics. The time-independent solu-\n",
    "tion, skipping a lot of physics, is the wavefunction\n",
    "\\begin{equation}\n",
    "    \\psi(x) = \\begin{cases}\n",
    "    \\sqrt{\\frac{2}{L}} \\sin \\left( \\frac{n\\pi x}{L} \\right) & 0 \\leq x \\leq L \\\\\n",
    "    0 & {\\rm otherwise}\n",
    "    \\end{cases}\n",
    "\\end{equation}\n",
    "for integers n > 0. Write this wavefunction as a function with arguments n, x, and L. You will want to\n",
    "use a conditional statement (if/else). Verify that you get zero at x = 0 and x = L."
   ]
  },
  {
   "cell_type": "code",
   "execution_count": 11,
   "metadata": {
    "tags": []
   },
   "outputs": [],
   "source": [
    "# your solution here"
   ]
  },
  {
   "cell_type": "markdown",
   "metadata": {},
   "source": [
    "## Problem 3: List Slicing"
   ]
  },
  {
   "cell_type": "markdown",
   "metadata": {},
   "source": [
    "Imagine you are tasked with managing a list of daily temperatures for a week. Create a Python program to:\n",
    "\n",
    "Create a list named temperatures containing the following daily temperatures in degrees Celsius: [28, 32, 30, 26, 29, 31, 27].\n",
    "\n",
    "1. Print the entire list of temperatures.\n",
    "\n",
    "2. Print the temperature on the third day of the week.\n",
    "\n",
    "3. Print temperatures from the second day to the fifth day (inclusive).\n",
    "\n",
    "4. Print temperatures from the first day to the last day using negative indexing."
   ]
  },
  {
   "cell_type": "code",
   "execution_count": 9,
   "metadata": {
    "tags": []
   },
   "outputs": [],
   "source": [
    "# your solution here"
   ]
  },
  {
   "cell_type": "markdown",
   "metadata": {},
   "source": [
    "## Problem 4: Dictionary of Dictionaries"
   ]
  },
  {
   "cell_type": "markdown",
   "metadata": {},
   "source": [
    "You are creating a dictionary to keep track of video game character stats. Write a Python program that does the following:\n",
    "\n",
    "Create an empty dictionary to store information about characters, where each character has the following information:\n",
    "\n",
    "Name, HP (Health Points), MP (Magic Points)\n",
    "\n",
    "Since it is the first time you are working with a dictionary of dictionaries, I will create the dictionary and add three characters for you:\n",
    "```\n",
    "characters = {}\n",
    "characters['Malenia'] = {'HP': 1000000, 'MP': 1000}\n",
    "characters['Rennala'] = {'HP': 10, 'MP': 5000}\n",
    "characters['Radahn'] = {'HP':5000, 'MP':5000}\n",
    "```\n",
    "\n",
    "1. Print this dictionary to see what a dictionary of dictionaries look like. You will see that this is a dictionary where the key-value pair is name-stats, but \"stats\" for each character is again a dictionary with traits-value pairs.\n",
    "\n",
    "2. Implement a function add_character(name, HP, MP) that takes the name, HP, MP as arguments and adds a new character to the dictionary. Make sure to handle cases where the name already exists in the dictionary. You can choose to throw an error if the user tries to add existing names, or you can allow updates to existing characters if you are feeling ambitious.\n",
    "\n",
    "3. Implement a function get_character(name) that takes the name of the character as an argument and prints their stats. If the character is not in the dictionary, print an appropriate message."
   ]
  },
  {
   "cell_type": "code",
   "execution_count": 14,
   "metadata": {
    "tags": []
   },
   "outputs": [],
   "source": [
    "characters = {}\n",
    "characters['Malenia'] = {'HP': 1000000, 'MP': 1000}\n",
    "characters['Rennala'] = {'HP': 10, 'MP': 5000}\n",
    "characters['Radahn'] = {'HP':5000, 'MP':5000}\n",
    "\n",
    "# your solution here"
   ]
  },
  {
   "cell_type": "markdown",
   "metadata": {},
   "source": [
    "## Problem 5: For Loop"
   ]
  },
  {
   "cell_type": "markdown",
   "metadata": {},
   "source": [
    "Use a for loop to print\n",
    "\\begin{equation}\n",
    "    S(n) = \\sum_{k=1}^{n} k^3\n",
    "\\end{equation}\n",
    "for n = 1, 2, 3, 4, 5, 6, 7, 8, 9, and 10. Then use your loop to calculate S(100)."
   ]
  },
  {
   "cell_type": "code",
   "execution_count": 13,
   "metadata": {
    "tags": []
   },
   "outputs": [],
   "source": [
    "# your solution here"
   ]
  }
 ],
 "metadata": {
  "kernelspec": {
   "display_name": "Python 3 (ipykernel)",
   "language": "python",
   "name": "python3"
  },
  "language_info": {
   "codemirror_mode": {
    "name": "ipython",
    "version": 3
   },
   "file_extension": ".py",
   "mimetype": "text/x-python",
   "name": "python",
   "nbconvert_exporter": "python",
   "pygments_lexer": "ipython3",
   "version": "3.11.5"
  }
 },
 "nbformat": 4,
 "nbformat_minor": 4
}
