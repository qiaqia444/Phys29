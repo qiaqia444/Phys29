{
 "cells": [
  {
   "cell_type": "markdown",
   "metadata": {},
   "source": [
    "<h1 style=\"font-size: 32px; text-align: center;\">Introduction to Computer Programming for the Physical Sciences</h1>\n",
    "<h2 style=\"font-size: 24px; text-align: center;\">Joseph F. Hennawi</h2>\n",
    "<h3 style=\"font-size: 24px; text-align: center;\">Winter 2024</h2>"
   ]
  },
  {
   "cell_type": "markdown",
   "metadata": {},
   "source": [
    "## Working on Section Problems\n",
    "\n",
    "<ul style=\"list-style: none;\">\n",
    "  <li style=\"margin-bottom: 10px; font-size: 20px;\"><span style=\"display: inline-block; width: 10px; height: 10px; border: 2px solid black; margin-right: 10px;\"></span>Get into groups of 2 or 3, with at least one laptop per group.</li>\n",
    "  <li style=\"margin-bottom: 10px; font-size: 20px;\"><span style=\"display: inline-block; width: 10px; height: 10px; border: 2px solid black; margin-right: 10px;\"></span>Discuss with each other and attempt each problem yourselves first without AI support for 10-15 mins.</li>\n",
    "  <li style=\"margin-bottom: 10px; font-size: 20px;\"><span style=\"display: inline-block; width: 10px; height: 10px; border: 2px solid black; margin-right: 10px;\">\n",
    "</span>Input the problem prompt into the AI chatbox, use its answer to verify your own, or to learn how it should be solved.</li>\n",
    "  <li style=\"margin-bottom: 10px; font-size: 20px;\"><span style=\"display: inline-block; width: 10px; height: 10px; border: 2px solid black; margin-right: 10px;\">\n",
    "</span>For section problems, you can omit most of the commenting and focus on learning coding. For more difficult problems, minimal comments are still recommended as a way of organizing your own thoughts.</li>\n",
    "  <li style=\"margin-bottom: 10px; font-size: 20px;\"><span style=\"display: inline-block; width: 10px; height: 10px; border: 2px solid black; margin-right: 10px;\"></span>Please abide by the <b><a href=\"https://github.com/enigma-igm/Phys29/blob/main/using_AI_tools.md\">Policy and Guidelines on Using AI Tools</a></b></li>"
   ]
  },
  {
   "cell_type": "markdown",
   "metadata": {},
   "source": [
    "# Section 1"
   ]
  },
  {
   "cell_type": "markdown",
   "metadata": {},
   "source": [
    "## Problem 1"
   ]
  },
  {
   "cell_type": "markdown",
   "metadata": {},
   "source": [
    "1. Write a function with a for loop inside it to return the factorial of x, f (x) = x!, where x is passed in as an argument.\n",
    "\n",
    "2. Write a function using recursion to return the factorial of an argument, f (x) = x!, by implementing the recursion relation f (0) = 1, f (n) = nf (n − 1)."
   ]
  },
  {
   "cell_type": "code",
   "execution_count": 1,
   "metadata": {
    "tags": []
   },
   "outputs": [
    {
     "name": "stdout",
     "output_type": "stream",
     "text": [
      "0\n"
     ]
    }
   ],
   "source": [
    "def factorial_forloop(x):\n",
    "    result = 1\n",
    "    for i in range(1, x+1):\n",
    "        result *= i\n",
    "    return result\n",
    "\n",
    "def factorial_recursion(x):\n",
    "    if x == 1:\n",
    "        return 1\n",
    "    else:\n",
    "        return x * factorial(x-1)\n",
    "\n"
   ]
  },
  {
   "cell_type": "markdown",
   "metadata": {},
   "source": [
    "## Problem 2"
   ]
  },
  {
   "cell_type": "markdown",
   "metadata": {},
   "source": [
    "Compute the sum of the even numbers between 2 and 100 (inclusive) four ways:\n",
    "\n",
    "• Use a for loop over the integers\n",
    "    \n",
    "• Create an array from 2 to 100 using numpy.arange() with a step size of 2, then\n",
    "sum it using numpy.sum()\n",
    "\n",
    "• Create an array from 1 to 50 using numpy.arange(), double it, and sum it\n",
    "\n",
    "• Create an array from 0 to 100 and take every second element, then sum it"
   ]
  },
  {
   "cell_type": "code",
   "execution_count": 2,
   "metadata": {
    "tags": []
   },
   "outputs": [
    {
     "name": "stdout",
     "output_type": "stream",
     "text": [
      "2550\n",
      "2550\n",
      "2550\n"
     ]
    }
   ],
   "source": [
    "import numpy as np\n",
    "even_numbers = np.arange(2, 101, 2)\n",
    "print(even_numbers.sum())\n",
    "\n",
    "one_to_fifty = np.arange(1, 51)\n",
    "print(2 * (one_to_fifty.sum()))\n",
    "\n",
    "result = 0\n",
    "one_to_hunred = np.arange(1, 101)\n",
    "for i in one_to_hunred:\n",
    "    if i % 2 == 0:\n",
    "        result += i\n",
    "print(result)\n",
    "        \n",
    "\n"
   ]
  },
  {
   "cell_type": "markdown",
   "metadata": {},
   "source": [
    "## Problem 3"
   ]
  },
  {
   "cell_type": "markdown",
   "metadata": {},
   "source": [
    "Generate 5 random number from a Gaussian distribution of mean 6 and standard deviation 3. (Google numpy functions and find the right ones to use)"
   ]
  },
  {
   "cell_type": "code",
   "execution_count": 4,
   "metadata": {
    "tags": []
   },
   "outputs": [
    {
     "name": "stdout",
     "output_type": "stream",
     "text": [
      "[2.67727806 2.79734112 8.22025704 6.68044563 6.31290906]\n"
     ]
    }
   ],
   "source": [
    "print(np.random.normal(6, 3, 5))"
   ]
  },
  {
   "cell_type": "markdown",
   "metadata": {},
   "source": [
    "## Problem 4"
   ]
  },
  {
   "cell_type": "markdown",
   "metadata": {},
   "source": [
    "This problem will give a very brief introduction to multidimensional arrays.\n",
    "\n",
    "• Using np.array, create a 3 × 3 numpy array called x with first row 0, 1, and 2; second row 3, 4, and 5; and third row 6, 7, and 8.\n",
    "\n",
    "• Do the same thing by first creating a one dimensional array of nine elements using np.arange, and then np.reshape; the new shape will be (3, 3).\n",
    "\n",
    "• How do you index the central element 4 of your 3 × 3 array x?\n",
    "\n",
    "• For multidimensional arrays, np.sum can also take an argument known as axis. Execute the following code on your 3 × 3 array x:\n",
    "```\n",
    "print(np.sum(x))\n",
    "print(np.sum(x, axis=0))\n",
    "print(np.sum(x, axis=1))\n",
    "```\n",
    "What does np.sum with no axis argument do? What are the axis=0 and axis=1 arguments doing?"
   ]
  },
  {
   "cell_type": "code",
   "execution_count": 11,
   "metadata": {
    "tags": []
   },
   "outputs": [
    {
     "name": "stdout",
     "output_type": "stream",
     "text": [
      "5\n",
      "[[1 2 3]\n",
      " [4 5 6]\n",
      " [7 8 9]]\n",
      "45\n",
      "[12 15 18]\n",
      "[ 6 15 24]\n"
     ]
    }
   ],
   "source": [
    "array1 = np.array([[1, 2, 3], [4, 5, 6], [7, 8, 9]])\n",
    "array2 = np.arange(1, 10).reshape(3, 3)\n",
    "print(array2[1, 1])\n",
    "print(array1)\n",
    "\n",
    "print(np.sum(array2)) # sum of all elements\n",
    "print(np.sum(array2, axis=0)) # sum of each column\n",
    "print(np.sum(array2, axis=1)) # sum of each row\n"
   ]
  }
 ],
 "metadata": {
  "kernelspec": {
   "display_name": "Python 3 (ipykernel)",
   "language": "python",
   "name": "python3"
  },
  "language_info": {
   "codemirror_mode": {
    "name": "ipython",
    "version": 3
   },
   "file_extension": ".py",
   "mimetype": "text/x-python",
   "name": "python",
   "nbconvert_exporter": "python",
   "pygments_lexer": "ipython3",
   "version": "3.9.13"
  }
 },
 "nbformat": 4,
 "nbformat_minor": 4
}
