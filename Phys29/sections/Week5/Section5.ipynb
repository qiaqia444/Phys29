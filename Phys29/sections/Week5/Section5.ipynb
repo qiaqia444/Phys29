{
 "cells": [
  {
   "cell_type": "markdown",
   "metadata": {},
   "source": [
    "<h1 style=\"font-size: 32px; text-align: center;\">Introduction to Computer Programming for the Physical Sciences</h1>\n",
    "<h2 style=\"font-size: 24px; text-align: center;\">Joseph F. Hennawi</h2>\n",
    "<h3 style=\"font-size: 24px; text-align: center;\">Winter 2024</h2>"
   ]
  },
  {
   "cell_type": "markdown",
   "metadata": {},
   "source": [
    "## Working on Section Problems\n",
    "\n",
    "<ul style=\"list-style: none;\">\n",
    "  <li style=\"margin-bottom: 10px; font-size: 20px;\"><span style=\"display: inline-block; width: 10px; height: 10px; border: 2px solid black; margin-right: 10px;\"></span>Get into groups of 2 or 3, with at least one laptop per group.</li>\n",
    "  <li style=\"margin-bottom: 10px; font-size: 20px;\"><span style=\"display: inline-block; width: 10px; height: 10px; border: 2px solid black; margin-right: 10px;\"></span>Discuss with each other and attempt each problem yourselves first without AI support for 10-15 mins.</li>\n",
    "  <li style=\"margin-bottom: 10px; font-size: 20px;\"><span style=\"display: inline-block; width: 10px; height: 10px; border: 2px solid black; margin-right: 10px;\">\n",
    "</span>Input the problem prompt into the AI chatbox, use its answer to verify your own, or to learn how it should be solved.</li>\n",
    "  <li style=\"margin-bottom: 10px; font-size: 20px;\"><span style=\"display: inline-block; width: 10px; height: 10px; border: 2px solid black; margin-right: 10px;\">\n",
    "</span>For section problems, you can omit most of the commenting and focus on learning coding. For more difficult problems, minimal comments are still recommended as a way of organizing your own thoughts.</li>\n",
    "  <li style=\"margin-bottom: 10px; font-size: 20px;\"><span style=\"display: inline-block; width: 10px; height: 10px; border: 2px solid black; margin-right: 10px;\"></span>Please abide by the <b><a href=\"https://github.com/enigma-igm/Phys29/blob/main/using_AI_tools.md\">Policy and Guidelines on Using AI Tools</a></b></li>"
   ]
  },
  {
   "cell_type": "markdown",
   "metadata": {},
   "source": [
    "# Section 5"
   ]
  },
  {
   "cell_type": "markdown",
   "metadata": {},
   "source": [
    "## Problem 1"
   ]
  },
  {
   "cell_type": "markdown",
   "metadata": {},
   "source": [
    "You have seen the Fibonacci sequence of numbers, which are defined by the recursion relation\n",
    "$$ x_{n + 1} = x_n + x_{n-1} $$\n",
    "with $x_0 \\equiv 0$ and $x_1 \\equiv 1$.\n",
    "\n",
    "(a) Write a code that plots up $x_n$ vs. n as points with no line connecting them, for n in the range 0 to 30. (You will need to store $x_n$ into a numpy array). Make sure to label your axes, you can use LaTeX to put the n subscript on $x_n$ in code like this:\n",
    "```\n",
    "plt.ylabel(r'$x_n$')\n",
    "```\n",
    "\n",
    "(b) You should find that most of the Fibonacci numbers in your plot are indistinguishable from zero because of the vertical scale of your plot. Fix this by plotting the same thing on a logarithmic vertical axis using ```plt.yscale('log')```. Use indexing to exclude the first n = 0 element of your arrays when you make this plot, as the log of $x_0 = 0$ is −∞."
   ]
  },
  {
   "cell_type": "markdown",
   "metadata": {},
   "source": [
    "hint: checkout lecture notes on matplotlib to see examples of how to make a plot, label the axes, and change the scale of the axes: https://github.com/enigma-igm/Phys29/blob/main/Phys29/lectures/Week5/01_matplotlib.ipynb"
   ]
  },
  {
   "cell_type": "code",
   "execution_count": 1,
   "metadata": {
    "tags": []
   },
   "outputs": [],
   "source": [
    "# your solution here\n",
    "import matplotlib.pyplot as plt"
   ]
  },
  {
   "cell_type": "markdown",
   "metadata": {},
   "source": [
    "## Problem 2"
   ]
  },
  {
   "cell_type": "markdown",
   "metadata": {},
   "source": [
    "Let's take a look at the lightly damped harmonic oscillator, whose solution is\n",
    "$$x(t) = Ae^{-(\\gamma/2)t} cos (\\omega t + \\phi) $$\n",
    "where $x$ is the position, $\\gamma$ describes how strong the damping is, $\\omega$ is the angular frequency, $A$ is the amplitude, and $\\phi$ is a phase.\n",
    "\n",
    "Assume $A = 1 \\, m$, $\\omega = 1 rad\\,s^{-1}$, $\\gamma = 0.2$, and $\\phi = 0$. \n",
    "\n",
    "Plot the motion of the oscillator between t = 0 and t = 15 seconds."
   ]
  },
  {
   "cell_type": "code",
   "execution_count": 8,
   "metadata": {
    "tags": []
   },
   "outputs": [],
   "source": [
    "# your solution here\n",
    "\n",
    "# hint:\n",
    "# 1. create an array that samples many points in time (say 10000 points) between 0 and 15 seconds using np.linspace().\n",
    "# 2. write a function x(t) that calculates x given t, based on the oscillator equation. Note that both the input t and the return x of the function are arrays.\n",
    "#    or instead, you can directly create an array x with the same shape as your time array, and calculate x without using a function.\n",
    "# 3. plot x vs t using plt.plot()\n",
    "\n",
    "import numpy as np"
   ]
  }
 ],
 "metadata": {
  "kernelspec": {
   "display_name": "Python 3 (ipykernel)",
   "language": "python",
   "name": "python3"
  },
  "language_info": {
   "codemirror_mode": {
    "name": "ipython",
    "version": 3
   },
   "file_extension": ".py",
   "mimetype": "text/x-python",
   "name": "python",
   "nbconvert_exporter": "python",
   "pygments_lexer": "ipython3",
   "version": "3.11.5"
  }
 },
 "nbformat": 4,
 "nbformat_minor": 4
}
