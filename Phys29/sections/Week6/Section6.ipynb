{
 "cells": [
  {
   "cell_type": "markdown",
   "metadata": {},
   "source": [
    "<h1 style=\"font-size: 32px; text-align: center;\">Introduction to Computer Programming for the Physical Sciences</h1>\n",
    "<h2 style=\"font-size: 24px; text-align: center;\">Joseph F. Hennawi</h2>\n",
    "<h3 style=\"font-size: 24px; text-align: center;\">Winter 2024</h2>"
   ]
  },
  {
   "cell_type": "markdown",
   "metadata": {},
   "source": [
    "## Working on Section Problems\n",
    "\n",
    "<ul style=\"list-style: none;\">\n",
    "  <li style=\"margin-bottom: 10px; font-size: 20px;\"><span style=\"display: inline-block; width: 10px; height: 10px; border: 2px solid black; margin-right: 10px;\"></span>Get into groups of 2 or 3, with at least one laptop per group.</li>\n",
    "  <li style=\"margin-bottom: 10px; font-size: 20px;\"><span style=\"display: inline-block; width: 10px; height: 10px; border: 2px solid black; margin-right: 10px;\"></span>Discuss with each other and attempt each problem yourselves first without AI support for 10-15 mins.</li>\n",
    "  <li style=\"margin-bottom: 10px; font-size: 20px;\"><span style=\"display: inline-block; width: 10px; height: 10px; border: 2px solid black; margin-right: 10px;\">\n",
    "</span>Input the problem prompt into the AI chatbox, use its answer to verify your own, or to learn how it should be solved.</li>\n",
    "  <li style=\"margin-bottom: 10px; font-size: 20px;\"><span style=\"display: inline-block; width: 10px; height: 10px; border: 2px solid black; margin-right: 10px;\">\n",
    "</span>For section problems, you can omit most of the commenting and focus on learning coding. For more difficult problems, minimal comments are still recommended as a way of organizing your own thoughts.</li>\n",
    "  <li style=\"margin-bottom: 10px; font-size: 20px;\"><span style=\"display: inline-block; width: 10px; height: 10px; border: 2px solid black; margin-right: 10px;\"></span>Please abide by the <b><a href=\"https://github.com/enigma-igm/Phys29/blob/main/using_AI_tools.md\">Policy and Guidelines on Using AI Tools</a></b></li>"
   ]
  },
  {
   "cell_type": "markdown",
   "metadata": {},
   "source": [
    "# Section 6"
   ]
  },
  {
   "cell_type": "markdown",
   "metadata": {},
   "source": [
    "## Anonymous Poll"
   ]
  },
  {
   "cell_type": "markdown",
   "metadata": {
    "tags": []
   },
   "source": [
    "### Please first complete this anonymous poll for us to get an idea of how long the homework is taking everyone:\n",
    "https://forms.gle/ah9rmnqBDniC74Dr6"
   ]
  },
  {
   "cell_type": "markdown",
   "metadata": {},
   "source": [
    "## Problem 1"
   ]
  },
  {
   "cell_type": "markdown",
   "metadata": {},
   "source": [
    "The sinc function,\n",
    "\\begin{equation}\n",
    "  sinc(x) =\n",
    "    \\begin{cases}\n",
    "      \\frac{sin(x)}{x} & x\\neq 0\\\\\n",
    "      1 & x = 0\n",
    "    \\end{cases}       \n",
    "\\end{equation}\n",
    "shows up frequently in signal processing. One of the important applications of this function in physics is that the intensity pattern of (Fraunhofer) single slit diffraction is given by \n",
    "\\begin{align}\n",
    "I(\\alpha) &= I_0 sinc^2(\\alpha) \\tag{1}\\\\\n",
    "\\end{align}\n",
    "where $\\alpha = (\\frac{\\pi a}{\\lambda}) sin\\theta$, a is the slit width, $\\lambda$ is the wavelength of light, $\\theta$ is the angle that the light makes with the perpendicular direction to the screen, and $I_0$ is the intensity in the direction perpendicular to the screen.\n",
    "\n",
    "(a) Set $I_0 = 1$, make a plot of the intensity distribution as a function of the parameter $\\alpha$, for $−10 \\leq \\alpha \\leq 10$. You can do this by either defining your own sinc function, or using ```np.sinc(alpha/np.pi)``` (note that there is a $\\pi$ in the denominator if you use numpy, since it follows a different convention).\n",
    "\n",
    "(b) The maxima are given by the roots of the following equation:\n",
    "$$f(\\alpha) = \\alpha cos(\\alpha) - sin(\\alpha) = 0 \\tag{2}$$\n",
    "Using either bracketing and bisection, or Newton-Raphson, calculate the lowest $\\textbf{positive}$ value of $\\alpha$ that give rise to a maximum in the intensity pattern. Plot these locations as points on your graph of the intensity pattern."
   ]
  },
  {
   "cell_type": "code",
   "execution_count": 31,
   "metadata": {
    "tags": []
   },
   "outputs": [],
   "source": [
    "# your solution here\n",
    "\n",
    "# hint: \n",
    "# 1. Read the lecture notes on root finding, you can use the complete code in the notes for both bisection and Newton's method.\n",
    "# 2. To find the smallest positive root of equation (2), look at the plot you made for equation (1), and use a good initial guess.\n",
    "# 3. You do NOT need to plot equation (2), that is only used to find the maximum. Once you find the root, alpha0, you need to plot\n",
    "#    (alpha0, I(alpha0)) as a single point on top of the plot for equation (1)."
   ]
  },
  {
   "cell_type": "markdown",
   "metadata": {},
   "source": [
    "## Problem 2"
   ]
  },
  {
   "cell_type": "markdown",
   "metadata": {},
   "source": [
    "The Gaussian distribution:\n",
    "\\begin{equation}\n",
    "p(x) = \\frac{1}{\\sqrt{2\\pi\\sigma^2}} exp(-\\frac{(x - \\mu)^2}{2σ^2})\n",
    "\\end{equation}\n",
    "is probably the most famous statistical distribution. It shows up in a huge range of problems, and you will probably end up using it when analyzing your lab results (even if you don’t realize it). The Gaussian distribution is normalized such that \n",
    "$$\\int^{\\infty}_{-\\infty}p(x)dx = 1 $$\n",
    "and $p(x) dx$ is the infinitesimal probability that a single measurement lies in the interval (x, x + dx), if the underlying quantity you are measuring follows the Gaussian distribution.\n",
    "Set $\\mu = 0$ and $\\sigma = 1$. What is the total probability with $−3 < x < 3$? \n",
    "\n",
    "In other words, please compute \n",
    "$$\\int^{3}_{-3}p(x) dx$$ \n",
    "\n",
    "Please use a numerical integration scheme of your choice to get a precision of $10^{-6}$. To measure your precision, you can get the exact answer with ```scipy.special.erf(3/np.sqrt(2))```."
   ]
  },
  {
   "cell_type": "code",
   "execution_count": 30,
   "metadata": {
    "tags": []
   },
   "outputs": [],
   "source": [
    "# your solution here\n",
    "\n",
    "# hint: again, you can refer to the lecture notes on the numerical integration schemes"
   ]
  }
 ],
 "metadata": {
  "kernelspec": {
   "display_name": "Python 3 (ipykernel)",
   "language": "python",
   "name": "python3"
  },
  "language_info": {
   "codemirror_mode": {
    "name": "ipython",
    "version": 3
   },
   "file_extension": ".py",
   "mimetype": "text/x-python",
   "name": "python",
   "nbconvert_exporter": "python",
   "pygments_lexer": "ipython3",
   "version": "3.11.5"
  }
 },
 "nbformat": 4,
 "nbformat_minor": 4
}
