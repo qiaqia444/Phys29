{
 "cells": [
  {
   "cell_type": "markdown",
   "metadata": {},
   "source": [
    "<h1 style=\"font-size: 32px; text-align: center;\">Introduction to Computer Programming for the Physical Sciences</h1>\n",
    "<h2 style=\"font-size: 24px; text-align: center;\">Joseph F. Hennawi</h2>\n",
    "<h3 style=\"font-size: 24px; text-align: center;\">Winter 2024</h2>"
   ]
  },
  {
   "cell_type": "markdown",
   "metadata": {},
   "source": [
    "## Working on Section Problems\n",
    "\n",
    "<ul style=\"list-style: none;\">\n",
    "  <li style=\"margin-bottom: 10px; font-size: 20px;\"><span style=\"display: inline-block; width: 10px; height: 10px; border: 2px solid black; margin-right: 10px;\"></span>Get into groups of 2 or 3, with at least one laptop per group.</li>\n",
    "  <li style=\"margin-bottom: 10px; font-size: 20px;\"><span style=\"display: inline-block; width: 10px; height: 10px; border: 2px solid black; margin-right: 10px;\"></span>Discuss with each other and attempt each problem yourselves first without AI support for 10-15 mins.</li>\n",
    "  <li style=\"margin-bottom: 10px; font-size: 20px;\"><span style=\"display: inline-block; width: 10px; height: 10px; border: 2px solid black; margin-right: 10px;\">\n",
    "</span>Input the problem prompt into the AI chatbox, use its answer to verify your own, or to learn how it should be solved.</li>\n",
    "  <li style=\"margin-bottom: 10px; font-size: 20px;\"><span style=\"display: inline-block; width: 10px; height: 10px; border: 2px solid black; margin-right: 10px;\">\n",
    "</span>For section problems, you can omit most of the commenting and focus on learning coding. For more difficult problems, minimal comments are still recommended as a way of organizing your own thoughts.</li>\n",
    "  <li style=\"margin-bottom: 10px; font-size: 20px;\"><span style=\"display: inline-block; width: 10px; height: 10px; border: 2px solid black; margin-right: 10px;\"></span>Please abide by the <b><a href=\"https://github.com/enigma-igm/Phys29/blob/main/using_AI_tools.md\">Policy and Guidelines on Using AI Tools</a></b></li>"
   ]
  },
  {
   "cell_type": "markdown",
   "metadata": {},
   "source": [
    "# Section 7"
   ]
  },
  {
   "cell_type": "markdown",
   "metadata": {},
   "source": [
    "## Problem 1"
   ]
  },
  {
   "cell_type": "code",
   "execution_count": 26,
   "metadata": {
    "tags": []
   },
   "outputs": [],
   "source": [
    "import numpy as np\n",
    "import scipy\n",
    "import scipy.stats as stats\n",
    "import matplotlib.pyplot as plt"
   ]
  },
  {
   "cell_type": "markdown",
   "metadata": {},
   "source": [
    "We will introduce the a frequently encountered distribution in physics and also in everyday life, the Poisson Distribution with the discrete probability distribution:\n",
    "\\begin{align}\n",
    "p(k;\\mu) = \\frac{\\mu^{k}e^{-\\mu}}{k!}\n",
    "\\end{align}\n",
    "This describes the probability of a given number of events, k, occurring in a fixed interval of time, if these events occur with a constant rate, $\\mu$, and each occurrence is independent from another. \n",
    "For example, according to wikipedia, Earth experiences, on average, 2 impacts large enough to produce craters every one million years. This can be described by a poisson distribution with $\\mu=2$ for a one million year interval.\n",
    "\n",
    "1. The ```scipy.stats``` module has many utitlities for handling statistical distributions. Use [scipy.stats.poisson](https://docs.scipy.org/doc/scipy/reference/generated/scipy.stats.poisson.html) to obtain the probability distribution (probability mass function; pmf) for encountering k meteors large enough to produce craters over one million years. You can use ```scipy.stats.poisson.pdf(k, mu)``` to obtain the pmf. Then plot this distribution.\n",
    "\n",
    "2. The dinasaurs lived from 252 to 66 million years ago. Plot the probability distribution and the cumulative probability distribution (```poisson.cdf(k, mu)```) of encountering k crater-producing-meteors during this time. Print out the mean and variance of this distribution via: (1). manually calculating using the definition. (2). using ```poisson.stats(mu)``` that comes with ```scipy```.\n",
    "<img src=\"figures/dinosaurs.jpg\" alt=\"dino\" width=\"600\">"
   ]
  },
  {
   "cell_type": "markdown",
   "metadata": {},
   "source": [
    "## Problem 2"
   ]
  },
  {
   "cell_type": "markdown",
   "metadata": {},
   "source": [
    "In the lecture, it was stated without proof that: \n",
    "\n",
    "1. For a random variable $x$, $<Ax>$ = $A<x>$, where A is a constant. i.e. the mean of the random variable $Ax$ is the same as $A$ times the mean of the random variable $x$.\n",
    "\n",
    "2. For two independent random variables, $x$ and $y$, $<x + y> = <x> + <y>$, and Var($x + y$) = Var($x$) + Var($y$)\n",
    "\n",
    "In the homework, you will need to prove these analytically. For now, let's verify them numerically. Generate two large samples of two independent variables that follow some probability distributions of your choice (e.g. Uniform, Gaussian), using ```numpy.random.default_rng(seed)```. Verify the two statements above."
   ]
  },
  {
   "cell_type": "code",
   "execution_count": null,
   "metadata": {},
   "outputs": [],
   "source": []
  }
 ],
 "metadata": {
  "kernelspec": {
   "display_name": "Python 3 (ipykernel)",
   "language": "python",
   "name": "python3"
  },
  "language_info": {
   "codemirror_mode": {
    "name": "ipython",
    "version": 3
   },
   "file_extension": ".py",
   "mimetype": "text/x-python",
   "name": "python",
   "nbconvert_exporter": "python",
   "pygments_lexer": "ipython3",
   "version": "3.9.13"
  }
 },
 "nbformat": 4,
 "nbformat_minor": 4
}
